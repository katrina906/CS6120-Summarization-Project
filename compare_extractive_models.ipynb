{
  "nbformat": 4,
  "nbformat_minor": 0,
  "metadata": {
    "colab": {
      "name": "compare_extractive_models.ipynb",
      "provenance": [],
      "collapsed_sections": [],
      "include_colab_link": true
    },
    "kernelspec": {
      "name": "python3",
      "display_name": "Python 3"
    },
    "language_info": {
      "name": "python"
    }
  },
  "cells": [
    {
      "cell_type": "markdown",
      "metadata": {
        "id": "view-in-github",
        "colab_type": "text"
      },
      "source": [
        "<a href=\"https://colab.research.google.com/github/katrina906/CS6120-Summarization-Project/blob/main/compare_extractive_models.ipynb\" target=\"_parent\"><img src=\"https://colab.research.google.com/assets/colab-badge.svg\" alt=\"Open In Colab\"/></a>"
      ]
    },
    {
      "cell_type": "code",
      "metadata": {
        "id": "I0SzA4CNqJlf"
      },
      "source": [
        "# only using False versions of metrics because always choose the same models for both and thus all results are the same\n",
        "  # except baseline fmeasure"
      ],
      "execution_count": null,
      "outputs": []
    },
    {
      "cell_type": "code",
      "metadata": {
        "id": "ZaD-DFLdayq6"
      },
      "source": [
        "%%capture \n",
        "!pip install rouge-score\n",
        "!pip install import-ipynb\n",
        "!pip install fasttext\n",
        "!pip install compress-fasttext\n",
        "!pip install gensim==3.8.3"
      ],
      "execution_count": 11,
      "outputs": []
    },
    {
      "cell_type": "code",
      "metadata": {
        "id": "oWEhvsdtYUn5",
        "colab": {
          "base_uri": "https://localhost:8080/"
        },
        "outputId": "d6137da0-ead2-4fb2-a95c-fd4452322e0b"
      },
      "source": [
        "import os\n",
        "import pandas as pd\n",
        "import numpy as np\n",
        "import pickle\n",
        "import string\n",
        "import re\n",
        "import sys\n",
        "import seaborn as sns\n",
        "import matplotlib.pyplot as plt\n",
        "import itertools\n",
        "from sklearn.feature_extraction.text import TfidfTransformer, TfidfVectorizer\n",
        "from sklearn.feature_extraction import DictVectorizer\n",
        "from collections import Counter, OrderedDict\n",
        "from sklearn.metrics.pairwise import cosine_similarity, pairwise_distances\n",
        "import networkx as nx\n",
        "from rouge_score import rouge_scorer\n",
        "import gensim\n",
        "import fasttext\n",
        "from gensim.models import FastText\n",
        "import compress_fasttext\n",
        "import nltk\n",
        "from nltk.stem import WordNetLemmatizer, PorterStemmer\n",
        "from nltk.corpus import stopwords  \n",
        "import matplotlib.pyplot as plt\n",
        "import numpy as np\n",
        "import import_ipynb\n",
        "nltk.download('stopwords')\n",
        "stop_words = set(stopwords.words('english'))  "
      ],
      "execution_count": 3,
      "outputs": [
        {
          "output_type": "stream",
          "text": [
            "[nltk_data] Downloading package stopwords to /root/nltk_data...\n",
            "[nltk_data]   Package stopwords is already up-to-date!\n"
          ],
          "name": "stdout"
        }
      ]
    },
    {
      "cell_type": "code",
      "metadata": {
        "colab": {
          "base_uri": "https://localhost:8080/"
        },
        "id": "lSrAegHUapdB",
        "outputId": "e9760652-12a5-431b-e8bb-084d7894b5da"
      },
      "source": [
        "from google.colab import drive\n",
        "drive.mount('/content/drive')"
      ],
      "execution_count": 4,
      "outputs": [
        {
          "output_type": "stream",
          "text": [
            "Drive already mounted at /content/drive; to attempt to forcibly remount, call drive.mount(\"/content/drive\", force_remount=True).\n"
          ],
          "name": "stdout"
        }
      ]
    },
    {
      "cell_type": "code",
      "metadata": {
        "colab": {
          "base_uri": "https://localhost:8080/"
        },
        "id": "VUwrmHsVNZ7K",
        "outputId": "1a42acf4-5a96-4cad-d0ee-29a23723c68f"
      },
      "source": [
        "# load in functions from extract_summarization notebook\n",
        "%cd \"drive/MyDrive/Colab Notebooks\"\n",
        "import extractive_summarization\n",
        "%cd .."
      ],
      "execution_count": 5,
      "outputs": [
        {
          "output_type": "stream",
          "text": [
            "/content/drive/MyDrive/Colab Notebooks\n",
            "importing Jupyter notebook from extractive_summarization.ipynb\n",
            "/content/drive/MyDrive\n"
          ],
          "name": "stdout"
        }
      ]
    },
    {
      "cell_type": "markdown",
      "metadata": {
        "id": "aX1n-xlKw6nO"
      },
      "source": [
        "### Load best models (one per algorithm, per metric)"
      ]
    },
    {
      "cell_type": "code",
      "metadata": {
        "id": "Ork8eYSWw44f"
      },
      "source": [
        "model_dict = {}\n",
        "eval_dict = {}\n",
        "config_dict = {}\n",
        "for model in ['lsa', 'textrank', 'baseline']:\n",
        "  with open('/content/drive/MyDrive/data/trained_model_' + model + '.pkl', 'rb') as f:\n",
        "    load = pickle.load(f)\n",
        "    eval_dict[model] = load[1]\n",
        "    model_dict[model] = load[2]\n",
        "    config_dict[model] = load[3]"
      ],
      "execution_count": 6,
      "outputs": []
    },
    {
      "cell_type": "markdown",
      "metadata": {
        "id": "7zgVxt-kfsEG"
      },
      "source": [
        "## Calculate P-Value with Paired Bootstrap Test\n",
        "\n",
        "For best configuration for each evaluation metric, compare the 3 model types: which model is the best and what is the p-value?\n",
        "1. Calculate difference in stat performance (recall etc.)\n",
        "2. Generate N bootstrapped samples of data \n",
        "3. Train on bootstrapped data\n",
        "4. Calculate difference in performance on bootstraped data\n",
        "5. Count percent of replicate diffs that are >= 2 * original diff = p-value  \n",
        "  - Null hypothesis is that there is no difference and the true effect size is original diff (data happens to be biased towards one model)\n",
        "  - If see a lot of replicated diffs >= 2 * original diff, then null is true and there is no difference between the models"
      ]
    },
    {
      "cell_type": "code",
      "metadata": {
        "id": "Ga_P8wvHdKXC"
      },
      "source": [
        "def paired_bootstrap(evals, models, configs, pvalue_dict, model1, model2, metric, save_every_cnt = 10, filename = '', restart = True):\n",
        "  embeddings = extractive_summarization.load_embeddings()\n",
        "\n",
        "  # which model is better and by how much\n",
        "  if evals[model1][metric]['mean'] > evals[model2][metric]['mean']:\n",
        "    better_model = model1\n",
        "    other_model = model2\n",
        "  else:\n",
        "    better_model = model2\n",
        "    other_model = model1\n",
        "  diff =  evals[better_model][metric]['mean'] - evals[other_model][metric]['mean']\n",
        "  print(better_model, diff)\n",
        "\n",
        "  # allow start partway through 50 bootstrap samples \n",
        "  if not restart:\n",
        "    with open('/content/drive/MyDrive/data/' + filename + '_' + model1 + '_' + model2 + '_' + str(metric) + '.pkl','rb') as f:\n",
        "      results_so_far = pickle.load(f) \n",
        "    gt_diff = results_so_far[0]\n",
        "    lt_diff = results_so_far[1]\n",
        "    start = results_so_far[2]\n",
        "  else:\n",
        "    gt_diff = 0\n",
        "    lt_diff = 0\n",
        "    start = 0\n",
        "\n",
        "  for i in range(start+1, 51):\n",
        "    print('BS', i)\n",
        "    # generate bootstrap samples \n",
        "    bs_sample = {}\n",
        "    bs_sample[model1] = models[model1][metric].sample(n = len(models[model1][metric]), replace = True)\n",
        "    bs_sample[model2] = models[model2][metric].sample(n = len(models[model2][metric]), replace = True)\n",
        "\n",
        "    # retrain both models on bootstrap samples with the current config\n",
        "    bs_results = {}\n",
        "    for m in [model1, model2]:\n",
        "      config = tuple(config_dict[m][metric].strip('(').strip(')').replace(\"'\", \"\").split(', '))\n",
        "      if 'baseline' in config:\n",
        "        tfidf, feature_array = extractive_summarization.corpus_tfidf(bs_sample[m])\n",
        "      else:\n",
        "        tfidf = ''\n",
        "        feature_array = ''\n",
        "      eval_results, _ = extractive_summarization.train_config_loop(bs_sample[m], tfidf, feature_array, embeddings, stop_words, \n",
        "                                                                    [config], eval_only = True)\n",
        "      bs_results[m] = eval_results[str(config)][metric]['mean']\n",
        "      \n",
        "    # find difference in relevant stat\n",
        "    diff_bs = bs_results[better_model] - bs_results[other_model]\n",
        "    print(diff_bs)\n",
        "    if diff_bs >= 2*diff:\n",
        "      gt_diff += 1\n",
        "    else:\n",
        "      lt_diff += 1\n",
        "\n",
        "    # save bootstrap samples every save_every_cnt in case of connection issue, timeout etc.\n",
        "    if ((i % save_every_cnt) == 0 or (i == 50)) and filename != '':\n",
        "      with open('/content/drive/MyDrive/data/' + filename + '_' + model1 + '_' + model2 + '_' + str(metric) + '.pkl', 'wb') as f:\n",
        "        pickle.dump([gt_diff, lt_diff, i], f)\n",
        "        print('saving!', i)\n",
        "    \n",
        "  # calculate p value\n",
        "  pvalue = gt_diff / (gt_diff + lt_diff)\n",
        "  pvalue_dict[metric] = (better_model, pvalue)\n",
        "\n",
        "  return pvalue_dict"
      ],
      "execution_count": 6,
      "outputs": []
    },
    {
      "cell_type": "code",
      "metadata": {
        "id": "to91cjblEZuE"
      },
      "source": [
        "with open('/content/drive/MyDrive/data/pvalue_' + models[0] + '_' + models[1] + '.pkl', 'rb') as f:\n",
        "    pvalue_dict = pickle.load(f)"
      ],
      "execution_count": 8,
      "outputs": []
    },
    {
      "cell_type": "code",
      "metadata": {
        "id": "8Lztuzb95iKh"
      },
      "source": [
        "for models in [('baseline', 'lsa')]: #, ('baseline', 'textrank'), ('lsa', 'textrank')]: \n",
        "  if os.path.exists('/content/drive/MyDrive/data/pvalue_' + models[0] + '_' + models[1] + '.pkl'):\n",
        "    # allow loading from pvalue dict with only some of the metrics\n",
        "    with open('/content/drive/MyDrive/data/pvalue_' + models[0] + '_' + models[1] + '.pkl', 'rb') as f:\n",
        "      pvalue_dict = pickle.load(f)\n",
        "  else:\n",
        "    pvalue_dict = {}\n",
        "  for metric in ('fmeasure', False), ('precision', False), ('recall', False):\n",
        "    if str(metric) not in pvalue_dict.keys():\n",
        "      pvalue_dict = paired_bootstrap(eval_dict, model_dict, config_dict, pvalue_dict, models[0], models[1], metric,\n",
        "                                     filename = 'bootstrap_loop', restart = False)\n",
        "    with open('/content/drive/MyDrive/data/pvalue_' + models[0] + '_' + models[1] + '.pkl', 'wb') as f:\n",
        "      pickle.dump(pvalue_dict, f)"
      ],
      "execution_count": null,
      "outputs": []
    },
    {
      "cell_type": "code",
      "metadata": {
        "colab": {
          "base_uri": "https://localhost:8080/"
        },
        "id": "1sV4Hfx-wz-R",
        "outputId": "0398a575-bfce-4968-93ae-86b290f872e7"
      },
      "source": [
        "config_dict\n",
        "# lsa always no normalization, stemming, bow, all 3 grams\n",
        "# textrank always stem, bow, cosine similarity \n",
        "# never embeddings used"
      ],
      "execution_count": null,
      "outputs": [
        {
          "output_type": "execute_result",
          "data": {
            "text/plain": [
              "{'lsa': {('fmeasure',\n",
              "   False): \"('lsa', 'nostop', 'stem', 'bow', 'binary', 'no_normalization', 'all', 'num_sentences')\",\n",
              "  ('fmeasure',\n",
              "   True): \"('lsa', 'nostop', 'stem', 'bow', 'binary', 'no_normalization', 'all', 'num_sentences')\",\n",
              "  ('precision',\n",
              "   False): \"('lsa', 'stopwords', 'stem', 'bow', 'counts', 'no_normalization', 'trigram', 'num_words_lt')\",\n",
              "  ('precision',\n",
              "   True): \"('lsa', 'stopwords', 'stem', 'bow', 'binary', 'no_normalization', 'all', 'num_words_lt')\",\n",
              "  ('recall',\n",
              "   False): \"('lsa', 'nostop', 'stem', 'bow', 'binary', 'no_normalization', 'all', 'num_sentences')\",\n",
              "  ('recall',\n",
              "   True): \"('lsa', 'nostop', 'stem', 'bow', 'binary', 'no_normalization', 'all', 'num_sentences')\"},\n",
              " 'textrank': {('fmeasure',\n",
              "   False): \"('textrank', 'stopwords', 'stem', 'bow', 'binary', 'no_normalization', 'bigram', 'cosine', 'num_words_gt')\",\n",
              "  ('fmeasure',\n",
              "   True): \"('textrank', 'stopwords', 'stem', 'bow', 'binary', 'no_normalization', 'bigram', 'cosine', 'num_words_gt')\",\n",
              "  ('precision',\n",
              "   False): \"('textrank', 'stopwords', 'lemma', 'bow', 'binary', 'tf', 'all', 'cosine', 'num_words_lt')\",\n",
              "  ('precision',\n",
              "   True): \"('textrank', 'stopwords', 'lemma', 'bow', 'binary', 'tf', 'all', 'cosine', 'num_words_lt')\",\n",
              "  ('recall',\n",
              "   False): \"('textrank', 'nostop', 'stem', 'bow', 'counts', 'tfidf', 'unigram', 'cosine', 'num_sentences')\",\n",
              "  ('recall',\n",
              "   True): \"('textrank', 'nostop', 'stem', 'bow', 'counts', 'tfidf', 'unigram', 'cosine', 'num_sentences')\"}}"
            ]
          },
          "metadata": {
            "tags": []
          },
          "execution_count": 276
        }
      ]
    },
    {
      "cell_type": "markdown",
      "metadata": {
        "id": "LfYNJMGMxCUr"
      },
      "source": [
        "### Compare algorithm performance"
      ]
    },
    {
      "cell_type": "markdown",
      "metadata": {
        "id": "pJmsnwR-DQlv"
      },
      "source": [
        "__Best Configs for Respective Best Metric__"
      ]
    },
    {
      "cell_type": "code",
      "metadata": {
        "colab": {
          "base_uri": "https://localhost:8080/",
          "height": 450
        },
        "id": "JWJ4cxZ-71qL",
        "outputId": "3f9a3d6b-97d2-4490-d122-14dcddbdaab1"
      },
      "source": [
        "# side by side metric values for each metric across models (bar plot)\n",
        "fig, ax = plt.subplots(figsize=(8,6))\n",
        "mean_lst = {'lsa':[], 'textrank':[], 'baseline':[]}\n",
        "for metric in [('fmeasure', False), ('precision', False), ('recall', False)]:\n",
        "  for model in ['lsa', 'textrank']:\n",
        "    mean_lst[model].append(eval_dict[model][metric]['mean'])\n",
        "x = np.arange(len(mean_lst))\n",
        "w = 0.25\n",
        "ax.bar(x, mean_lst['lsa'], width = w, label = 'baseline (Fake data)')\n",
        "ax.bar(x + w, mean_lst['lsa'], width = w, label = 'LSA')\n",
        "ax.bar(x + 2*w, mean_lst['textrank'], width = w, label = 'TextRank')\n",
        "ax.legend(fontsize = 12)\n",
        "ax.set_xticks(x + w)\n",
        "ax.set_xticklabels(['F-Measure', 'Precision', 'Recall'], rotation = 45)\n",
        "ax.tick_params(axis='both', which='major', labelsize = 12)\n",
        "ax.set_title('TextRank Uniformally Outperforms other Models', size = 12)\n",
        "\n",
        "# TODO mark if significant? annotate?\n",
        "# note fmeasure and recall models the same for LSA\n",
        "# note these are the best models for each - not comparing precision vs recall for the same model"
      ],
      "execution_count": null,
      "outputs": [
        {
          "output_type": "execute_result",
          "data": {
            "text/plain": [
              "Text(0.5, 1.0, 'TextRank Uniformally Outperforms other Models')"
            ]
          },
          "metadata": {
            "tags": []
          },
          "execution_count": 347
        },
        {
          "output_type": "display_data",
          "data": {
            "image/png": "[encoded data removed]",
            "text/plain": [
              "<Figure size 576x432 with 1 Axes>"
            ]
          },
          "metadata": {
            "tags": [],
            "needs_background": "light"
          }
        }
      ]
    },
    {
      "cell_type": "markdown",
      "metadata": {
        "id": "DAp_PWoYDU-B"
      },
      "source": [
        "__Each of Best 9 models for all 3 metrics__"
      ]
    },
    {
      "cell_type": "code",
      "metadata": {
        "id": "HwGnZrTc_lOL"
      },
      "source": [
        "for model in ['textrank', 'lsa']:\n",
        "  for metric in [('fmeasure', False), ('precision', False), ('recall', False)]:\n",
        "    model_dict[model][metric]['precision'] = model_dict[model][metric].rouge.map(lambda row: row['rouge1'].precision)\n",
        "    model_dict[model][metric]['recall'] = model_dict[model][metric].rouge.map(lambda row: row['rouge1'].recall)\n",
        "    model_dict[model][metric]['fmeasure'] = model_dict[model][metric].rouge.map(lambda row: row['rouge1'].fmeasure)"
      ],
      "execution_count": null,
      "outputs": []
    },
    {
      "cell_type": "code",
      "metadata": {
        "colab": {
          "base_uri": "https://localhost:8080/",
          "height": 560
        },
        "id": "R9vvzOmC_Z0D",
        "outputId": "6bfa3a3b-e4bf-4039-db8c-a78906dc5b33"
      },
      "source": [
        "# side by side metric values for each metric across models (bar plot)\n",
        "fig, ax = plt.subplots(figsize=(10,8))\n",
        "mean_lst = {}\n",
        "for model in ['lsa', 'textrank', 'baseline']:\n",
        "  for stat in ['fmeasure', 'precision', 'recall']:\n",
        "    mean_lst[model + '-' + stat] = []\n",
        "for model in ['lsa', 'textrank']:\n",
        "  for metric in [('fmeasure', False), ('precision', False), ('recall', False)]:\n",
        "    for stat in ['fmeasure', 'precision', 'recall']:\n",
        "      mean_lst[model + '-' + metric[0]].append(model_dict[model][metric][stat].mean())\n",
        "\n",
        "x = np.arange(len(mean_lst['lsa-fmeasure']))\n",
        "w = 0.1\n",
        "ax.bar(x, mean_lst['lsa-fmeasure'] , width = w, label = 'Baseline: F-Measure', color = 'deepskyblue')\n",
        "ax.bar(x+w, mean_lst['lsa-precision'], width = w, label = 'Baseline: Precision', color = 'C0')\n",
        "ax.bar(x+2*w, mean_lst['lsa-recall'] , width = w, label = 'Baseline: Recall', color = 'mediumblue')\n",
        "\n",
        "ax.bar(x+3*w+0.03, mean_lst['lsa-fmeasure'] , width = w, label = 'LSA: F-Measure', color = 'sandybrown')\n",
        "ax.bar(x+4*w, mean_lst['lsa-precision'], width = w, label = 'LSA: Precision', color = 'C1')\n",
        "ax.bar(x+5*w, mean_lst['lsa-recall'] , width = w, label = 'LSA: Recall', color = 'orangered')\n",
        "\n",
        "ax.bar(x+6*w+0.03, mean_lst['textrank-fmeasure'] , width = w, label = 'TextRank: F-Measure', color = 'limegreen')\n",
        "ax.bar(x+7*w, mean_lst['textrank-precision'], width = w, label = 'TextRank: Precision', color = 'C2')\n",
        "ax.bar(x+8*w, mean_lst['textrank-recall'] , width = w, label = 'TextRank: Recall', color = 'green')\n",
        "\n",
        "ax.set_xticks(x + 4*w)\n",
        "ax.set_xticklabels(['F-Measure', 'Precision', 'Recall'], rotation = 45)\n",
        "ax.tick_params(axis='both', which='major', labelsize = 12)\n",
        "ax.set_title('TextRank Uniformally Outperforms other Models', size = 14)\n",
        "plt.legend(bbox_to_anchor=(1.04,1), loc=\"upper left\", fontsize = 12)\n",
        "\n",
        "# TODO mark if significant? annotate?\n",
        "# note fmeasure and recall models the same for LSA\n",
        "# Fmesaure better for all textrank models. recall does significantly better than others and its equivalents do almost as well as other models. \n",
        "  # could do better in precision, but recall more important"
      ],
      "execution_count": null,
      "outputs": [
        {
          "output_type": "execute_result",
          "data": {
            "text/plain": [
              "<matplotlib.legend.Legend at 0x7f6f958cadd0>"
            ]
          },
          "metadata": {
            "tags": []
          },
          "execution_count": 360
        },
        {
          "output_type": "display_data",
          "data": {
            "image/png": "[encoded data removed]",
            "text/plain": [
              "<Figure size 720x576 with 1 Axes>"
            ]
          },
          "metadata": {
            "tags": [],
            "needs_background": "light"
          }
        }
      ]
    },
    {
      "cell_type": "markdown",
      "metadata": {
        "id": "CK6srcK-xHdT"
      },
      "source": [
        "## Compare Predicted Summaries across Algorithms and Metrics\n"
      ]
    },
    {
      "cell_type": "code",
      "metadata": {
        "id": "adVrMOZPwybK"
      },
      "source": [
        "# length of summary by metric within model\n",
        "summary_len_metric = {'lsa':{}, 'textrank':{}}\n",
        "for model in ['lsa', 'textrank']:\n",
        "  for metric in [('fmeasure', False), ('precision', False), ('recall', False)]:\n",
        "    df = model_dict[model][metric]\n",
        "    df['summary_num_words'] = df.predicted_summary.map(lambda row: len(''.join(row).split(' ')))\n",
        "    df['summary_num_sentences'] = df.predicted_summary.map(lambda row: len(row))\n",
        "    summary_len_metric[model][metric] = [df.summary_num_sentences.mean(), df.summary_num_words.mean()]"
      ],
      "execution_count": null,
      "outputs": []
    },
    {
      "cell_type": "code",
      "metadata": {
        "colab": {
          "base_uri": "https://localhost:8080/",
          "height": 478
        },
        "id": "T1rhMu30qlcq",
        "outputId": "2f8d6985-aed9-42c4-a741-fb5d717007d7"
      },
      "source": [
        "fig, axs = plt.subplots(1, 3, figsize=(16, 6), sharey=True)\n",
        "barlst = axs[0].bar(['F-Measure', 'Precision', 'Recall'], [i[0] for i in list(summary_len_metric['lsa'].values())], color = 'C0')\n",
        "barlst = axs[1].bar(['F-Measure', 'Precision', 'Recall'], [i[0] for i in list(summary_len_metric['lsa'].values())], color = 'C1')\n",
        "barlst = axs[2].bar(['F-Measure', 'Precision', 'Recall'], [i[0] for i in list(summary_len_metric['textrank'].values())], color = 'C2')\n",
        "\n",
        "for i in range(3):\n",
        "  axs[i].set_xticklabels(['F-Measure', 'Precision', 'Recall'], rotation = 45)\n",
        "  axs[i].tick_params(axis='both', which='major', labelsize = 12)\n",
        "fig.suptitle('Precision favors shorter summaries', size = 14)\n",
        "axs[0].set_ylabel('# Summary Sentences', size = 12)\n",
        "axs[0].set_title('Baseline (fake data)', size = 12)\n",
        "axs[1].set_title(\"LSA\", size = 12)\n",
        "axs[2].set_title('TextRank', size = 12)\n",
        "\n",
        "# all 3 models get very similar sized summaries\n",
        "# precision favors shorter summaries. maximizing overlap with predicted summary, so extra non relevant info hurts "
      ],
      "execution_count": null,
      "outputs": [
        {
          "output_type": "execute_result",
          "data": {
            "text/plain": [
              "Text(0.5, 1.0, 'TextRank')"
            ]
          },
          "metadata": {
            "tags": []
          },
          "execution_count": 287
        },
        {
          "output_type": "display_data",
          "data": {
            "image/png": "[encoded data removed]",
            "text/plain": [
              "<Figure size 1152x432 with 3 Axes>"
            ]
          },
          "metadata": {
            "tags": [],
            "needs_background": "light"
          }
        }
      ]
    },
    {
      "cell_type": "code",
      "metadata": {
        "id": "BVSfIjvIY4kh"
      },
      "source": [
        "# TODO stats on types of summaries generated by each model and for best of each metric. Ex: recall best summaries longer than precision summaries? etc.\n",
        "# problems with models include that sentences can appear in odd orders. BUT our human content creator can rearrange - care more about getting the right info in front of them.\n",
        "  # thus prefer longer summaries? care more about recall than precision?"
      ],
      "execution_count": null,
      "outputs": []
    }
  ]
}