{
  "nbformat": 4,
  "nbformat_minor": 0,
  "metadata": {
    "colab": {
      "name": "compare_extractive_models.ipynb",
      "provenance": [],
      "collapsed_sections": [],
      "authorship_tag": "ABX9TyN/v8c62rflNv0sxQk9UNYQ",
      "include_colab_link": true
    },
    "kernelspec": {
      "name": "python3",
      "display_name": "Python 3"
    },
    "language_info": {
      "name": "python"
    }
  },
  "cells": [
    {
      "cell_type": "markdown",
      "metadata": {
        "id": "view-in-github",
        "colab_type": "text"
      },
      "source": [
        "<a href=\"https://colab.research.google.com/github/katrina906/CS6120-Summarization-Project/blob/main/compare_extractive_models.ipynb\" target=\"_parent\"><img src=\"https://colab.research.google.com/assets/colab-badge.svg\" alt=\"Open In Colab\"/></a>"
      ]
    },
    {
      "cell_type": "code",
      "metadata": {
        "id": "I0SzA4CNqJlf"
      },
      "source": [
        "# only using False versions of metrics because always choose the same models for both and thus all results are the same\n",
        "  # TODO verify true for baseline (or at least metrics very similar)"
      ],
      "execution_count": null,
      "outputs": []
    },
    {
      "cell_type": "code",
      "metadata": {
        "id": "ZaD-DFLdayq6"
      },
      "source": [
        "%%capture \n",
        "!pip install rouge-score\n",
        "!pip install import-ipynb"
      ],
      "execution_count": 1,
      "outputs": []
    },
    {
      "cell_type": "code",
      "metadata": {
        "id": "oWEhvsdtYUn5",
        "colab": {
          "base_uri": "https://localhost:8080/"
        },
        "outputId": "4f0fe040-4af2-4ca1-bcc9-97adbcfdc8fd"
      },
      "source": [
        "import pickle\n",
        "from rouge_score import rouge_scorer\n",
        "import import_ipynb\n",
        "from nltk.corpus import stopwords  \n",
        "import nltk\n",
        "import matplotlib.pyplot as plt\n",
        "import numpy as np\n",
        "nltk.download('stopwords')\n",
        "stop_words = set(stopwords.words('english'))  "
      ],
      "execution_count": 2,
      "outputs": [
        {
          "output_type": "stream",
          "text": [
            "[nltk_data] Downloading package stopwords to /root/nltk_data...\n",
            "[nltk_data]   Unzipping corpora/stopwords.zip.\n"
          ],
          "name": "stdout"
        }
      ]
    },
    {
      "cell_type": "code",
      "metadata": {
        "colab": {
          "base_uri": "https://localhost:8080/"
        },
        "id": "lSrAegHUapdB",
        "outputId": "a3303295-2722-4781-d81a-b5f7d5f3448b"
      },
      "source": [
        "from google.colab import drive\n",
        "drive.mount('/content/drive')"
      ],
      "execution_count": 3,
      "outputs": [
        {
          "output_type": "stream",
          "text": [
            "Mounted at /content/drive\n"
          ],
          "name": "stdout"
        }
      ]
    },
    {
      "cell_type": "code",
      "metadata": {
        "colab": {
          "base_uri": "https://localhost:8080/"
        },
        "id": "VUwrmHsVNZ7K",
        "outputId": "47d8cb6e-55b0-4097-c33d-858017b0595b"
      },
      "source": [
        "# load in functions from extract_summarization notebook\n",
        "%cd \"drive/MyDrive/Colab Notebooks\"\n",
        "import extractive_summarization\n",
        "%cd .."
      ],
      "execution_count": 4,
      "outputs": [
        {
          "output_type": "stream",
          "text": [
            "/content/drive/MyDrive/Colab Notebooks\n",
            "importing Jupyter notebook from extractive_summarization.ipynb\n",
            "/content/drive/MyDrive\n"
          ],
          "name": "stdout"
        }
      ]
    },
    {
      "cell_type": "markdown",
      "metadata": {
        "id": "aX1n-xlKw6nO"
      },
      "source": [
        "### Load best models (one per algorithm, per metric)"
      ]
    },
    {
      "cell_type": "code",
      "metadata": {
        "id": "Ork8eYSWw44f"
      },
      "source": [
        "model_dict = {}\n",
        "eval_dict = {}\n",
        "config_dict = {}\n",
        "for model in ['lsa', 'textrank']: # 'baseline']: #'textrank']:\n",
        "  with open('/content/drive/MyDrive/data/trained_model_' + model + '.pkl', 'rb') as f:\n",
        "    load = pickle.load(f)\n",
        "    eval_dict[model] = load[1]\n",
        "    model_dict[model] = load[2]\n",
        "    config_dict[model] = load[3]"
      ],
      "execution_count": null,
      "outputs": []
    },
    {
      "cell_type": "markdown",
      "metadata": {
        "id": "7zgVxt-kfsEG"
      },
      "source": [
        "## Calculate P-Value with Paired Bootstrap Test\n",
        "\n",
        "For best configuration for each evaluation metric, compare the 3 model types: which model is the best and what is the p-value?\n",
        "1. Calculate difference in stat performance (recall etc.)\n",
        "2. Generate N bootstrapped samples of data \n",
        "3. Train on bootstrapped data\n",
        "4. Calculate difference in performance on bootstraped data\n",
        "5. Count percent of replicate diffs that are >= 2 * original diff = p-value  \n",
        "  - Null hypothesis is that there is no difference and the true effect size is original diff (data happens to be biased towards one model)\n",
        "  - If see a lot of replicated diffs >= 2 * original diff, then null is true and there is no difference between the models"
      ]
    },
    {
      "cell_type": "code",
      "metadata": {
        "id": "Ga_P8wvHdKXC"
      },
      "source": [
        "def paired_bootstrap(evals, models, configs, model1, model2):\n",
        "  embeddings = extractive_summarization.load_embeddings()\n",
        "\n",
        "  pvalue_dict = {}\n",
        "  for metric in [('fmeasure', False), ('precision', False), ('recall', False)]:\n",
        "\n",
        "    # which model is better and by how much\n",
        "    if evals[model1][metric]['mean'] > evals[model2][metric]['mean']:\n",
        "      better_model = model1\n",
        "      other_model = model2\n",
        "    else:\n",
        "      better_model = model2\n",
        "      other_model = model1\n",
        "    diff =  evals[better_model][metric]['mean'] - evals[other_model][metric]['mean']\n",
        "    print(better_model, diff)\n",
        "\n",
        "    #bs_results_sd = []\n",
        "    gt_diff = 0\n",
        "    lt_diff = 0\n",
        "    for i in range(50): # TODO need more samples...once have more full models, see how big standard deviation of means are with BS = 10, 20 etc. Need to go bigger? \n",
        "                        # definitely more than 10 so can get fractions beyond 0 and 0.1\n",
        "      print('BS', i)\n",
        "      # generate bootstrap samples \n",
        "      bs_sample = {}\n",
        "      bs_sample[model1] = models[model1][metric].sample(n = len(models[model1][metric]), replace = True)\n",
        "      bs_sample[model2] = models[model2][metric].sample(n = len(models[model2][metric]), replace = True)\n",
        "\n",
        "      # retrain both models on bootstrap samples with the current config\n",
        "      bs_results = {}\n",
        "      for m in [model1, model2]:\n",
        "        config = tuple(config_dict[m][metric].strip('(').strip(')').replace(\"'\", \"\").split(', '))\n",
        "        if 'baseline' in config:\n",
        "          tfidf, feature_array = extractive_summarization.corpus_tfidf(bs_sample[m])\n",
        "        else:\n",
        "          tfidf = ''\n",
        "          feature_array = ''\n",
        "        eval_results, _ = extractive_summarization.train_config_loop(bs_sample[m], tfidf, feature_array, embeddings, stop_words, \n",
        "                                                                     [config], eval_only = True)\n",
        "        bs_results[m] = eval_results[str(config)][metric]['mean']\n",
        "    \n",
        "      #bs_results_sd.append(eval_results[config][metric]['mean'])\n",
        "    #return bs_results_sd\n",
        "      # find difference in relevant stat\n",
        "      diff_bs = bs_results[better_model] - bs_results[other_model]\n",
        "      print(diff_bs)\n",
        "      if diff_bs >= 2*diff:\n",
        "        gt_diff += 1\n",
        "      else:\n",
        "        lt_diff += 1\n",
        "      \n",
        "    # calculate p value\n",
        "    pvalue = gt_diff / (gt_diff + lt_diff)\n",
        "    pvalue_dict[metric] = (better_model, pvalue)\n",
        "\n",
        "  return pvalue_dict"
      ],
      "execution_count": null,
      "outputs": []
    },
    {
      "cell_type": "code",
      "metadata": {
        "id": "aRWayhn1fnTw"
      },
      "source": [
        "pvalue_dict = paired_bootstrap(eval_dict, model_dict, config_dict, 'lsa', 'lsa')"
      ],
      "execution_count": null,
      "outputs": []
    },
    {
      "cell_type": "code",
      "metadata": {
        "id": "1sV4Hfx-wz-R"
      },
      "source": [
        "config_dict\n",
        "# lsa always no normalization, stemming, bow, all 3 grams\n",
        "# textrank always stem, bow, cosine similarity \n",
        "# never embeddings used"
      ],
      "execution_count": null,
      "outputs": []
    },
    {
      "cell_type": "code",
      "metadata": {
        "id": "fm_G_8Y_lFtx"
      },
      "source": [
        ""
      ],
      "execution_count": 21,
      "outputs": []
    },
    {
      "cell_type": "markdown",
      "metadata": {
        "id": "LfYNJMGMxCUr"
      },
      "source": [
        "### Compare algorithm performance"
      ]
    },
    {
      "cell_type": "code",
      "metadata": {
        "colab": {
          "base_uri": "https://localhost:8080/",
          "height": 450
        },
        "id": "9KkZv_9lk2ix",
        "outputId": "c127994c-dbbb-46fa-9f3b-8b2532fae629"
      },
      "source": [
        "# side by side metric values for each metric across models (bar plot)\n",
        "fig, ax = plt.subplots(figsize=(8,6))\n",
        "mean_lst = {'lsa':[], 'textrank':[], 'baseline':[]}\n",
        "for metric in [('fmeasure', False), ('precision', False), ('recall', False)]:\n",
        "  for model in ['lsa', 'textrank']:\n",
        "    mean_lst[model].append(eval_dict[model][metric]['mean'])\n",
        "x = np.arange(len(metric_lst))\n",
        "w = 0.25\n",
        "ax.bar(x, mean_lst['lsa'], width = w, label = 'baseline (Fake data)')\n",
        "ax.bar(x + w, mean_lst['lsa'], width = w, label = 'LSA')\n",
        "ax.bar(x + 2*w, mean_lst['textrank'], width = w, label = 'TextRank')\n",
        "ax.legend(fontsize = 12)\n",
        "ax.set_xticks(x + w)\n",
        "ax.set_xticklabels(['F-Measure', 'Precision', 'Recall'], rotation = 45)\n",
        "ax.tick_params(axis='both', which='major', labelsize = 12)\n",
        "ax.set_title('TextRank Uniformally Outperforms other Models', size = 12)\n",
        "\n",
        "# TODO mark if significant? annotate?\n",
        "\n",
        "# note fmeasure and precision models the same for LSA"
      ],
      "execution_count": 72,
      "outputs": [
        {
          "output_type": "execute_result",
          "data": {
            "text/plain": [
              "Text(0.5, 1.0, 'TextRank Uniformally Outperforms other Models')"
            ]
          },
          "metadata": {
            "tags": []
          },
          "execution_count": 72
        },
        {
          "output_type": "display_data",
          "data": {
            "image/png": "[encoded data removed]",
            "text/plain": [
              "<Figure size 576x432 with 1 Axes>"
            ]
          },
          "metadata": {
            "tags": [],
            "needs_background": "light"
          }
        }
      ]
    },
    {
      "cell_type": "markdown",
      "metadata": {
        "id": "CK6srcK-xHdT"
      },
      "source": [
        "## Compare Predicted Summaries across Algorithms and Metrics\n"
      ]
    },
    {
      "cell_type": "code",
      "metadata": {
        "id": "adVrMOZPwybK"
      },
      "source": [
        "# length of summary by metric within model\n",
        "summary_len_metric = {'lsa':{}, 'textrank':{}}\n",
        "for model in ['lsa', 'textrank']:\n",
        "  for metric in [('fmeasure', False), ('precision', False), ('recall', False)]:\n",
        "    df = model_dict[model][metric]\n",
        "    df['summary_num_words'] = df.predicted_summary.map(lambda row: len(''.join(row).split(' ')))\n",
        "    df['summary_num_sentences'] = df.predicted_summary.map(lambda row: len(row))\n",
        "    summary_len_metric[model][metric] = [df.summary_num_sentences.mean(), df.summary_num_words.mean()]"
      ],
      "execution_count": null,
      "outputs": []
    },
    {
      "cell_type": "code",
      "metadata": {
        "colab": {
          "base_uri": "https://localhost:8080/",
          "height": 478
        },
        "id": "T1rhMu30qlcq",
        "outputId": "078aac8a-7435-430f-8746-9b723f873240"
      },
      "source": [
        "fig, axs = plt.subplots(1, 3, figsize=(16, 6), sharey=True)\n",
        "barlst = axs[0].bar(['F-Measure', 'Precision', 'Recall'], [i[0] for i in list(summary_len_metric['lsa'].values())])\n",
        "barlst[-1].set_color('g')\n",
        "barlst = axs[1].bar(['F-Measure', 'Precision', 'Recall'], [i[0] for i in list(summary_len_metric['lsa'].values())])\n",
        "barlst[-1].set_color('g')\n",
        "barlst = axs[2].bar(['F-Measure', 'Precision', 'Recall'], [i[0] for i in list(summary_len_metric['textrank'].values())])\n",
        "barlst[-1].set_color('g')\n",
        "\n",
        "for i in range(3):\n",
        "  axs[i].set_xticklabels(['F-Measure', 'Precision', 'Recall'], rotation = 45)\n",
        "  axs[i].tick_params(axis='both', which='major', labelsize = 12)\n",
        "fig.suptitle('Recall favors shorter summaries', size = 16)\n",
        "axs[0].set_ylabel('# Summary Sentences', size = 12)\n",
        "axs[0].set_title('Baseline (fake data)')\n",
        "axs[1].set_title(\"LSA\")\n",
        "axs[2].set_title('TextRank')\n",
        "\n",
        "# all 3 models get very similar sized summaries\n",
        "# recall favors shorter summaries. maximizing overlap with true summary - doesn't make sense. I thought that longer summaries would increase likelihood of overlap\n",
        "# for all 3, recall gets num_words_lt which creates shortest summaries "
      ],
      "execution_count": 149,
      "outputs": [
        {
          "output_type": "execute_result",
          "data": {
            "text/plain": [
              "Text(0.5, 1.0, 'TextRank')"
            ]
          },
          "metadata": {
            "tags": []
          },
          "execution_count": 149
        },
        {
          "output_type": "display_data",
          "data": {
            "image/png": "[encoded data removed]",
            "text/plain": [
              "<Figure size 1152x432 with 3 Axes>"
            ]
          },
          "metadata": {
            "tags": [],
            "needs_background": "light"
          }
        }
      ]
    },
    {
      "cell_type": "code",
      "metadata": {
        "colab": {
          "base_uri": "https://localhost:8080/",
          "height": 478
        },
        "id": "HKC-gWXdkttJ",
        "outputId": "4e7b2dfa-2af5-4d08-94f8-78a7ad5a84d5"
      },
      "source": [
        "fig, axs = plt.subplots(1, 3, figsize=(16, 6), sharey=True)\n",
        "barlst = axs[0].bar(['F-Measure', 'Precision', 'Recall'], [i[1] for i in list(summary_len_metric['lsa'].values())])\n",
        "barlst[-1].set_color('g')\n",
        "barlst = axs[1].bar(['F-Measure', 'Precision', 'Recall'], [i[1] for i in list(summary_len_metric['lsa'].values())])\n",
        "barlst[-1].set_color('g')\n",
        "barlst = axs[2].bar(['F-Measure', 'Precision', 'Recall'], [i[1] for i in list(summary_len_metric['textrank'].values())])\n",
        "barlst[-1].set_color('g')\n",
        "\n",
        "for i in range(3):\n",
        "  axs[i].set_xticklabels(['F-Measure', 'Precision', 'Recall'], rotation = 45)\n",
        "  axs[i].tick_params(axis='both', which='major', labelsize = 12)\n",
        "fig.suptitle('Recall favors shorter summaries', size = 16)\n",
        "axs[0].set_ylabel('# Summary Words', size = 12)\n",
        "axs[0].set_title('Baseline (fake data)')\n",
        "axs[1].set_title(\"LSA\")\n",
        "axs[2].set_title('TextRank')"
      ],
      "execution_count": 150,
      "outputs": [
        {
          "output_type": "execute_result",
          "data": {
            "text/plain": [
              "Text(0.5, 1.0, 'TextRank')"
            ]
          },
          "metadata": {
            "tags": []
          },
          "execution_count": 150
        },
        {
          "output_type": "display_data",
          "data": {
            "image/png": "[encoded data removed]",
            "text/plain": [
              "<Figure size 1152x432 with 3 Axes>"
            ]
          },
          "metadata": {
            "tags": [],
            "needs_background": "light"
          }
        }
      ]
    },
    {
      "cell_type": "code",
      "metadata": {
        "id": "BVSfIjvIY4kh"
      },
      "source": [
        "# TODO stats on types of summaries generated by each model and for best of each metric. Ex: recall best summaries longer than precision summaries? etc.\n",
        "# problems with models include that sentences can appear in odd orders. BUT our human content creator can rearrange - care more about getting the right info in front of them.\n",
        "  # thus prefer longer summaries? care more about recall than precision?"
      ],
      "execution_count": null,
      "outputs": []
    }
  ]
}