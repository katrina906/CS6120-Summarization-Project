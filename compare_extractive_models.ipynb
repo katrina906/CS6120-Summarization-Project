{
  "nbformat": 4,
  "nbformat_minor": 0,
  "metadata": {
    "colab": {
      "name": "compare_extractive_models.ipynb",
      "provenance": [],
      "collapsed_sections": [],
      "authorship_tag": "ABX9TyPAkCfCw2OfvN0HGFUPMPuf",
      "include_colab_link": true
    },
    "kernelspec": {
      "name": "python3",
      "display_name": "Python 3"
    },
    "language_info": {
      "name": "python"
    }
  },
  "cells": [
    {
      "cell_type": "markdown",
      "metadata": {
        "id": "view-in-github",
        "colab_type": "text"
      },
      "source": [
        "<a href=\"https://colab.research.google.com/github/katrina906/CS6120-Summarization-Project/blob/main/compare_extractive_models.ipynb\" target=\"_parent\"><img src=\"https://colab.research.google.com/assets/colab-badge.svg\" alt=\"Open In Colab\"/></a>"
      ]
    },
    {
      "cell_type": "code",
      "metadata": {
        "id": "ZaD-DFLdayq6"
      },
      "source": [
        "%%capture \n",
        "!pip install rouge-score\n",
        "!pip install import-ipynb"
      ],
      "execution_count": 1,
      "outputs": []
    },
    {
      "cell_type": "code",
      "metadata": {
        "id": "oWEhvsdtYUn5"
      },
      "source": [
        "import pickle\n",
        "from rouge_score import rouge_scorer\n",
        "import import_ipynb"
      ],
      "execution_count": 2,
      "outputs": []
    },
    {
      "cell_type": "code",
      "metadata": {
        "colab": {
          "base_uri": "https://localhost:8080/"
        },
        "id": "lSrAegHUapdB",
        "outputId": "b57202ec-812e-4f9d-b121-1738150c1664"
      },
      "source": [
        "from google.colab import drive\n",
        "drive.mount('/content/drive')"
      ],
      "execution_count": 3,
      "outputs": [
        {
          "output_type": "stream",
          "text": [
            "Drive already mounted at /content/drive; to attempt to forcibly remount, call drive.mount(\"/content/drive\", force_remount=True).\n"
          ],
          "name": "stdout"
        }
      ]
    },
    {
      "cell_type": "code",
      "metadata": {
        "colab": {
          "base_uri": "https://localhost:8080/"
        },
        "id": "VUwrmHsVNZ7K",
        "outputId": "84fa5009-61d9-4202-eb9d-7c1daa988d2b"
      },
      "source": [
        "# load in functions from extract_summarization notebook\n",
        "%cd \"drive/MyDrive/Colab Notebooks\"\n",
        "import extractive_summarization"
      ],
      "execution_count": 4,
      "outputs": [
        {
          "output_type": "stream",
          "text": [
            "/content/drive/MyDrive/Colab Notebooks\n",
            "importing Jupyter notebook from extractive_summarization.ipynb\n",
            "[nltk_data] Downloading package stopwords to /root/nltk_data...\n",
            "[nltk_data]   Package stopwords is already up-to-date!\n",
            "[nltk_data] Downloading package wordnet to /root/nltk_data...\n",
            "[nltk_data]   Package wordnet is already up-to-date!\n",
            "Drive already mounted at /content/drive; to attempt to forcibly remount, call drive.mount(\"/content/drive\", force_remount=True).\n"
          ],
          "name": "stdout"
        }
      ]
    },
    {
      "cell_type": "markdown",
      "metadata": {
        "id": "7zgVxt-kfsEG"
      },
      "source": [
        "## Calculate P-Value with Paired Bootstrap Test\n",
        "\n",
        "For best configuration for each evaluation metric, compare the 3 model types: which model is the best and what is the p-value?\n",
        "1. Calculate difference in stat performance (recall etc.)\n",
        "2. Generate N bootstrapped samples of data \n",
        "3. Train on bootstrapped data\n",
        "4. Calculate difference in performance on bootstraped data\n",
        "5. Count percent of replicate diffs that are >= 2 * original diff = p-value  \n",
        "  - Null hypothesis is that there is no difference and the true effect size is original diff (data happens to be biased towards one model)\n",
        "  - If see a lot of replicated diffs >= 2 * original diff, then null is true and there is no difference between the models"
      ]
    },
    {
      "cell_type": "code",
      "metadata": {
        "id": "IOBac5PXlQzZ"
      },
      "source": [
        "model2 = 'lsa'"
      ],
      "execution_count": 33,
      "outputs": []
    },
    {
      "cell_type": "code",
      "metadata": {
        "colab": {
          "base_uri": "https://localhost:8080/",
          "height": 265
        },
        "id": "QjtmZDEDlOoJ",
        "outputId": "fcc2d489-2e87-4759-b8dc-368a1144dc63"
      },
      "source": [
        "embeddings = extractive_summarization.load_embeddings()\n",
        "\n",
        "for metric in [('fmeasure', False), ('fmeasure', True), ('precision', False), ('precision', True), ('recall', False), ('recall', True)]:\n",
        "\n",
        "  # which model is better and by how much\n",
        "  if evals[model1][metric]['mean'] > evals[model2][metric]['mean']:\n",
        "    better_model = model1\n",
        "    other_model = model2\n",
        "  else:\n",
        "    better_model = model2\n",
        "    other_model = model1\n",
        "  diff =  evals[better_model][metric]['mean'] - evals[other_model][metric]['mean']\n",
        "  print(better_model, diff)\n",
        "\n",
        "  #bs_results_sd = []\n",
        "  for i in range(10): # TODO need more samples...once have more full models, see how big standard deviation of means are with BS = 10, 20 etc. Need to go bigger?\n",
        "    print('BS', i)\n",
        "    # generate bootstrap samples \n",
        "    bs_sample = {}\n",
        "    bs_sample[model1] = models[model1][metric].sample(n = len(models[model1][metric]), replace = True)\n",
        "    bs_sample[model2] = models[model2][metric].sample(n = len(models[model2][metric]), replace = True)\n",
        "\n",
        "    # retrain both models on bootstrap samples with the current config\n",
        "    bs_results = {}\n",
        "    gt_diff = 0\n",
        "    lt_diff = 0\n",
        "    for m in [model1, model2]:\n",
        "      config = configs[m][metric]\n",
        "      if 'baseline' in config:\n",
        "        tfidf, feature_array = extractive_summarization.corpus_tfidf(bs_sample[m])\n",
        "      else:\n",
        "        tfidf = ''\n",
        "        feature_array = ''\n",
        "      eval_results, _ = extractive_summarization.train_config_loop(bs_sample[m], tfidf, feature_array, embeddings, [config])\n",
        "      bs_results[m] = eval_results[config][metric]['mean']\n",
        "  \n",
        "    break\n",
        "\n",
        "    #bs_results_sd.append(eval_results[config][metric]['mean'])\n",
        "  #return bs_results_sd\n",
        "    # find difference in relevant stat\n",
        "    diff_bs = bs_results[better_model] - bs_results[other_model]\n",
        "    if diff_bs >= 2*diff:\n",
        "      gt_diff += 1\n",
        "    else:\n",
        "      lt_diff += 1\n",
        "    \n",
        "  # calculate p value\n",
        "  pvalue = gt_diff / (gt_diff + lt_diff)\n"
      ],
      "execution_count": 34,
      "outputs": [
        {
          "output_type": "stream",
          "text": [
            "baseline 0.017752154879893373\n",
            "BS 0\n",
            "('baseline', 'num_words_gt')\n",
            "('lsa', 'nostop', 'no_stemlemma', 'bow', 'counts', 'no_normalization', 'bigram', 'num_sentences')\n"
          ],
          "name": "stdout"
        },
        {
          "output_type": "error",
          "ename": "ZeroDivisionError",
          "evalue": "ignored",
          "traceback": [
            "\u001b[0;31m---------------------------------------------------------------------------\u001b[0m",
            "\u001b[0;31mZeroDivisionError\u001b[0m                         Traceback (most recent call last)",
            "\u001b[0;32m<ipython-input-34-a002e7f9c512>\u001b[0m in \u001b[0;36m<module>\u001b[0;34m()\u001b[0m\n\u001b[1;32m     47\u001b[0m \u001b[0;34m\u001b[0m\u001b[0m\n\u001b[1;32m     48\u001b[0m   \u001b[0;31m# calculate p value\u001b[0m\u001b[0;34m\u001b[0m\u001b[0;34m\u001b[0m\u001b[0;34m\u001b[0m\u001b[0m\n\u001b[0;32m---> 49\u001b[0;31m   \u001b[0mpvalue\u001b[0m \u001b[0;34m=\u001b[0m \u001b[0mgt_diff\u001b[0m \u001b[0;34m/\u001b[0m \u001b[0;34m(\u001b[0m\u001b[0mgt_diff\u001b[0m \u001b[0;34m+\u001b[0m \u001b[0mlt_diff\u001b[0m\u001b[0;34m)\u001b[0m\u001b[0;34m\u001b[0m\u001b[0;34m\u001b[0m\u001b[0m\n\u001b[0m",
            "\u001b[0;31mZeroDivisionError\u001b[0m: division by zero"
          ]
        }
      ]
    },
    {
      "cell_type": "code",
      "metadata": {
        "colab": {
          "base_uri": "https://localhost:8080/"
        },
        "id": "qBqPTpwfla3A",
        "outputId": "c1f9bded-4fd2-4d18-8c13-6530e0391fa5"
      },
      "source": [
        "bs_results"
      ],
      "execution_count": 35,
      "outputs": [
        {
          "output_type": "execute_result",
          "data": {
            "text/plain": [
              "{'baseline': 0.25614631467684057, 'lsa': 0.22360949570615973}"
            ]
          },
          "metadata": {
            "tags": []
          },
          "execution_count": 35
        }
      ]
    },
    {
      "cell_type": "code",
      "metadata": {
        "id": "riIdzu7Xlsx4"
      },
      "source": [
        "diff_bs = bs_results[better_model] - bs_results[other_model]\n",
        "if diff_bs >= 2*diff:\n",
        "  gt_diff += 1\n",
        "else:\n",
        "  lt_diff += 1"
      ],
      "execution_count": 36,
      "outputs": []
    },
    {
      "cell_type": "code",
      "metadata": {
        "id": "Ga_P8wvHdKXC"
      },
      "source": [
        "def paired_bootstrap(evals, models, configs, model1, model2):\n",
        "  embeddings = extractive_summarization.load_embeddings()\n",
        "\n",
        "  pvalue_dict = {}\n",
        "  for metric in [('fmeasure', False), ('fmeasure', True), ('precision', False), ('precision', True), ('recall', False), ('recall', True)]:\n",
        "\n",
        "    # which model is better and by how much\n",
        "    if evals[model1][metric]['mean'] > evals[model2][metric]['mean']:\n",
        "      better_model = model1\n",
        "      other_model = model2\n",
        "    else:\n",
        "      better_model = model2\n",
        "      other_model = model1\n",
        "    diff =  evals[better_model][metric]['mean'] - evals[other_model][metric]['mean']\n",
        "    print(better_model, diff)\n",
        "\n",
        "    #bs_results_sd = []\n",
        "    gt_diff = 0\n",
        "    lt_diff = 0\n",
        "    for i in range(10): # TODO need more samples...once have more full models, see how big standard deviation of means are with BS = 10, 20 etc. Need to go bigger? \n",
        "                        # definitely more than 10 so can get fractions beyond 0 and 0.1\n",
        "      print('BS', i)\n",
        "      # generate bootstrap samples \n",
        "      bs_sample = {}\n",
        "      bs_sample[model1] = models[model1][metric].sample(n = len(models[model1][metric]), replace = True)\n",
        "      bs_sample[model2] = models[model2][metric].sample(n = len(models[model2][metric]), replace = True)\n",
        "\n",
        "      # retrain both models on bootstrap samples with the current config\n",
        "      bs_results = {}\n",
        "      for m in [model1, model2]:\n",
        "        config = configs[m][metric]\n",
        "        if 'baseline' in config:\n",
        "          tfidf, feature_array = extractive_summarization.corpus_tfidf(bs_sample[m])\n",
        "        else:\n",
        "          tfidf = ''\n",
        "          feature_array = ''\n",
        "        eval_results, _ = extractive_summarization.train_config_loop(bs_sample[m], tfidf, feature_array, embeddings, [config])\n",
        "        bs_results[m] = eval_results[config][metric]['mean']\n",
        "    \n",
        "      #bs_results_sd.append(eval_results[config][metric]['mean'])\n",
        "    #return bs_results_sd\n",
        "      # find difference in relevant stat\n",
        "      diff_bs = bs_results[better_model] - bs_results[other_model]\n",
        "      print(diff_bs)\n",
        "      if diff_bs >= 2*diff:\n",
        "        gt_diff += 1\n",
        "      else:\n",
        "        lt_diff += 1\n",
        "      \n",
        "    # calculate p value\n",
        "    pvalue = gt_diff / (gt_diff + lt_diff)\n",
        "    pvalue_dict[metric] = (better_model, pvalue)\n",
        "\n",
        "  return pvalue_dict"
      ],
      "execution_count": 44,
      "outputs": []
    },
    {
      "cell_type": "code",
      "metadata": {
        "id": "_KTOUd0jmOD1"
      },
      "source": [
        "pvalue_dict = paired_bootstrap(eval_dict, model_dict, config_dict, 'baseline', 'lsa')"
      ],
      "execution_count": null,
      "outputs": []
    },
    {
      "cell_type": "code",
      "metadata": {
        "colab": {
          "base_uri": "https://localhost:8080/"
        },
        "id": "6LoRYxuIeWX4",
        "outputId": "98afd04b-9c19-4051-c2f2-3a234e12c553"
      },
      "source": [
        "pvalue_dict"
      ],
      "execution_count": 46,
      "outputs": [
        {
          "output_type": "execute_result",
          "data": {
            "text/plain": [
              "{('fmeasure', False): ('baseline', 0.5),\n",
              " ('fmeasure', True): ('baseline', 0.5),\n",
              " ('precision', False): ('baseline', 0.0),\n",
              " ('precision', True): ('baseline', 0.0),\n",
              " ('recall', False): ('baseline', 0.2),\n",
              " ('recall', True): ('baseline', 0.0)}"
            ]
          },
          "metadata": {
            "tags": []
          },
          "execution_count": 46
        }
      ]
    },
    {
      "cell_type": "code",
      "metadata": {
        "id": "5JMWTp8WZZUB"
      },
      "source": [
        "model_dict = {}\n",
        "eval_dict = {}\n",
        "config_dict = {}\n",
        "for model in ['lsa', 'baseline']: # 'baseline']: #'textrank']:\n",
        "  with open('/content/drive/MyDrive/data/trained_model_' + model + '.pkl', 'rb') as f:\n",
        "    eval_dict[model] = pickle.load(f)\n",
        "    model_dict[model] = pickle.load(f)\n",
        "    config_dict[model] = pickle.load(f)"
      ],
      "execution_count": 6,
      "outputs": []
    },
    {
      "cell_type": "code",
      "metadata": {
        "id": "aRWayhn1fnTw"
      },
      "source": [
        "paired_bootstrap(eval_dict, model_dict, config_dict, 'baseline', 'lsa')"
      ],
      "execution_count": null,
      "outputs": []
    },
    {
      "cell_type": "code",
      "metadata": {
        "id": "BVSfIjvIY4kh"
      },
      "source": [
        "# TODO stats on types of summaries generated by each model and for best of each metric. Ex: recall best summaries longer than precision summaries? etc.\n",
        "# problems with models include that sentences can appear in odd orders. BUT our human content creator can rearrange - care more about getting the right info in front of them.\n",
        "  # thus prefer longer summaries? care more about recall than precision?"
      ],
      "execution_count": null,
      "outputs": []
    }
  ]
}