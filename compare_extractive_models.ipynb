{
  "nbformat": 4,
  "nbformat_minor": 0,
  "metadata": {
    "colab": {
      "name": "compare_extractive_models.ipynb",
      "provenance": [],
      "collapsed_sections": [],
      "authorship_tag": "ABX9TyO3LES14bL6KzJaOV+/Yt2T",
      "include_colab_link": true
    },
    "kernelspec": {
      "name": "python3",
      "display_name": "Python 3"
    },
    "language_info": {
      "name": "python"
    }
  },
  "cells": [
    {
      "cell_type": "markdown",
      "metadata": {
        "id": "view-in-github",
        "colab_type": "text"
      },
      "source": [
        "<a href=\"https://colab.research.google.com/github/katrina906/CS6120-Summarization-Project/blob/main/compare_extractive_models.ipynb\" target=\"_parent\"><img src=\"https://colab.research.google.com/assets/colab-badge.svg\" alt=\"Open In Colab\"/></a>"
      ]
    },
    {
      "cell_type": "code",
      "metadata": {
        "id": "ZaD-DFLdayq6"
      },
      "source": [
        "%%capture \n",
        "!pip install rouge-score\n",
        "!pip install import-ipynb"
      ],
      "execution_count": 1,
      "outputs": []
    },
    {
      "cell_type": "code",
      "metadata": {
        "id": "oWEhvsdtYUn5"
      },
      "source": [
        "import pickle\n",
        "from rouge_score import rouge_scorer\n",
        "import import_ipynb"
      ],
      "execution_count": 2,
      "outputs": []
    },
    {
      "cell_type": "code",
      "metadata": {
        "colab": {
          "base_uri": "https://localhost:8080/"
        },
        "id": "lSrAegHUapdB",
        "outputId": "73c65a48-8579-44ba-8959-92a80221ca2e"
      },
      "source": [
        "from google.colab import drive\n",
        "drive.mount('/content/drive')"
      ],
      "execution_count": 3,
      "outputs": [
        {
          "output_type": "stream",
          "text": [
            "Mounted at /content/drive\n"
          ],
          "name": "stdout"
        }
      ]
    },
    {
      "cell_type": "code",
      "metadata": {
        "id": "VUwrmHsVNZ7K"
      },
      "source": [
        "# load in functions from extract_summarization notebook\n",
        "#%cd \"drive/MyDrive/Colab Notebooks\"\n",
        "import extractive_summarization"
      ],
      "execution_count": 53,
      "outputs": []
    },
    {
      "cell_type": "code",
      "metadata": {
        "id": "Ga_P8wvHdKXC"
      },
      "source": [
        "def paired_bootstrap(evals, models, configs, model1, model2):\n",
        "\n",
        "   for metric in [('fmeasure', False), ('fmeasure', True), ('precision', False), ('precision', True), ('recall', False), ('recall', True)]:\n",
        "\n",
        "    # which model is better and by how much\n",
        "    if evals[model1][metric]['mean'] > evals[model2][metric]['mean']:\n",
        "      better_model = model1\n",
        "      other_model = model2\n",
        "    else:\n",
        "      better_model = model2\n",
        "      other_model = model1\n",
        "    diff =  evals[better_model][metric]['mean'] - evals[other_model][metric]['mean']\n",
        "\n",
        "    for i in range(10):\n",
        "      # generate bootstrap samples \n",
        "      bs_sample = {}\n",
        "      bs_sample[model1] = models[model1][metric].sample(n = len(models[model1][metric]), replace = True, random_state = 123)\n",
        "      bs_sample[model2] = models[model2][metric].sample(n = len(models[model2][metric]), replace = True, random_state = 123)\n",
        "\n",
        "      # retrain both models on bootstrap samples with the current config....call in functions from other notebook?\n",
        "        # create a notebook that purely has functions, no calls and separate main into different notebook?\n",
        "      bs_results = {}\n",
        "      gt_diff = 0\n",
        "      lt_diff = 0\n",
        "      embeddings = extractive_summarization.load_embeddings()\n",
        "      for m in [model1, model2]:\n",
        "        config = configs[model1][metric]\n",
        "        if 'baseline' in config:\n",
        "          tfidf, feature_array = extractive_summarization.corpus_tfidf(bs_sample[m])\n",
        "        else:\n",
        "          tfidf = ''\n",
        "          feature_array = ''\n",
        "        eval_results, _ = extractive_summarization.train_config_loop(bs_sample[m], tfidf, feature_array, embeddings, [config])\n",
        "        bs_results[m] = eval_results[metric]['mean']\n",
        "   \n",
        "      # find difference in relevant stat\n",
        "      diff_bs = bs_results[better_model] - bs_results[other_model]\n",
        "      if diff_bs >= 2*diff:\n",
        "        gt_diff += 1\n",
        "      else:\n",
        "        lt_diff += 1\n",
        "      \n",
        "    # calculate p value\n",
        "    pvalue = gt_diff / (gt_diff + lt_diff)\n",
        "\n",
        "    return (metric, best_model, pvalue)"
      ],
      "execution_count": 29,
      "outputs": []
    },
    {
      "cell_type": "code",
      "metadata": {
        "id": "5JMWTp8WZZUB"
      },
      "source": [
        "model_dict = {}\n",
        "eval_dict = {}\n",
        "config_dict = {}\n",
        "for model in ['lsa', 'baseline']: # 'baseline']: #'pr']:\n",
        "  with open('/content/drive/MyDrive/data/trained_model_' + model + '.pkl', 'rb') as f:\n",
        "    eval_dict[model] = pickle.load(f)\n",
        "    model_dict[model] = pickle.load(f)\n",
        "    config_dict[model] = pickle.load(f)\n",
        "\n",
        "#paired_bootstrap(eval_dict, model_dict, config_dict, 'baseline', 'lsa')"
      ],
      "execution_count": 54,
      "outputs": []
    },
    {
      "cell_type": "code",
      "metadata": {
        "id": "BVSfIjvIY4kh"
      },
      "source": [
        "# TODO stats on types of summaries generated by each model and for best of each metric. Ex: recall best summaries longer than precision summaries? etc.\n",
        "# problems include that sentences can appear in odd orders. BUT our human content creator can rearrange - care more about getting the right info in front of them.\n",
        "  # thus prefer longer summaries? care more about recall than precision?"
      ],
      "execution_count": null,
      "outputs": []
    },
    {
      "cell_type": "code",
      "metadata": {
        "id": "L7SRnTdCc5tG"
      },
      "source": [
        "# TODO compare evaluations between models with paired bootstrap test to test significance?\n",
        "\n",
        "# for best config of each model type, calculate difference in stat performance (recall etc.)\n",
        "# generate N bootstrapped samples of data \n",
        "# for the best config of each model type, evaluate on replicate data. calculate difference in performance\n",
        "# count percent of replicate diffs that are >= 2 * original diff = p-value  \n",
        "  # null hypothesis is that there is no difference and the true effect size is original diff (data happens to be biased towards one model)\n",
        "  # if see a lot of replicated diffs >= 2 * original diff, then null is true and there is no difference between the models"
      ],
      "execution_count": null,
      "outputs": []
    }
  ]
}