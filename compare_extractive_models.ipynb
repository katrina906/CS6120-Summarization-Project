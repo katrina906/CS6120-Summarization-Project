{
  "nbformat": 4,
  "nbformat_minor": 0,
  "metadata": {
    "colab": {
      "name": "compare_extractive_models.ipynb",
      "provenance": [],
      "collapsed_sections": [],
      "authorship_tag": "ABX9TyOmCTMcKhs+p+befUdd+3Uw",
      "include_colab_link": true
    },
    "kernelspec": {
      "name": "python3",
      "display_name": "Python 3"
    },
    "language_info": {
      "name": "python"
    }
  },
  "cells": [
    {
      "cell_type": "markdown",
      "metadata": {
        "id": "view-in-github",
        "colab_type": "text"
      },
      "source": [
        "<a href=\"https://colab.research.google.com/github/katrina906/CS6120-Summarization-Project/blob/main/compare_extractive_models.ipynb\" target=\"_parent\"><img src=\"https://colab.research.google.com/assets/colab-badge.svg\" alt=\"Open In Colab\"/></a>"
      ]
    },
    {
      "cell_type": "code",
      "metadata": {
        "id": "ZaD-DFLdayq6"
      },
      "source": [
        "%%capture \n",
        "!pip install rouge-score\n",
        "!pip install import-ipynb"
      ],
      "execution_count": 1,
      "outputs": []
    },
    {
      "cell_type": "code",
      "metadata": {
        "id": "oWEhvsdtYUn5",
        "colab": {
          "base_uri": "https://localhost:8080/"
        },
        "outputId": "9d1f7a59-b015-480f-ff49-8f8d7caa094e"
      },
      "source": [
        "import pickle\n",
        "from rouge_score import rouge_scorer\n",
        "import import_ipynb\n",
        "from nltk.corpus import stopwords  \n",
        "import nltk\n",
        "nltk.download('stopwords')\n",
        "stop_words = set(stopwords.words('english'))  "
      ],
      "execution_count": 2,
      "outputs": [
        {
          "output_type": "stream",
          "text": [
            "[nltk_data] Downloading package stopwords to /root/nltk_data...\n",
            "[nltk_data]   Package stopwords is already up-to-date!\n"
          ],
          "name": "stdout"
        }
      ]
    },
    {
      "cell_type": "code",
      "metadata": {
        "colab": {
          "base_uri": "https://localhost:8080/"
        },
        "id": "lSrAegHUapdB",
        "outputId": "cfe55656-9915-44d1-8551-cd287b31f80c"
      },
      "source": [
        "from google.colab import drive\n",
        "drive.mount('/content/drive')"
      ],
      "execution_count": 3,
      "outputs": [
        {
          "output_type": "stream",
          "text": [
            "Drive already mounted at /content/drive; to attempt to forcibly remount, call drive.mount(\"/content/drive\", force_remount=True).\n"
          ],
          "name": "stdout"
        }
      ]
    },
    {
      "cell_type": "code",
      "metadata": {
        "colab": {
          "base_uri": "https://localhost:8080/"
        },
        "id": "VUwrmHsVNZ7K",
        "outputId": "c400f34e-e493-4e32-b30b-3119d60bf479"
      },
      "source": [
        "# load in functions from extract_summarization notebook\n",
        "%cd \"drive/MyDrive/Colab Notebooks\"\n",
        "import extractive_summarization\n",
        "%cd .."
      ],
      "execution_count": 4,
      "outputs": [
        {
          "output_type": "stream",
          "text": [
            "/content/drive/MyDrive/Colab Notebooks\n",
            "importing Jupyter notebook from extractive_summarization.ipynb\n",
            "/content/drive/MyDrive\n"
          ],
          "name": "stdout"
        }
      ]
    },
    {
      "cell_type": "markdown",
      "metadata": {
        "id": "7zgVxt-kfsEG"
      },
      "source": [
        "## Calculate P-Value with Paired Bootstrap Test\n",
        "\n",
        "For best configuration for each evaluation metric, compare the 3 model types: which model is the best and what is the p-value?\n",
        "1. Calculate difference in stat performance (recall etc.)\n",
        "2. Generate N bootstrapped samples of data \n",
        "3. Train on bootstrapped data\n",
        "4. Calculate difference in performance on bootstraped data\n",
        "5. Count percent of replicate diffs that are >= 2 * original diff = p-value  \n",
        "  - Null hypothesis is that there is no difference and the true effect size is original diff (data happens to be biased towards one model)\n",
        "  - If see a lot of replicated diffs >= 2 * original diff, then null is true and there is no difference between the models"
      ]
    },
    {
      "cell_type": "code",
      "metadata": {
        "id": "Ga_P8wvHdKXC"
      },
      "source": [
        "def paired_bootstrap(evals, models, configs, model1, model2):\n",
        "  embeddings = extractive_summarization.load_embeddings()\n",
        "\n",
        "  pvalue_dict = {}\n",
        "  for metric in [('fmeasure', False), ('fmeasure', True), ('precision', False), ('precision', True), ('recall', False), ('recall', True)]:\n",
        "\n",
        "    # which model is better and by how much\n",
        "    if evals[model1][metric]['mean'] > evals[model2][metric]['mean']:\n",
        "      better_model = model1\n",
        "      other_model = model2\n",
        "    else:\n",
        "      better_model = model2\n",
        "      other_model = model1\n",
        "    diff =  evals[better_model][metric]['mean'] - evals[other_model][metric]['mean']\n",
        "    print(better_model, diff)\n",
        "\n",
        "    #bs_results_sd = []\n",
        "    gt_diff = 0\n",
        "    lt_diff = 0\n",
        "    for i in range(2): # TODO need more samples...once have more full models, see how big standard deviation of means are with BS = 10, 20 etc. Need to go bigger? \n",
        "                        # definitely more than 10 so can get fractions beyond 0 and 0.1\n",
        "      print('BS', i)\n",
        "      # generate bootstrap samples \n",
        "      bs_sample = {}\n",
        "      bs_sample[model1] = models[model1][metric].sample(n = len(models[model1][metric]), replace = True)\n",
        "      bs_sample[model2] = models[model2][metric].sample(n = len(models[model2][metric]), replace = True)\n",
        "\n",
        "      # retrain both models on bootstrap samples with the current config\n",
        "      bs_results = {}\n",
        "      for m in [model1, model2]:\n",
        "        config = tuple(config_dict[m][metric].strip('(').strip(')').replace(\"'\", \"\").split(', '))\n",
        "        if 'baseline' in config:\n",
        "          tfidf, feature_array = extractive_summarization.corpus_tfidf(bs_sample[m])\n",
        "        else:\n",
        "          tfidf = ''\n",
        "          feature_array = ''\n",
        "        eval_results, _ = extractive_summarization.train_config_loop(bs_sample[m], tfidf, feature_array, embeddings, stop_words, \n",
        "                                                                     [config], eval_only = True)\n",
        "        bs_results[m] = eval_results[str(config)][metric]['mean']\n",
        "    \n",
        "      #bs_results_sd.append(eval_results[config][metric]['mean'])\n",
        "    #return bs_results_sd\n",
        "      # find difference in relevant stat\n",
        "      diff_bs = bs_results[better_model] - bs_results[other_model]\n",
        "      print(diff_bs)\n",
        "      if diff_bs >= 2*diff:\n",
        "        gt_diff += 1\n",
        "      else:\n",
        "        lt_diff += 1\n",
        "      \n",
        "    # calculate p value\n",
        "    pvalue = gt_diff / (gt_diff + lt_diff)\n",
        "    pvalue_dict[metric] = (better_model, pvalue)\n",
        "\n",
        "  return pvalue_dict"
      ],
      "execution_count": 5,
      "outputs": []
    },
    {
      "cell_type": "code",
      "metadata": {
        "id": "5JMWTp8WZZUB"
      },
      "source": [
        "model_dict = {}\n",
        "eval_dict = {}\n",
        "config_dict = {}\n",
        "for model in ['lsa']: # 'baseline']: #'textrank']:\n",
        "  with open('/content/drive/MyDrive/data/trained_model_' + model + '.pkl', 'rb') as f:\n",
        "    load = pickle.load(f)\n",
        "    eval_dict[model] = load[1]\n",
        "    model_dict[model] = load[2]\n",
        "    config_dict[model] = load[3]"
      ],
      "execution_count": 6,
      "outputs": []
    },
    {
      "cell_type": "code",
      "metadata": {
        "id": "aRWayhn1fnTw",
        "colab": {
          "base_uri": "https://localhost:8080/"
        },
        "outputId": "35e4842c-3aad-4330-c5e7-56b56ce20c50"
      },
      "source": [
        "pvalue_dict = paired_bootstrap(eval_dict, model_dict, config_dict, 'lsa', 'lsa')"
      ],
      "execution_count": 7,
      "outputs": [
        {
          "output_type": "stream",
          "text": [
            "lsa 0.0\n",
            "BS 0\n",
            "('lsa', 'nostop', 'no_stemlemma', 'bow', 'binary', 'tf', 'trigram', 'num_words_gt')\n",
            "('lsa', 'nostop', 'no_stemlemma', 'bow', 'binary', 'tf', 'trigram', 'num_words_gt')\n",
            "0.0\n",
            "BS 1\n",
            "('lsa', 'nostop', 'no_stemlemma', 'bow', 'binary', 'tf', 'trigram', 'num_words_gt')\n",
            "('lsa', 'nostop', 'no_stemlemma', 'bow', 'binary', 'tf', 'trigram', 'num_words_gt')\n",
            "0.0\n",
            "lsa 0.0\n",
            "BS 0\n",
            "('lsa', 'nostop', 'no_stemlemma', 'bow', 'binary', 'tf', 'trigram', 'num_words_gt')\n",
            "('lsa', 'nostop', 'no_stemlemma', 'bow', 'binary', 'tf', 'trigram', 'num_words_gt')\n",
            "0.0\n",
            "BS 1\n",
            "('lsa', 'nostop', 'no_stemlemma', 'bow', 'binary', 'tf', 'trigram', 'num_words_gt')\n",
            "('lsa', 'nostop', 'no_stemlemma', 'bow', 'binary', 'tf', 'trigram', 'num_words_gt')\n",
            "0.0\n",
            "lsa 0.0\n",
            "BS 0\n",
            "('lsa', 'stopwords', 'stem', 'bow', 'binary', 'tfidf', 'unigram', 'num_sentences')\n",
            "('lsa', 'stopwords', 'stem', 'bow', 'binary', 'tfidf', 'unigram', 'num_sentences')\n",
            "0.0\n",
            "BS 1\n",
            "('lsa', 'stopwords', 'stem', 'bow', 'binary', 'tfidf', 'unigram', 'num_sentences')\n",
            "('lsa', 'stopwords', 'stem', 'bow', 'binary', 'tfidf', 'unigram', 'num_sentences')\n",
            "0.0\n",
            "lsa 0.0\n",
            "BS 0\n",
            "('lsa', 'nostop', 'no_stemlemma', 'bow', 'counts', 'no_normalization', 'all', 'num_sentences')\n",
            "('lsa', 'nostop', 'no_stemlemma', 'bow', 'counts', 'no_normalization', 'all', 'num_sentences')\n",
            "0.0\n",
            "BS 1\n",
            "('lsa', 'nostop', 'no_stemlemma', 'bow', 'counts', 'no_normalization', 'all', 'num_sentences')\n",
            "('lsa', 'nostop', 'no_stemlemma', 'bow', 'counts', 'no_normalization', 'all', 'num_sentences')\n",
            "0.0\n",
            "lsa 0.0\n",
            "BS 0\n",
            "('lsa', 'stopwords', 'stem', 'bow', 'counts', 'no_normalization', 'unigram', 'num_words_lt')\n",
            "('lsa', 'stopwords', 'stem', 'bow', 'counts', 'no_normalization', 'unigram', 'num_words_lt')\n",
            "0.0\n",
            "BS 1\n",
            "('lsa', 'stopwords', 'stem', 'bow', 'counts', 'no_normalization', 'unigram', 'num_words_lt')\n",
            "('lsa', 'stopwords', 'stem', 'bow', 'counts', 'no_normalization', 'unigram', 'num_words_lt')\n",
            "0.0\n",
            "lsa 0.0\n",
            "BS 0\n",
            "('lsa', 'stopwords', 'no_stemlemma', 'bow', 'counts', 'no_normalization', 'unigram', 'num_words_lt')\n",
            "('lsa', 'stopwords', 'no_stemlemma', 'bow', 'counts', 'no_normalization', 'unigram', 'num_words_lt')\n",
            "0.0\n",
            "BS 1\n",
            "('lsa', 'stopwords', 'no_stemlemma', 'bow', 'counts', 'no_normalization', 'unigram', 'num_words_lt')\n",
            "('lsa', 'stopwords', 'no_stemlemma', 'bow', 'counts', 'no_normalization', 'unigram', 'num_words_lt')\n",
            "0.0\n"
          ],
          "name": "stdout"
        }
      ]
    },
    {
      "cell_type": "code",
      "metadata": {
        "id": "BVSfIjvIY4kh"
      },
      "source": [
        "# TODO stats on types of summaries generated by each model and for best of each metric. Ex: recall best summaries longer than precision summaries? etc.\n",
        "# problems with models include that sentences can appear in odd orders. BUT our human content creator can rearrange - care more about getting the right info in front of them.\n",
        "  # thus prefer longer summaries? care more about recall than precision?"
      ],
      "execution_count": 8,
      "outputs": []
    }
  ]
}