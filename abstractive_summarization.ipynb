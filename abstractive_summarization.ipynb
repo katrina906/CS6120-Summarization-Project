{
  "nbformat": 4,
  "nbformat_minor": 0,
  "metadata": {
    "colab": {
      "name": "abstractive_summarization.ipynb",
      "provenance": [],
      "collapsed_sections": [],
      "authorship_tag": "ABX9TyN1HrF7Ob24UdtkK19k3Dxa",
      "include_colab_link": true
    },
    "kernelspec": {
      "name": "python3",
      "display_name": "Python 3"
    },
    "language_info": {
      "name": "python"
    },
    "widgets": {
      "application/vnd.jupyter.widget-state+json": {
        "fa114ecd663f4dd4a29d8f53d6a00fa9": {
          "model_module": "@jupyter-widgets/controls",
          "model_name": "HBoxModel",
          "state": {
            "_view_name": "HBoxView",
            "_dom_classes": [],
            "_model_name": "HBoxModel",
            "_view_module": "@jupyter-widgets/controls",
            "_model_module_version": "1.5.0",
            "_view_count": null,
            "_view_module_version": "1.5.0",
            "box_style": "",
            "layout": "IPY_MODEL_2545947a4b504e32ad6c07e5d2cc2e29",
            "_model_module": "@jupyter-widgets/controls",
            "children": [
              "IPY_MODEL_9f77256493114bf694ffb0f927f74156",
              "IPY_MODEL_65d963eea5a94eb781d5ba8e08f58fa1"
            ]
          }
        },
        "2545947a4b504e32ad6c07e5d2cc2e29": {
          "model_module": "@jupyter-widgets/base",
          "model_name": "LayoutModel",
          "state": {
            "_view_name": "LayoutView",
            "grid_template_rows": null,
            "right": null,
            "justify_content": null,
            "_view_module": "@jupyter-widgets/base",
            "overflow": null,
            "_model_module_version": "1.2.0",
            "_view_count": null,
            "flex_flow": null,
            "width": null,
            "min_width": null,
            "border": null,
            "align_items": null,
            "bottom": null,
            "_model_module": "@jupyter-widgets/base",
            "top": null,
            "grid_column": null,
            "overflow_y": null,
            "overflow_x": null,
            "grid_auto_flow": null,
            "grid_area": null,
            "grid_template_columns": null,
            "flex": null,
            "_model_name": "LayoutModel",
            "justify_items": null,
            "grid_row": null,
            "max_height": null,
            "align_content": null,
            "visibility": null,
            "align_self": null,
            "height": null,
            "min_height": null,
            "padding": null,
            "grid_auto_rows": null,
            "grid_gap": null,
            "max_width": null,
            "order": null,
            "_view_module_version": "1.2.0",
            "grid_template_areas": null,
            "object_position": null,
            "object_fit": null,
            "grid_auto_columns": null,
            "margin": null,
            "display": null,
            "left": null
          }
        },
        "9f77256493114bf694ffb0f927f74156": {
          "model_module": "@jupyter-widgets/controls",
          "model_name": "FloatProgressModel",
          "state": {
            "_view_name": "ProgressView",
            "style": "IPY_MODEL_f1f910db6c694aedb901c7f417c71b26",
            "_dom_classes": [],
            "description": "Downloading: 100%",
            "_model_name": "FloatProgressModel",
            "bar_style": "success",
            "max": 1197,
            "_view_module": "@jupyter-widgets/controls",
            "_model_module_version": "1.5.0",
            "value": 1197,
            "_view_count": null,
            "_view_module_version": "1.5.0",
            "orientation": "horizontal",
            "min": 0,
            "description_tooltip": null,
            "_model_module": "@jupyter-widgets/controls",
            "layout": "IPY_MODEL_74a1718aec3a4d0b9f3a07e6e5c597ba"
          }
        },
        "65d963eea5a94eb781d5ba8e08f58fa1": {
          "model_module": "@jupyter-widgets/controls",
          "model_name": "HTMLModel",
          "state": {
            "_view_name": "HTMLView",
            "style": "IPY_MODEL_9b63e79dac754b549067abcb9ffd2bcf",
            "_dom_classes": [],
            "description": "",
            "_model_name": "HTMLModel",
            "placeholder": "​",
            "_view_module": "@jupyter-widgets/controls",
            "_model_module_version": "1.5.0",
            "value": " 1.20k/1.20k [00:00&lt;00:00, 10.6kB/s]",
            "_view_count": null,
            "_view_module_version": "1.5.0",
            "description_tooltip": null,
            "_model_module": "@jupyter-widgets/controls",
            "layout": "IPY_MODEL_0c5100f1d95d4b55a58ef81e7588d346"
          }
        },
        "f1f910db6c694aedb901c7f417c71b26": {
          "model_module": "@jupyter-widgets/controls",
          "model_name": "ProgressStyleModel",
          "state": {
            "_view_name": "StyleView",
            "_model_name": "ProgressStyleModel",
            "description_width": "initial",
            "_view_module": "@jupyter-widgets/base",
            "_model_module_version": "1.5.0",
            "_view_count": null,
            "_view_module_version": "1.2.0",
            "bar_color": null,
            "_model_module": "@jupyter-widgets/controls"
          }
        },
        "74a1718aec3a4d0b9f3a07e6e5c597ba": {
          "model_module": "@jupyter-widgets/base",
          "model_name": "LayoutModel",
          "state": {
            "_view_name": "LayoutView",
            "grid_template_rows": null,
            "right": null,
            "justify_content": null,
            "_view_module": "@jupyter-widgets/base",
            "overflow": null,
            "_model_module_version": "1.2.0",
            "_view_count": null,
            "flex_flow": null,
            "width": null,
            "min_width": null,
            "border": null,
            "align_items": null,
            "bottom": null,
            "_model_module": "@jupyter-widgets/base",
            "top": null,
            "grid_column": null,
            "overflow_y": null,
            "overflow_x": null,
            "grid_auto_flow": null,
            "grid_area": null,
            "grid_template_columns": null,
            "flex": null,
            "_model_name": "LayoutModel",
            "justify_items": null,
            "grid_row": null,
            "max_height": null,
            "align_content": null,
            "visibility": null,
            "align_self": null,
            "height": null,
            "min_height": null,
            "padding": null,
            "grid_auto_rows": null,
            "grid_gap": null,
            "max_width": null,
            "order": null,
            "_view_module_version": "1.2.0",
            "grid_template_areas": null,
            "object_position": null,
            "object_fit": null,
            "grid_auto_columns": null,
            "margin": null,
            "display": null,
            "left": null
          }
        },
        "9b63e79dac754b549067abcb9ffd2bcf": {
          "model_module": "@jupyter-widgets/controls",
          "model_name": "DescriptionStyleModel",
          "state": {
            "_view_name": "StyleView",
            "_model_name": "DescriptionStyleModel",
            "description_width": "",
            "_view_module": "@jupyter-widgets/base",
            "_model_module_version": "1.5.0",
            "_view_count": null,
            "_view_module_version": "1.2.0",
            "_model_module": "@jupyter-widgets/controls"
          }
        },
        "0c5100f1d95d4b55a58ef81e7588d346": {
          "model_module": "@jupyter-widgets/base",
          "model_name": "LayoutModel",
          "state": {
            "_view_name": "LayoutView",
            "grid_template_rows": null,
            "right": null,
            "justify_content": null,
            "_view_module": "@jupyter-widgets/base",
            "overflow": null,
            "_model_module_version": "1.2.0",
            "_view_count": null,
            "flex_flow": null,
            "width": null,
            "min_width": null,
            "border": null,
            "align_items": null,
            "bottom": null,
            "_model_module": "@jupyter-widgets/base",
            "top": null,
            "grid_column": null,
            "overflow_y": null,
            "overflow_x": null,
            "grid_auto_flow": null,
            "grid_area": null,
            "grid_template_columns": null,
            "flex": null,
            "_model_name": "LayoutModel",
            "justify_items": null,
            "grid_row": null,
            "max_height": null,
            "align_content": null,
            "visibility": null,
            "align_self": null,
            "height": null,
            "min_height": null,
            "padding": null,
            "grid_auto_rows": null,
            "grid_gap": null,
            "max_width": null,
            "order": null,
            "_view_module_version": "1.2.0",
            "grid_template_areas": null,
            "object_position": null,
            "object_fit": null,
            "grid_auto_columns": null,
            "margin": null,
            "display": null,
            "left": null
          }
        },
        "5cca5cdb04264521b412d0e07730a2b6": {
          "model_module": "@jupyter-widgets/controls",
          "model_name": "HBoxModel",
          "state": {
            "_view_name": "HBoxView",
            "_dom_classes": [],
            "_model_name": "HBoxModel",
            "_view_module": "@jupyter-widgets/controls",
            "_model_module_version": "1.5.0",
            "_view_count": null,
            "_view_module_version": "1.5.0",
            "box_style": "",
            "layout": "IPY_MODEL_dc43df136f3a4f849630093862e8ece1",
            "_model_module": "@jupyter-widgets/controls",
            "children": [
              "IPY_MODEL_9d7a2a3a792445fcb204114626bf4c4d",
              "IPY_MODEL_eeda273aa4a74c2dbdc996feb4679f18"
            ]
          }
        },
        "dc43df136f3a4f849630093862e8ece1": {
          "model_module": "@jupyter-widgets/base",
          "model_name": "LayoutModel",
          "state": {
            "_view_name": "LayoutView",
            "grid_template_rows": null,
            "right": null,
            "justify_content": null,
            "_view_module": "@jupyter-widgets/base",
            "overflow": null,
            "_model_module_version": "1.2.0",
            "_view_count": null,
            "flex_flow": null,
            "width": null,
            "min_width": null,
            "border": null,
            "align_items": null,
            "bottom": null,
            "_model_module": "@jupyter-widgets/base",
            "top": null,
            "grid_column": null,
            "overflow_y": null,
            "overflow_x": null,
            "grid_auto_flow": null,
            "grid_area": null,
            "grid_template_columns": null,
            "flex": null,
            "_model_name": "LayoutModel",
            "justify_items": null,
            "grid_row": null,
            "max_height": null,
            "align_content": null,
            "visibility": null,
            "align_self": null,
            "height": null,
            "min_height": null,
            "padding": null,
            "grid_auto_rows": null,
            "grid_gap": null,
            "max_width": null,
            "order": null,
            "_view_module_version": "1.2.0",
            "grid_template_areas": null,
            "object_position": null,
            "object_fit": null,
            "grid_auto_columns": null,
            "margin": null,
            "display": null,
            "left": null
          }
        },
        "9d7a2a3a792445fcb204114626bf4c4d": {
          "model_module": "@jupyter-widgets/controls",
          "model_name": "FloatProgressModel",
          "state": {
            "_view_name": "ProgressView",
            "style": "IPY_MODEL_c8056357c634427e9fa85ae5efadb00c",
            "_dom_classes": [],
            "description": "Downloading: 100%",
            "_model_name": "FloatProgressModel",
            "bar_style": "success",
            "max": 242065649,
            "_view_module": "@jupyter-widgets/controls",
            "_model_module_version": "1.5.0",
            "value": 242065649,
            "_view_count": null,
            "_view_module_version": "1.5.0",
            "orientation": "horizontal",
            "min": 0,
            "description_tooltip": null,
            "_model_module": "@jupyter-widgets/controls",
            "layout": "IPY_MODEL_5ad1252ae91349958b4cdac8334ce9bb"
          }
        },
        "eeda273aa4a74c2dbdc996feb4679f18": {
          "model_module": "@jupyter-widgets/controls",
          "model_name": "HTMLModel",
          "state": {
            "_view_name": "HTMLView",
            "style": "IPY_MODEL_a19dcabd8b7142e7bea572e9db0a9f1e",
            "_dom_classes": [],
            "description": "",
            "_model_name": "HTMLModel",
            "placeholder": "​",
            "_view_module": "@jupyter-widgets/controls",
            "_model_module_version": "1.5.0",
            "value": " 242M/242M [00:06&lt;00:00, 39.5MB/s]",
            "_view_count": null,
            "_view_module_version": "1.5.0",
            "description_tooltip": null,
            "_model_module": "@jupyter-widgets/controls",
            "layout": "IPY_MODEL_ba5639cd66064045a868976c5c1d8e1e"
          }
        },
        "c8056357c634427e9fa85ae5efadb00c": {
          "model_module": "@jupyter-widgets/controls",
          "model_name": "ProgressStyleModel",
          "state": {
            "_view_name": "StyleView",
            "_model_name": "ProgressStyleModel",
            "description_width": "initial",
            "_view_module": "@jupyter-widgets/base",
            "_model_module_version": "1.5.0",
            "_view_count": null,
            "_view_module_version": "1.2.0",
            "bar_color": null,
            "_model_module": "@jupyter-widgets/controls"
          }
        },
        "5ad1252ae91349958b4cdac8334ce9bb": {
          "model_module": "@jupyter-widgets/base",
          "model_name": "LayoutModel",
          "state": {
            "_view_name": "LayoutView",
            "grid_template_rows": null,
            "right": null,
            "justify_content": null,
            "_view_module": "@jupyter-widgets/base",
            "overflow": null,
            "_model_module_version": "1.2.0",
            "_view_count": null,
            "flex_flow": null,
            "width": null,
            "min_width": null,
            "border": null,
            "align_items": null,
            "bottom": null,
            "_model_module": "@jupyter-widgets/base",
            "top": null,
            "grid_column": null,
            "overflow_y": null,
            "overflow_x": null,
            "grid_auto_flow": null,
            "grid_area": null,
            "grid_template_columns": null,
            "flex": null,
            "_model_name": "LayoutModel",
            "justify_items": null,
            "grid_row": null,
            "max_height": null,
            "align_content": null,
            "visibility": null,
            "align_self": null,
            "height": null,
            "min_height": null,
            "padding": null,
            "grid_auto_rows": null,
            "grid_gap": null,
            "max_width": null,
            "order": null,
            "_view_module_version": "1.2.0",
            "grid_template_areas": null,
            "object_position": null,
            "object_fit": null,
            "grid_auto_columns": null,
            "margin": null,
            "display": null,
            "left": null
          }
        },
        "a19dcabd8b7142e7bea572e9db0a9f1e": {
          "model_module": "@jupyter-widgets/controls",
          "model_name": "DescriptionStyleModel",
          "state": {
            "_view_name": "StyleView",
            "_model_name": "DescriptionStyleModel",
            "description_width": "",
            "_view_module": "@jupyter-widgets/base",
            "_model_module_version": "1.5.0",
            "_view_count": null,
            "_view_module_version": "1.2.0",
            "_model_module": "@jupyter-widgets/controls"
          }
        },
        "ba5639cd66064045a868976c5c1d8e1e": {
          "model_module": "@jupyter-widgets/base",
          "model_name": "LayoutModel",
          "state": {
            "_view_name": "LayoutView",
            "grid_template_rows": null,
            "right": null,
            "justify_content": null,
            "_view_module": "@jupyter-widgets/base",
            "overflow": null,
            "_model_module_version": "1.2.0",
            "_view_count": null,
            "flex_flow": null,
            "width": null,
            "min_width": null,
            "border": null,
            "align_items": null,
            "bottom": null,
            "_model_module": "@jupyter-widgets/base",
            "top": null,
            "grid_column": null,
            "overflow_y": null,
            "overflow_x": null,
            "grid_auto_flow": null,
            "grid_area": null,
            "grid_template_columns": null,
            "flex": null,
            "_model_name": "LayoutModel",
            "justify_items": null,
            "grid_row": null,
            "max_height": null,
            "align_content": null,
            "visibility": null,
            "align_self": null,
            "height": null,
            "min_height": null,
            "padding": null,
            "grid_auto_rows": null,
            "grid_gap": null,
            "max_width": null,
            "order": null,
            "_view_module_version": "1.2.0",
            "grid_template_areas": null,
            "object_position": null,
            "object_fit": null,
            "grid_auto_columns": null,
            "margin": null,
            "display": null,
            "left": null
          }
        },
        "de31cccaeb3a4d12b25a31ba19390759": {
          "model_module": "@jupyter-widgets/controls",
          "model_name": "HBoxModel",
          "state": {
            "_view_name": "HBoxView",
            "_dom_classes": [],
            "_model_name": "HBoxModel",
            "_view_module": "@jupyter-widgets/controls",
            "_model_module_version": "1.5.0",
            "_view_count": null,
            "_view_module_version": "1.5.0",
            "box_style": "",
            "layout": "IPY_MODEL_4b82601a62ff49b09c764f12d7e8b1c0",
            "_model_module": "@jupyter-widgets/controls",
            "children": [
              "IPY_MODEL_8709745770de4784a014b30cf8383447",
              "IPY_MODEL_692c3f1bb8064c2c87582cd38751e148"
            ]
          }
        },
        "4b82601a62ff49b09c764f12d7e8b1c0": {
          "model_module": "@jupyter-widgets/base",
          "model_name": "LayoutModel",
          "state": {
            "_view_name": "LayoutView",
            "grid_template_rows": null,
            "right": null,
            "justify_content": null,
            "_view_module": "@jupyter-widgets/base",
            "overflow": null,
            "_model_module_version": "1.2.0",
            "_view_count": null,
            "flex_flow": null,
            "width": null,
            "min_width": null,
            "border": null,
            "align_items": null,
            "bottom": null,
            "_model_module": "@jupyter-widgets/base",
            "top": null,
            "grid_column": null,
            "overflow_y": null,
            "overflow_x": null,
            "grid_auto_flow": null,
            "grid_area": null,
            "grid_template_columns": null,
            "flex": null,
            "_model_name": "LayoutModel",
            "justify_items": null,
            "grid_row": null,
            "max_height": null,
            "align_content": null,
            "visibility": null,
            "align_self": null,
            "height": null,
            "min_height": null,
            "padding": null,
            "grid_auto_rows": null,
            "grid_gap": null,
            "max_width": null,
            "order": null,
            "_view_module_version": "1.2.0",
            "grid_template_areas": null,
            "object_position": null,
            "object_fit": null,
            "grid_auto_columns": null,
            "margin": null,
            "display": null,
            "left": null
          }
        },
        "8709745770de4784a014b30cf8383447": {
          "model_module": "@jupyter-widgets/controls",
          "model_name": "FloatProgressModel",
          "state": {
            "_view_name": "ProgressView",
            "style": "IPY_MODEL_7fda236858cb49ea99314e32538f6d9c",
            "_dom_classes": [],
            "description": "Downloading: 100%",
            "_model_name": "FloatProgressModel",
            "bar_style": "success",
            "max": 791656,
            "_view_module": "@jupyter-widgets/controls",
            "_model_module_version": "1.5.0",
            "value": 791656,
            "_view_count": null,
            "_view_module_version": "1.5.0",
            "orientation": "horizontal",
            "min": 0,
            "description_tooltip": null,
            "_model_module": "@jupyter-widgets/controls",
            "layout": "IPY_MODEL_72c403aa719b4f4a8d2e8e95c82b2ce8"
          }
        },
        "692c3f1bb8064c2c87582cd38751e148": {
          "model_module": "@jupyter-widgets/controls",
          "model_name": "HTMLModel",
          "state": {
            "_view_name": "HTMLView",
            "style": "IPY_MODEL_5bcd36f5f5644a61a48c364b197ea9b0",
            "_dom_classes": [],
            "description": "",
            "_model_name": "HTMLModel",
            "placeholder": "​",
            "_view_module": "@jupyter-widgets/controls",
            "_model_module_version": "1.5.0",
            "value": " 792k/792k [00:04&lt;00:00, 187kB/s]",
            "_view_count": null,
            "_view_module_version": "1.5.0",
            "description_tooltip": null,
            "_model_module": "@jupyter-widgets/controls",
            "layout": "IPY_MODEL_adeb00698c7e449fbb4510840f74bc39"
          }
        },
        "7fda236858cb49ea99314e32538f6d9c": {
          "model_module": "@jupyter-widgets/controls",
          "model_name": "ProgressStyleModel",
          "state": {
            "_view_name": "StyleView",
            "_model_name": "ProgressStyleModel",
            "description_width": "initial",
            "_view_module": "@jupyter-widgets/base",
            "_model_module_version": "1.5.0",
            "_view_count": null,
            "_view_module_version": "1.2.0",
            "bar_color": null,
            "_model_module": "@jupyter-widgets/controls"
          }
        },
        "72c403aa719b4f4a8d2e8e95c82b2ce8": {
          "model_module": "@jupyter-widgets/base",
          "model_name": "LayoutModel",
          "state": {
            "_view_name": "LayoutView",
            "grid_template_rows": null,
            "right": null,
            "justify_content": null,
            "_view_module": "@jupyter-widgets/base",
            "overflow": null,
            "_model_module_version": "1.2.0",
            "_view_count": null,
            "flex_flow": null,
            "width": null,
            "min_width": null,
            "border": null,
            "align_items": null,
            "bottom": null,
            "_model_module": "@jupyter-widgets/base",
            "top": null,
            "grid_column": null,
            "overflow_y": null,
            "overflow_x": null,
            "grid_auto_flow": null,
            "grid_area": null,
            "grid_template_columns": null,
            "flex": null,
            "_model_name": "LayoutModel",
            "justify_items": null,
            "grid_row": null,
            "max_height": null,
            "align_content": null,
            "visibility": null,
            "align_self": null,
            "height": null,
            "min_height": null,
            "padding": null,
            "grid_auto_rows": null,
            "grid_gap": null,
            "max_width": null,
            "order": null,
            "_view_module_version": "1.2.0",
            "grid_template_areas": null,
            "object_position": null,
            "object_fit": null,
            "grid_auto_columns": null,
            "margin": null,
            "display": null,
            "left": null
          }
        },
        "5bcd36f5f5644a61a48c364b197ea9b0": {
          "model_module": "@jupyter-widgets/controls",
          "model_name": "DescriptionStyleModel",
          "state": {
            "_view_name": "StyleView",
            "_model_name": "DescriptionStyleModel",
            "description_width": "",
            "_view_module": "@jupyter-widgets/base",
            "_model_module_version": "1.5.0",
            "_view_count": null,
            "_view_module_version": "1.2.0",
            "_model_module": "@jupyter-widgets/controls"
          }
        },
        "adeb00698c7e449fbb4510840f74bc39": {
          "model_module": "@jupyter-widgets/base",
          "model_name": "LayoutModel",
          "state": {
            "_view_name": "LayoutView",
            "grid_template_rows": null,
            "right": null,
            "justify_content": null,
            "_view_module": "@jupyter-widgets/base",
            "overflow": null,
            "_model_module_version": "1.2.0",
            "_view_count": null,
            "flex_flow": null,
            "width": null,
            "min_width": null,
            "border": null,
            "align_items": null,
            "bottom": null,
            "_model_module": "@jupyter-widgets/base",
            "top": null,
            "grid_column": null,
            "overflow_y": null,
            "overflow_x": null,
            "grid_auto_flow": null,
            "grid_area": null,
            "grid_template_columns": null,
            "flex": null,
            "_model_name": "LayoutModel",
            "justify_items": null,
            "grid_row": null,
            "max_height": null,
            "align_content": null,
            "visibility": null,
            "align_self": null,
            "height": null,
            "min_height": null,
            "padding": null,
            "grid_auto_rows": null,
            "grid_gap": null,
            "max_width": null,
            "order": null,
            "_view_module_version": "1.2.0",
            "grid_template_areas": null,
            "object_position": null,
            "object_fit": null,
            "grid_auto_columns": null,
            "margin": null,
            "display": null,
            "left": null
          }
        },
        "38fa4a3ebd204c18aa9f3b3edb4abe32": {
          "model_module": "@jupyter-widgets/controls",
          "model_name": "HBoxModel",
          "state": {
            "_view_name": "HBoxView",
            "_dom_classes": [],
            "_model_name": "HBoxModel",
            "_view_module": "@jupyter-widgets/controls",
            "_model_module_version": "1.5.0",
            "_view_count": null,
            "_view_module_version": "1.5.0",
            "box_style": "",
            "layout": "IPY_MODEL_986d5ac152154f888a2fd364e51a244f",
            "_model_module": "@jupyter-widgets/controls",
            "children": [
              "IPY_MODEL_dfb823d4723a4e80a77374bf72413ed6",
              "IPY_MODEL_c34bcd6bce3341589011f89798a481a8"
            ]
          }
        },
        "986d5ac152154f888a2fd364e51a244f": {
          "model_module": "@jupyter-widgets/base",
          "model_name": "LayoutModel",
          "state": {
            "_view_name": "LayoutView",
            "grid_template_rows": null,
            "right": null,
            "justify_content": null,
            "_view_module": "@jupyter-widgets/base",
            "overflow": null,
            "_model_module_version": "1.2.0",
            "_view_count": null,
            "flex_flow": null,
            "width": null,
            "min_width": null,
            "border": null,
            "align_items": null,
            "bottom": null,
            "_model_module": "@jupyter-widgets/base",
            "top": null,
            "grid_column": null,
            "overflow_y": null,
            "overflow_x": null,
            "grid_auto_flow": null,
            "grid_area": null,
            "grid_template_columns": null,
            "flex": null,
            "_model_name": "LayoutModel",
            "justify_items": null,
            "grid_row": null,
            "max_height": null,
            "align_content": null,
            "visibility": null,
            "align_self": null,
            "height": null,
            "min_height": null,
            "padding": null,
            "grid_auto_rows": null,
            "grid_gap": null,
            "max_width": null,
            "order": null,
            "_view_module_version": "1.2.0",
            "grid_template_areas": null,
            "object_position": null,
            "object_fit": null,
            "grid_auto_columns": null,
            "margin": null,
            "display": null,
            "left": null
          }
        },
        "dfb823d4723a4e80a77374bf72413ed6": {
          "model_module": "@jupyter-widgets/controls",
          "model_name": "FloatProgressModel",
          "state": {
            "_view_name": "ProgressView",
            "style": "IPY_MODEL_a68c94da4b184667be4a1af87e9e35ab",
            "_dom_classes": [],
            "description": "Downloading: 100%",
            "_model_name": "FloatProgressModel",
            "bar_style": "success",
            "max": 1389353,
            "_view_module": "@jupyter-widgets/controls",
            "_model_module_version": "1.5.0",
            "value": 1389353,
            "_view_count": null,
            "_view_module_version": "1.5.0",
            "orientation": "horizontal",
            "min": 0,
            "description_tooltip": null,
            "_model_module": "@jupyter-widgets/controls",
            "layout": "IPY_MODEL_fca3d33844d0441d828fcb0625f718f2"
          }
        },
        "c34bcd6bce3341589011f89798a481a8": {
          "model_module": "@jupyter-widgets/controls",
          "model_name": "HTMLModel",
          "state": {
            "_view_name": "HTMLView",
            "style": "IPY_MODEL_b0e57bc96f1f497cb68b6008bdea2590",
            "_dom_classes": [],
            "description": "",
            "_model_name": "HTMLModel",
            "placeholder": "​",
            "_view_module": "@jupyter-widgets/controls",
            "_model_module_version": "1.5.0",
            "value": " 1.39M/1.39M [00:03&lt;00:00, 363kB/s]",
            "_view_count": null,
            "_view_module_version": "1.5.0",
            "description_tooltip": null,
            "_model_module": "@jupyter-widgets/controls",
            "layout": "IPY_MODEL_83cd23bb28174f7ba1c82c25a446c60f"
          }
        },
        "a68c94da4b184667be4a1af87e9e35ab": {
          "model_module": "@jupyter-widgets/controls",
          "model_name": "ProgressStyleModel",
          "state": {
            "_view_name": "StyleView",
            "_model_name": "ProgressStyleModel",
            "description_width": "initial",
            "_view_module": "@jupyter-widgets/base",
            "_model_module_version": "1.5.0",
            "_view_count": null,
            "_view_module_version": "1.2.0",
            "bar_color": null,
            "_model_module": "@jupyter-widgets/controls"
          }
        },
        "fca3d33844d0441d828fcb0625f718f2": {
          "model_module": "@jupyter-widgets/base",
          "model_name": "LayoutModel",
          "state": {
            "_view_name": "LayoutView",
            "grid_template_rows": null,
            "right": null,
            "justify_content": null,
            "_view_module": "@jupyter-widgets/base",
            "overflow": null,
            "_model_module_version": "1.2.0",
            "_view_count": null,
            "flex_flow": null,
            "width": null,
            "min_width": null,
            "border": null,
            "align_items": null,
            "bottom": null,
            "_model_module": "@jupyter-widgets/base",
            "top": null,
            "grid_column": null,
            "overflow_y": null,
            "overflow_x": null,
            "grid_auto_flow": null,
            "grid_area": null,
            "grid_template_columns": null,
            "flex": null,
            "_model_name": "LayoutModel",
            "justify_items": null,
            "grid_row": null,
            "max_height": null,
            "align_content": null,
            "visibility": null,
            "align_self": null,
            "height": null,
            "min_height": null,
            "padding": null,
            "grid_auto_rows": null,
            "grid_gap": null,
            "max_width": null,
            "order": null,
            "_view_module_version": "1.2.0",
            "grid_template_areas": null,
            "object_position": null,
            "object_fit": null,
            "grid_auto_columns": null,
            "margin": null,
            "display": null,
            "left": null
          }
        },
        "b0e57bc96f1f497cb68b6008bdea2590": {
          "model_module": "@jupyter-widgets/controls",
          "model_name": "DescriptionStyleModel",
          "state": {
            "_view_name": "StyleView",
            "_model_name": "DescriptionStyleModel",
            "description_width": "",
            "_view_module": "@jupyter-widgets/base",
            "_model_module_version": "1.5.0",
            "_view_count": null,
            "_view_module_version": "1.2.0",
            "_model_module": "@jupyter-widgets/controls"
          }
        },
        "83cd23bb28174f7ba1c82c25a446c60f": {
          "model_module": "@jupyter-widgets/base",
          "model_name": "LayoutModel",
          "state": {
            "_view_name": "LayoutView",
            "grid_template_rows": null,
            "right": null,
            "justify_content": null,
            "_view_module": "@jupyter-widgets/base",
            "overflow": null,
            "_model_module_version": "1.2.0",
            "_view_count": null,
            "flex_flow": null,
            "width": null,
            "min_width": null,
            "border": null,
            "align_items": null,
            "bottom": null,
            "_model_module": "@jupyter-widgets/base",
            "top": null,
            "grid_column": null,
            "overflow_y": null,
            "overflow_x": null,
            "grid_auto_flow": null,
            "grid_area": null,
            "grid_template_columns": null,
            "flex": null,
            "_model_name": "LayoutModel",
            "justify_items": null,
            "grid_row": null,
            "max_height": null,
            "align_content": null,
            "visibility": null,
            "align_self": null,
            "height": null,
            "min_height": null,
            "padding": null,
            "grid_auto_rows": null,
            "grid_gap": null,
            "max_width": null,
            "order": null,
            "_view_module_version": "1.2.0",
            "grid_template_areas": null,
            "object_position": null,
            "object_fit": null,
            "grid_auto_columns": null,
            "margin": null,
            "display": null,
            "left": null
          }
        }
      }
    }
  },
  "cells": [
    {
      "cell_type": "markdown",
      "metadata": {
        "id": "view-in-github",
        "colab_type": "text"
      },
      "source": [
        "<a href=\"https://colab.research.google.com/github/katrina906/CS6120-Summarization-Project/blob/main/abstractive_summarization.ipynb\" target=\"_parent\"><img src=\"https://colab.research.google.com/assets/colab-badge.svg\" alt=\"Open In Colab\"/></a>"
      ]
    },
    {
      "cell_type": "code",
      "metadata": {
        "id": "0ZtHLhQR1KVp"
      },
      "source": [
        "# TODO look for examples where:\n",
        "  # info that isn't in actual article. try iloc 6 about Jack Johnson\n",
        "  # repetivtive info\n",
        "# TODO compare best t5 and longformtransformer model outputs qualitatively \n",
        "  # instances of longform including info that isn't in t5 because of truncation -- look at particularly long texts"
      ],
      "execution_count": null,
      "outputs": []
    },
    {
      "cell_type": "markdown",
      "metadata": {
        "id": "sJOk3UcsdMtK"
      },
      "source": [
        "# Abstractive Summarization using Encoder-Decoder T5 Model \n",
        "__T5__ (Text-to-Text Transfer Transformer Model)\n",
        "- Pretrained encoder-decoder. Bidiectional, multi-head self-attention layers, masking for training.\n",
        "- Very similar to BERT with some new advances in training and the decoder.\n",
        "- Fine-tuned for specific tasks such as language translation and summarization \n",
        "- Trained on the C4 dataset: Colossal Clean Crawled Corpus. 750GB of scraped webpage data \n",
        "  - Unrealistic to train own model because of the large amount of data and iterations used to train these popular pre-trained models that are able to generate English well. \n",
        "- Teacher forcing in training: minimize cross-entropy loss of predicting next word\n",
        "- Potential extension is to do custom fine-tuning training on specific corpus. Not necessary for articles because use fairly typical English construction, grammar etc.\n",
        "  - Might be necessary on BCG corpus because powerpoint English is somewhat different from regular English sentences. \n",
        "           \n",
        "                  \n",
        "Paper from Google: https://arxiv.org/abs/1910.10683\n",
        "              \n",
        "__Pros__ over extractive summarization:\n",
        "- Generates new text, not just repeating what is in the article. Makes summary more engaging to read and may combine ideas better to make the summaries more to the point. \n",
        "- Can use input text without having to make text cleaning decisions. Can consider more features like punctuation and capitalization \n",
        "\n",
        "__Cons__ over extractive summarization:\n",
        "- Decoding is more computationally intensive.\n",
        "- Sometimes generate <UNK> character\n",
        "- Cannot guarentee it will generate full sentences. Cuts off mid-sentence if did not generate an end of sequence character before reaching the specified max length.\n",
        "- Encoding can only take the first 1,017 tokens of the text largely because of self-attention layer: requires n^2 calculations for n tokens because consider entire sequence for attention. If topics appear later in the article for the first time, they will be completely missed and not included in the summary\n",
        "  - Only 15% of articles have more than 1,017 tokens. And not much over - max is 1,819 tokens. Mean is 653 tokens. \n",
        "  - In general, news articles tend to include highlights of the most important information in the first few sentences followed by details, so this should not impact performance as drastically as in other contexts.\n",
        "  - BCG material follows the pyramid principle where you summarize the key points first, so similar structure to news articles. \n",
        "\n",
        "__Potential extensions__:\n",
        "- Parallelize decoding to allow for better run time\n",
        "- Grid search through parameters such as length penalty, number of beams, number of ngrams to not repeat\n",
        "- Longformer Encoder-Decoder uses an encoder model that can handle up to 16,000 tokens by limiting self-attention to a window rather than the entire text (higher layers use a larger window size to combine the local features learned at lower layers). Paper: https://arxiv.org/abs/2004.05150\n",
        "  - However, most of our articles do not suffer from this issue\n",
        "  - Much longer training time due to larger encodings"
      ]
    },
    {
      "cell_type": "code",
      "metadata": {
        "id": "2tAE9O6TxI2P"
      },
      "source": [
        "# Resources: \n",
        "# https://www.thepythoncode.com/article/text-summarization-using-huggingface-transformers-python\n",
        "# https://huggingface.co/blog/how-to-generate"
      ],
      "execution_count": 1,
      "outputs": []
    },
    {
      "cell_type": "code",
      "metadata": {
        "id": "NLle4ULPBkUF"
      },
      "source": [
        "#model = EncoderDecoderModel.from_pretrained(\"patrickvonplaten/longformer2roberta-cnn_dailymail-fp16\")\n",
        "#tokenizer = LongformerTokenizer.from_pretrained(\"allenai/longformer-base-4096\") \n",
        "# https://huggingface.co/patrickvonplaten/longformer2roberta-cnn_dailymail-fp16\n",
        "# longformer encoder + robert decoder \n",
        "# fine tuned on this exact dataset - does seem to do better than t5 for this reason (even on articles below truncation limit), but worry that overfitting? don't know what they trained on exactly"
      ],
      "execution_count": null,
      "outputs": []
    },
    {
      "cell_type": "code",
      "metadata": {
        "id": "zAOZbr_ZKrFG"
      },
      "source": [
        "%%capture\n",
        "!pip install transformers\n",
        "!pip install import-ipynb\n",
        "!pip install sentencepiece"
      ],
      "execution_count": 1,
      "outputs": []
    },
    {
      "cell_type": "code",
      "metadata": {
        "id": "y8bU5xLtH6zu"
      },
      "source": [
        "from transformers import pipeline\n",
        "from transformers import T5ForConditionalGeneration, T5Tokenizer, EncoderDecoderModel, LongformerTokenizer\n",
        "import pandas as pd\n",
        "import torch\n",
        "import import_ipynb\n",
        "import numpy as np\n",
        "import tensorflow as tf"
      ],
      "execution_count": 2,
      "outputs": []
    },
    {
      "cell_type": "code",
      "metadata": {
        "colab": {
          "base_uri": "https://localhost:8080/"
        },
        "id": "a3ra--fQLrI0",
        "outputId": "fb473a2d-524d-4693-d004-fc7735a3de4d"
      },
      "source": [
        "from google.colab import drive\n",
        "drive.mount('/content/drive')"
      ],
      "execution_count": 3,
      "outputs": [
        {
          "output_type": "stream",
          "text": [
            "Mounted at /content/drive\n"
          ],
          "name": "stdout"
        }
      ]
    },
    {
      "cell_type": "code",
      "metadata": {
        "colab": {
          "base_uri": "https://localhost:8080/"
        },
        "id": "bubbIbqiVTTJ",
        "outputId": "8c6c8092-5e61-4f37-9e66-6fb9f3d5cbe9"
      },
      "source": [
        "# load in functions from extract_summarization notebook\n",
        "%cd \"drive/MyDrive/Colab Notebooks\"\n",
        "from extractive_summarization import *\n",
        "%cd .."
      ],
      "execution_count": 4,
      "outputs": [
        {
          "output_type": "stream",
          "text": [
            "/content/drive/MyDrive/Colab Notebooks\n",
            "importing Jupyter notebook from extractive_summarization.ipynb\n",
            "/content/drive/My Drive\n"
          ],
          "name": "stdout"
        }
      ]
    },
    {
      "cell_type": "code",
      "metadata": {
        "id": "_-uk4KYmC6E9"
      },
      "source": [
        "def load_model():\n",
        "  # initialize the model architecture and weights\n",
        "  model = T5ForConditionalGeneration.from_pretrained(\"t5-small\")\n",
        "  # initialize the model tokenizer\n",
        "  tokenizer = T5Tokenizer.from_pretrained(\"t5-small\")\n",
        "\n",
        "  return model, tokenizer"
      ],
      "execution_count": 21,
      "outputs": []
    },
    {
      "cell_type": "markdown",
      "metadata": {
        "id": "-nJHsnI1bGve"
      },
      "source": [
        "## Encode text for inference\n",
        "- Encode words into numerical vectors using model's tokenizer\n",
        "- Will automatically convert unknown words into <unk> \n",
        "- Use un-processed original sentences because model takes into account features like capitalization and punctuation. Also, features like stopwords are important for generating grammatically correct sentences. "
      ]
    },
    {
      "cell_type": "code",
      "metadata": {
        "id": "jPmoxHQCbCux"
      },
      "source": [
        "def encode_input(df, tokenizer):\n",
        "  df['encoded'] = df.sentences.map(lambda row: tokenizer.encode(\"summarize: \" + ' '.join(row), return_tensors=\"pt\", max_length=1017, truncation=True))\n",
        "  return df"
      ],
      "execution_count": 7,
      "outputs": []
    },
    {
      "cell_type": "markdown",
      "metadata": {
        "id": "S6sorPtQZHty"
      },
      "source": [
        "## Decoding Methods\n",
        "- Greedy: select word with highest probability given all prior context: P(w | w<sub>1:t-1</sub>)\n",
        "  - Con: misses high probability words that occur after a lower probability word because never explore the path \n",
        "- Beam Search: considers probability of sequences num_beams long. \n",
        "  - Con: higher computation time \n",
        "- Sampling methods (_not using_): used to introduce randomness to the text and make it sound more human-like, especially in contexts like story generation. However, in this case, we do not want randomness but rather want the summaries to closely follow the content in the article. \n",
        "  - Ex: article about a man attacked by a tiger says that he was conscious and talking in the ambulance. Sampling decoding creates a sentence that claims he was \"conscious and talking\" with the animal\n",
        "\n",
        "## Length of Predicted Summary\n",
        "- Max length:\n",
        "  - Cannot set based on number of sentences; number of words only\n",
        "  - Heuristic: average 20 text words per summary word\n",
        "  - Two configs:\n",
        "    - If strict, cannot go over heuristic. \n",
        "    - If more lenient, can go over by 1 unit of the heuristic (20 words)\n",
        "- Min length: want to generate summary right around the heuristic; do not want to generate a shorter summary because want enough information for content curator to use. Thus allow to go under by 1 unit of the heuristic if the model predicts an end of sequence token. \n",
        "\n",
        "## Other Parameters\n",
        "- No repeat ngram = 4: these methods tend to generate repetitive sequences of words. This parameters disallows ngrams to repeat if they are of length 4. \n",
        "  - Bigrams and trigrams can repeat so entity names that are central to the article can appear multiple times. But do not allow entire phrases to repeat. \n",
        "  - Ex: without parameter get sequences like \"the heat index will make it feel like 113. the heat index will make it feel like 113\""
      ]
    },
    {
      "cell_type": "code",
      "metadata": {
        "id": "XbZ4NqiHYXjn"
      },
      "source": [
        "def decode(df, model, tokenizer, config):\n",
        "\n",
        "  df['max_words'] = df.sentences.map(lambda row: int(np.floor(len(''.join(row).split(' ')) / 20))) # average 20 text words per summary word\n",
        "  if 'max_words_plus' in config:\n",
        "    df.max_words = df.max_words + 20\n",
        "\n",
        "  if 'greedy' in config:\n",
        "    df['outputs'] = df.apply(lambda row: model.generate( \n",
        "                                         row.encoded, \n",
        "                                         max_length=row.max_words, \n",
        "                                         min_length=max(0, row.max_words - 20),\n",
        "                                         no_repeat_ngram_size = 4), \n",
        "                             axis = 1) \n",
        "  if 'beam' in config:\n",
        "    df['outputs'] = df.apply(lambda row: model.generate( \n",
        "                                         row.encoded, \n",
        "                                         max_length=row.max_words, \n",
        "                                         min_length=max(0, row.max_words - 20),\n",
        "                                         num_beams = 5,\n",
        "                                         no_repeat_ngram_size = 4,\n",
        "                                         early_stopping = True),\n",
        "                             axis = 1) \n",
        "    \n",
        "  # decode predicted summary of numbers back into text\n",
        "  df['predicted_summary'] = df.outputs.map(lambda row: tokenizer.decode(row[0], skip_special_tokens = True))\n",
        "\n",
        "  return df"
      ],
      "execution_count": 8,
      "outputs": []
    },
    {
      "cell_type": "code",
      "metadata": {
        "id": "rgxa8oVqij1G"
      },
      "source": [
        "def train_config_loop_extractive(df, model, tokenizer, config_list, eval_only = True, continue_iterations = False,\n",
        "                                 filename = '', split_fraction = None, split_fraction_continue = False):\n",
        "\n",
        "  if continue_iterations:\n",
        "    with open('/content/drive/MyDrive/data/' + filename + '.pkl', 'rb') as f:\n",
        "      results_so_far = pickle.load(f) \n",
        "      eval_results = results_so_far[1]\n",
        "      model_results = results_so_far[2]\n",
        "      config_list = config_list[config_list.index(results_so_far[0])+1:] # continue from last config\n",
        "  else:\n",
        "    eval_results = {}\n",
        "    model_results = {}\n",
        "\n",
        "  for config in config_list:\n",
        "    print(config)\n",
        "    # allow decoding in chunks of dataframe at at time. Too slow and session crashes before finish\n",
        "    if split_fraction != None:\n",
        "      increment = int(np.ceil(len(df) / split_fraction))\n",
        "      # allow resuming from partial decode of dataframe \n",
        "      if (split_fraction_continue == True) and (os.path.exists('/content/drive/MyDrive/data/' + 'abstractive_best_model_' + str(config) + '.pkl')) :\n",
        "        with open('/content/drive/MyDrive/data/' + 'abstractive_best_model_' + str(config) + '.pkl', 'rb') as f:\n",
        "          decode_so_far = pickle.load(f) \n",
        "          start_index = decode_so_far[1] \n",
        "          end_index = start_index + increment\n",
        "          df_decoded = decode_so_far[0]\n",
        "      else:\n",
        "        start_index = 0\n",
        "        end_index = increment\n",
        "        df_decoded = pd.DataFrame()\n",
        "\n",
        "      # decode in chunks size len(df) / split_fraction at a time \n",
        "      while start_index < len(df):\n",
        "        if end_index > len(df):\n",
        "          end_index = len(df)\n",
        "        df_partial = decode(df.iloc[start_index:end_index], model, tokenizer, config)\n",
        "        df_decoded = pd.concat([df_decoded, df_partial], sort = False)\n",
        "        # save after every increment\n",
        "        with open('/content/drive/MyDrive/data/' + 'abstractive_best_model_' + str(config) + '.pkl', 'wb') as f:\n",
        "          pickle.dump([df_decoded, end_index], f)\n",
        "          print('saving!', end_index)\n",
        "        # next increment \n",
        "        start_index += increment\n",
        "        end_index += increment\n",
        "    # if training configs on small samples to find best, can run all at once\n",
        "    else:\n",
        "      df_decoded = decode(df, model, tokenizer, config)\n",
        "    eval_dict = evaluate(df_decoded)\n",
        "    eval_results[(str(config))] = metrics_distribution(df_decoded)\n",
        "    if not eval_only:\n",
        "      model_results[str(config)] = df_decoded[['sentences', 'summary', 'rouge', 'predicted_summary']]\n",
        "\n",
        "    # save every completed config after finishes\n",
        "    if filename != '':\n",
        "      with open('/content/drive/MyDrive/data/' + filename + '.pkl', 'wb') as f:\n",
        "          pickle.dump([config, eval_results, model_results], f)\n",
        "          print('saving!')\n",
        "\n",
        "  return eval_results, model_results"
      ],
      "execution_count": 9,
      "outputs": []
    },
    {
      "cell_type": "code",
      "metadata": {
        "id": "unziysyxmWlI"
      },
      "source": [
        "CONFIGURATIONS = [['greedy', 'beam'],\n",
        "                  ['max_words_strict', 'max_words_plus'],\n",
        "                  ]    \n",
        "# cross products of all possible combinations of configurations\n",
        "model_configurations = list(itertools.product(*CONFIGURATIONS)) "
      ],
      "execution_count": 10,
      "outputs": []
    },
    {
      "cell_type": "code",
      "metadata": {
        "id": "NexaeTk_i28X"
      },
      "source": [
        "def main():\n",
        "\n",
        "  # load T5 model and tokenizer\n",
        "  model, tokenizer = load_model()\n",
        "\n",
        "  # load data and encode input\n",
        "  df = data_setup(n = 10000) \n",
        "  df = encode_input(df, tokenizer)\n",
        "\n",
        "  # train each configuration on a subset of the data and get evaluation metrics \n",
        "  eval_results, _ = train_config_loop_extractive(df.head(1000), model, tokenizer, model_configurations, eval_only = True,\n",
        "                                                 filename = 'train_config_loop_abstractive', continue_iterations = True)\n",
        "  # find best config for each evaluation metric\n",
        "  best_configs = find_best_configs(eval_results)\n",
        "\n",
        "  # train full model on best configurations for each metric\n",
        "  eval_results_dict = {} # for each eval metric, distribution of evaluation metrics \n",
        "  model_results_dict = {} # for each eval metric, data with predicted summaries\n",
        "  seen_configs = {}  # keep track of which configs we have trained so far\n",
        "  seen_metrics = []\n",
        "\n",
        "  # resume if already trained some best configs on full data \n",
        "  if os.path.exists('/content/drive/MyDrive/data/trained_model_abstractive.pkl'):\n",
        "    with open('/content/drive/MyDrive/data/trained_model_abstractive.pkl', 'rb') as f:\n",
        "      load = pickle.load(f)\n",
        "      seen_metrics = load[0]\n",
        "      eval_results_dict = load[1]\n",
        "      model_results_dict = load[2]\n",
        "      seen_configs = load[3]\n",
        "  for metric in best_configs.keys():\n",
        "    if metric in seen_metrics: # already done in prior partial run\n",
        "      continue\n",
        "    config = tuple(best_configs[metric].strip('(').strip(')').replace(\"'\", \"\").split(', '))\n",
        "    if config not in seen_configs.keys():\n",
        "      eval_results, model_results = train_config_loop_extractive(df, model, tokenizer, [config], eval_only = False,\n",
        "                                                                 split_fraction = 10, split_fraction_continue = True)\n",
        "      eval_results_dict[metric] = eval_results[str(config)][metric]\n",
        "      model_results_dict[metric] = model_results[str(config)]\n",
        "      seen_configs[config] = metric\n",
        "    # prevent duplicative retraining: use existing results if best config for prior metric\n",
        "    else: \n",
        "      eval_results_dict[metric] = eval_results_dict[seen_configs[config]]\n",
        "      model_results_dict[metric] = model_results_dict[seen_configs[config]]\n",
        "    seen_metrics.append(metric)\n",
        "\n",
        "    # save best models\n",
        "    # save every iteration overwriting\n",
        "    # if need to restart, load in dictionaries, go through best_configs.keys() but not in seen_metrics, continue adding to dictionaries\n",
        "    with open('/content/drive/MyDrive/data/trained_model_abstractive.pkl', 'wb') as f: \n",
        "        pickle.dump([seen_metrics, eval_results_dict, model_results_dict, seen_configs, best_configs], f)"
      ],
      "execution_count": 11,
      "outputs": []
    },
    {
      "cell_type": "code",
      "metadata": {
        "colab": {
          "base_uri": "https://localhost:8080/",
          "height": 927,
          "referenced_widgets": [
            "fa114ecd663f4dd4a29d8f53d6a00fa9",
            "2545947a4b504e32ad6c07e5d2cc2e29",
            "9f77256493114bf694ffb0f927f74156",
            "65d963eea5a94eb781d5ba8e08f58fa1",
            "f1f910db6c694aedb901c7f417c71b26",
            "74a1718aec3a4d0b9f3a07e6e5c597ba",
            "9b63e79dac754b549067abcb9ffd2bcf",
            "0c5100f1d95d4b55a58ef81e7588d346",
            "5cca5cdb04264521b412d0e07730a2b6",
            "dc43df136f3a4f849630093862e8ece1",
            "9d7a2a3a792445fcb204114626bf4c4d",
            "eeda273aa4a74c2dbdc996feb4679f18",
            "c8056357c634427e9fa85ae5efadb00c",
            "5ad1252ae91349958b4cdac8334ce9bb",
            "a19dcabd8b7142e7bea572e9db0a9f1e",
            "ba5639cd66064045a868976c5c1d8e1e",
            "de31cccaeb3a4d12b25a31ba19390759",
            "4b82601a62ff49b09c764f12d7e8b1c0",
            "8709745770de4784a014b30cf8383447",
            "692c3f1bb8064c2c87582cd38751e148",
            "7fda236858cb49ea99314e32538f6d9c",
            "72c403aa719b4f4a8d2e8e95c82b2ce8",
            "5bcd36f5f5644a61a48c364b197ea9b0",
            "adeb00698c7e449fbb4510840f74bc39",
            "38fa4a3ebd204c18aa9f3b3edb4abe32",
            "986d5ac152154f888a2fd364e51a244f",
            "dfb823d4723a4e80a77374bf72413ed6",
            "c34bcd6bce3341589011f89798a481a8",
            "a68c94da4b184667be4a1af87e9e35ab",
            "fca3d33844d0441d828fcb0625f718f2",
            "b0e57bc96f1f497cb68b6008bdea2590",
            "83cd23bb28174f7ba1c82c25a446c60f"
          ]
        },
        "id": "dxc7ze9Qg9--",
        "outputId": "87d781bc-64ac-46fa-f081-9eeec4645e6e"
      },
      "source": [
        "main()"
      ],
      "execution_count": null,
      "outputs": [
        {
          "output_type": "display_data",
          "data": {
            "application/vnd.jupyter.widget-view+json": {
              "model_id": "fa114ecd663f4dd4a29d8f53d6a00fa9",
              "version_minor": 0,
              "version_major": 2
            },
            "text/plain": [
              "HBox(children=(FloatProgress(value=0.0, description='Downloading', max=1197.0, style=ProgressStyle(description…"
            ]
          },
          "metadata": {
            "tags": []
          }
        },
        {
          "output_type": "stream",
          "text": [
            "\n"
          ],
          "name": "stdout"
        },
        {
          "output_type": "display_data",
          "data": {
            "application/vnd.jupyter.widget-view+json": {
              "model_id": "5cca5cdb04264521b412d0e07730a2b6",
              "version_minor": 0,
              "version_major": 2
            },
            "text/plain": [
              "HBox(children=(FloatProgress(value=0.0, description='Downloading', max=242065649.0, style=ProgressStyle(descri…"
            ]
          },
          "metadata": {
            "tags": []
          }
        },
        {
          "output_type": "stream",
          "text": [
            "\n"
          ],
          "name": "stdout"
        },
        {
          "output_type": "display_data",
          "data": {
            "application/vnd.jupyter.widget-view+json": {
              "model_id": "de31cccaeb3a4d12b25a31ba19390759",
              "version_minor": 0,
              "version_major": 2
            },
            "text/plain": [
              "HBox(children=(FloatProgress(value=0.0, description='Downloading', max=791656.0, style=ProgressStyle(descripti…"
            ]
          },
          "metadata": {
            "tags": []
          }
        },
        {
          "output_type": "stream",
          "text": [
            "\n"
          ],
          "name": "stdout"
        },
        {
          "output_type": "display_data",
          "data": {
            "application/vnd.jupyter.widget-view+json": {
              "model_id": "38fa4a3ebd204c18aa9f3b3edb4abe32",
              "version_minor": 0,
              "version_major": 2
            },
            "text/plain": [
              "HBox(children=(FloatProgress(value=0.0, description='Downloading', max=1389353.0, style=ProgressStyle(descript…"
            ]
          },
          "metadata": {
            "tags": []
          }
        },
        {
          "output_type": "stream",
          "text": [
            "\n",
            "('beam', 'max_words_plus')\n"
          ],
          "name": "stdout"
        },
        {
          "output_type": "stream",
          "text": [
            "/usr/local/lib/python3.7/dist-packages/ipykernel_launcher.py:3: SettingWithCopyWarning: \n",
            "A value is trying to be set on a copy of a slice from a DataFrame.\n",
            "Try using .loc[row_indexer,col_indexer] = value instead\n",
            "\n",
            "See the caveats in the documentation: https://pandas.pydata.org/pandas-docs/stable/user_guide/indexing.html#returning-a-view-versus-a-copy\n",
            "  This is separate from the ipykernel package so we can avoid doing imports until\n",
            "/usr/local/lib/python3.7/dist-packages/pandas/core/generic.py:5170: SettingWithCopyWarning: \n",
            "A value is trying to be set on a copy of a slice from a DataFrame.\n",
            "Try using .loc[row_indexer,col_indexer] = value instead\n",
            "\n",
            "See the caveats in the documentation: https://pandas.pydata.org/pandas-docs/stable/user_guide/indexing.html#returning-a-view-versus-a-copy\n",
            "  self[name] = value\n",
            "/usr/local/lib/python3.7/dist-packages/ipykernel_launcher.py:21: SettingWithCopyWarning: \n",
            "A value is trying to be set on a copy of a slice from a DataFrame.\n",
            "Try using .loc[row_indexer,col_indexer] = value instead\n",
            "\n",
            "See the caveats in the documentation: https://pandas.pydata.org/pandas-docs/stable/user_guide/indexing.html#returning-a-view-versus-a-copy\n",
            "/usr/local/lib/python3.7/dist-packages/ipykernel_launcher.py:24: SettingWithCopyWarning: \n",
            "A value is trying to be set on a copy of a slice from a DataFrame.\n",
            "Try using .loc[row_indexer,col_indexer] = value instead\n",
            "\n",
            "See the caveats in the documentation: https://pandas.pydata.org/pandas-docs/stable/user_guide/indexing.html#returning-a-view-versus-a-copy\n"
          ],
          "name": "stderr"
        },
        {
          "output_type": "stream",
          "text": [
            "saving! 9000\n",
            "saving! 10000\n",
            "('greedy', 'max_words_strict')\n"
          ],
          "name": "stdout"
        },
        {
          "output_type": "stream",
          "text": [
            "/usr/local/lib/python3.7/dist-packages/ipykernel_launcher.py:13: SettingWithCopyWarning: \n",
            "A value is trying to be set on a copy of a slice from a DataFrame.\n",
            "Try using .loc[row_indexer,col_indexer] = value instead\n",
            "\n",
            "See the caveats in the documentation: https://pandas.pydata.org/pandas-docs/stable/user_guide/indexing.html#returning-a-view-versus-a-copy\n",
            "  del sys.path[0]\n"
          ],
          "name": "stderr"
        },
        {
          "output_type": "stream",
          "text": [
            "saving! 1000\n",
            "saving! 2000\n",
            "saving! 3000\n",
            "saving! 4000\n"
          ],
          "name": "stdout"
        },
        {
          "output_type": "stream",
          "text": [
            "Input length of decoder_input_ids is 1, but ``max_length`` is set to 1.This can lead to unexpected behavior. You should consider increasing ``config.max_length`` or ``max_length``.\n"
          ],
          "name": "stderr"
        },
        {
          "output_type": "stream",
          "text": [
            "saving! 5000\n",
            "saving! 6000\n",
            "saving! 7000\n",
            "saving! 8000\n",
            "saving! 9000\n"
          ],
          "name": "stdout"
        }
      ]
    }
  ]
}