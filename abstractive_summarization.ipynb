{
  "nbformat": 4,
  "nbformat_minor": 0,
  "metadata": {
    "colab": {
      "name": "abstractive_summarization.ipynb",
      "provenance": [],
      "collapsed_sections": [],
      "authorship_tag": "ABX9TyPGuhY3nBzr3lOInpjg6V4K",
      "include_colab_link": true
    },
    "kernelspec": {
      "name": "python3",
      "display_name": "Python 3"
    },
    "language_info": {
      "name": "python"
    },
    "widgets": {
      "application/vnd.jupyter.widget-state+json": {
        "b40125604fb0401fb31e5812cf3b839d": {
          "model_module": "@jupyter-widgets/controls",
          "model_name": "HBoxModel",
          "state": {
            "_view_name": "HBoxView",
            "_dom_classes": [],
            "_model_name": "HBoxModel",
            "_view_module": "@jupyter-widgets/controls",
            "_model_module_version": "1.5.0",
            "_view_count": null,
            "_view_module_version": "1.5.0",
            "box_style": "",
            "layout": "IPY_MODEL_40c13b6f8fde49338a6903cf187151c7",
            "_model_module": "@jupyter-widgets/controls",
            "children": [
              "IPY_MODEL_11e01d4c39684855aac95e31d30a3171",
              "IPY_MODEL_720bbb3108944c109fde35ee654c0306"
            ]
          }
        },
        "40c13b6f8fde49338a6903cf187151c7": {
          "model_module": "@jupyter-widgets/base",
          "model_name": "LayoutModel",
          "state": {
            "_view_name": "LayoutView",
            "grid_template_rows": null,
            "right": null,
            "justify_content": null,
            "_view_module": "@jupyter-widgets/base",
            "overflow": null,
            "_model_module_version": "1.2.0",
            "_view_count": null,
            "flex_flow": null,
            "width": null,
            "min_width": null,
            "border": null,
            "align_items": null,
            "bottom": null,
            "_model_module": "@jupyter-widgets/base",
            "top": null,
            "grid_column": null,
            "overflow_y": null,
            "overflow_x": null,
            "grid_auto_flow": null,
            "grid_area": null,
            "grid_template_columns": null,
            "flex": null,
            "_model_name": "LayoutModel",
            "justify_items": null,
            "grid_row": null,
            "max_height": null,
            "align_content": null,
            "visibility": null,
            "align_self": null,
            "height": null,
            "min_height": null,
            "padding": null,
            "grid_auto_rows": null,
            "grid_gap": null,
            "max_width": null,
            "order": null,
            "_view_module_version": "1.2.0",
            "grid_template_areas": null,
            "object_position": null,
            "object_fit": null,
            "grid_auto_columns": null,
            "margin": null,
            "display": null,
            "left": null
          }
        },
        "11e01d4c39684855aac95e31d30a3171": {
          "model_module": "@jupyter-widgets/controls",
          "model_name": "FloatProgressModel",
          "state": {
            "_view_name": "ProgressView",
            "style": "IPY_MODEL_c6d18e7f1087431ab64d97b503b60e62",
            "_dom_classes": [],
            "description": "Downloading: 100%",
            "_model_name": "FloatProgressModel",
            "bar_style": "success",
            "max": 1197,
            "_view_module": "@jupyter-widgets/controls",
            "_model_module_version": "1.5.0",
            "value": 1197,
            "_view_count": null,
            "_view_module_version": "1.5.0",
            "orientation": "horizontal",
            "min": 0,
            "description_tooltip": null,
            "_model_module": "@jupyter-widgets/controls",
            "layout": "IPY_MODEL_2ad99b2d67244da280c16c3a6b304453"
          }
        },
        "720bbb3108944c109fde35ee654c0306": {
          "model_module": "@jupyter-widgets/controls",
          "model_name": "HTMLModel",
          "state": {
            "_view_name": "HTMLView",
            "style": "IPY_MODEL_7ecdd755b1cb42fcb049bd08d5c2a29b",
            "_dom_classes": [],
            "description": "",
            "_model_name": "HTMLModel",
            "placeholder": "​",
            "_view_module": "@jupyter-widgets/controls",
            "_model_module_version": "1.5.0",
            "value": " 1.20k/1.20k [00:00&lt;00:00, 10.4kB/s]",
            "_view_count": null,
            "_view_module_version": "1.5.0",
            "description_tooltip": null,
            "_model_module": "@jupyter-widgets/controls",
            "layout": "IPY_MODEL_8d192f63c41848f087188a5c7179f132"
          }
        },
        "c6d18e7f1087431ab64d97b503b60e62": {
          "model_module": "@jupyter-widgets/controls",
          "model_name": "ProgressStyleModel",
          "state": {
            "_view_name": "StyleView",
            "_model_name": "ProgressStyleModel",
            "description_width": "initial",
            "_view_module": "@jupyter-widgets/base",
            "_model_module_version": "1.5.0",
            "_view_count": null,
            "_view_module_version": "1.2.0",
            "bar_color": null,
            "_model_module": "@jupyter-widgets/controls"
          }
        },
        "2ad99b2d67244da280c16c3a6b304453": {
          "model_module": "@jupyter-widgets/base",
          "model_name": "LayoutModel",
          "state": {
            "_view_name": "LayoutView",
            "grid_template_rows": null,
            "right": null,
            "justify_content": null,
            "_view_module": "@jupyter-widgets/base",
            "overflow": null,
            "_model_module_version": "1.2.0",
            "_view_count": null,
            "flex_flow": null,
            "width": null,
            "min_width": null,
            "border": null,
            "align_items": null,
            "bottom": null,
            "_model_module": "@jupyter-widgets/base",
            "top": null,
            "grid_column": null,
            "overflow_y": null,
            "overflow_x": null,
            "grid_auto_flow": null,
            "grid_area": null,
            "grid_template_columns": null,
            "flex": null,
            "_model_name": "LayoutModel",
            "justify_items": null,
            "grid_row": null,
            "max_height": null,
            "align_content": null,
            "visibility": null,
            "align_self": null,
            "height": null,
            "min_height": null,
            "padding": null,
            "grid_auto_rows": null,
            "grid_gap": null,
            "max_width": null,
            "order": null,
            "_view_module_version": "1.2.0",
            "grid_template_areas": null,
            "object_position": null,
            "object_fit": null,
            "grid_auto_columns": null,
            "margin": null,
            "display": null,
            "left": null
          }
        },
        "7ecdd755b1cb42fcb049bd08d5c2a29b": {
          "model_module": "@jupyter-widgets/controls",
          "model_name": "DescriptionStyleModel",
          "state": {
            "_view_name": "StyleView",
            "_model_name": "DescriptionStyleModel",
            "description_width": "",
            "_view_module": "@jupyter-widgets/base",
            "_model_module_version": "1.5.0",
            "_view_count": null,
            "_view_module_version": "1.2.0",
            "_model_module": "@jupyter-widgets/controls"
          }
        },
        "8d192f63c41848f087188a5c7179f132": {
          "model_module": "@jupyter-widgets/base",
          "model_name": "LayoutModel",
          "state": {
            "_view_name": "LayoutView",
            "grid_template_rows": null,
            "right": null,
            "justify_content": null,
            "_view_module": "@jupyter-widgets/base",
            "overflow": null,
            "_model_module_version": "1.2.0",
            "_view_count": null,
            "flex_flow": null,
            "width": null,
            "min_width": null,
            "border": null,
            "align_items": null,
            "bottom": null,
            "_model_module": "@jupyter-widgets/base",
            "top": null,
            "grid_column": null,
            "overflow_y": null,
            "overflow_x": null,
            "grid_auto_flow": null,
            "grid_area": null,
            "grid_template_columns": null,
            "flex": null,
            "_model_name": "LayoutModel",
            "justify_items": null,
            "grid_row": null,
            "max_height": null,
            "align_content": null,
            "visibility": null,
            "align_self": null,
            "height": null,
            "min_height": null,
            "padding": null,
            "grid_auto_rows": null,
            "grid_gap": null,
            "max_width": null,
            "order": null,
            "_view_module_version": "1.2.0",
            "grid_template_areas": null,
            "object_position": null,
            "object_fit": null,
            "grid_auto_columns": null,
            "margin": null,
            "display": null,
            "left": null
          }
        },
        "bdf366fdcc7a440f9a59eddde89e525a": {
          "model_module": "@jupyter-widgets/controls",
          "model_name": "HBoxModel",
          "state": {
            "_view_name": "HBoxView",
            "_dom_classes": [],
            "_model_name": "HBoxModel",
            "_view_module": "@jupyter-widgets/controls",
            "_model_module_version": "1.5.0",
            "_view_count": null,
            "_view_module_version": "1.5.0",
            "box_style": "",
            "layout": "IPY_MODEL_0f7631bd6a9f4cd6a3671083f5f36b6c",
            "_model_module": "@jupyter-widgets/controls",
            "children": [
              "IPY_MODEL_be41609fb54846f6810068c24b56c318",
              "IPY_MODEL_98f0467911b34c8694be94766a4ffb1d"
            ]
          }
        },
        "0f7631bd6a9f4cd6a3671083f5f36b6c": {
          "model_module": "@jupyter-widgets/base",
          "model_name": "LayoutModel",
          "state": {
            "_view_name": "LayoutView",
            "grid_template_rows": null,
            "right": null,
            "justify_content": null,
            "_view_module": "@jupyter-widgets/base",
            "overflow": null,
            "_model_module_version": "1.2.0",
            "_view_count": null,
            "flex_flow": null,
            "width": null,
            "min_width": null,
            "border": null,
            "align_items": null,
            "bottom": null,
            "_model_module": "@jupyter-widgets/base",
            "top": null,
            "grid_column": null,
            "overflow_y": null,
            "overflow_x": null,
            "grid_auto_flow": null,
            "grid_area": null,
            "grid_template_columns": null,
            "flex": null,
            "_model_name": "LayoutModel",
            "justify_items": null,
            "grid_row": null,
            "max_height": null,
            "align_content": null,
            "visibility": null,
            "align_self": null,
            "height": null,
            "min_height": null,
            "padding": null,
            "grid_auto_rows": null,
            "grid_gap": null,
            "max_width": null,
            "order": null,
            "_view_module_version": "1.2.0",
            "grid_template_areas": null,
            "object_position": null,
            "object_fit": null,
            "grid_auto_columns": null,
            "margin": null,
            "display": null,
            "left": null
          }
        },
        "be41609fb54846f6810068c24b56c318": {
          "model_module": "@jupyter-widgets/controls",
          "model_name": "FloatProgressModel",
          "state": {
            "_view_name": "ProgressView",
            "style": "IPY_MODEL_2b8936b43930455eacfa287100f79758",
            "_dom_classes": [],
            "description": "Downloading: 100%",
            "_model_name": "FloatProgressModel",
            "bar_style": "success",
            "max": 242065649,
            "_view_module": "@jupyter-widgets/controls",
            "_model_module_version": "1.5.0",
            "value": 242065649,
            "_view_count": null,
            "_view_module_version": "1.5.0",
            "orientation": "horizontal",
            "min": 0,
            "description_tooltip": null,
            "_model_module": "@jupyter-widgets/controls",
            "layout": "IPY_MODEL_74456dea20144b5da82a059f49b9c463"
          }
        },
        "98f0467911b34c8694be94766a4ffb1d": {
          "model_module": "@jupyter-widgets/controls",
          "model_name": "HTMLModel",
          "state": {
            "_view_name": "HTMLView",
            "style": "IPY_MODEL_67daabbac72b4d68b47c36378163b144",
            "_dom_classes": [],
            "description": "",
            "_model_name": "HTMLModel",
            "placeholder": "​",
            "_view_module": "@jupyter-widgets/controls",
            "_model_module_version": "1.5.0",
            "value": " 242M/242M [00:09&lt;00:00, 25.8MB/s]",
            "_view_count": null,
            "_view_module_version": "1.5.0",
            "description_tooltip": null,
            "_model_module": "@jupyter-widgets/controls",
            "layout": "IPY_MODEL_bc73c93a219246cdbf8342969ed0469f"
          }
        },
        "2b8936b43930455eacfa287100f79758": {
          "model_module": "@jupyter-widgets/controls",
          "model_name": "ProgressStyleModel",
          "state": {
            "_view_name": "StyleView",
            "_model_name": "ProgressStyleModel",
            "description_width": "initial",
            "_view_module": "@jupyter-widgets/base",
            "_model_module_version": "1.5.0",
            "_view_count": null,
            "_view_module_version": "1.2.0",
            "bar_color": null,
            "_model_module": "@jupyter-widgets/controls"
          }
        },
        "74456dea20144b5da82a059f49b9c463": {
          "model_module": "@jupyter-widgets/base",
          "model_name": "LayoutModel",
          "state": {
            "_view_name": "LayoutView",
            "grid_template_rows": null,
            "right": null,
            "justify_content": null,
            "_view_module": "@jupyter-widgets/base",
            "overflow": null,
            "_model_module_version": "1.2.0",
            "_view_count": null,
            "flex_flow": null,
            "width": null,
            "min_width": null,
            "border": null,
            "align_items": null,
            "bottom": null,
            "_model_module": "@jupyter-widgets/base",
            "top": null,
            "grid_column": null,
            "overflow_y": null,
            "overflow_x": null,
            "grid_auto_flow": null,
            "grid_area": null,
            "grid_template_columns": null,
            "flex": null,
            "_model_name": "LayoutModel",
            "justify_items": null,
            "grid_row": null,
            "max_height": null,
            "align_content": null,
            "visibility": null,
            "align_self": null,
            "height": null,
            "min_height": null,
            "padding": null,
            "grid_auto_rows": null,
            "grid_gap": null,
            "max_width": null,
            "order": null,
            "_view_module_version": "1.2.0",
            "grid_template_areas": null,
            "object_position": null,
            "object_fit": null,
            "grid_auto_columns": null,
            "margin": null,
            "display": null,
            "left": null
          }
        },
        "67daabbac72b4d68b47c36378163b144": {
          "model_module": "@jupyter-widgets/controls",
          "model_name": "DescriptionStyleModel",
          "state": {
            "_view_name": "StyleView",
            "_model_name": "DescriptionStyleModel",
            "description_width": "",
            "_view_module": "@jupyter-widgets/base",
            "_model_module_version": "1.5.0",
            "_view_count": null,
            "_view_module_version": "1.2.0",
            "_model_module": "@jupyter-widgets/controls"
          }
        },
        "bc73c93a219246cdbf8342969ed0469f": {
          "model_module": "@jupyter-widgets/base",
          "model_name": "LayoutModel",
          "state": {
            "_view_name": "LayoutView",
            "grid_template_rows": null,
            "right": null,
            "justify_content": null,
            "_view_module": "@jupyter-widgets/base",
            "overflow": null,
            "_model_module_version": "1.2.0",
            "_view_count": null,
            "flex_flow": null,
            "width": null,
            "min_width": null,
            "border": null,
            "align_items": null,
            "bottom": null,
            "_model_module": "@jupyter-widgets/base",
            "top": null,
            "grid_column": null,
            "overflow_y": null,
            "overflow_x": null,
            "grid_auto_flow": null,
            "grid_area": null,
            "grid_template_columns": null,
            "flex": null,
            "_model_name": "LayoutModel",
            "justify_items": null,
            "grid_row": null,
            "max_height": null,
            "align_content": null,
            "visibility": null,
            "align_self": null,
            "height": null,
            "min_height": null,
            "padding": null,
            "grid_auto_rows": null,
            "grid_gap": null,
            "max_width": null,
            "order": null,
            "_view_module_version": "1.2.0",
            "grid_template_areas": null,
            "object_position": null,
            "object_fit": null,
            "grid_auto_columns": null,
            "margin": null,
            "display": null,
            "left": null
          }
        },
        "8d216efdea5e440eae9b06dfc9c70701": {
          "model_module": "@jupyter-widgets/controls",
          "model_name": "HBoxModel",
          "state": {
            "_view_name": "HBoxView",
            "_dom_classes": [],
            "_model_name": "HBoxModel",
            "_view_module": "@jupyter-widgets/controls",
            "_model_module_version": "1.5.0",
            "_view_count": null,
            "_view_module_version": "1.5.0",
            "box_style": "",
            "layout": "IPY_MODEL_873d3af6c3c1428ead0bdfc660bb3704",
            "_model_module": "@jupyter-widgets/controls",
            "children": [
              "IPY_MODEL_3e7a8d9f703e480394ff9b2c48a0920d",
              "IPY_MODEL_f32057ac7b2b424ca574bb23769ccb15"
            ]
          }
        },
        "873d3af6c3c1428ead0bdfc660bb3704": {
          "model_module": "@jupyter-widgets/base",
          "model_name": "LayoutModel",
          "state": {
            "_view_name": "LayoutView",
            "grid_template_rows": null,
            "right": null,
            "justify_content": null,
            "_view_module": "@jupyter-widgets/base",
            "overflow": null,
            "_model_module_version": "1.2.0",
            "_view_count": null,
            "flex_flow": null,
            "width": null,
            "min_width": null,
            "border": null,
            "align_items": null,
            "bottom": null,
            "_model_module": "@jupyter-widgets/base",
            "top": null,
            "grid_column": null,
            "overflow_y": null,
            "overflow_x": null,
            "grid_auto_flow": null,
            "grid_area": null,
            "grid_template_columns": null,
            "flex": null,
            "_model_name": "LayoutModel",
            "justify_items": null,
            "grid_row": null,
            "max_height": null,
            "align_content": null,
            "visibility": null,
            "align_self": null,
            "height": null,
            "min_height": null,
            "padding": null,
            "grid_auto_rows": null,
            "grid_gap": null,
            "max_width": null,
            "order": null,
            "_view_module_version": "1.2.0",
            "grid_template_areas": null,
            "object_position": null,
            "object_fit": null,
            "grid_auto_columns": null,
            "margin": null,
            "display": null,
            "left": null
          }
        },
        "3e7a8d9f703e480394ff9b2c48a0920d": {
          "model_module": "@jupyter-widgets/controls",
          "model_name": "FloatProgressModel",
          "state": {
            "_view_name": "ProgressView",
            "style": "IPY_MODEL_45006c14eb6143f9b493962c2e13fba8",
            "_dom_classes": [],
            "description": "Downloading: 100%",
            "_model_name": "FloatProgressModel",
            "bar_style": "success",
            "max": 791656,
            "_view_module": "@jupyter-widgets/controls",
            "_model_module_version": "1.5.0",
            "value": 791656,
            "_view_count": null,
            "_view_module_version": "1.5.0",
            "orientation": "horizontal",
            "min": 0,
            "description_tooltip": null,
            "_model_module": "@jupyter-widgets/controls",
            "layout": "IPY_MODEL_6ce22c9e933e4fbca5bd44794eeb5e03"
          }
        },
        "f32057ac7b2b424ca574bb23769ccb15": {
          "model_module": "@jupyter-widgets/controls",
          "model_name": "HTMLModel",
          "state": {
            "_view_name": "HTMLView",
            "style": "IPY_MODEL_be3af5aa66d94c6da12173dc7db6a88c",
            "_dom_classes": [],
            "description": "",
            "_model_name": "HTMLModel",
            "placeholder": "​",
            "_view_module": "@jupyter-widgets/controls",
            "_model_module_version": "1.5.0",
            "value": " 792k/792k [00:00&lt;00:00, 1.81MB/s]",
            "_view_count": null,
            "_view_module_version": "1.5.0",
            "description_tooltip": null,
            "_model_module": "@jupyter-widgets/controls",
            "layout": "IPY_MODEL_597e2dc76e644007ac5c8c707e69a32c"
          }
        },
        "45006c14eb6143f9b493962c2e13fba8": {
          "model_module": "@jupyter-widgets/controls",
          "model_name": "ProgressStyleModel",
          "state": {
            "_view_name": "StyleView",
            "_model_name": "ProgressStyleModel",
            "description_width": "initial",
            "_view_module": "@jupyter-widgets/base",
            "_model_module_version": "1.5.0",
            "_view_count": null,
            "_view_module_version": "1.2.0",
            "bar_color": null,
            "_model_module": "@jupyter-widgets/controls"
          }
        },
        "6ce22c9e933e4fbca5bd44794eeb5e03": {
          "model_module": "@jupyter-widgets/base",
          "model_name": "LayoutModel",
          "state": {
            "_view_name": "LayoutView",
            "grid_template_rows": null,
            "right": null,
            "justify_content": null,
            "_view_module": "@jupyter-widgets/base",
            "overflow": null,
            "_model_module_version": "1.2.0",
            "_view_count": null,
            "flex_flow": null,
            "width": null,
            "min_width": null,
            "border": null,
            "align_items": null,
            "bottom": null,
            "_model_module": "@jupyter-widgets/base",
            "top": null,
            "grid_column": null,
            "overflow_y": null,
            "overflow_x": null,
            "grid_auto_flow": null,
            "grid_area": null,
            "grid_template_columns": null,
            "flex": null,
            "_model_name": "LayoutModel",
            "justify_items": null,
            "grid_row": null,
            "max_height": null,
            "align_content": null,
            "visibility": null,
            "align_self": null,
            "height": null,
            "min_height": null,
            "padding": null,
            "grid_auto_rows": null,
            "grid_gap": null,
            "max_width": null,
            "order": null,
            "_view_module_version": "1.2.0",
            "grid_template_areas": null,
            "object_position": null,
            "object_fit": null,
            "grid_auto_columns": null,
            "margin": null,
            "display": null,
            "left": null
          }
        },
        "be3af5aa66d94c6da12173dc7db6a88c": {
          "model_module": "@jupyter-widgets/controls",
          "model_name": "DescriptionStyleModel",
          "state": {
            "_view_name": "StyleView",
            "_model_name": "DescriptionStyleModel",
            "description_width": "",
            "_view_module": "@jupyter-widgets/base",
            "_model_module_version": "1.5.0",
            "_view_count": null,
            "_view_module_version": "1.2.0",
            "_model_module": "@jupyter-widgets/controls"
          }
        },
        "597e2dc76e644007ac5c8c707e69a32c": {
          "model_module": "@jupyter-widgets/base",
          "model_name": "LayoutModel",
          "state": {
            "_view_name": "LayoutView",
            "grid_template_rows": null,
            "right": null,
            "justify_content": null,
            "_view_module": "@jupyter-widgets/base",
            "overflow": null,
            "_model_module_version": "1.2.0",
            "_view_count": null,
            "flex_flow": null,
            "width": null,
            "min_width": null,
            "border": null,
            "align_items": null,
            "bottom": null,
            "_model_module": "@jupyter-widgets/base",
            "top": null,
            "grid_column": null,
            "overflow_y": null,
            "overflow_x": null,
            "grid_auto_flow": null,
            "grid_area": null,
            "grid_template_columns": null,
            "flex": null,
            "_model_name": "LayoutModel",
            "justify_items": null,
            "grid_row": null,
            "max_height": null,
            "align_content": null,
            "visibility": null,
            "align_self": null,
            "height": null,
            "min_height": null,
            "padding": null,
            "grid_auto_rows": null,
            "grid_gap": null,
            "max_width": null,
            "order": null,
            "_view_module_version": "1.2.0",
            "grid_template_areas": null,
            "object_position": null,
            "object_fit": null,
            "grid_auto_columns": null,
            "margin": null,
            "display": null,
            "left": null
          }
        },
        "fe392a6b0abb4de081e2415afb4d3302": {
          "model_module": "@jupyter-widgets/controls",
          "model_name": "HBoxModel",
          "state": {
            "_view_name": "HBoxView",
            "_dom_classes": [],
            "_model_name": "HBoxModel",
            "_view_module": "@jupyter-widgets/controls",
            "_model_module_version": "1.5.0",
            "_view_count": null,
            "_view_module_version": "1.5.0",
            "box_style": "",
            "layout": "IPY_MODEL_8987757e29cb401c91199360e7b088f3",
            "_model_module": "@jupyter-widgets/controls",
            "children": [
              "IPY_MODEL_7761946c5a234722885e304415c6a9fd",
              "IPY_MODEL_fcfe6d92d9d14b5480e6dee1d79b281a"
            ]
          }
        },
        "8987757e29cb401c91199360e7b088f3": {
          "model_module": "@jupyter-widgets/base",
          "model_name": "LayoutModel",
          "state": {
            "_view_name": "LayoutView",
            "grid_template_rows": null,
            "right": null,
            "justify_content": null,
            "_view_module": "@jupyter-widgets/base",
            "overflow": null,
            "_model_module_version": "1.2.0",
            "_view_count": null,
            "flex_flow": null,
            "width": null,
            "min_width": null,
            "border": null,
            "align_items": null,
            "bottom": null,
            "_model_module": "@jupyter-widgets/base",
            "top": null,
            "grid_column": null,
            "overflow_y": null,
            "overflow_x": null,
            "grid_auto_flow": null,
            "grid_area": null,
            "grid_template_columns": null,
            "flex": null,
            "_model_name": "LayoutModel",
            "justify_items": null,
            "grid_row": null,
            "max_height": null,
            "align_content": null,
            "visibility": null,
            "align_self": null,
            "height": null,
            "min_height": null,
            "padding": null,
            "grid_auto_rows": null,
            "grid_gap": null,
            "max_width": null,
            "order": null,
            "_view_module_version": "1.2.0",
            "grid_template_areas": null,
            "object_position": null,
            "object_fit": null,
            "grid_auto_columns": null,
            "margin": null,
            "display": null,
            "left": null
          }
        },
        "7761946c5a234722885e304415c6a9fd": {
          "model_module": "@jupyter-widgets/controls",
          "model_name": "FloatProgressModel",
          "state": {
            "_view_name": "ProgressView",
            "style": "IPY_MODEL_d6e7659d6d2240ce847c774c7ed8d98c",
            "_dom_classes": [],
            "description": "Downloading: 100%",
            "_model_name": "FloatProgressModel",
            "bar_style": "success",
            "max": 1389353,
            "_view_module": "@jupyter-widgets/controls",
            "_model_module_version": "1.5.0",
            "value": 1389353,
            "_view_count": null,
            "_view_module_version": "1.5.0",
            "orientation": "horizontal",
            "min": 0,
            "description_tooltip": null,
            "_model_module": "@jupyter-widgets/controls",
            "layout": "IPY_MODEL_ec369694d58346c59520e0f095a54346"
          }
        },
        "fcfe6d92d9d14b5480e6dee1d79b281a": {
          "model_module": "@jupyter-widgets/controls",
          "model_name": "HTMLModel",
          "state": {
            "_view_name": "HTMLView",
            "style": "IPY_MODEL_b45da5028d274b7392e5419398baa0a1",
            "_dom_classes": [],
            "description": "",
            "_model_name": "HTMLModel",
            "placeholder": "​",
            "_view_module": "@jupyter-widgets/controls",
            "_model_module_version": "1.5.0",
            "value": " 1.39M/1.39M [00:04&lt;00:00, 344kB/s]",
            "_view_count": null,
            "_view_module_version": "1.5.0",
            "description_tooltip": null,
            "_model_module": "@jupyter-widgets/controls",
            "layout": "IPY_MODEL_70560acbc3394b3dace3c93ef29620d1"
          }
        },
        "d6e7659d6d2240ce847c774c7ed8d98c": {
          "model_module": "@jupyter-widgets/controls",
          "model_name": "ProgressStyleModel",
          "state": {
            "_view_name": "StyleView",
            "_model_name": "ProgressStyleModel",
            "description_width": "initial",
            "_view_module": "@jupyter-widgets/base",
            "_model_module_version": "1.5.0",
            "_view_count": null,
            "_view_module_version": "1.2.0",
            "bar_color": null,
            "_model_module": "@jupyter-widgets/controls"
          }
        },
        "ec369694d58346c59520e0f095a54346": {
          "model_module": "@jupyter-widgets/base",
          "model_name": "LayoutModel",
          "state": {
            "_view_name": "LayoutView",
            "grid_template_rows": null,
            "right": null,
            "justify_content": null,
            "_view_module": "@jupyter-widgets/base",
            "overflow": null,
            "_model_module_version": "1.2.0",
            "_view_count": null,
            "flex_flow": null,
            "width": null,
            "min_width": null,
            "border": null,
            "align_items": null,
            "bottom": null,
            "_model_module": "@jupyter-widgets/base",
            "top": null,
            "grid_column": null,
            "overflow_y": null,
            "overflow_x": null,
            "grid_auto_flow": null,
            "grid_area": null,
            "grid_template_columns": null,
            "flex": null,
            "_model_name": "LayoutModel",
            "justify_items": null,
            "grid_row": null,
            "max_height": null,
            "align_content": null,
            "visibility": null,
            "align_self": null,
            "height": null,
            "min_height": null,
            "padding": null,
            "grid_auto_rows": null,
            "grid_gap": null,
            "max_width": null,
            "order": null,
            "_view_module_version": "1.2.0",
            "grid_template_areas": null,
            "object_position": null,
            "object_fit": null,
            "grid_auto_columns": null,
            "margin": null,
            "display": null,
            "left": null
          }
        },
        "b45da5028d274b7392e5419398baa0a1": {
          "model_module": "@jupyter-widgets/controls",
          "model_name": "DescriptionStyleModel",
          "state": {
            "_view_name": "StyleView",
            "_model_name": "DescriptionStyleModel",
            "description_width": "",
            "_view_module": "@jupyter-widgets/base",
            "_model_module_version": "1.5.0",
            "_view_count": null,
            "_view_module_version": "1.2.0",
            "_model_module": "@jupyter-widgets/controls"
          }
        },
        "70560acbc3394b3dace3c93ef29620d1": {
          "model_module": "@jupyter-widgets/base",
          "model_name": "LayoutModel",
          "state": {
            "_view_name": "LayoutView",
            "grid_template_rows": null,
            "right": null,
            "justify_content": null,
            "_view_module": "@jupyter-widgets/base",
            "overflow": null,
            "_model_module_version": "1.2.0",
            "_view_count": null,
            "flex_flow": null,
            "width": null,
            "min_width": null,
            "border": null,
            "align_items": null,
            "bottom": null,
            "_model_module": "@jupyter-widgets/base",
            "top": null,
            "grid_column": null,
            "overflow_y": null,
            "overflow_x": null,
            "grid_auto_flow": null,
            "grid_area": null,
            "grid_template_columns": null,
            "flex": null,
            "_model_name": "LayoutModel",
            "justify_items": null,
            "grid_row": null,
            "max_height": null,
            "align_content": null,
            "visibility": null,
            "align_self": null,
            "height": null,
            "min_height": null,
            "padding": null,
            "grid_auto_rows": null,
            "grid_gap": null,
            "max_width": null,
            "order": null,
            "_view_module_version": "1.2.0",
            "grid_template_areas": null,
            "object_position": null,
            "object_fit": null,
            "grid_auto_columns": null,
            "margin": null,
            "display": null,
            "left": null
          }
        }
      }
    }
  },
  "cells": [
    {
      "cell_type": "markdown",
      "metadata": {
        "id": "view-in-github",
        "colab_type": "text"
      },
      "source": [
        "<a href=\"https://colab.research.google.com/github/katrina906/CS6120-Summarization-Project/blob/main/abstractive_summarization.ipynb\" target=\"_parent\"><img src=\"https://colab.research.google.com/assets/colab-badge.svg\" alt=\"Open In Colab\"/></a>"
      ]
    },
    {
      "cell_type": "code",
      "metadata": {
        "id": "0ZtHLhQR1KVp"
      },
      "source": [
        "# TODO look for examples where:\n",
        "  # info that isn't in actual article. try iloc 6 about Jack Johnson\n",
        "  # repetivtive info"
      ],
      "execution_count": null,
      "outputs": []
    },
    {
      "cell_type": "markdown",
      "metadata": {
        "id": "sJOk3UcsdMtK"
      },
      "source": [
        "# Abstractive Summarization using Encoder-Decoder T5 Model \n",
        "__T5__ (Text-to-Text Transfer Transformer Model)\n",
        "- Pretrained encoder-decoder. Bidiectional, multi-head self-attention layers, masking for training.\n",
        "- Very similar to BERT with some new advances in training and the decoder.\n",
        "- Fine-tuned for specific tasks such as language translation and summarization \n",
        "- Trained on the C4 dataset: Colossal Clean Crawled Corpus. 750GB of scraped webpage data \n",
        "  - Unrealistic to train own model because of the large amount of data and iterations used to train these popular pre-trained models that are able to generate English well. \n",
        "- Teacher forcing in training: minimize cross-entropy loss of predicting next word\n",
        "- Potential extension is to do custom fine-tuning training on specific corpus. Not necessary for articles because use fairly typical English construction, grammar etc.\n",
        "  - Might be necessary on BCG corpus because powerpoint English is somewhat different from regular English sentences. \n",
        "           \n",
        "                  \n",
        "Paper from Google: https://arxiv.org/abs/1910.10683\n",
        "              \n",
        "__Pros__ over extractive summarization:\n",
        "- Generates new text, not just repeating what is in the article. Makes summary more engaging to read and may combine ideas better to make the summaries more to the point. \n",
        "- Can use input text without having to make text cleaning decisions. Can consider more features like punctuation and capitalization \n",
        "\n",
        "__Cons__ over extractive summarization:\n",
        "- Decoding is more computationally intensive.\n",
        "- Sometimes generate <UNK> character\n",
        "- Cannot guarentee it will generate full sentences. Cuts off mid-sentence if did not generate an end of sequence character before reaching the specified max length.\n",
        "- Encoding can only take the first 1,017 tokens of the text largely because of self-attention layer: requires n^2 calculations for n tokens because consider entire sequence for attention. If topics appear later in the article for the first time, they will be completely missed and not included in the summary\n",
        "  - Only 15% of articles have more than 1,017 tokens. And not much over - max is 1,819 tokens. Mean is 653 tokens. \n",
        "  - In general, news articles tend to include highlights of the most important information in the first few sentences followed by details, so this should not impact performance as drastically as in other contexts.\n",
        "  - BCG material follows the pyramid principle where you summarize the key points first, so similar structure to news articles. \n",
        "\n",
        "__Potential extensions__:\n",
        "- Parallelize decoding to allow for better run time\n",
        "- Grid search through parameters such as length penalty, number of beams, number of ngrams to not repeat\n",
        "- Longformer Encoder-Decoder uses an encoder model that can handle up to 16,000 tokens by limiting self-attention to a window rather than the entire text (higher layers use a larger window size to combine the local features learned at lower layers). Paper: https://arxiv.org/abs/2004.05150\n",
        "  - However, most of our articles do not suffer from this issue\n",
        "  - Much longer training time due to larger encodings"
      ]
    },
    {
      "cell_type": "code",
      "metadata": {
        "id": "2tAE9O6TxI2P"
      },
      "source": [
        "# Resources: \n",
        "# https://www.thepythoncode.com/article/text-summarization-using-huggingface-transformers-python\n",
        "# https://huggingface.co/blog/how-to-generate"
      ],
      "execution_count": null,
      "outputs": []
    },
    {
      "cell_type": "code",
      "metadata": {
        "id": "NLle4ULPBkUF"
      },
      "source": [
        "#model = EncoderDecoderModel.from_pretrained(\"patrickvonplaten/longformer2roberta-cnn_dailymail-fp16\")\n",
        "#tokenizer = LongformerTokenizer.from_pretrained(\"allenai/longformer-base-4096\") \n",
        "# https://huggingface.co/patrickvonplaten/longformer2roberta-cnn_dailymail-fp16\n",
        "# longformer encoder + robert decoder \n",
        "# fine tuned on this exact dataset - does seem to do better than t5 for this reason (even on articles below truncation limit), but worry that overfitting? don't know what they trained on exactly"
      ],
      "execution_count": null,
      "outputs": []
    },
    {
      "cell_type": "code",
      "metadata": {
        "id": "zAOZbr_ZKrFG"
      },
      "source": [
        "%%capture\n",
        "!pip install transformers\n",
        "!pip install import-ipynb\n",
        "!pip install sentencepiece"
      ],
      "execution_count": 1,
      "outputs": []
    },
    {
      "cell_type": "code",
      "metadata": {
        "id": "y8bU5xLtH6zu"
      },
      "source": [
        "from transformers import pipeline\n",
        "from transformers import T5ForConditionalGeneration, T5Tokenizer, EncoderDecoderModel, LongformerTokenizer\n",
        "import pandas as pd\n",
        "import torch\n",
        "import import_ipynb\n",
        "import numpy as np\n",
        "import tensorflow as tf"
      ],
      "execution_count": 2,
      "outputs": []
    },
    {
      "cell_type": "code",
      "metadata": {
        "colab": {
          "base_uri": "https://localhost:8080/"
        },
        "id": "a3ra--fQLrI0",
        "outputId": "afb8d92b-44d0-4e71-f935-54c53b0543ae"
      },
      "source": [
        "from google.colab import drive\n",
        "drive.mount('/content/drive')"
      ],
      "execution_count": 3,
      "outputs": [
        {
          "output_type": "stream",
          "text": [
            "Mounted at /content/drive\n"
          ],
          "name": "stdout"
        }
      ]
    },
    {
      "cell_type": "markdown",
      "metadata": {
        "id": "HOWMLPPHTWOS"
      },
      "source": [
        ""
      ]
    },
    {
      "cell_type": "code",
      "metadata": {
        "colab": {
          "base_uri": "https://localhost:8080/"
        },
        "id": "bubbIbqiVTTJ",
        "outputId": "003e12d8-c0a5-477f-8a5d-4ea53bbbfca7"
      },
      "source": [
        "# load in functions from extract_summarization notebook\n",
        "%cd \"drive/MyDrive/Colab Notebooks\"\n",
        "from extractive_summarization import *\n",
        "%cd .."
      ],
      "execution_count": null,
      "outputs": [
        {
          "output_type": "stream",
          "text": [
            "/content/drive/MyDrive/Colab Notebooks\n",
            "importing Jupyter notebook from extractive_summarization.ipynb\n",
            "/content/drive/My Drive\n"
          ],
          "name": "stdout"
        }
      ]
    },
    {
      "cell_type": "code",
      "metadata": {
        "id": "_-uk4KYmC6E9"
      },
      "source": [
        "def load_model():\n",
        "  # initialize the model architecture and weights\n",
        "  model = T5ForConditionalGeneration.from_pretrained(\"t5-small\")\n",
        "  # initialize the model tokenizer\n",
        "  tokenizer = T5Tokenizer.from_pretrained(\"t5-small\")\n",
        "\n",
        "  return model, tokenizer"
      ],
      "execution_count": null,
      "outputs": []
    },
    {
      "cell_type": "markdown",
      "metadata": {
        "id": "-nJHsnI1bGve"
      },
      "source": [
        "## Encode text for inference\n",
        "- Encode words into numerical vectors using model's tokenizer\n",
        "- Will automatically convert unknown words into <unk> \n",
        "- Use un-processed original sentences because model takes into account features like capitalization and punctuation. Also, features like stopwords are important for generating grammatically correct sentences. "
      ]
    },
    {
      "cell_type": "code",
      "metadata": {
        "id": "jPmoxHQCbCux"
      },
      "source": [
        "def encode_input(df, tokenizer):\n",
        "  df['encoded'] = df.sentences.map(lambda row: tokenizer.encode(\"summarize: \" + ' '.join(row), return_tensors=\"pt\", max_length=1017, truncation=True))\n",
        "  return df"
      ],
      "execution_count": null,
      "outputs": []
    },
    {
      "cell_type": "markdown",
      "metadata": {
        "id": "S6sorPtQZHty"
      },
      "source": [
        "## Decoding Methods\n",
        "- Greedy: select word with highest probability given all prior context: P(w | w<sub>1:t-1</sub>)\n",
        "  - Con: misses high probability words that occur after a lower probability word because never explore the path \n",
        "- Beam Search: considers probability of sequences num_beams long. \n",
        "  - Con: higher computation time \n",
        "- Sampling methods (_not using_): used to introduce randomness to the text and make it sound more human-like, especially in contexts like story generation. However, in this case, we do not want randomness but rather want the summaries to closely follow the content in the article. \n",
        "  - Ex: article about a man attacked by a tiger says that he was conscious and talking in the ambulance. Sampling decoding creates a sentence that claims he was \"conscious and talking\" with the animal\n",
        "\n",
        "## Length of Predicted Summary\n",
        "- Max length:\n",
        "  - Cannot set based on number of sentences; number of words only\n",
        "  - Heuristic: average 12 text words per summary word\n",
        "  - Two configs:\n",
        "    - If strict, cannot go over heuristic. \n",
        "    - If more lenient, can go over by 1 unit of the heuristic (12 words)\n",
        "- Min length: want to generate summary right around the heuristic; do not want to generate a shorter summary because want enough information for content curator to use. Thus allow to go under by 1 unit of the heuristic if the model predicts an end of sequence token. \n",
        "\n",
        "## Other Parameters\n",
        "- No repeat ngram = 4: these methods tend to generate repetitive sequences of words. This parameters disallows ngrams to repeat if they are of length 4. \n",
        "  - Bigrams and trigrams can repeat so entity names that are central to the article can appear multiple times. But do not allow entire phrases to repeat. \n",
        "  - Ex: without parameter get sequences like \"the heat index will make it feel like 113. the heat index will make it feel like 113\""
      ]
    },
    {
      "cell_type": "code",
      "metadata": {
        "id": "XbZ4NqiHYXjn"
      },
      "source": [
        "def decode(df, model, tokenizer, config):\n",
        "\n",
        "  df['max_words'] = df.sentences.map(lambda row: int(np.floor(len(''.join(row).split(' ')) / 12))) # average 12 text words per summary word\n",
        "  if 'max_words_plus' in config:\n",
        "    df.max_words = df.max_words + 12\n",
        "  if 'greedy' in config:\n",
        "    df['outputs'] = df.apply(lambda row: model.generate( \n",
        "                                         row.encoded, \n",
        "                                         max_length=row.max_words, \n",
        "                                         min_length=max(0, row.max_words - 12),\n",
        "                                         no_repeat_ngram_size = 4), \n",
        "                             axis = 1) \n",
        "  if 'beam' in config:\n",
        "    df['outputs'] = df.apply(lambda row: model.generate( \n",
        "                                         row.encoded, \n",
        "                                         max_length=row.max_words, \n",
        "                                         min_length=max(0, row.max_words - 12),\n",
        "                                         num_beams = 5,\n",
        "                                         no_repeat_ngram_size = 4,\n",
        "                                         early_stopping = True),\n",
        "                             axis = 1) \n",
        "    \n",
        "  # decode predicted summary of numbers back into text\n",
        "  df['predicted_summary'] = df.outputs.map(lambda row: tokenizer.decode(row[0], skip_special_tokens = True))\n",
        "\n",
        "  return df"
      ],
      "execution_count": null,
      "outputs": []
    },
    {
      "cell_type": "markdown",
      "metadata": {
        "id": "gY_EU5emdqGL"
      },
      "source": [
        "### Training Loop\n",
        "Loop through list of configurations, decode inputted data using T5 model and specified configurations, and evaluate.    \n",
        "Evaluation functions from extractive_summarization notebook.   \n",
        "   \n",
        "Decoding is much slower than extractive training, so allow for data to be decoded in chunks and saved so that we can use partial start points. "
      ]
    },
    {
      "cell_type": "code",
      "metadata": {
        "id": "rgxa8oVqij1G"
      },
      "source": [
        "def train_config_loop_abstractive(df, model, tokenizer, config_list, eval_only = True, continue_iterations = False,\n",
        "                                 filename = '', split_fraction = None, split_fraction_continue = False):\n",
        "\n",
        "  if continue_iterations:\n",
        "    with open('/content/drive/MyDrive/data/' + filename + '.pkl', 'rb') as f:\n",
        "      results_so_far = pickle.load(f) \n",
        "      eval_results = results_so_far[1]\n",
        "      model_results = results_so_far[2]\n",
        "      config_list = config_list[config_list.index(results_so_far[0])+1:] # continue from last config\n",
        "  else:\n",
        "    eval_results = {}\n",
        "    model_results = {}\n",
        "\n",
        "  for config in config_list:\n",
        "    print(config)\n",
        "    # allow decoding in chunks of dataframe at at time. Too slow and session crashes before finish\n",
        "    if split_fraction != None:\n",
        "      increment = int(np.ceil(len(df) / split_fraction))\n",
        "      # allow resuming from partial decode of dataframe \n",
        "      if (split_fraction_continue == True) and (os.path.exists('/content/drive/MyDrive/data/' + 'abstractive_best_model_' + str(config) + '.pkl')) :\n",
        "        with open('/content/drive/MyDrive/data/' + 'abstractive_best_model_' + str(config) + '.pkl', 'rb') as f:\n",
        "          decode_so_far = pickle.load(f) \n",
        "          start_index = decode_so_far[1] \n",
        "          end_index = start_index + increment\n",
        "          df_decoded = decode_so_far[0]\n",
        "      else:\n",
        "        start_index = 0\n",
        "        end_index = increment\n",
        "        df_decoded = pd.DataFrame()\n",
        "\n",
        "      # decode in chunks size len(df) / split_fraction at a time \n",
        "      while start_index < len(df):\n",
        "        if end_index > len(df):\n",
        "          end_index = len(df)\n",
        "        df_partial = decode(df.iloc[start_index:end_index], model, tokenizer, config)\n",
        "        df_decoded = pd.concat([df_decoded, df_partial], sort = False)\n",
        "        # save after every increment\n",
        "        with open('/content/drive/MyDrive/data/' + 'abstractive_best_model_' + str(config) + '.pkl', 'wb') as f:\n",
        "          pickle.dump([df_decoded, end_index], f)\n",
        "          print('saving!', end_index)\n",
        "        # next increment \n",
        "        start_index += increment\n",
        "        end_index += increment\n",
        "    # if training configs on small samples to find best, can run all at once\n",
        "    else:\n",
        "      df_decoded = decode(df, model, tokenizer, config)\n",
        "    eval_dict = evaluate(df_decoded)\n",
        "    eval_results[(str(config))] = metrics_distribution(df_decoded)\n",
        "    if not eval_only:\n",
        "      model_results[str(config)] = df_decoded[['sentences', 'summary', 'rouge', 'predicted_summary']]\n",
        "\n",
        "    # save every completed config after finishes\n",
        "    if filename != '':\n",
        "      with open('/content/drive/MyDrive/data/' + filename + '.pkl', 'wb') as f:\n",
        "          pickle.dump([config, eval_results, model_results], f)\n",
        "          print('saving!')\n",
        "\n",
        "  return eval_results, model_results"
      ],
      "execution_count": null,
      "outputs": []
    },
    {
      "cell_type": "markdown",
      "metadata": {
        "id": "J-qsOyQFec02"
      },
      "source": [
        "## Main Function\n",
        "1. Loop through possible configurations for decoding and train on subset of data\n",
        "2. Select best configuration for each evaluation metric (F-Measure, Precision, Recall with and without averaging between unigram and bigram metrics)\n",
        "3. Train best configurations on full data"
      ]
    },
    {
      "cell_type": "code",
      "metadata": {
        "id": "unziysyxmWlI"
      },
      "source": [
        "CONFIGURATIONS = [['greedy', 'beam'],\n",
        "                  ['max_words_strict', 'max_words_plus'],\n",
        "                  ]    \n",
        "# cross products of all possible combinations of configurations\n",
        "model_configurations = list(itertools.product(*CONFIGURATIONS)) "
      ],
      "execution_count": null,
      "outputs": []
    },
    {
      "cell_type": "code",
      "metadata": {
        "id": "NexaeTk_i28X"
      },
      "source": [
        "def main():\n",
        "\n",
        "  # load T5 model and tokenizer\n",
        "  model, tokenizer = load_model()\n",
        "\n",
        "  # load data and encode input\n",
        "  df = data_setup(n = 10000) \n",
        "  df = encode_input(df, tokenizer)\n",
        "\n",
        "  # train each configuration on a subset of the data and get evaluation metrics \n",
        "  eval_results, _ = train_config_loop_abstractive(df.head(1000), model, tokenizer, model_configurations, eval_only = True,\n",
        "                                                 filename = 'train_config_loop_abstractive', continue_iterations = True)\n",
        "  # find best config for each evaluation metric\n",
        "  best_configs = find_best_configs(eval_results)\n",
        "\n",
        "  # train full model on best configurations for each metric\n",
        "  eval_results_dict = {} # for each eval metric, distribution of evaluation metrics \n",
        "  model_results_dict = {} # for each eval metric, data with predicted summaries\n",
        "  seen_configs = {}  # keep track of which configs we have trained so far\n",
        "  seen_metrics = []\n",
        "\n",
        "  # resume if already trained some best configs on full data \n",
        "  if os.path.exists('/content/drive/MyDrive/data/trained_model_abstractive.pkl'):\n",
        "    with open('/content/drive/MyDrive/data/trained_model_abstractive.pkl', 'rb') as f:\n",
        "      load = pickle.load(f)\n",
        "      seen_metrics = load[0]\n",
        "      eval_results_dict = load[1]\n",
        "      model_results_dict = load[2]\n",
        "      seen_configs = load[3]\n",
        "  for metric in best_configs.keys():\n",
        "    if metric in seen_metrics: # already done in prior partial run\n",
        "      continue\n",
        "    config = tuple(best_configs[metric].strip('(').strip(')').replace(\"'\", \"\").split(', '))\n",
        "    if config not in seen_configs.keys():\n",
        "      eval_results, model_results = train_config_loop_abstractive(df, model, tokenizer, [config], eval_only = False,\n",
        "                                                                 split_fraction = 10, split_fraction_continue = True)\n",
        "      eval_results_dict[metric] = eval_results[str(config)][metric]\n",
        "      model_results_dict[metric] = model_results[str(config)]\n",
        "      seen_configs[config] = metric\n",
        "    # prevent duplicative retraining: use existing results if best config for prior metric\n",
        "    else: \n",
        "      eval_results_dict[metric] = eval_results_dict[seen_configs[config]]\n",
        "      model_results_dict[metric] = model_results_dict[seen_configs[config]]\n",
        "    seen_metrics.append(metric)\n",
        "\n",
        "    # save best models\n",
        "    # save every iteration overwriting\n",
        "    # if need to restart, load in dictionaries, go through best_configs.keys() but not in seen_metrics, continue adding to dictionaries\n",
        "    with open('/content/drive/MyDrive/data/trained_model_abstractive.pkl', 'wb') as f: \n",
        "        pickle.dump([seen_metrics, eval_results_dict, model_results_dict, seen_configs, best_configs], f)"
      ],
      "execution_count": null,
      "outputs": []
    },
    {
      "cell_type": "code",
      "metadata": {
        "id": "JKDQM8Be66E8"
      },
      "source": [
        "with open('/content/drive/MyDrive/data/trained_model_abstractive.pkl', 'rb') as f:\n",
        "      load = pickle.load(f)\n",
        "      seen_metrics = load[0]\n",
        "      eval_results_dict = load[1]\n",
        "      model_results_dict = load[2]\n",
        "      seen_configs = load[3]"
      ],
      "execution_count": null,
      "outputs": []
    },
    {
      "cell_type": "code",
      "metadata": {
        "colab": {
          "base_uri": "https://localhost:8080/",
          "height": 212,
          "referenced_widgets": [
            "b40125604fb0401fb31e5812cf3b839d",
            "40c13b6f8fde49338a6903cf187151c7",
            "11e01d4c39684855aac95e31d30a3171",
            "720bbb3108944c109fde35ee654c0306",
            "c6d18e7f1087431ab64d97b503b60e62",
            "2ad99b2d67244da280c16c3a6b304453",
            "7ecdd755b1cb42fcb049bd08d5c2a29b",
            "8d192f63c41848f087188a5c7179f132",
            "bdf366fdcc7a440f9a59eddde89e525a",
            "0f7631bd6a9f4cd6a3671083f5f36b6c",
            "be41609fb54846f6810068c24b56c318",
            "98f0467911b34c8694be94766a4ffb1d",
            "2b8936b43930455eacfa287100f79758",
            "74456dea20144b5da82a059f49b9c463",
            "67daabbac72b4d68b47c36378163b144",
            "bc73c93a219246cdbf8342969ed0469f",
            "8d216efdea5e440eae9b06dfc9c70701",
            "873d3af6c3c1428ead0bdfc660bb3704",
            "3e7a8d9f703e480394ff9b2c48a0920d",
            "f32057ac7b2b424ca574bb23769ccb15",
            "45006c14eb6143f9b493962c2e13fba8",
            "6ce22c9e933e4fbca5bd44794eeb5e03",
            "be3af5aa66d94c6da12173dc7db6a88c",
            "597e2dc76e644007ac5c8c707e69a32c",
            "fe392a6b0abb4de081e2415afb4d3302",
            "8987757e29cb401c91199360e7b088f3",
            "7761946c5a234722885e304415c6a9fd",
            "fcfe6d92d9d14b5480e6dee1d79b281a",
            "d6e7659d6d2240ce847c774c7ed8d98c",
            "ec369694d58346c59520e0f095a54346",
            "b45da5028d274b7392e5419398baa0a1",
            "70560acbc3394b3dace3c93ef29620d1"
          ]
        },
        "id": "dxc7ze9Qg9--",
        "outputId": "571da3b8-487e-42ab-8597-8a57f7d01414"
      },
      "source": [
        "main()"
      ],
      "execution_count": null,
      "outputs": [
        {
          "output_type": "display_data",
          "data": {
            "application/vnd.jupyter.widget-view+json": {
              "model_id": "b40125604fb0401fb31e5812cf3b839d",
              "version_minor": 0,
              "version_major": 2
            },
            "text/plain": [
              "HBox(children=(FloatProgress(value=0.0, description='Downloading', max=1197.0, style=ProgressStyle(description…"
            ]
          },
          "metadata": {
            "tags": []
          }
        },
        {
          "output_type": "stream",
          "text": [
            "\n"
          ],
          "name": "stdout"
        },
        {
          "output_type": "display_data",
          "data": {
            "application/vnd.jupyter.widget-view+json": {
              "model_id": "bdf366fdcc7a440f9a59eddde89e525a",
              "version_minor": 0,
              "version_major": 2
            },
            "text/plain": [
              "HBox(children=(FloatProgress(value=0.0, description='Downloading', max=242065649.0, style=ProgressStyle(descri…"
            ]
          },
          "metadata": {
            "tags": []
          }
        },
        {
          "output_type": "stream",
          "text": [
            "\n"
          ],
          "name": "stdout"
        },
        {
          "output_type": "display_data",
          "data": {
            "application/vnd.jupyter.widget-view+json": {
              "model_id": "8d216efdea5e440eae9b06dfc9c70701",
              "version_minor": 0,
              "version_major": 2
            },
            "text/plain": [
              "HBox(children=(FloatProgress(value=0.0, description='Downloading', max=791656.0, style=ProgressStyle(descripti…"
            ]
          },
          "metadata": {
            "tags": []
          }
        },
        {
          "output_type": "stream",
          "text": [
            "\n"
          ],
          "name": "stdout"
        },
        {
          "output_type": "display_data",
          "data": {
            "application/vnd.jupyter.widget-view+json": {
              "model_id": "fe392a6b0abb4de081e2415afb4d3302",
              "version_minor": 0,
              "version_major": 2
            },
            "text/plain": [
              "HBox(children=(FloatProgress(value=0.0, description='Downloading', max=1389353.0, style=ProgressStyle(descript…"
            ]
          },
          "metadata": {
            "tags": []
          }
        },
        {
          "output_type": "stream",
          "text": [
            "\n"
          ],
          "name": "stdout"
        }
      ]
    }
  ]
}