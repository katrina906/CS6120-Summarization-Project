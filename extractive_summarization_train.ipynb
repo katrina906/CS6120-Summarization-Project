{
  "nbformat": 4,
  "nbformat_minor": 0,
  "metadata": {
    "colab": {
      "name": "extractive_summarization_train.ipynb",
      "provenance": [],
      "collapsed_sections": [],
      "include_colab_link": true
    },
    "kernelspec": {
      "name": "python3",
      "display_name": "Python 3"
    },
    "language_info": {
      "name": "python"
    }
  },
  "cells": [
    {
      "cell_type": "markdown",
      "metadata": {
        "id": "view-in-github",
        "colab_type": "text"
      },
      "source": [
        "<a href=\"https://colab.research.google.com/github/katrina906/CS6120-Summarization-Project/blob/main/extractive_summarization_train.ipynb\" target=\"_parent\"><img src=\"https://colab.research.google.com/assets/colab-badge.svg\" alt=\"Open In Colab\"/></a>"
      ]
    },
    {
      "cell_type": "code",
      "metadata": {
        "id": "vYUvRTR9UzqS"
      },
      "source": [
        "%%capture\n",
        "!pip install rouge-score\n",
        "!pip install fasttext\n",
        "!pip install compress-fasttext\n",
        "!pip install gensim==3.8.3\n",
        "!pip install import-ipynb"
      ],
      "execution_count": 1,
      "outputs": []
    },
    {
      "cell_type": "code",
      "metadata": {
        "colab": {
          "base_uri": "https://localhost:8080/"
        },
        "id": "ahuZ435aUOvx",
        "outputId": "8afc7a54-84cb-439f-ea32-77ecee64d432"
      },
      "source": [
        "from google.colab import drive\n",
        "drive.mount('/content/drive')"
      ],
      "execution_count": 2,
      "outputs": [
        {
          "output_type": "stream",
          "text": [
            "Drive already mounted at /content/drive; to attempt to forcibly remount, call drive.mount(\"/content/drive\", force_remount=True).\n"
          ],
          "name": "stdout"
        }
      ]
    },
    {
      "cell_type": "code",
      "metadata": {
        "id": "5KRvQaFYUwwg"
      },
      "source": [
        "#!unzip \"/content/drive/MyDrive/data/glove*.zip\""
      ],
      "execution_count": 3,
      "outputs": []
    },
    {
      "cell_type": "code",
      "metadata": {
        "colab": {
          "base_uri": "https://localhost:8080/"
        },
        "id": "R1Hs-pJIUydH",
        "outputId": "e5b69fd9-58ec-404a-c3ef-a0c3c02959f3"
      },
      "source": [
        "import os\n",
        "import pandas as pd\n",
        "import numpy as np\n",
        "import pickle\n",
        "import string\n",
        "import re\n",
        "import sys\n",
        "import seaborn as sns\n",
        "import matplotlib.pyplot as plt\n",
        "import itertools\n",
        "from sklearn.feature_extraction.text import TfidfTransformer, TfidfVectorizer\n",
        "from sklearn.feature_extraction import DictVectorizer\n",
        "from collections import Counter, OrderedDict\n",
        "from sklearn.metrics.pairwise import cosine_similarity, pairwise_distances\n",
        "import networkx as nx\n",
        "from rouge_score import rouge_scorer\n",
        "import gensim\n",
        "import fasttext\n",
        "from gensim.models import FastText\n",
        "import compress_fasttext\n",
        "import nltk\n",
        "from nltk.stem import WordNetLemmatizer, PorterStemmer\n",
        "from nltk.corpus import stopwords  \n",
        "import import_ipynb\n",
        "\n",
        "nltk.download('stopwords')\n",
        "stop_words = set(stopwords.words('english'))  \n",
        "nltk.download('wordnet')"
      ],
      "execution_count": 4,
      "outputs": [
        {
          "output_type": "stream",
          "text": [
            "[nltk_data] Downloading package stopwords to /root/nltk_data...\n",
            "[nltk_data]   Package stopwords is already up-to-date!\n",
            "[nltk_data] Downloading package wordnet to /root/nltk_data...\n",
            "[nltk_data]   Package wordnet is already up-to-date!\n"
          ],
          "name": "stdout"
        },
        {
          "output_type": "execute_result",
          "data": {
            "text/plain": [
              "True"
            ]
          },
          "metadata": {
            "tags": []
          },
          "execution_count": 4
        }
      ]
    },
    {
      "cell_type": "code",
      "metadata": {
        "colab": {
          "base_uri": "https://localhost:8080/"
        },
        "id": "xtMX5TBuU0TJ",
        "outputId": "3c8d4aa1-6ee1-4f1e-a0c7-f75b6a7d950d"
      },
      "source": [
        "# load in functions from extract_summarization notebook\n",
        "%cd \"drive/MyDrive/Colab Notebooks\"\n",
        "from extractive_summarization import *"
      ],
      "execution_count": 5,
      "outputs": [
        {
          "output_type": "stream",
          "text": [
            "/content/drive/MyDrive/Colab Notebooks\n",
            "importing Jupyter notebook from extractive_summarization.ipynb\n"
          ],
          "name": "stdout"
        }
      ]
    },
    {
      "cell_type": "code",
      "metadata": {
        "colab": {
          "base_uri": "https://localhost:8080/"
        },
        "id": "LcFCP3VEjBd0",
        "outputId": "42f51ac8-0291-475f-b832-e46c6201202f"
      },
      "source": [
        "%cd .."
      ],
      "execution_count": 6,
      "outputs": [
        {
          "output_type": "stream",
          "text": [
            "/content/drive/My Drive\n"
          ],
          "name": "stdout"
        }
      ]
    },
    {
      "cell_type": "code",
      "metadata": {
        "id": "wOtDkahyUqN-"
      },
      "source": [
        "def main():\n",
        "\n",
        "  df = data_setup(n = 10)\n",
        "  tfidf, feature_array = corpus_tfidf(df) \n",
        "  embeddings = load_embeddings()\n",
        "\n",
        "  for model in ['lsa']: #['baseline', 'textrank', 'lsa']:\n",
        "    #  train each configuration on a subset of the data and get evaluation metrics (1/10 of 10,000)\n",
        "    eval_results, _ = train_config_loop(df.head(9), tfidf, feature_array, embeddings, model_configurations[model][0:3],\n",
        "                                        save_every_cnt = 50, filename = 'train_config_loop') \n",
        "\n",
        "    # find best config for each evaluation metrics\n",
        "    best_configs = find_best_configs(eval_results)\n",
        "\n",
        "    # train full model on the best configurations for each metric\n",
        "    print('training best models')\n",
        "    eval_results_dict = {} # for each eval metric, distribution of evaluation metrics \n",
        "    model_results_dict = {} # for each eval metric, data with predicted summaries\n",
        "    seen_configs = {}  # for each eval metric, best configuration \n",
        "    seen_metrics = []\n",
        "    for metric in best_configs.keys(): \n",
        "      config = tuple(best_configs[metric].strip('(').strip(')').replace(\"'\", \"\").split(', '))\n",
        "      if config not in seen_configs.keys():\n",
        "        eval_results, model_results = train_config_loop(df, tfidf, feature_array, embeddings, [config]) \n",
        "        eval_results_dict[metric] = eval_results[str(config)][metric]\n",
        "        model_results_dict[metric] = model_results[str(config)]\n",
        "        seen_configs[config] = metric\n",
        "      # prevent duplicative retraining: use existing results if best config for prior metric\n",
        "      else:\n",
        "        eval_results_dict[metric] = eval_results_dict[seen_configs[config]]\n",
        "        model_results_dict[metric] = model_results_dict[seen_configs[config]]\n",
        "      seen_metrics.append(metric)\n",
        "      # save best models\n",
        "      # save every iteration overwriting\n",
        "      # if need to restart, load in dictionaries, go through best_configs.keys() but not in seen_metrics, continue adding to dictionaries\n",
        "      with open('/content/drive/MyDrive/data/trained_model_' + model + '.pkl', 'wb') as f:\n",
        "          pickle.dump([seen_metrics, eval_results_dict, model_results_dict, best_configs], f) "
      ],
      "execution_count": 28,
      "outputs": []
    },
    {
      "cell_type": "code",
      "metadata": {
        "colab": {
          "base_uri": "https://localhost:8080/"
        },
        "id": "UUh-PXOyjXKY",
        "outputId": "74b7a391-9c86-402c-f1ec-ee6995c36052"
      },
      "source": [
        "main()"
      ],
      "execution_count": 29,
      "outputs": [
        {
          "output_type": "stream",
          "text": [
            "('lsa', 'nostop', 'no_stemlemma', 'bow', 'counts', 'no_normalization', 'unigram', 'num_sentences')\n",
            "('lsa', 'nostop', 'no_stemlemma', 'bow', 'counts', 'no_normalization', 'unigram', 'num_words_lt')\n",
            "('lsa', 'nostop', 'no_stemlemma', 'bow', 'counts', 'no_normalization', 'unigram', 'num_words_gt')\n",
            "saving! 3\n",
            "training best models\n",
            "('lsa', 'nostop', 'no_stemlemma', 'bow', 'counts', 'no_normalization', 'unigram', 'num_sentences')\n",
            "('lsa', 'nostop', 'no_stemlemma', 'bow', 'counts', 'no_normalization', 'unigram', 'num_words_lt')\n"
          ],
          "name": "stdout"
        }
      ]
    }
  ]
}