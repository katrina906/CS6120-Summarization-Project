{
  "nbformat": 4,
  "nbformat_minor": 0,
  "metadata": {
    "colab": {
      "name": "extractive_summarization_train.ipynb",
      "provenance": [],
      "collapsed_sections": [],
      "include_colab_link": true
    },
    "kernelspec": {
      "name": "python3",
      "display_name": "Python 3"
    },
    "language_info": {
      "name": "python"
    }
  },
  "cells": [
    {
      "cell_type": "markdown",
      "metadata": {
        "id": "view-in-github",
        "colab_type": "text"
      },
      "source": [
        "<a href=\"https://colab.research.google.com/github/katrina906/CS6120-Summarization-Project/blob/main/extractive_summarization_train.ipynb\" target=\"_parent\"><img src=\"https://colab.research.google.com/assets/colab-badge.svg\" alt=\"Open In Colab\"/></a>"
      ]
    },
    {
      "cell_type": "markdown",
      "metadata": {
        "id": "0pCPNcA9aT97"
      },
      "source": [
        "# Train Extractive Summarization Model \n",
        "1. Loop through possible configurations for each model and train on subset of data\n",
        "2. Select best configuration for each model (TF-IDF Baseline, TextRank, LSA) for each evaluation metric (F-Measure, Precision, Recall with and without averaging between unigram and bigram metrics)\n",
        "  - 18 total best configurations (3 models x 6 metrics) \n",
        "3. Train best configurations on full data \n",
        "\n",
        "Driver of functions in extractive_summarization notebook"
      ]
    },
    {
      "cell_type": "code",
      "metadata": {
        "id": "vYUvRTR9UzqS"
      },
      "source": [
        "%%capture\n",
        "!pip install rouge-score\n",
        "!pip install fasttext\n",
        "!pip install compress-fasttext\n",
        "!pip install gensim==3.8.3\n",
        "!pip install import-ipynb"
      ],
      "execution_count": null,
      "outputs": []
    },
    {
      "cell_type": "code",
      "metadata": {
        "id": "ahuZ435aUOvx"
      },
      "source": [
        "from google.colab import drive\n",
        "drive.mount('/content/drive')"
      ],
      "execution_count": null,
      "outputs": []
    },
    {
      "cell_type": "code",
      "metadata": {
        "id": "5KRvQaFYUwwg"
      },
      "source": [
        "#!unzip \"/content/drive/MyDrive/data/glove*.zip\""
      ],
      "execution_count": null,
      "outputs": []
    },
    {
      "cell_type": "code",
      "metadata": {
        "colab": {
          "base_uri": "https://localhost:8080/"
        },
        "id": "R1Hs-pJIUydH",
        "outputId": "391cfa79-f6f6-47d2-9be5-b5c5e78eadac"
      },
      "source": [
        "import os\n",
        "import pandas as pd\n",
        "import numpy as np\n",
        "import pickle\n",
        "import string\n",
        "import re\n",
        "import sys\n",
        "import seaborn as sns\n",
        "import matplotlib.pyplot as plt\n",
        "import itertools\n",
        "from sklearn.feature_extraction.text import TfidfTransformer, TfidfVectorizer\n",
        "from sklearn.feature_extraction import DictVectorizer\n",
        "from collections import Counter, OrderedDict\n",
        "from sklearn.metrics.pairwise import cosine_similarity, pairwise_distances\n",
        "import networkx as nx\n",
        "from rouge_score import rouge_scorer\n",
        "import gensim\n",
        "import fasttext\n",
        "from gensim.models import FastText\n",
        "import compress_fasttext\n",
        "import nltk\n",
        "from nltk.stem import WordNetLemmatizer, PorterStemmer\n",
        "from nltk.corpus import stopwords  \n",
        "import import_ipynb\n",
        "\n",
        "nltk.download('stopwords')\n",
        "stop_words = set(stopwords.words('english'))  \n",
        "nltk.download('wordnet')"
      ],
      "execution_count": null,
      "outputs": [
        {
          "output_type": "stream",
          "text": [
            "[nltk_data] Downloading package stopwords to /root/nltk_data...\n",
            "[nltk_data]   Package stopwords is already up-to-date!\n",
            "[nltk_data] Downloading package wordnet to /root/nltk_data...\n",
            "[nltk_data]   Package wordnet is already up-to-date!\n"
          ],
          "name": "stdout"
        },
        {
          "output_type": "execute_result",
          "data": {
            "text/plain": [
              "True"
            ]
          },
          "metadata": {
            "tags": []
          },
          "execution_count": 4
        }
      ]
    },
    {
      "cell_type": "code",
      "metadata": {
        "colab": {
          "base_uri": "https://localhost:8080/"
        },
        "id": "xtMX5TBuU0TJ",
        "outputId": "9a39a831-90a6-4473-c452-0682b2f307a7"
      },
      "source": [
        "# load in functions from extract_summarization notebook\n",
        "%cd \"drive/MyDrive/Colab Notebooks\"\n",
        "from extractive_summarization import *\n",
        "%cd .."
      ],
      "execution_count": null,
      "outputs": [
        {
          "output_type": "stream",
          "text": [
            "[Errno 2] No such file or directory: 'drive/MyDrive/Colab Notebooks'\n",
            "/content/drive/My Drive\n",
            "/content/drive\n"
          ],
          "name": "stdout"
        }
      ]
    },
    {
      "cell_type": "markdown",
      "metadata": {
        "id": "cLbXsJVsdGSg"
      },
      "source": [
        "### Configurations"
      ]
    },
    {
      "cell_type": "code",
      "metadata": {
        "id": "SRbiW6uwdFPV"
      },
      "source": [
        "# All possible configurations for each model\n",
        "CONFIGURATIONS_BOW = [['textrank'],\n",
        "                      ['nostop', 'stopwords'],\n",
        "                      ['no_stemlemma', 'lemma', 'stem'],\n",
        "                      ['bow'],\n",
        "                      ['counts', 'binary'],\n",
        "                      ['no_normalization', 'tf', 'tfidf'],\n",
        "                      ['unigram', 'bigram', 'trigram', 'all'],\n",
        "                      ['cosine', 'hamming', 'jaccard'],\n",
        "                      ['num_sentences', 'num_words_lt', 'num_words_gt']\n",
        "                      ]          \n",
        "CONFIGURATIONS_EMBEDDINGS = [['textrank'],\n",
        "                             ['nostop', 'stopwords'],\n",
        "                             ['no_stemlemma', 'lemma', 'stem'],\n",
        "                             ['embedding'],\n",
        "                             ['glove', 'fasttext'],\n",
        "                             ['cosine'],\n",
        "                             ['num_sentences', 'num_words_lt', 'num_words_gt']\n",
        "                             ]\n",
        "# no custom text cleaning options: true baseline. Stop word removal unnecessary with tfidf.\n",
        "CONFIGURATIONS_BASELINE = [['baseline'],\n",
        "                           ['num_sentences', 'num_words_lt', 'num_words_gt']\n",
        "                           ]\n",
        "CONFIGURATIONS_LSA = [['lsa'],\n",
        "                      ['nostop', 'stopwords'],\n",
        "                      ['no_stemlemma', 'lemma', 'stem'],\n",
        "                      ['bow'],\n",
        "                      ['counts', 'binary'],\n",
        "                      ['no_normalization', 'tf', 'tfidf'],\n",
        "                      ['unigram', 'bigram', 'trigram', 'all'],\n",
        "                      ['num_sentences', 'num_words_lt', 'num_words_gt']]\n",
        "\n",
        "# cross products of all possible combinations of configurations\n",
        "model_configurations = {'textrank':list(itertools.product(*CONFIGURATIONS_BOW)) + list(itertools.product(*CONFIGURATIONS_EMBEDDINGS)),\n",
        "                        'baseline':list(itertools.product(*CONFIGURATIONS_BASELINE)),\n",
        "                        'lsa':list(itertools.product(*CONFIGURATIONS_LSA))}\n",
        "                    \n",
        "# textrank: remove configurations with jaccard or hamming distance that don't use a binary vector representation\n",
        "model_configurations['textrank'] = [i for i in model_configurations['textrank'] if (('jaccard' not in i) and ('hamming') not in i) or (('binary' in i) and ('no_normalization' in i))]"
      ],
      "execution_count": null,
      "outputs": []
    },
    {
      "cell_type": "markdown",
      "metadata": {
        "id": "U-I_dV52dJ06"
      },
      "source": [
        "### Main Function"
      ]
    },
    {
      "cell_type": "code",
      "metadata": {
        "id": "wOtDkahyUqN-"
      },
      "source": [
        "def main():\n",
        "\n",
        "  # load data & basic data cleaning\n",
        "  df = data_setup(n = 10000) \n",
        "  # train tf-idf on full dataset\n",
        "  tfidf, feature_dict = corpus_tfidf(df) \n",
        "  # load word2vec and fasttext embeddings\n",
        "  embeddings = load_embeddings()\n",
        "\n",
        "  for model in ['baseline', 'textrank', 'lsa']:\n",
        "    #  train each configuration on a subset of the data and get evaluation metrics (1/10 of 10,000)\n",
        "    eval_results, _ = train_config_loop(df.head(1000), tfidf, feature_dict, embeddings, stop_words, model_configurations[model], eval_only = True,\n",
        "                                        save_every_cnt = 50, filename = 'train_config_loop', start_from = 'train_config_loop_' + model)  \n",
        "\n",
        "    # find best config for each evaluation metric\n",
        "    best_configs = find_best_configs(eval_results)\n",
        "\n",
        "    # train full model on the best configurations for each metric\n",
        "    print('training best models')\n",
        "    eval_results_dict = {} # for each eval metric, distribution of evaluation metrics \n",
        "    model_results_dict = {} # for each eval metric, data with predicted summaries\n",
        "    seen_configs = {}  # for each eval metric, best configuration \n",
        "    seen_metrics = []\n",
        "    for metric in best_configs.keys(): \n",
        "      config = tuple(best_configs[metric].strip('(').strip(')').replace(\"'\", \"\").split(', '))\n",
        "      if config not in seen_configs.keys():\n",
        "        eval_results, model_results = train_config_loop(df, tfidf, feature_dict, embeddings, stop_words, [config], eval_only = False) \n",
        "        eval_results_dict[metric] = eval_results[str(config)][metric]\n",
        "        model_results_dict[metric] = model_results[str(config)]\n",
        "        seen_configs[config] = metric\n",
        "      # prevent duplicative retraining: use existing results if best config for prior metric\n",
        "      else:\n",
        "        eval_results_dict[metric] = eval_results_dict[seen_configs[config]]\n",
        "        model_results_dict[metric] = model_results_dict[seen_configs[config]]\n",
        "      seen_metrics.append(metric)\n",
        "      # save best models\n",
        "      # save every iteration overwriting\n",
        "      # if need to restart, load in dictionaries, go through best_configs.keys() but not in seen_metrics, continue adding to dictionaries\n",
        "      with open('/content/drive/MyDrive/data/trained_model_' + model + '.pkl', 'wb') as f: \n",
        "          pickle.dump([seen_metrics, eval_results_dict, model_results_dict, best_configs], f) "
      ],
      "execution_count": null,
      "outputs": []
    },
    {
      "cell_type": "code",
      "metadata": {
        "id": "u3Pm2TS78NcX"
      },
      "source": [
        "#with open('/content/drive/MyDrive/data/trained_model_' + 'baseline' + '.pkl', 'rb') as f: \n",
        "#  x = pickle.load(f)"
      ],
      "execution_count": null,
      "outputs": []
    },
    {
      "cell_type": "code",
      "metadata": {
        "id": "-ZyOlr-p4WlE"
      },
      "source": [
        "main()"
      ],
      "execution_count": 1,
      "outputs": []
    }
  ]
}