{
  "nbformat": 4,
  "nbformat_minor": 0,
  "metadata": {
    "colab": {
      "name": "extractive_summarization_train.ipynb",
      "provenance": [],
      "collapsed_sections": [],
      "include_colab_link": true
    },
    "kernelspec": {
      "name": "python3",
      "display_name": "Python 3"
    },
    "language_info": {
      "name": "python"
    }
  },
  "cells": [
    {
      "cell_type": "markdown",
      "metadata": {
        "id": "view-in-github",
        "colab_type": "text"
      },
      "source": [
        "<a href=\"https://colab.research.google.com/github/katrina906/CS6120-Summarization-Project/blob/main/extractive_summarization_train.ipynb\" target=\"_parent\"><img src=\"https://colab.research.google.com/assets/colab-badge.svg\" alt=\"Open In Colab\"/></a>"
      ]
    },
    {
      "cell_type": "code",
      "metadata": {
        "id": "vYUvRTR9UzqS"
      },
      "source": [
        "%%capture\n",
        "!pip install rouge-score\n",
        "!pip install fasttext\n",
        "!pip install compress-fasttext\n",
        "!pip install gensim==3.8.3\n",
        "!pip install import-ipynb"
      ],
      "execution_count": 1,
      "outputs": []
    },
    {
      "cell_type": "code",
      "metadata": {
        "colab": {
          "base_uri": "https://localhost:8080/"
        },
        "id": "ahuZ435aUOvx",
        "outputId": "b958db21-286d-4c79-9db6-159d362fadab"
      },
      "source": [
        "from google.colab import drive\n",
        "drive.mount('/content/drive')"
      ],
      "execution_count": 2,
      "outputs": [
        {
          "output_type": "stream",
          "text": [
            "Drive already mounted at /content/drive; to attempt to forcibly remount, call drive.mount(\"/content/drive\", force_remount=True).\n"
          ],
          "name": "stdout"
        }
      ]
    },
    {
      "cell_type": "code",
      "metadata": {
        "id": "5KRvQaFYUwwg"
      },
      "source": [
        "#!unzip \"/content/drive/MyDrive/data/glove*.zip\""
      ],
      "execution_count": 3,
      "outputs": []
    },
    {
      "cell_type": "code",
      "metadata": {
        "colab": {
          "base_uri": "https://localhost:8080/"
        },
        "id": "R1Hs-pJIUydH",
        "outputId": "77ee4279-6962-49a7-fc5e-9a4d6ed65a2c"
      },
      "source": [
        "import os\n",
        "import pandas as pd\n",
        "import numpy as np\n",
        "import pickle\n",
        "import string\n",
        "import re\n",
        "import sys\n",
        "import seaborn as sns\n",
        "import matplotlib.pyplot as plt\n",
        "import itertools\n",
        "from sklearn.feature_extraction.text import TfidfTransformer, TfidfVectorizer\n",
        "from sklearn.feature_extraction import DictVectorizer\n",
        "from collections import Counter, OrderedDict\n",
        "from sklearn.metrics.pairwise import cosine_similarity, pairwise_distances\n",
        "import networkx as nx\n",
        "from rouge_score import rouge_scorer\n",
        "import gensim\n",
        "import fasttext\n",
        "from gensim.models import FastText\n",
        "import compress_fasttext\n",
        "import nltk\n",
        "from nltk.stem import WordNetLemmatizer, PorterStemmer\n",
        "from nltk.corpus import stopwords  \n",
        "import import_ipynb\n",
        "\n",
        "nltk.download('stopwords')\n",
        "stop_words = set(stopwords.words('english'))  \n",
        "nltk.download('wordnet')"
      ],
      "execution_count": 4,
      "outputs": [
        {
          "output_type": "stream",
          "text": [
            "[nltk_data] Downloading package stopwords to /root/nltk_data...\n",
            "[nltk_data]   Package stopwords is already up-to-date!\n",
            "[nltk_data] Downloading package wordnet to /root/nltk_data...\n",
            "[nltk_data]   Package wordnet is already up-to-date!\n"
          ],
          "name": "stdout"
        },
        {
          "output_type": "execute_result",
          "data": {
            "text/plain": [
              "True"
            ]
          },
          "metadata": {
            "tags": []
          },
          "execution_count": 4
        }
      ]
    },
    {
      "cell_type": "code",
      "metadata": {
        "colab": {
          "base_uri": "https://localhost:8080/"
        },
        "id": "xtMX5TBuU0TJ",
        "outputId": "0b118ddd-daca-47ec-fab7-d607383d0c17"
      },
      "source": [
        "# load in functions from extract_summarization notebook\n",
        "%cd \"drive/MyDrive/Colab Notebooks\"\n",
        "from extractive_summarization import *"
      ],
      "execution_count": 5,
      "outputs": [
        {
          "output_type": "stream",
          "text": [
            "/content/drive/MyDrive/Colab Notebooks\n",
            "importing Jupyter notebook from extractive_summarization.ipynb\n"
          ],
          "name": "stdout"
        }
      ]
    },
    {
      "cell_type": "code",
      "metadata": {
        "id": "wOtDkahyUqN-"
      },
      "source": [
        "def main():\n",
        "\n",
        "  df = data_setup(n = 10)\n",
        "  tfidf, feature_array = corpus_tfidf(df) \n",
        "  embeddings = load_embeddings()\n",
        "\n",
        "  for model in ['lsa']: #['baseline', 'textrank', 'lsa']:\n",
        "    #  train each configuration on a subset of the data and get evaluation metrics (1/10 of 10,000)\n",
        "    eval_results, _ = train_config_loop(df.head(9), tfidf, feature_array, embeddings, model_configurations[model][0:3],\n",
        "                                        save_every_cnt = 50, filename = 'train_config_loop') \n",
        "\n",
        "    # find best config for each evaluation metrics\n",
        "    best_configs = find_best_configs(eval_results)\n",
        "\n",
        "    # train full model on the best configurations for each metric\n",
        "    print('training best models')\n",
        "    eval_results_dict = {} # for each eval metric, distribution of evaluation metrics \n",
        "    model_results_dict = {} # for each eval metric, data with predicted summaries\n",
        "    seen_configs = {}  # for each eval metric, best configuration \n",
        "    for metric in best_configs.keys(): \n",
        "      config = tuple(best_configs[metric].strip('(').strip(')').replace(\"'\", \"\").split(', '))\n",
        "      if config not in seen_configs.keys():\n",
        "        eval_results, model_results = train_config_loop(df, tfidf, feature_array, embeddings, [config]) \n",
        "        eval_results_dict[metric] = eval_results[str(config)][metric]\n",
        "        model_results_dict[metric] = model_results[str(config)]\n",
        "        seen_configs[config] = metric\n",
        "      # prevent duplicative retraining: use existing results if best config for prior metric\n",
        "      else:\n",
        "        eval_results_dict[metric] = eval_results_dict[seen_configs[config]]\n",
        "        model_results_dict[metric] = model_results_dict[seen_configs[config]]\n",
        "\n",
        "      # save best models\n",
        "      # save every iteration overwriting\n",
        "      # if need to restart, load in dictionaries, go through best_configs.keys() but not in seen_configs.values(), continue adding to dictionaries\n",
        "      with open('/content/drive/MyDrive/data/trained_model_' + model + '.pkl', 'wb') as f:\n",
        "          pickle.dump([seen_configs, eval_results_dict, model_results_dict, best_configs], f) "
      ],
      "execution_count": 6,
      "outputs": []
    },
    {
      "cell_type": "code",
      "metadata": {
        "colab": {
          "base_uri": "https://localhost:8080/",
          "height": 286
        },
        "id": "UUh-PXOyjXKY",
        "outputId": "4ee5de2c-b28f-4046-853c-3de148629798"
      },
      "source": [
        "main()"
      ],
      "execution_count": 7,
      "outputs": [
        {
          "output_type": "stream",
          "text": [
            "('lsa', 'nostop', 'no_stemlemma', 'bow', 'counts', 'no_normalization', 'unigram', 'num_sentences') 1\n",
            "('lsa', 'nostop', 'no_stemlemma', 'bow', 'counts', 'no_normalization', 'unigram', 'num_words_lt') 2\n",
            "('lsa', 'nostop', 'no_stemlemma', 'bow', 'counts', 'no_normalization', 'unigram', 'num_words_gt') 3\n"
          ],
          "name": "stdout"
        },
        {
          "output_type": "error",
          "ename": "TypeError",
          "evalue": "ignored",
          "traceback": [
            "\u001b[0;31m---------------------------------------------------------------------------\u001b[0m",
            "\u001b[0;31mTypeError\u001b[0m                                 Traceback (most recent call last)",
            "\u001b[0;32m<ipython-input-7-263240bbee7e>\u001b[0m in \u001b[0;36m<module>\u001b[0;34m()\u001b[0m\n\u001b[0;32m----> 1\u001b[0;31m \u001b[0mmain\u001b[0m\u001b[0;34m(\u001b[0m\u001b[0;34m)\u001b[0m\u001b[0;34m\u001b[0m\u001b[0;34m\u001b[0m\u001b[0m\n\u001b[0m",
            "\u001b[0;32m<ipython-input-6-0833201b739c>\u001b[0m in \u001b[0;36mmain\u001b[0;34m()\u001b[0m\n\u001b[1;32m      8\u001b[0m     \u001b[0;31m#  train each configuration on a subset of the data and get evaluation metrics (1/10 of 10,000)\u001b[0m\u001b[0;34m\u001b[0m\u001b[0;34m\u001b[0m\u001b[0;34m\u001b[0m\u001b[0m\n\u001b[1;32m      9\u001b[0m     eval_results, _ = train_config_loop(df.head(9), tfidf, feature_array, embeddings, model_configurations[model][0:3],\n\u001b[0;32m---> 10\u001b[0;31m                                         save_every_cnt = 50, filename = 'train_config_loop') \n\u001b[0m\u001b[1;32m     11\u001b[0m \u001b[0;34m\u001b[0m\u001b[0m\n\u001b[1;32m     12\u001b[0m     \u001b[0;31m# find best config for each evaluation metrics\u001b[0m\u001b[0;34m\u001b[0m\u001b[0;34m\u001b[0m\u001b[0;34m\u001b[0m\u001b[0m\n",
            "\u001b[0;32m/content/drive/MyDrive/Colab Notebooks/extractive_summarization.ipynb\u001b[0m in \u001b[0;36mtrain_config_loop\u001b[0;34m(df, tfidf, feature_array, embeddings, config_list, save_every_cnt, start_over, filename, start_from)\u001b[0m\n",
            "\u001b[0;31mTypeError\u001b[0m: can only concatenate str (not \"tuple\") to str"
          ]
        }
      ]
    },
    {
      "cell_type": "code",
      "metadata": {
        "id": "sLFiBx3zUJAN"
      },
      "source": [
        "with open('/content/drive/MyDrive/data/' + 'train_config_loop_lsa' + '.pkl','rb') as f:\n",
        "  results_so_far = pickle.load(f)\n",
        "eval_results = results_so_far[1]\n",
        "model_results = results_so_far[2]"
      ],
      "execution_count": null,
      "outputs": []
    },
    {
      "cell_type": "code",
      "metadata": {
        "id": "HqUXppkgkLWc"
      },
      "source": [
        "cnt = 0\n",
        "with open('/content/drive/MyDrive/data/' + 'best_config_loop_lsa' + '.pkl','rb') as f:\n",
        "  try:\n",
        "    while True:\n",
        "        results_so_far = pickle.load(f)\n",
        "        cnt += 1\n",
        "  except:\n",
        "    eval_results = results_so_far[1]\n",
        "    eval_reults = results_so_far[2]\n",
        "    #config_list = config_list[config_list.index(results_so_far[0]+1):]"
      ],
      "execution_count": null,
      "outputs": []
    },
    {
      "cell_type": "code",
      "metadata": {
        "id": "sMTHJUv2kWdA"
      },
      "source": [
        "len(eval_reults)"
      ],
      "execution_count": null,
      "outputs": []
    }
  ]
}