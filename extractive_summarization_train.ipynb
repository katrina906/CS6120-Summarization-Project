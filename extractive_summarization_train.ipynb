{
  "nbformat": 4,
  "nbformat_minor": 0,
  "metadata": {
    "colab": {
      "name": "extractive_summarization_train.ipynb",
      "provenance": [],
      "collapsed_sections": [],
      "authorship_tag": "ABX9TyPrZ9ShDL/EzEG1HbEO9/0P",
      "include_colab_link": true
    },
    "kernelspec": {
      "name": "python3",
      "display_name": "Python 3"
    },
    "language_info": {
      "name": "python"
    }
  },
  "cells": [
    {
      "cell_type": "markdown",
      "metadata": {
        "id": "view-in-github",
        "colab_type": "text"
      },
      "source": [
        "<a href=\"https://colab.research.google.com/github/katrina906/CS6120-Summarization-Project/blob/main/extractive_summarization_train.ipynb\" target=\"_parent\"><img src=\"https://colab.research.google.com/assets/colab-badge.svg\" alt=\"Open In Colab\"/></a>"
      ]
    },
    {
      "cell_type": "code",
      "metadata": {
        "id": "vYUvRTR9UzqS"
      },
      "source": [
        "%%capture\n",
        "!pip install rouge-score\n",
        "!pip install fasttext\n",
        "!pip install compress-fasttext\n",
        "!pip install gensim==3.8.3\n",
        "!pip install import-ipynb"
      ],
      "execution_count": 1,
      "outputs": []
    },
    {
      "cell_type": "code",
      "metadata": {
        "colab": {
          "base_uri": "https://localhost:8080/"
        },
        "id": "ahuZ435aUOvx",
        "outputId": "19809a9f-39a6-403f-bee6-ce1775513560"
      },
      "source": [
        "from google.colab import drive\n",
        "drive.mount('/content/drive')"
      ],
      "execution_count": 2,
      "outputs": [
        {
          "output_type": "stream",
          "text": [
            "Drive already mounted at /content/drive; to attempt to forcibly remount, call drive.mount(\"/content/drive\", force_remount=True).\n"
          ],
          "name": "stdout"
        }
      ]
    },
    {
      "cell_type": "code",
      "metadata": {
        "id": "5KRvQaFYUwwg"
      },
      "source": [
        "#!unzip \"/content/drive/MyDrive/data/glove*.zip\""
      ],
      "execution_count": 3,
      "outputs": []
    },
    {
      "cell_type": "code",
      "metadata": {
        "colab": {
          "base_uri": "https://localhost:8080/"
        },
        "id": "R1Hs-pJIUydH",
        "outputId": "fff699b5-a99e-45ed-a8f5-076655287b51"
      },
      "source": [
        "import os\n",
        "import pandas as pd\n",
        "import numpy as np\n",
        "import pickle\n",
        "import string\n",
        "import re\n",
        "import sys\n",
        "import seaborn as sns\n",
        "import matplotlib.pyplot as plt\n",
        "import itertools\n",
        "from sklearn.feature_extraction.text import TfidfTransformer, TfidfVectorizer\n",
        "from sklearn.feature_extraction import DictVectorizer\n",
        "from collections import Counter, OrderedDict\n",
        "from sklearn.metrics.pairwise import cosine_similarity, pairwise_distances\n",
        "import networkx as nx\n",
        "from rouge_score import rouge_scorer\n",
        "import gensim\n",
        "import fasttext\n",
        "from gensim.models import FastText\n",
        "import compress_fasttext\n",
        "import nltk\n",
        "from nltk.stem import WordNetLemmatizer, PorterStemmer\n",
        "from nltk.corpus import stopwords  \n",
        "import import_ipynb\n",
        "\n",
        "nltk.download('stopwords')\n",
        "stop_words = set(stopwords.words('english'))  \n",
        "nltk.download('wordnet')"
      ],
      "execution_count": 4,
      "outputs": [
        {
          "output_type": "stream",
          "text": [
            "[nltk_data] Downloading package stopwords to /root/nltk_data...\n",
            "[nltk_data]   Package stopwords is already up-to-date!\n",
            "[nltk_data] Downloading package wordnet to /root/nltk_data...\n",
            "[nltk_data]   Package wordnet is already up-to-date!\n"
          ],
          "name": "stdout"
        },
        {
          "output_type": "execute_result",
          "data": {
            "text/plain": [
              "True"
            ]
          },
          "metadata": {
            "tags": []
          },
          "execution_count": 4
        }
      ]
    },
    {
      "cell_type": "code",
      "metadata": {
        "colab": {
          "base_uri": "https://localhost:8080/"
        },
        "id": "xtMX5TBuU0TJ",
        "outputId": "e2bfdfdc-28cb-4cad-f708-667d75d15b78"
      },
      "source": [
        "# load in functions from extract_summarization notebook\n",
        "%cd \"drive/MyDrive/Colab Notebooks\"\n",
        "from extractive_summarization import *"
      ],
      "execution_count": 5,
      "outputs": [
        {
          "output_type": "stream",
          "text": [
            "/content/drive/MyDrive/Colab Notebooks\n",
            "importing Jupyter notebook from extractive_summarization.ipynb\n"
          ],
          "name": "stdout"
        }
      ]
    },
    {
      "cell_type": "code",
      "metadata": {
        "id": "wOtDkahyUqN-"
      },
      "source": [
        "def main():\n",
        "\n",
        "  df = data_setup(n = 10)\n",
        "  tfidf, feature_array = corpus_tfidf(df) \n",
        "  embeddings = load_embeddings()\n",
        "\n",
        "  for model in ['lsa']: #['baseline', 'textrank', 'lsa']:\n",
        "    #  train each configuration on a subset of the data and get evaluation metrics (1/10 of 10,000)\n",
        "    eval_results, _ = train_config_loop(df.head(9), tfidf, feature_array, embeddings, model_configurations[model][0:3],\n",
        "                                        save_every_cnt = 50, start_over = True, filename = 'train_config_loop') \n",
        "\n",
        "    # find best config for each evaluation metrics\n",
        "    best_configs = find_best_configs(eval_results)\n",
        "\n",
        "    # train full model on the best configurations for each metric\n",
        "    print('training best models')\n",
        "    eval_results_dict = {}\n",
        "    model_results_dict = {}\n",
        "    seen_configs = {} \n",
        "    for metric in best_configs.keys(): \n",
        "      config = tuple(best_configs[metric].strip('(').strip(')').replace(\"'\", \"\").split(', '))\n",
        "      if config not in seen_configs.keys():\n",
        "        eval_results, model_results = train_config_loop(df, tfidf, feature_array, embeddings, [config], save_every_cnt = 1, start_over = True, filename = 'best_config_loop') # save diff file for every config in best (TODO make 1??)\n",
        "        eval_results_dict[metric] = eval_results[str(config)][metric]\n",
        "        model_results_dict[metric] = model_results[str(config)]\n",
        "        seen_configs[config] = metric\n",
        "      # prevent duplicative retraining: use existing results if best config for prior metric\n",
        "      else:\n",
        "        eval_results_dict[metric] = eval_results_dict[seen_configs[config]]\n",
        "        model_results_dict[metric] = model_results_dict[seen_configs[config]]\n",
        "\n",
        "    # save best models\n",
        "    with open('/content/drive/MyDrive/data/trained_model_' + model + '.pkl', 'wb') as f:\n",
        "        pickle.dump(eval_results_dict, f) # for each eval metric, distribution of evaluation metrics \n",
        "        pickle.dump(model_results_dict, f) # for each eval metric, data with predicted summaries\n",
        "        pickle.dump(best_configs, f) # for each eval metric, best configuration "
      ],
      "execution_count": 6,
      "outputs": []
    },
    {
      "cell_type": "code",
      "metadata": {
        "colab": {
          "base_uri": "https://localhost:8080/"
        },
        "id": "UUh-PXOyjXKY",
        "outputId": "789e6ba5-5d4e-41b1-9ab2-23f926ae123e"
      },
      "source": [
        "main()"
      ],
      "execution_count": 7,
      "outputs": [
        {
          "output_type": "stream",
          "text": [
            "('lsa', 'nostop', 'no_stemlemma', 'bow', 'counts', 'no_normalization', 'unigram', 'num_sentences') 1\n",
            "('lsa', 'nostop', 'no_stemlemma', 'bow', 'counts', 'no_normalization', 'unigram', 'num_words_lt') 2\n",
            "('lsa', 'nostop', 'no_stemlemma', 'bow', 'counts', 'no_normalization', 'unigram', 'num_words_gt') 3\n",
            "saving! ab 3\n",
            "training best models\n",
            "('lsa', 'nostop', 'no_stemlemma', 'bow', 'counts', 'no_normalization', 'unigram', 'num_sentences') 1\n",
            "saving! wb 1\n",
            "('lsa', 'nostop', 'no_stemlemma', 'bow', 'counts', 'no_normalization', 'unigram', 'num_words_lt') 1\n",
            "saving! wb 1\n"
          ],
          "name": "stdout"
        }
      ]
    },
    {
      "cell_type": "code",
      "metadata": {
        "id": "HqUXppkgkLWc"
      },
      "source": [
        "cnt = 0\n",
        "with open('/content/drive/MyDrive/data/' + 'best_config_loop_lsa' + '.pkl','rb') as f:\n",
        "  try:\n",
        "    while True:\n",
        "        results_so_far = pickle.load(f)\n",
        "        cnt += 1\n",
        "  except:\n",
        "    eval_results = results_so_far[1]\n",
        "    eval_reults = results_so_far[2]\n",
        "    #config_list = config_list[config_list.index(results_so_far[0]+1):]"
      ],
      "execution_count": 8,
      "outputs": []
    },
    {
      "cell_type": "code",
      "metadata": {
        "colab": {
          "base_uri": "https://localhost:8080/"
        },
        "id": "sMTHJUv2kWdA",
        "outputId": "db59e6f0-2f1a-44e4-d75c-1a9e3bdc5e6a"
      },
      "source": [
        "len(eval_reults)"
      ],
      "execution_count": 9,
      "outputs": [
        {
          "output_type": "execute_result",
          "data": {
            "text/plain": [
              "1"
            ]
          },
          "metadata": {
            "tags": []
          },
          "execution_count": 9
        }
      ]
    }
  ]
}