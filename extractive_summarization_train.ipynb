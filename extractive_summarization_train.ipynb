{
  "nbformat": 4,
  "nbformat_minor": 0,
  "metadata": {
    "colab": {
      "name": "extractive_summarization_train.ipynb",
      "provenance": [],
      "collapsed_sections": [],
      "include_colab_link": true
    },
    "kernelspec": {
      "name": "python3",
      "display_name": "Python 3"
    },
    "language_info": {
      "name": "python"
    }
  },
  "cells": [
    {
      "cell_type": "markdown",
      "metadata": {
        "id": "view-in-github",
        "colab_type": "text"
      },
      "source": [
        "<a href=\"https://colab.research.google.com/github/katrina906/CS6120-Summarization-Project/blob/main/extractive_summarization_train.ipynb\" target=\"_parent\"><img src=\"https://colab.research.google.com/assets/colab-badge.svg\" alt=\"Open In Colab\"/></a>"
      ]
    },
    {
      "cell_type": "code",
      "metadata": {
        "id": "vYUvRTR9UzqS"
      },
      "source": [
        "%%capture\n",
        "!pip install rouge-score\n",
        "!pip install fasttext\n",
        "!pip install compress-fasttext\n",
        "!pip install gensim==3.8.3\n",
        "!pip install import-ipynb"
      ],
      "execution_count": 1,
      "outputs": []
    },
    {
      "cell_type": "code",
      "metadata": {
        "colab": {
          "base_uri": "https://localhost:8080/"
        },
        "id": "ahuZ435aUOvx",
        "outputId": "01dd9abf-09f6-4470-cf6d-2a272e3a8063"
      },
      "source": [
        "from google.colab import drive\n",
        "drive.mount('/content/drive')"
      ],
      "execution_count": 2,
      "outputs": [
        {
          "output_type": "stream",
          "text": [
            "Drive already mounted at /content/drive; to attempt to forcibly remount, call drive.mount(\"/content/drive\", force_remount=True).\n"
          ],
          "name": "stdout"
        }
      ]
    },
    {
      "cell_type": "code",
      "metadata": {
        "id": "5KRvQaFYUwwg"
      },
      "source": [
        "#!unzip \"/content/drive/MyDrive/data/glove*.zip\""
      ],
      "execution_count": 3,
      "outputs": []
    },
    {
      "cell_type": "code",
      "metadata": {
        "colab": {
          "base_uri": "https://localhost:8080/"
        },
        "id": "R1Hs-pJIUydH",
        "outputId": "a3f35fba-946f-44e8-9f7c-1b2d8b18113d"
      },
      "source": [
        "import os\n",
        "import pandas as pd\n",
        "import numpy as np\n",
        "import pickle\n",
        "import string\n",
        "import re\n",
        "import sys\n",
        "import seaborn as sns\n",
        "import matplotlib.pyplot as plt\n",
        "import itertools\n",
        "from sklearn.feature_extraction.text import TfidfTransformer, TfidfVectorizer\n",
        "from sklearn.feature_extraction import DictVectorizer\n",
        "from collections import Counter, OrderedDict\n",
        "from sklearn.metrics.pairwise import cosine_similarity, pairwise_distances\n",
        "import networkx as nx\n",
        "from rouge_score import rouge_scorer\n",
        "import gensim\n",
        "import fasttext\n",
        "from gensim.models import FastText\n",
        "import compress_fasttext\n",
        "import nltk\n",
        "from nltk.stem import WordNetLemmatizer, PorterStemmer\n",
        "from nltk.corpus import stopwords  \n",
        "import import_ipynb\n",
        "\n",
        "nltk.download('stopwords')\n",
        "stop_words = set(stopwords.words('english'))  \n",
        "nltk.download('wordnet')"
      ],
      "execution_count": 4,
      "outputs": [
        {
          "output_type": "stream",
          "text": [
            "[nltk_data] Downloading package stopwords to /root/nltk_data...\n",
            "[nltk_data]   Package stopwords is already up-to-date!\n",
            "[nltk_data] Downloading package wordnet to /root/nltk_data...\n",
            "[nltk_data]   Package wordnet is already up-to-date!\n"
          ],
          "name": "stdout"
        },
        {
          "output_type": "execute_result",
          "data": {
            "text/plain": [
              "True"
            ]
          },
          "metadata": {
            "tags": []
          },
          "execution_count": 4
        }
      ]
    },
    {
      "cell_type": "code",
      "metadata": {
        "colab": {
          "base_uri": "https://localhost:8080/"
        },
        "id": "xtMX5TBuU0TJ",
        "outputId": "4fd5e0e6-2a38-44e7-a50c-498bf6b04911"
      },
      "source": [
        "# load in functions from extract_summarization notebook\n",
        "%cd \"drive/MyDrive/Colab Notebooks\"\n",
        "from extractive_summarization import *\n",
        "%cd .."
      ],
      "execution_count": 5,
      "outputs": [
        {
          "output_type": "stream",
          "text": [
            "/content/drive/MyDrive/Colab Notebooks\n",
            "importing Jupyter notebook from extractive_summarization.ipynb\n",
            "/content/drive/MyDrive\n"
          ],
          "name": "stdout"
        }
      ]
    },
    {
      "cell_type": "code",
      "metadata": {
        "id": "wOtDkahyUqN-"
      },
      "source": [
        "def main():\n",
        "\n",
        "  df = data_setup(n = 10000)\n",
        "  tfidf, feature_array = corpus_tfidf(df) \n",
        "  embeddings = load_embeddings()\n",
        "\n",
        "  for model in ['lsa']: #['baseline', 'textrank', 'lsa']:\n",
        "    #  train each configuration on a subset of the data and get evaluation metrics (1/10 of 10,000)\n",
        "    eval_results, _ = train_config_loop(df.head(1000), tfidf, feature_array, embeddings, stop_words, model_configurations[model], eval_only = True,\n",
        "                                        save_every_cnt = 50, filename = 'train_config_loop', start_from = 'train_config_loop_' + model) \n",
        "    ## TODO reduce columns saved in eval_results and make an option not to save model_results so don't have so much data sitting around\n",
        "\n",
        "    # find best config for each evaluation metrics\n",
        "    best_configs = find_best_configs(eval_results)\n",
        "\n",
        "    # train full model on the best configurations for each metric\n",
        "    print('training best models')\n",
        "    eval_results_dict = {} # for each eval metric, distribution of evaluation metrics \n",
        "    model_results_dict = {} # for each eval metric, data with predicted summaries\n",
        "    seen_configs = {}  # for each eval metric, best configuration \n",
        "    seen_metrics = []\n",
        "    for metric in best_configs.keys(): \n",
        "      config = tuple(best_configs[metric].strip('(').strip(')').replace(\"'\", \"\").split(', '))\n",
        "      if config not in seen_configs.keys():\n",
        "        eval_results, model_results = train_config_loop(df, tfidf, feature_array, embeddings, stop_words, [config], eval_only = False) \n",
        "        eval_results_dict[metric] = eval_results[str(config)][metric]\n",
        "        model_results_dict[metric] = model_results[str(config)]\n",
        "        seen_configs[config] = metric\n",
        "      # prevent duplicative retraining: use existing results if best config for prior metric\n",
        "      else:\n",
        "        eval_results_dict[metric] = eval_results_dict[seen_configs[config]]\n",
        "        model_results_dict[metric] = model_results_dict[seen_configs[config]]\n",
        "      seen_metrics.append(metric)\n",
        "      # save best models\n",
        "      # save every iteration overwriting\n",
        "      # if need to restart, load in dictionaries, go through best_configs.keys() but not in seen_metrics, continue adding to dictionaries\n",
        "      with open('/content/drive/MyDrive/data/trained_model_' + model + '.pkl', 'wb') as f:\n",
        "          pickle.dump([seen_metrics, eval_results_dict, model_results_dict, best_configs], f) "
      ],
      "execution_count": 6,
      "outputs": []
    },
    {
      "cell_type": "code",
      "metadata": {
        "id": "lKpAlzPz0_XN"
      },
      "source": [
        "#with open('/content/drive/MyDrive/data/' + 'train_config_loop_lsa' + '.pkl','rb') as f:\n",
        "#    results_so_far = pickle.load(f) \n",
        "#eval_results = results_so_far[1]\n",
        "#model_results = results_so_far[2]"
      ],
      "execution_count": 7,
      "outputs": []
    },
    {
      "cell_type": "code",
      "metadata": {
        "colab": {
          "base_uri": "https://localhost:8080/"
        },
        "id": "UUh-PXOyjXKY",
        "outputId": "0d62cfd0-3ea4-4e9f-9f7d-66fbfd81c2a8"
      },
      "source": [
        "main()  "
      ],
      "execution_count": 8,
      "outputs": [
        {
          "output_type": "stream",
          "text": [
            "('lsa', 'nostop', 'lemma', 'bow', 'counts', 'no_normalization', 'trigram', 'num_words_gt')\n",
            "('lsa', 'nostop', 'lemma', 'bow', 'counts', 'no_normalization', 'all', 'num_sentences')\n",
            "('lsa', 'nostop', 'lemma', 'bow', 'counts', 'no_normalization', 'all', 'num_words_lt')\n",
            "('lsa', 'nostop', 'lemma', 'bow', 'counts', 'no_normalization', 'all', 'num_words_gt')\n",
            "('lsa', 'nostop', 'lemma', 'bow', 'counts', 'tf', 'unigram', 'num_sentences')\n",
            "('lsa', 'nostop', 'lemma', 'bow', 'counts', 'tf', 'unigram', 'num_words_lt')\n",
            "('lsa', 'nostop', 'lemma', 'bow', 'counts', 'tf', 'unigram', 'num_words_gt')\n",
            "('lsa', 'nostop', 'lemma', 'bow', 'counts', 'tf', 'bigram', 'num_sentences')\n",
            "('lsa', 'nostop', 'lemma', 'bow', 'counts', 'tf', 'bigram', 'num_words_lt')\n",
            "('lsa', 'nostop', 'lemma', 'bow', 'counts', 'tf', 'bigram', 'num_words_gt')\n",
            "('lsa', 'nostop', 'lemma', 'bow', 'counts', 'tf', 'trigram', 'num_sentences')\n",
            "('lsa', 'nostop', 'lemma', 'bow', 'counts', 'tf', 'trigram', 'num_words_lt')\n",
            "('lsa', 'nostop', 'lemma', 'bow', 'counts', 'tf', 'trigram', 'num_words_gt')\n",
            "('lsa', 'nostop', 'lemma', 'bow', 'counts', 'tf', 'all', 'num_sentences')\n",
            "('lsa', 'nostop', 'lemma', 'bow', 'counts', 'tf', 'all', 'num_words_lt')\n",
            "('lsa', 'nostop', 'lemma', 'bow', 'counts', 'tf', 'all', 'num_words_gt')\n",
            "('lsa', 'nostop', 'lemma', 'bow', 'counts', 'tfidf', 'unigram', 'num_sentences')\n",
            "('lsa', 'nostop', 'lemma', 'bow', 'counts', 'tfidf', 'unigram', 'num_words_lt')\n",
            "('lsa', 'nostop', 'lemma', 'bow', 'counts', 'tfidf', 'unigram', 'num_words_gt')\n",
            "('lsa', 'nostop', 'lemma', 'bow', 'counts', 'tfidf', 'bigram', 'num_sentences')\n",
            "('lsa', 'nostop', 'lemma', 'bow', 'counts', 'tfidf', 'bigram', 'num_words_lt')\n",
            "('lsa', 'nostop', 'lemma', 'bow', 'counts', 'tfidf', 'bigram', 'num_words_gt')\n",
            "('lsa', 'nostop', 'lemma', 'bow', 'counts', 'tfidf', 'trigram', 'num_sentences')\n",
            "('lsa', 'nostop', 'lemma', 'bow', 'counts', 'tfidf', 'trigram', 'num_words_lt')\n",
            "('lsa', 'nostop', 'lemma', 'bow', 'counts', 'tfidf', 'trigram', 'num_words_gt')\n",
            "('lsa', 'nostop', 'lemma', 'bow', 'counts', 'tfidf', 'all', 'num_sentences')\n",
            "('lsa', 'nostop', 'lemma', 'bow', 'counts', 'tfidf', 'all', 'num_words_lt')\n",
            "('lsa', 'nostop', 'lemma', 'bow', 'counts', 'tfidf', 'all', 'num_words_gt')\n",
            "('lsa', 'nostop', 'lemma', 'bow', 'binary', 'no_normalization', 'unigram', 'num_sentences')\n",
            "('lsa', 'nostop', 'lemma', 'bow', 'binary', 'no_normalization', 'unigram', 'num_words_lt')\n",
            "('lsa', 'nostop', 'lemma', 'bow', 'binary', 'no_normalization', 'unigram', 'num_words_gt')\n",
            "('lsa', 'nostop', 'lemma', 'bow', 'binary', 'no_normalization', 'bigram', 'num_sentences')\n",
            "('lsa', 'nostop', 'lemma', 'bow', 'binary', 'no_normalization', 'bigram', 'num_words_lt')\n",
            "('lsa', 'nostop', 'lemma', 'bow', 'binary', 'no_normalization', 'bigram', 'num_words_gt')\n",
            "('lsa', 'nostop', 'lemma', 'bow', 'binary', 'no_normalization', 'trigram', 'num_sentences')\n",
            "('lsa', 'nostop', 'lemma', 'bow', 'binary', 'no_normalization', 'trigram', 'num_words_lt')\n",
            "('lsa', 'nostop', 'lemma', 'bow', 'binary', 'no_normalization', 'trigram', 'num_words_gt')\n",
            "('lsa', 'nostop', 'lemma', 'bow', 'binary', 'no_normalization', 'all', 'num_sentences')\n",
            "('lsa', 'nostop', 'lemma', 'bow', 'binary', 'no_normalization', 'all', 'num_words_lt')\n",
            "('lsa', 'nostop', 'lemma', 'bow', 'binary', 'no_normalization', 'all', 'num_words_gt')\n",
            "('lsa', 'nostop', 'lemma', 'bow', 'binary', 'tf', 'unigram', 'num_sentences')\n",
            "('lsa', 'nostop', 'lemma', 'bow', 'binary', 'tf', 'unigram', 'num_words_lt')\n",
            "('lsa', 'nostop', 'lemma', 'bow', 'binary', 'tf', 'unigram', 'num_words_gt')\n",
            "('lsa', 'nostop', 'lemma', 'bow', 'binary', 'tf', 'bigram', 'num_sentences')\n",
            "('lsa', 'nostop', 'lemma', 'bow', 'binary', 'tf', 'bigram', 'num_words_lt')\n",
            "('lsa', 'nostop', 'lemma', 'bow', 'binary', 'tf', 'bigram', 'num_words_gt')\n",
            "('lsa', 'nostop', 'lemma', 'bow', 'binary', 'tf', 'trigram', 'num_sentences')\n",
            "('lsa', 'nostop', 'lemma', 'bow', 'binary', 'tf', 'trigram', 'num_words_lt')\n",
            "('lsa', 'nostop', 'lemma', 'bow', 'binary', 'tf', 'trigram', 'num_words_gt')\n",
            "('lsa', 'nostop', 'lemma', 'bow', 'binary', 'tf', 'all', 'num_sentences')\n",
            "saving! 50\n",
            "('lsa', 'nostop', 'lemma', 'bow', 'binary', 'tf', 'all', 'num_words_lt')\n",
            "('lsa', 'nostop', 'lemma', 'bow', 'binary', 'tf', 'all', 'num_words_gt')\n",
            "('lsa', 'nostop', 'lemma', 'bow', 'binary', 'tfidf', 'unigram', 'num_sentences')\n",
            "('lsa', 'nostop', 'lemma', 'bow', 'binary', 'tfidf', 'unigram', 'num_words_lt')\n",
            "('lsa', 'nostop', 'lemma', 'bow', 'binary', 'tfidf', 'unigram', 'num_words_gt')\n",
            "('lsa', 'nostop', 'lemma', 'bow', 'binary', 'tfidf', 'bigram', 'num_sentences')\n",
            "('lsa', 'nostop', 'lemma', 'bow', 'binary', 'tfidf', 'bigram', 'num_words_lt')\n",
            "('lsa', 'nostop', 'lemma', 'bow', 'binary', 'tfidf', 'bigram', 'num_words_gt')\n",
            "('lsa', 'nostop', 'lemma', 'bow', 'binary', 'tfidf', 'trigram', 'num_sentences')\n",
            "('lsa', 'nostop', 'lemma', 'bow', 'binary', 'tfidf', 'trigram', 'num_words_lt')\n",
            "('lsa', 'nostop', 'lemma', 'bow', 'binary', 'tfidf', 'trigram', 'num_words_gt')\n",
            "('lsa', 'nostop', 'lemma', 'bow', 'binary', 'tfidf', 'all', 'num_sentences')\n",
            "('lsa', 'nostop', 'lemma', 'bow', 'binary', 'tfidf', 'all', 'num_words_lt')\n"
          ],
          "name": "stdout"
        },
        {
          "output_type": "stream",
          "text": [
            "\n",
            "KeyboardInterrupt\n",
            "\n"
          ],
          "name": "stderr"
        }
      ]
    },
    {
      "cell_type": "code",
      "metadata": {
        "id": "F1ssJZi6IVsF"
      },
      "source": [
        "# test append\n",
        "# test start over - can we do 50 now? \n",
        "# run with small so can test pvalue script before commit to full runs"
      ],
      "execution_count": null,
      "outputs": []
    }
  ]
}