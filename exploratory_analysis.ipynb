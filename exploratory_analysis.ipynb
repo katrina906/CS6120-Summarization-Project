{
 "cells": [
  {
   "cell_type": "code",
   "execution_count": 1,
   "metadata": {},
   "outputs": [],
   "source": [
    "%%capture\n",
    "!pip install -U seaborn"
   ]
  },
  {
   "cell_type": "code",
   "execution_count": 2,
   "metadata": {},
   "outputs": [],
   "source": [
    "import os\n",
    "import pandas as pd\n",
    "import pickle\n",
    "from nltk import tokenize\n",
    "import string\n",
    "import seaborn as sns\n",
    "import matplotlib.pyplot as plt"
   ]
  },
  {
   "cell_type": "markdown",
   "metadata": {},
   "source": [
    "### Load Data"
   ]
  },
  {
   "cell_type": "code",
   "execution_count": 3,
   "metadata": {},
   "outputs": [],
   "source": [
    "file = open(\"stories_concat.pkl\",'rb')\n",
    "stories = pickle.load(file)"
   ]
  },
  {
   "cell_type": "markdown",
   "metadata": {},
   "source": [
    "### Extract Text Elements"
   ]
  },
  {
   "cell_type": "code",
   "execution_count": 4,
   "metadata": {},
   "outputs": [],
   "source": [
    "df = pd.DataFrame.from_dict(stories, orient = 'index', columns = ['text'])"
   ]
  },
  {
   "cell_type": "code",
   "execution_count": 5,
   "metadata": {},
   "outputs": [],
   "source": [
    "def extract_summary(df):\n",
    "    # find first instance of @highlight in text\n",
    "    df['first_pos'] = df.text.str.find('@highlight')\n",
    "    # new column for summary\n",
    "    df['summary'] = df.apply(lambda row: row.text[row.first_pos:], axis = 1)\n",
    "    df.summary = df.summary.str.replace('@highlight', '')\n",
    "    # remove summary from text\n",
    "    df.text = df.apply(lambda row: row.text[:row.first_pos], axis = 1)\n",
    "    \n",
    "    return df\n",
    "\n",
    "def extract_words(df, source_var, word_var):\n",
    "    df[word_var] = df[source_var].str.lower()\n",
    "    df[word_var] = df[word_var].apply(lambda row: row.translate(str.maketrans('', '', string.punctuation)))\n",
    "    df[word_var] = df[word_var].str.split(' ')\n",
    "    \n",
    "    return df"
   ]
  },
  {
   "cell_type": "code",
   "execution_count": null,
   "metadata": {},
   "outputs": [],
   "source": [
    "# extract summary from text block\n",
    "df = extract_summary(df)\n",
    "df.summary = df.summary.str.strip()\n",
    "\n",
    "# get sentences\n",
    "# summary: @highlight chunks not separated by punctuation, so split by spaces and then within split by sentences\n",
    "df['sentences_summary'] = df.summary.str.split('    ')\n",
    "df.sentences_summary = df.sentences_summary.apply(lambda row: [tokenize.sent_tokenize(i) for i in row])\n",
    "df.sentences_summary = df.sentences_summary.apply(lambda row: [item for sublist in row for item in sublist])\n",
    "# text sentence tokenization using nltk\n",
    "df['sentences'] = df.text.apply(lambda row: tokenize.sent_tokenize(row))\n",
    "\n",
    "# get words without punctuation, downcased\n",
    "df = extract_words(df, 'text', 'words')\n",
    "df = extract_words(df, 'summary', 'words_summary')"
   ]
  },
  {
   "cell_type": "code",
   "execution_count": null,
   "metadata": {},
   "outputs": [],
   "source": [
    "# save\n",
    "with open ('cleaned_df.pkl', 'wb') as f:\n",
    "    pickle.dump(df, f)"
   ]
  },
  {
   "cell_type": "code",
   "execution_count": 4,
   "metadata": {},
   "outputs": [],
   "source": [
    "#file = open(\"stories_df.pkl\",'rb')\n",
    "#df = pickle.load(file)"
   ]
  },
  {
   "cell_type": "markdown",
   "metadata": {},
   "source": [
    "### Distribution of Number of Sentences, Words"
   ]
  },
  {
   "cell_type": "code",
   "execution_count": 10,
   "metadata": {},
   "outputs": [],
   "source": [
    "df['num_sentences'] = df.sentences.apply(lambda row: len(row))\n",
    "df['num_words'] = df.words.apply(lambda row: len(row))\n",
    "\n",
    "df['num_sentences_summary'] = df.sentences_summary.apply(lambda row: len(row))\n",
    "df['num_words_summary'] = df.words_summary.apply(lambda row: len(row))"
   ]
  },
  {
   "cell_type": "markdown",
   "metadata": {},
   "source": [
    "__Text__"
   ]
  },
  {
   "cell_type": "code",
   "execution_count": 11,
   "metadata": {
    "scrolled": false
   },
   "outputs": [
    {
     "data": {
      "text/plain": [
       "[Text(0.5, 0, 'Number of Sentences'), Text(0.5, 1.0, 'Article Distributions')]"
      ]
     },
     "execution_count": 11,
     "metadata": {},
     "output_type": "execute_result"
    },
    {
     "data": {
      "image/png": "[encoded data removed]",
      "text/plain": [
       "<Figure size 576x432 with 1 Axes>"
      ]
     },
     "metadata": {
      "needs_background": "light"
     },
     "output_type": "display_data"
    }
   ],
   "source": [
    "plt.subplots(figsize = (8,6))\n",
    "ax = sns.histplot(data = df, x = 'num_sentences')\n",
    "ax.set(xlabel ='Number of Sentences', title = 'Article Distributions')"
   ]
  },
  {
   "cell_type": "code",
   "execution_count": 12,
   "metadata": {},
   "outputs": [
    {
     "data": {
      "text/plain": [
       "[Text(0.5, 0, 'Number of Words'), Text(0.5, 1.0, 'Article Distributions')]"
      ]
     },
     "execution_count": 12,
     "metadata": {},
     "output_type": "execute_result"
    },
    {
     "data": {
      "image/png": "[encoded data removed]",
      "text/plain": [
       "<Figure size 576x432 with 1 Axes>"
      ]
     },
     "metadata": {
      "needs_background": "light"
     },
     "output_type": "display_data"
    }
   ],
   "source": [
    "plt.subplots(figsize = (8,6))\n",
    "ax = sns.histplot(data = df, x = 'num_words')\n",
    "ax.set(xlabel ='Number of Words', title = 'Article Distributions')"
   ]
  },
  {
   "cell_type": "markdown",
   "metadata": {},
   "source": [
    "__Summary__"
   ]
  },
  {
   "cell_type": "code",
   "execution_count": 13,
   "metadata": {},
   "outputs": [
    {
     "data": {
      "text/plain": [
       "[Text(0.5, 0, 'Number of Words'), Text(0.5, 1.0, 'Summary Distributions')]"
      ]
     },
     "execution_count": 13,
     "metadata": {},
     "output_type": "execute_result"
    },
    {
     "data": {
      "image/png": "[encoded data removed]",
      "text/plain": [
       "<Figure size 576x432 with 1 Axes>"
      ]
     },
     "metadata": {
      "needs_background": "light"
     },
     "output_type": "display_data"
    }
   ],
   "source": [
    "plt.subplots(figsize = (8,6))\n",
    "ax = sns.histplot(data = df, x = 'num_words_summary')\n",
    "ax.set(xlabel ='Number of Words', title = 'Summary Distributions')"
   ]
  },
  {
   "cell_type": "code",
   "execution_count": 16,
   "metadata": {},
   "outputs": [
    {
     "data": {
      "text/plain": [
       "[Text(0.5, 0, 'Number of Sentences'), Text(0.5, 1.0, 'Summary Distributions')]"
      ]
     },
     "execution_count": 16,
     "metadata": {},
     "output_type": "execute_result"
    },
    {
     "data": {
      "image/png": "[encoded data removed]",
      "text/plain": [
       "<Figure size 576x432 with 1 Axes>"
      ]
     },
     "metadata": {
      "needs_background": "light"
     },
     "output_type": "display_data"
    }
   ],
   "source": [
    "plt.subplots(figsize = (8,6))\n",
    "ax = sns.histplot(data = df, x = 'num_sentences_summary')\n",
    "ax.set(xlabel ='Number of Sentences', title = 'Summary Distributions')"
   ]
  },
  {
   "cell_type": "markdown",
   "metadata": {},
   "source": [
    "### Correlation: Number Sentences/Words in Article vs Summary"
   ]
  },
  {
   "cell_type": "code",
   "execution_count": 17,
   "metadata": {},
   "outputs": [
    {
     "data": {
      "text/html": [
       "<div>\n",
       "<style scoped>\n",
       "    .dataframe tbody tr th:only-of-type {\n",
       "        vertical-align: middle;\n",
       "    }\n",
       "\n",
       "    .dataframe tbody tr th {\n",
       "        vertical-align: top;\n",
       "    }\n",
       "\n",
       "    .dataframe thead th {\n",
       "        text-align: right;\n",
       "    }\n",
       "</style>\n",
       "<table border=\"1\" class=\"dataframe\">\n",
       "  <thead>\n",
       "    <tr style=\"text-align: right;\">\n",
       "      <th></th>\n",
       "      <th>num_sentences</th>\n",
       "      <th>num_sentences_summary</th>\n",
       "    </tr>\n",
       "  </thead>\n",
       "  <tbody>\n",
       "    <tr>\n",
       "      <th>num_sentences</th>\n",
       "      <td>1.000000</td>\n",
       "      <td>0.203824</td>\n",
       "    </tr>\n",
       "    <tr>\n",
       "      <th>num_sentences_summary</th>\n",
       "      <td>0.203824</td>\n",
       "      <td>1.000000</td>\n",
       "    </tr>\n",
       "  </tbody>\n",
       "</table>\n",
       "</div>"
      ],
      "text/plain": [
       "                       num_sentences  num_sentences_summary\n",
       "num_sentences               1.000000               0.203824\n",
       "num_sentences_summary       0.203824               1.000000"
      ]
     },
     "execution_count": 17,
     "metadata": {},
     "output_type": "execute_result"
    }
   ],
   "source": [
    "df[['num_sentences', 'num_sentences_summary']].corr()"
   ]
  },
  {
   "cell_type": "code",
   "execution_count": 18,
   "metadata": {},
   "outputs": [
    {
     "data": {
      "text/html": [
       "<div>\n",
       "<style scoped>\n",
       "    .dataframe tbody tr th:only-of-type {\n",
       "        vertical-align: middle;\n",
       "    }\n",
       "\n",
       "    .dataframe tbody tr th {\n",
       "        vertical-align: top;\n",
       "    }\n",
       "\n",
       "    .dataframe thead th {\n",
       "        text-align: right;\n",
       "    }\n",
       "</style>\n",
       "<table border=\"1\" class=\"dataframe\">\n",
       "  <thead>\n",
       "    <tr style=\"text-align: right;\">\n",
       "      <th></th>\n",
       "      <th>num_words</th>\n",
       "      <th>num_words_summary</th>\n",
       "    </tr>\n",
       "  </thead>\n",
       "  <tbody>\n",
       "    <tr>\n",
       "      <th>num_words</th>\n",
       "      <td>1.000000</td>\n",
       "      <td>0.270062</td>\n",
       "    </tr>\n",
       "    <tr>\n",
       "      <th>num_words_summary</th>\n",
       "      <td>0.270062</td>\n",
       "      <td>1.000000</td>\n",
       "    </tr>\n",
       "  </tbody>\n",
       "</table>\n",
       "</div>"
      ],
      "text/plain": [
       "                   num_words  num_words_summary\n",
       "num_words           1.000000           0.270062\n",
       "num_words_summary   0.270062           1.000000"
      ]
     },
     "execution_count": 18,
     "metadata": {},
     "output_type": "execute_result"
    }
   ],
   "source": [
    "df[['num_words', 'num_words_summary']].corr()"
   ]
  },
  {
   "cell_type": "markdown",
   "metadata": {},
   "source": [
    "### Words in Summary that don't appear in original text"
   ]
  },
  {
   "cell_type": "code",
   "execution_count": 23,
   "metadata": {
    "scrolled": true
   },
   "outputs": [],
   "source": [
    "def set_diff_words(row):\n",
    "    return set(row.words_summary).difference(set(row.words))\n",
    "\n",
    "df['new_summary_words'] = df.apply(lambda row: set_diff_words(row), axis = 1)\n",
    "df['num_new_summary_words'] = df.new_summary_words.apply(lambda row: len(row))"
   ]
  },
  {
   "cell_type": "code",
   "execution_count": null,
   "metadata": {},
   "outputs": [],
   "source": []
  },
  {
   "cell_type": "code",
   "execution_count": null,
   "metadata": {},
   "outputs": [],
   "source": []
  }
 ],
 "metadata": {
  "kernelspec": {
   "display_name": "Python 3",
   "language": "python",
   "name": "python3"
  },
  "language_info": {
   "codemirror_mode": {
    "name": "ipython",
    "version": 3
   },
   "file_extension": ".py",
   "mimetype": "text/x-python",
   "name": "python",
   "nbconvert_exporter": "python",
   "pygments_lexer": "ipython3",
   "version": "3.7.6"
  }
 },
 "nbformat": 4,
 "nbformat_minor": 4
}
