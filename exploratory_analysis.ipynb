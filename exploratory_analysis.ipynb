{
  "nbformat": 4,
  "nbformat_minor": 0,
  "metadata": {
    "kernelspec": {
      "display_name": "Python 3",
      "language": "python",
      "name": "python3"
    },
    "language_info": {
      "codemirror_mode": {
        "name": "ipython",
        "version": 3
      },
      "file_extension": ".py",
      "mimetype": "text/x-python",
      "name": "python",
      "nbconvert_exporter": "python",
      "pygments_lexer": "ipython3",
      "version": "3.7.6"
    },
    "colab": {
      "name": "exploratory_analysis.ipynb",
      "provenance": [],
      "collapsed_sections": [],
      "toc_visible": true,
      "include_colab_link": true
    }
  },
  "cells": [
    {
      "cell_type": "markdown",
      "metadata": {
        "id": "view-in-github",
        "colab_type": "text"
      },
      "source": [
        "<a href=\"https://colab.research.google.com/github/katrina906/CS6120-Summarization-Project/blob/main/exploratory_analysis.ipynb\" target=\"_parent\"><img src=\"https://colab.research.google.com/assets/colab-badge.svg\" alt=\"Open In Colab\"/></a>"
      ]
    },
    {
      "cell_type": "code",
      "metadata": {
        "id": "Q_I3tEWf3QSl"
      },
      "source": [
        "#%%capture\n",
        "#!pip install -U seaborn"
      ],
      "execution_count": null,
      "outputs": []
    },
    {
      "cell_type": "code",
      "metadata": {
        "id": "faRu4cBB3QSm"
      },
      "source": [
        "import os\n",
        "import pandas as pd\n",
        "import pickle\n",
        "from nltk import tokenize\n",
        "import string\n",
        "import seaborn as sns\n",
        "import matplotlib.pyplot as plt\n",
        "import pyarrow\n",
        "import nltk"
      ],
      "execution_count": 1,
      "outputs": []
    },
    {
      "cell_type": "code",
      "metadata": {
        "id": "bUnIFKHA7fIP",
        "colab": {
          "base_uri": "https://localhost:8080/"
        },
        "outputId": "b2f222ef-d948-467c-a3e7-bbfa3342bab7"
      },
      "source": [
        "nltk.download('punkt')"
      ],
      "execution_count": 2,
      "outputs": [
        {
          "output_type": "stream",
          "text": [
            "[nltk_data] Downloading package punkt to /root/nltk_data...\n",
            "[nltk_data]   Unzipping tokenizers/punkt.zip.\n"
          ],
          "name": "stdout"
        },
        {
          "output_type": "execute_result",
          "data": {
            "text/plain": [
              "True"
            ]
          },
          "metadata": {
            "tags": []
          },
          "execution_count": 2
        }
      ]
    },
    {
      "cell_type": "markdown",
      "metadata": {
        "id": "MvEeaZaF3QSn"
      },
      "source": [
        "### Load Data"
      ]
    },
    {
      "cell_type": "code",
      "metadata": {
        "id": "2FBKtbZg5_ty"
      },
      "source": [
        "df = pd.read_pickle(\"/content/drive/MyDrive/data/stories_df.pkl\")"
      ],
      "execution_count": 5,
      "outputs": []
    },
    {
      "cell_type": "code",
      "metadata": {
        "colab": {
          "base_uri": "https://localhost:8080/"
        },
        "id": "neQMBVON3e6g",
        "outputId": "7469a6b5-a9e5-4bfa-a7aa-c56684b46a74"
      },
      "source": [
        "from google.colab import drive\n",
        "drive.mount('/content/drive')"
      ],
      "execution_count": 4,
      "outputs": [
        {
          "output_type": "stream",
          "text": [
            "Mounted at /content/drive\n"
          ],
          "name": "stdout"
        }
      ]
    },
    {
      "cell_type": "markdown",
      "metadata": {
        "id": "ZwVLD3MC3QSo"
      },
      "source": [
        "### Extract Text Elements"
      ]
    },
    {
      "cell_type": "code",
      "metadata": {
        "id": "5k2YhL5g3QSp"
      },
      "source": [
        "def extract_summary(df):\n",
        "    # find first instance of @highlight in text\n",
        "    df['first_pos'] = df.text.str.find('@highlight')\n",
        "    # new column for summary\n",
        "    df['summary'] = df.apply(lambda row: row.text[row.first_pos:], axis = 1)\n",
        "    df.summary = df.summary.str.replace('@highlight', '')\n",
        "    # remove summary from text\n",
        "    df.text = df.apply(lambda row: row.text[:row.first_pos], axis = 1)\n",
        "    \n",
        "    return df\n",
        "\n",
        "def extract_words(df, source_var, word_var):\n",
        "    df[word_var] = df[source_var].str.lower()\n",
        "    df[word_var] = df[word_var].apply(lambda row: row.translate(str.maketrans('', '', string.punctuation)))\n",
        "    df[word_var] = df[word_var].str.split(' ')\n",
        "    \n",
        "    return df"
      ],
      "execution_count": 6,
      "outputs": []
    },
    {
      "cell_type": "code",
      "metadata": {
        "id": "jeh1JRytu87t"
      },
      "source": [
        "# extract summary from text block\r\n",
        "df = extract_summary(df)\r\n",
        "df.summary = df.summary.str.strip()\r\n",
        "\r\n",
        "# drop empty text (about 100 articles that only have summaries)\r\n",
        "df = df[df.text != '  ']\r\n",
        "\r\n",
        "# get sentences\r\n",
        "# summary: @highlight chunks not separated by punctuation, so split by spaces and then within split by sentences\r\n",
        "df['sentences_summary'] = df.summary.str.split('    ')\r\n",
        "df.sentences_summary = df.sentences_summary.apply(lambda row: [tokenize.sent_tokenize(i) for i in row])\r\n",
        "df.sentences_summary = df.sentences_summary.apply(lambda row: [item for sublist in row for item in sublist])\r\n",
        "# text sentence tokenization using nltk\r\n",
        "df['sentences'] = df.text.apply(lambda row: tokenize.sent_tokenize(row))\r\n",
        "\r\n",
        "# strip location and news source designations off of first sentence\r\n",
        "df['first_sentence'] = df.sentences.apply(lambda row: row[0])\r\n",
        "df.first_sentence = df.first_sentence.str.split(' -- ').str[-1] \\\r\n",
        "                                     .str.replace('\\\\(CNN\\\\)', '')\r\n",
        "df.sentences = df.apply(lambda row: [row.first_sentence] + row.sentences[1:], axis = 1)\r\n",
        "\r\n",
        "# get words without punctuation, downcased for EDA\r\n",
        "df = extract_words(df, 'text', 'words')\r\n",
        "df = extract_words(df, 'summary', 'words_summary')"
      ],
      "execution_count": null,
      "outputs": []
    },
    {
      "cell_type": "code",
      "metadata": {
        "id": "8JWGiRyK8VAZ"
      },
      "source": [
        "df.to_pickle(\"/content/drive/MyDrive/data/cleaned_df.pkl\")"
      ],
      "execution_count": 12,
      "outputs": []
    },
    {
      "cell_type": "code",
      "metadata": {
        "scrolled": true,
        "id": "xoW5Hq9c3QSq"
      },
      "source": [
        "#df = pd.read_pickle(\"/content/drive/MyDrive/data/cleaned_df.pkl\")"
      ],
      "execution_count": null,
      "outputs": []
    },
    {
      "cell_type": "markdown",
      "metadata": {
        "id": "wxP98xmi3QSq"
      },
      "source": [
        "### Distribution of Number of Sentences, Words"
      ]
    },
    {
      "cell_type": "code",
      "metadata": {
        "id": "hU94-n4Z3QSr"
      },
      "source": [
        "df['num_sentences'] = df.sentences.apply(lambda row: len(row))\n",
        "df['num_words'] = df.words.apply(lambda row: len(row))\n",
        "\n",
        "df['num_sentences_summary'] = df.sentences_summary.apply(lambda row: len(row))\n",
        "df['num_words_summary'] = df.words_summary.apply(lambda row: len(row))"
      ],
      "execution_count": null,
      "outputs": []
    },
    {
      "cell_type": "markdown",
      "metadata": {
        "id": "UEXs9Ss13QSr"
      },
      "source": [
        "__Text__"
      ]
    },
    {
      "cell_type": "code",
      "metadata": {
        "scrolled": false,
        "id": "CVkJjh6K3QSr",
        "outputId": "c461ab9d-6f8c-4ccd-d8af-f1a286c3eb62"
      },
      "source": [
        "plt.subplots(figsize = (8,6))\n",
        "ax = sns.histplot(data = df, x = 'num_sentences')\n",
        "ax.set(xlabel ='Number of Sentences', title = 'Article Distributions')"
      ],
      "execution_count": null,
      "outputs": [
        {
          "output_type": "execute_result",
          "data": {
            "text/plain": [
              "[Text(0.5, 0, 'Number of Sentences'), Text(0.5, 1.0, 'Article Distributions')]"
            ]
          },
          "metadata": {
            "tags": []
          },
          "execution_count": 10
        },
        {
          "output_type": "display_data",
          "data": {
            "image/png": "[encoded data removed]",
            "text/plain": [
              "<Figure size 576x432 with 1 Axes>"
            ]
          },
          "metadata": {
            "tags": [],
            "needs_background": "light"
          }
        }
      ]
    },
    {
      "cell_type": "code",
      "metadata": {
        "id": "SESkIyAE3QSr",
        "outputId": "de5afa76-bbd0-43f2-f15a-aaf7a56a1acf"
      },
      "source": [
        "plt.subplots(figsize = (8,6))\n",
        "ax = sns.histplot(data = df, x = 'num_words')\n",
        "ax.set(xlabel ='Number of Words', title = 'Article Distributions')"
      ],
      "execution_count": null,
      "outputs": [
        {
          "output_type": "execute_result",
          "data": {
            "text/plain": [
              "[Text(0.5, 0, 'Number of Words'), Text(0.5, 1.0, 'Article Distributions')]"
            ]
          },
          "metadata": {
            "tags": []
          },
          "execution_count": 11
        },
        {
          "output_type": "display_data",
          "data": {
            "image/png": "[encoded data removed]",
            "text/plain": [
              "<Figure size 576x432 with 1 Axes>"
            ]
          },
          "metadata": {
            "tags": [],
            "needs_background": "light"
          }
        }
      ]
    },
    {
      "cell_type": "markdown",
      "metadata": {
        "id": "nAiW4nJF3QSs"
      },
      "source": [
        "__Summary__"
      ]
    },
    {
      "cell_type": "code",
      "metadata": {
        "id": "F81HjpQe3QSs",
        "outputId": "8ba7f44f-3599-4923-ab6e-9199cf765c90"
      },
      "source": [
        "plt.subplots(figsize = (8,6))\n",
        "ax = sns.histplot(data = df, x = 'num_words_summary')\n",
        "ax.set(xlabel ='Number of Words', title = 'Summary Distributions')"
      ],
      "execution_count": null,
      "outputs": [
        {
          "output_type": "execute_result",
          "data": {
            "text/plain": [
              "[Text(0.5, 0, 'Number of Words'), Text(0.5, 1.0, 'Summary Distributions')]"
            ]
          },
          "metadata": {
            "tags": []
          },
          "execution_count": 12
        },
        {
          "output_type": "display_data",
          "data": {
            "image/png": "[encoded data removed]",
            "text/plain": [
              "<Figure size 576x432 with 1 Axes>"
            ]
          },
          "metadata": {
            "tags": [],
            "needs_background": "light"
          }
        }
      ]
    },
    {
      "cell_type": "code",
      "metadata": {
        "id": "20ESiJxB3QSs",
        "outputId": "7f1900ec-1461-4352-b02a-420412a67ee6"
      },
      "source": [
        "plt.subplots(figsize = (8,6))\n",
        "ax = sns.histplot(data = df, x = 'num_sentences_summary')\n",
        "ax.set(xlabel ='Number of Sentences', title = 'Summary Distributions')"
      ],
      "execution_count": null,
      "outputs": [
        {
          "output_type": "execute_result",
          "data": {
            "text/plain": [
              "[Text(0.5, 0, 'Number of Sentences'), Text(0.5, 1.0, 'Summary Distributions')]"
            ]
          },
          "metadata": {
            "tags": []
          },
          "execution_count": 13
        },
        {
          "output_type": "display_data",
          "data": {
            "image/png": "[encoded data removed]",
            "text/plain": [
              "<Figure size 576x432 with 1 Axes>"
            ]
          },
          "metadata": {
            "tags": [],
            "needs_background": "light"
          }
        }
      ]
    },
    {
      "cell_type": "markdown",
      "metadata": {
        "id": "79oK84Ow3QSt"
      },
      "source": [
        "### Number of Words in Summary that don't appear in original text\n",
        "Evidence for generative summarization - example summaries include words that are not in the main text"
      ]
    },
    {
      "cell_type": "code",
      "metadata": {
        "scrolled": true,
        "id": "w0QGJ2cB3QSt"
      },
      "source": [
        "def set_diff_words(row):\n",
        "    return set(row.words_summary).difference(set(row.words))\n",
        "\n",
        "df['new_summary_words'] = df.apply(lambda row: set_diff_words(row), axis = 1)\n",
        "df['num_new_summary_words'] = df.new_summary_words.apply(lambda row: len(row))"
      ],
      "execution_count": null,
      "outputs": []
    },
    {
      "cell_type": "code",
      "metadata": {
        "id": "Tbps0tle3QSt",
        "outputId": "de23b2ae-6a94-403a-a3d9-3fb970f6ef70"
      },
      "source": [
        "plt.subplots(figsize = (8,6))\n",
        "ax = sns.histplot(data = df, x = 'num_new_summary_words')\n",
        "ax.set(xlabel ='Number of Words', title = 'Number of New Words in Summary')"
      ],
      "execution_count": null,
      "outputs": [
        {
          "output_type": "execute_result",
          "data": {
            "text/plain": [
              "[Text(0.5, 0, 'Number of Words'),\n",
              " Text(0.5, 1.0, 'Number of New Words in Summary')]"
            ]
          },
          "metadata": {
            "tags": []
          },
          "execution_count": 18
        },
        {
          "output_type": "display_data",
          "data": {
            "image/png": "[encoded data removed]",
            "text/plain": [
              "<Figure size 576x432 with 1 Axes>"
            ]
          },
          "metadata": {
            "tags": [],
            "needs_background": "light"
          }
        }
      ]
    },
    {
      "cell_type": "markdown",
      "metadata": {
        "id": "uOmaec-u3QSt"
      },
      "source": [
        "__Percent of words that are new in summary__ \n",
        "(out of number of unique words)"
      ]
    },
    {
      "cell_type": "code",
      "metadata": {
        "id": "M738YHFQ3QSu"
      },
      "source": [
        "df['num_unique_words'] = df.apply(lambda row: len(set(row.words_summary)), axis = 1)\n",
        "df['perc_new_words'] = df.num_new_summary_words / df.num_unique_words"
      ],
      "execution_count": null,
      "outputs": []
    },
    {
      "cell_type": "code",
      "metadata": {
        "id": "688tDahz3QSu",
        "outputId": "ef625cca-6d55-4db8-a60a-62ea54eb54a6"
      },
      "source": [
        "plt.subplots(figsize = (8,6))\n",
        "ax = sns.histplot(data = df, x = 'perc_new_words')\n",
        "ax.set(xlabel ='Percent of Words', title = 'Percent of Words that are New in Summary')"
      ],
      "execution_count": null,
      "outputs": [
        {
          "output_type": "execute_result",
          "data": {
            "text/plain": [
              "[Text(0.5, 0, 'Percent of Words'),\n",
              " Text(0.5, 1.0, 'Percent of Words that are New in Summary')]"
            ]
          },
          "metadata": {
            "tags": []
          },
          "execution_count": 40
        },
        {
          "output_type": "display_data",
          "data": {
            "image/png": "[encoded data removed]",
            "text/plain": [
              "<Figure size 576x432 with 1 Axes>"
            ]
          },
          "metadata": {
            "tags": [],
            "needs_background": "light"
          }
        }
      ]
    },
    {
      "cell_type": "markdown",
      "metadata": {
        "id": "c1GbxgOh3QSu"
      },
      "source": [
        "## How long should the summary be? "
      ]
    },
    {
      "cell_type": "markdown",
      "metadata": {
        "id": "_HorbLYL3QSu"
      },
      "source": [
        "__Correlation between text and summary length__ \n",
        "- Positive correlation but not very strong"
      ]
    },
    {
      "cell_type": "code",
      "metadata": {
        "id": "JBYegj053QSv",
        "outputId": "c6611188-6ff8-4b98-8853-2082416860e9"
      },
      "source": [
        "df[['num_sentences', 'num_sentences_summary']].corr()"
      ],
      "execution_count": null,
      "outputs": [
        {
          "output_type": "execute_result",
          "data": {
            "text/html": [
              "<div>\n",
              "<style scoped>\n",
              "    .dataframe tbody tr th:only-of-type {\n",
              "        vertical-align: middle;\n",
              "    }\n",
              "\n",
              "    .dataframe tbody tr th {\n",
              "        vertical-align: top;\n",
              "    }\n",
              "\n",
              "    .dataframe thead th {\n",
              "        text-align: right;\n",
              "    }\n",
              "</style>\n",
              "<table border=\"1\" class=\"dataframe\">\n",
              "  <thead>\n",
              "    <tr style=\"text-align: right;\">\n",
              "      <th></th>\n",
              "      <th>num_sentences</th>\n",
              "      <th>num_sentences_summary</th>\n",
              "    </tr>\n",
              "  </thead>\n",
              "  <tbody>\n",
              "    <tr>\n",
              "      <th>num_sentences</th>\n",
              "      <td>1.000000</td>\n",
              "      <td>0.203568</td>\n",
              "    </tr>\n",
              "    <tr>\n",
              "      <th>num_sentences_summary</th>\n",
              "      <td>0.203568</td>\n",
              "      <td>1.000000</td>\n",
              "    </tr>\n",
              "  </tbody>\n",
              "</table>\n",
              "</div>"
            ],
            "text/plain": [
              "                       num_sentences  num_sentences_summary\n",
              "num_sentences               1.000000               0.203568\n",
              "num_sentences_summary       0.203568               1.000000"
            ]
          },
          "metadata": {
            "tags": []
          },
          "execution_count": 18
        }
      ]
    },
    {
      "cell_type": "code",
      "metadata": {
        "id": "-3ptFyZ-3QSv",
        "outputId": "8befbe1d-7b59-4f32-e10d-dd28e6bd2afe"
      },
      "source": [
        "df[['num_words', 'num_words_summary']].corr()"
      ],
      "execution_count": null,
      "outputs": [
        {
          "output_type": "execute_result",
          "data": {
            "text/html": [
              "<div>\n",
              "<style scoped>\n",
              "    .dataframe tbody tr th:only-of-type {\n",
              "        vertical-align: middle;\n",
              "    }\n",
              "\n",
              "    .dataframe tbody tr th {\n",
              "        vertical-align: top;\n",
              "    }\n",
              "\n",
              "    .dataframe thead th {\n",
              "        text-align: right;\n",
              "    }\n",
              "</style>\n",
              "<table border=\"1\" class=\"dataframe\">\n",
              "  <thead>\n",
              "    <tr style=\"text-align: right;\">\n",
              "      <th></th>\n",
              "      <th>num_words</th>\n",
              "      <th>num_words_summary</th>\n",
              "    </tr>\n",
              "  </thead>\n",
              "  <tbody>\n",
              "    <tr>\n",
              "      <th>num_words</th>\n",
              "      <td>1.000000</td>\n",
              "      <td>0.269358</td>\n",
              "    </tr>\n",
              "    <tr>\n",
              "      <th>num_words_summary</th>\n",
              "      <td>0.269358</td>\n",
              "      <td>1.000000</td>\n",
              "    </tr>\n",
              "  </tbody>\n",
              "</table>\n",
              "</div>"
            ],
            "text/plain": [
              "                   num_words  num_words_summary\n",
              "num_words           1.000000           0.269358\n",
              "num_words_summary   0.269358           1.000000"
            ]
          },
          "metadata": {
            "tags": []
          },
          "execution_count": 19
        }
      ]
    },
    {
      "cell_type": "markdown",
      "metadata": {
        "id": "trc-RNJ93QSv"
      },
      "source": [
        "__Number of Summary Sentences per Text Sentences__\n",
        "- About 6 text sentences per summary sentence\n",
        "- Outliers > 1 because text is not naturally in sentences (ex listing soccer game scores)"
      ]
    },
    {
      "cell_type": "code",
      "metadata": {
        "id": "vpNZa5dl3QSv",
        "outputId": "b789dccb-13c3-4fc6-8c8a-e5dd455836d4"
      },
      "source": [
        "df['sentence_ratio'] = df.num_sentences_summary / df.num_sentences\n",
        "df.sentence_ratio.describe()"
      ],
      "execution_count": null,
      "outputs": [
        {
          "output_type": "execute_result",
          "data": {
            "text/plain": [
              "count    92465.000000\n",
              "mean         0.155073\n",
              "std          0.111187\n",
              "min          0.013514\n",
              "25%          0.085106\n",
              "50%          0.125000\n",
              "75%          0.200000\n",
              "max          4.000000\n",
              "Name: sentence_ratio, dtype: float64"
            ]
          },
          "metadata": {
            "tags": []
          },
          "execution_count": 16
        }
      ]
    },
    {
      "cell_type": "code",
      "metadata": {
        "id": "qgwhB1Op3QSw",
        "outputId": "e25d70c2-3638-4ddc-84c2-9b6df1d9a3bc"
      },
      "source": [
        "plt.subplots(figsize = (8,6))\n",
        "ax = sns.histplot(data = df, x = 'sentence_ratio')\n",
        "ax.set(xlabel ='# Summary / # Text Sentences', title = 'How many summary sentences per text sentence?')"
      ],
      "execution_count": null,
      "outputs": [
        {
          "output_type": "execute_result",
          "data": {
            "text/plain": [
              "[Text(0.5, 0, '# Summary / # Text Sentences'),\n",
              " Text(0.5, 1.0, 'How many summary sentences per text sentence?')]"
            ]
          },
          "metadata": {
            "tags": []
          },
          "execution_count": 17
        },
        {
          "output_type": "display_data",
          "data": {
            "image/png": "[encoded data removed]",
            "text/plain": [
              "<Figure size 576x432 with 1 Axes>"
            ]
          },
          "metadata": {
            "tags": [],
            "needs_background": "light"
          }
        }
      ]
    }
  ]
}