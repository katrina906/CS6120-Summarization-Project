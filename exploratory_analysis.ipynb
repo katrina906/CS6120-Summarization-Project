{
  "nbformat": 4,
  "nbformat_minor": 0,
  "metadata": {
    "kernelspec": {
      "display_name": "Python 3",
      "language": "python",
      "name": "python3"
    },
    "language_info": {
      "codemirror_mode": {
        "name": "ipython",
        "version": 3
      },
      "file_extension": ".py",
      "mimetype": "text/x-python",
      "name": "python",
      "nbconvert_exporter": "python",
      "pygments_lexer": "ipython3",
      "version": "3.7.6"
    },
    "colab": {
      "name": "exploratory_analysis.ipynb",
      "provenance": [],
      "collapsed_sections": [],
      "toc_visible": true,
      "include_colab_link": true
    }
  },
  "cells": [
    {
      "cell_type": "markdown",
      "metadata": {
        "id": "view-in-github",
        "colab_type": "text"
      },
      "source": [
        "<a href=\"https://colab.research.google.com/github/katrina906/CS6120-Summarization-Project/blob/main/exploratory_analysis.ipynb\" target=\"_parent\"><img src=\"https://colab.research.google.com/assets/colab-badge.svg\" alt=\"Open In Colab\"/></a>"
      ]
    },
    {
      "cell_type": "markdown",
      "metadata": {
        "id": "CgCvnxYqjf9E"
      },
      "source": [
        "## Data Prep & Exploratory Analysis\n",
        "- Data Prep: Separate articles into text and summary, tokenize sentences, create features for EDA\n",
        "- Exploratory Analysis: \n",
        "  - Distributions of article, summary length\n",
        "  - Words in summary but not article\n",
        "  - Relative length summary vs article: generate heuristics for how long summaries should be "
      ]
    },
    {
      "cell_type": "code",
      "metadata": {
        "id": "Q_I3tEWf3QSl"
      },
      "source": [
        "%%capture\n",
        "!pip install -U seaborn"
      ],
      "execution_count": 1,
      "outputs": []
    },
    {
      "cell_type": "code",
      "metadata": {
        "id": "faRu4cBB3QSm"
      },
      "source": [
        "import os\n",
        "import pandas as pd\n",
        "import pickle\n",
        "from nltk import tokenize\n",
        "import string\n",
        "import seaborn as sns\n",
        "import matplotlib.pyplot as plt\n",
        "import pyarrow\n",
        "import nltk\n",
        "import numpy as np\n",
        "import bokeh\n",
        "from bokeh.layouts import gridplot, column, row\n",
        "from bokeh.plotting import figure, show, output_file, reset_output\n",
        "from bokeh.io import output_notebook\n",
        "from bokeh.models import Div\n",
        "from bokeh.models import Span"
      ],
      "execution_count": 2,
      "outputs": []
    },
    {
      "cell_type": "code",
      "metadata": {
        "id": "bUnIFKHA7fIP",
        "colab": {
          "base_uri": "https://localhost:8080/"
        },
        "outputId": "9e879041-2c89-4757-e7ad-5633b533840e"
      },
      "source": [
        "nltk.download('punkt')"
      ],
      "execution_count": 3,
      "outputs": [
        {
          "output_type": "stream",
          "text": [
            "[nltk_data] Downloading package punkt to /root/nltk_data...\n",
            "[nltk_data]   Package punkt is already up-to-date!\n"
          ],
          "name": "stdout"
        },
        {
          "output_type": "execute_result",
          "data": {
            "text/plain": [
              "True"
            ]
          },
          "metadata": {
            "tags": []
          },
          "execution_count": 3
        }
      ]
    },
    {
      "cell_type": "code",
      "metadata": {
        "id": "saC7Gn5Id907",
        "colab": {
          "base_uri": "https://localhost:8080/"
        },
        "outputId": "ad9fe7e9-65e2-47a8-e571-f734a62752e7"
      },
      "source": [
        "from google.colab import drive\n",
        "drive.mount('/content/drive')"
      ],
      "execution_count": 4,
      "outputs": [
        {
          "output_type": "stream",
          "text": [
            "Drive already mounted at /content/drive; to attempt to forcibly remount, call drive.mount(\"/content/drive\", force_remount=True).\n"
          ],
          "name": "stdout"
        }
      ]
    },
    {
      "cell_type": "markdown",
      "metadata": {
        "id": "MvEeaZaF3QSn"
      },
      "source": [
        "### Load Data\n",
        "CNN data originally unzipped and saved in cnn_data.ipynb"
      ]
    },
    {
      "cell_type": "code",
      "metadata": {
        "id": "2FBKtbZg5_ty"
      },
      "source": [
        "#df = pd.read_pickle(\"/content/drive/MyDrive/data/stories_df.pkl\")"
      ],
      "execution_count": 5,
      "outputs": []
    },
    {
      "cell_type": "markdown",
      "metadata": {
        "id": "ZwVLD3MC3QSo"
      },
      "source": [
        "### Basic Cleaning & Text Element Extraction\n",
        "- Separate summary from rest of text: marked by @highlight \n",
        "- Drop empty text (about 100 articles that only have summaries)\n",
        "- Separate text and summary into sentences \n",
        "- Strip news source and location information off of first text sentence\n",
        "  - Ex (CNN) New  York --- xxxx\n",
        "- Create EDA features:\n",
        "  - List of words from text and summary (lower case, no punctuation)\n",
        "  - Number of words and sentences in each text and summary\n",
        "- Drop observation when summary has more sentences or more words than text\n",
        "  - If more sentences sentences: text not formatted into sentences. Ex listing soccer game scores\n",
        "  - If more words: the text is a caption for video or photo. Summary includes more details than \"text\"\n",
        "  - Both are poor examples to summarize\n",
        "- Save as pickle for future use in modeling"
      ]
    },
    {
      "cell_type": "code",
      "metadata": {
        "id": "5k2YhL5g3QSp"
      },
      "source": [
        "def extract_summary(df):\n",
        "    # find first instance of @highlight in text\n",
        "    df['first_pos'] = df.text.str.find('@highlight')\n",
        "    # new column for summary\n",
        "    df['summary'] = df.apply(lambda row: row.text[row.first_pos:], axis = 1)\n",
        "    df.summary = df.summary.str.replace('@highlight', '')\n",
        "    # remove summary from text\n",
        "    df.text = df.apply(lambda row: row.text[:row.first_pos], axis = 1)\n",
        "    \n",
        "    return df\n",
        "\n",
        "def extract_words(df, source_var, word_var):\n",
        "    df[word_var] = df[source_var].str.lower()\n",
        "    df[word_var] = df[word_var].apply(lambda row: row.translate(str.maketrans('', '', string.punctuation)))\n",
        "    df[word_var] = df[word_var].str.split(' ')\n",
        "    \n",
        "    return df"
      ],
      "execution_count": 6,
      "outputs": []
    },
    {
      "cell_type": "code",
      "metadata": {
        "id": "-Oh47HPFlXTs"
      },
      "source": [
        "def cleaning(df):\n",
        "  # extract summary from text block\n",
        "  df = extract_summary(df)\n",
        "  df.summary = df.summary.str.strip()\n",
        "\n",
        "  # drop empty text (about 100 articles that only have summaries)\n",
        "  df = df[df.text != '  ']\n",
        "\n",
        "  # get sentences\n",
        "  # summary: @highlight chunks not separated by punctuation, so split by spaces and then within split by sentences\n",
        "  df['sentences_summary'] = df.summary.str.split('    ')\n",
        "  df.sentences_summary = df.sentences_summary.apply(lambda row: [tokenize.sent_tokenize(i) for i in row])\n",
        "  df.sentences_summary = df.sentences_summary.apply(lambda row: [item for sublist in row for item in sublist])\n",
        "  # text sentence tokenization using nltk\n",
        "  df['sentences'] = df.text.apply(lambda row: tokenize.sent_tokenize(row))\n",
        "\n",
        "  # strip location and news source designations off of first sentence\n",
        "  df['first_sentence'] = df.sentences.apply(lambda row: row[0])\n",
        "  df.first_sentence = df.first_sentence.str.split(' -- ').str[-1] \\\n",
        "                                      .str.replace('\\\\(CNN\\\\)', '')\n",
        "  df.sentences = df.apply(lambda row: [row.first_sentence] + row.sentences[1:], axis = 1)\n",
        "\n",
        "  # get words without punctuation, downcased for EDA\n",
        "  df = extract_words(df, 'text', 'words')\n",
        "  df = extract_words(df, 'summary', 'words_summary')\n",
        "\n",
        "  # count number of sentences and words per text, summary\n",
        "  df['num_sentences'] = df.sentences.apply(lambda row: len(row))\n",
        "  df['num_words'] = df.words.apply(lambda row: len(row))\n",
        "\n",
        "  df['num_sentences_summary'] = df.sentences_summary.apply(lambda row: len(row))\n",
        "  df['num_words_summary'] = df.words_summary.apply(lambda row: len(row))\n",
        "\n",
        "  # drop when summary # of sentences or words > text summary/words\n",
        "  df = df[df.num_words > df.num_words_summary]\n",
        "  df = df[df.num_sentences > df.num_sentences_summary]\n",
        "\n",
        "  return df"
      ],
      "execution_count": 7,
      "outputs": []
    },
    {
      "cell_type": "code",
      "metadata": {
        "id": "K5oW5EaPe_6v"
      },
      "source": [
        "#df = cleaning(df)"
      ],
      "execution_count": 8,
      "outputs": []
    },
    {
      "cell_type": "code",
      "metadata": {
        "id": "8JWGiRyK8VAZ"
      },
      "source": [
        "# save as pickle for future use in modeling\n",
        "#df.to_pickle(\"/content/drive/MyDrive/data/cleaned_df.pkl\")"
      ],
      "execution_count": 9,
      "outputs": []
    },
    {
      "cell_type": "code",
      "metadata": {
        "scrolled": true,
        "id": "xoW5Hq9c3QSq"
      },
      "source": [
        "df = pd.read_pickle(\"/content/drive/MyDrive/data/cleaned_df.pkl\")"
      ],
      "execution_count": 10,
      "outputs": []
    },
    {
      "cell_type": "markdown",
      "metadata": {
        "id": "rYbnKMy_26WZ"
      },
      "source": [
        "## Plotting Setup"
      ]
    },
    {
      "cell_type": "code",
      "metadata": {
        "id": "b75WfK4L23LH"
      },
      "source": [
        "#https://www.techwalla.com/articles/how-to-embed-an-excel-workbook-icon-into-powerpoint - embed html object into powerpoint"
      ],
      "execution_count": 11,
      "outputs": []
    },
    {
      "cell_type": "code",
      "metadata": {
        "id": "eQaDg0nR2cSF",
        "colab": {
          "base_uri": "https://localhost:8080/"
        },
        "outputId": "ea16f7e4-f7ad-436f-e834-62f275393610"
      },
      "source": [
        "%cd drive/MyDrive/figures"
      ],
      "execution_count": 12,
      "outputs": [
        {
          "output_type": "stream",
          "text": [
            "/content/drive/MyDrive/figures\n"
          ],
          "name": "stdout"
        }
      ]
    },
    {
      "cell_type": "code",
      "metadata": {
        "id": "QW7Ffip-mGmO"
      },
      "source": [
        "output_notebook()"
      ],
      "execution_count": 13,
      "outputs": []
    },
    {
      "cell_type": "code",
      "metadata": {
        "id": "jCC9N-NHoVf7"
      },
      "source": [
        "# rule for determining number of bins\n",
        "def freedman_diaconis_rule(data):\n",
        "\n",
        "  Q1 = np.quantile(data, 0.25)\n",
        "  Q3 = np.quantile(data, 0.75)\n",
        "  IQR = Q3 - Q1\n",
        "  cube = np.cbrt(len(data))\n",
        "  bin_width = 2*IQR/cube\n",
        "  num_bins = data.max()/bin_width\n",
        "\n",
        "  return num_bins"
      ],
      "execution_count": 14,
      "outputs": []
    },
    {
      "cell_type": "code",
      "metadata": {
        "id": "uzOP5G6Zluo6"
      },
      "source": [
        "def histogram(df, var, title, xlabel, onebinper = False, number_of_bins = None):\n",
        "\n",
        "  # create histogram\n",
        "  # one bin per observation or Freedman-Diaconis rule \n",
        "  if onebinper:\n",
        "    hist, edges = np.histogram(df[var], bins = int(df[var].max()))\n",
        "  else:\n",
        "    hist, edges = np.histogram(df[var], bins = int(np.floor(freedman_diaconis_rule(df[var]))))\n",
        "\n",
        "  if number_of_bins != None: \n",
        "    hist, edges = np.histogram(df[var], bins = number_of_bins)\n",
        "\n",
        "  # set up figure \n",
        "  p = figure(title=title, tools=\"hover, box_zoom, undo, crosshair\", background_fill_color=\"#fafafa\")\n",
        "\n",
        "  # plot histogram\n",
        "  p.quad(top=hist, bottom=0, left=edges[:-1], right=edges[1:],\n",
        "          fill_color=\"navy\", line_color=\"white\", alpha=0.5)\n",
        "  p.line(np.linspace(df[var].min(), df[var].max()), line_color=\"#ff8888\", line_width=4, alpha=0.7)\n",
        "\n",
        "  # formatting\n",
        "  p.y_range.start = 0\n",
        "  p.xaxis.axis_label = xlabel\n",
        "  \n",
        "  p.yaxis.axis_label = 'Count'\n",
        "  p.grid.grid_line_color=\"white\"\n",
        "  p.xaxis.axis_label_text_font_size = '12pt'\n",
        "  p.yaxis.axis_label_text_font_size = '12pt'\n",
        "  p.title.text_font_size = '14pt'\n",
        "\n",
        "  p.toolbar.logo = None\n",
        "  p.toolbar_location = None\n",
        "\n",
        "  return p"
      ],
      "execution_count": 15,
      "outputs": []
    },
    {
      "cell_type": "markdown",
      "metadata": {
        "id": "TPVN4Ddt2-_1"
      },
      "source": [
        "### Distribution of Number of Sentences, Words\n",
        "- Most articles 15-20 sentences and 400 words\n",
        "- Most summaries 4 sentences and 50 words"
      ]
    },
    {
      "cell_type": "code",
      "metadata": {
        "id": "bUnxj86gvni2"
      },
      "source": [
        "suptitle = Div(text = \"\"\"\n",
        "<html>\n",
        "<head>\n",
        "<style>\n",
        "h2\n",
        "</style>\n",
        "</head>\n",
        "<body>\n",
        "<h2>Length Distributions</h1>\n",
        "</body>\n",
        "</html>\n",
        "\"\"\")"
      ],
      "execution_count": 16,
      "outputs": []
    },
    {
      "cell_type": "code",
      "metadata": {
        "colab": {
          "base_uri": "https://localhost:8080/",
          "height": 875
        },
        "id": "kBp3uo7QqfId",
        "outputId": "3815688d-9964-421c-c215-2b7ae8646632"
      },
      "source": [
        "output_file(\"length_distributions.html\")\n",
        "p1 = histogram(df, 'num_sentences', 'Article', 'Number of Sentences', True)\n",
        "p2 = histogram(df, 'num_words', '', 'Number of Words')\n",
        "p3 = histogram(df, 'num_sentences_summary', 'Summary', 'Number of Sentences', True)\n",
        "p4 = histogram(df, 'num_words_summary', '', 'Number of Words')\n",
        "show(column(suptitle, \n",
        "            gridplot([[p1, p2]], plot_height = 400, plot_width = 400, toolbar_location= None),\n",
        "            gridplot([[p3, p4]], plot_height = 400, plot_width = 400, toolbar_location= None)))"
      ],
      "execution_count": 17,
      "outputs": [
        {
          "output_type": "display_data",
          "data": {
            "application/javascript": [
              "\n",
              "(function(root) {\n",
              "  function now() {\n",
              "    return new Date();\n",
              "  }\n",
              "\n",
              "  var force = true;\n",
              "\n",
              "  if (typeof root._bokeh_onload_callbacks === \"undefined\" || force === true) {\n",
              "    root._bokeh_onload_callbacks = [];\n",
              "    root._bokeh_is_loading = undefined;\n",
              "  }\n",
              "\n",
              "  var JS_MIME_TYPE = 'application/javascript';\n",
              "  var HTML_MIME_TYPE = 'text/html';\n",
              "  var EXEC_MIME_TYPE = 'application/vnd.bokehjs_exec.v0+json';\n",
              "  var CLASS_NAME = 'output_bokeh rendered_html';\n",
              "\n",
              "  /**\n",
              "   * Render data to the DOM node\n",
              "   */\n",
              "  function render(props, node) {\n",
              "    var script = document.createElement(\"script\");\n",
              "    node.appendChild(script);\n",
              "  }\n",
              "\n",
              "  /**\n",
              "   * Handle when an output is cleared or removed\n",
              "   */\n",
              "  function handleClearOutput(event, handle) {\n",
              "    var cell = handle.cell;\n",
              "\n",
              "    var id = cell.output_area._bokeh_element_id;\n",
              "    var server_id = cell.output_area._bokeh_server_id;\n",
              "    // Clean up Bokeh references\n",
              "    if (id != null && id in Bokeh.index) {\n",
              "      Bokeh.index[id].model.document.clear();\n",
              "      delete Bokeh.index[id];\n",
              "    }\n",
              "\n",
              "    if (server_id !== undefined) {\n",
              "      // Clean up Bokeh references\n",
              "      var cmd = \"from bokeh.io.state import curstate; print(curstate().uuid_to_server['\" + server_id + \"'].get_sessions()[0].document.roots[0]._id)\";\n",
              "      cell.notebook.kernel.execute(cmd, {\n",
              "        iopub: {\n",
              "          output: function(msg) {\n",
              "            var id = msg.content.text.trim();\n",
              "            if (id in Bokeh.index) {\n",
              "              Bokeh.index[id].model.document.clear();\n",
              "              delete Bokeh.index[id];\n",
              "            }\n",
              "          }\n",
              "        }\n",
              "      });\n",
              "      // Destroy server and session\n",
              "      var cmd = \"import bokeh.io.notebook as ion; ion.destroy_server('\" + server_id + \"')\";\n",
              "      cell.notebook.kernel.execute(cmd);\n",
              "    }\n",
              "  }\n",
              "\n",
              "  /**\n",
              "   * Handle when a new output is added\n",
              "   */\n",
              "  function handleAddOutput(event, handle) {\n",
              "    var output_area = handle.output_area;\n",
              "    var output = handle.output;\n",
              "\n",
              "    // limit handleAddOutput to display_data with EXEC_MIME_TYPE content only\n",
              "    if ((output.output_type != \"display_data\") || (!Object.prototype.hasOwnProperty.call(output.data, EXEC_MIME_TYPE))) {\n",
              "      return\n",
              "    }\n",
              "\n",
              "    var toinsert = output_area.element.find(\".\" + CLASS_NAME.split(' ')[0]);\n",
              "\n",
              "    if (output.metadata[EXEC_MIME_TYPE][\"id\"] !== undefined) {\n",
              "      toinsert[toinsert.length - 1].firstChild.textContent = output.data[JS_MIME_TYPE];\n",
              "      // store reference to embed id on output_area\n",
              "      output_area._bokeh_element_id = output.metadata[EXEC_MIME_TYPE][\"id\"];\n",
              "    }\n",
              "    if (output.metadata[EXEC_MIME_TYPE][\"server_id\"] !== undefined) {\n",
              "      var bk_div = document.createElement(\"div\");\n",
              "      bk_div.innerHTML = output.data[HTML_MIME_TYPE];\n",
              "      var script_attrs = bk_div.children[0].attributes;\n",
              "      for (var i = 0; i < script_attrs.length; i++) {\n",
              "        toinsert[toinsert.length - 1].firstChild.setAttribute(script_attrs[i].name, script_attrs[i].value);\n",
              "        toinsert[toinsert.length - 1].firstChild.textContent = bk_div.children[0].textContent\n",
              "      }\n",
              "      // store reference to server id on output_area\n",
              "      output_area._bokeh_server_id = output.metadata[EXEC_MIME_TYPE][\"server_id\"];\n",
              "    }\n",
              "  }\n",
              "\n",
              "  function register_renderer(events, OutputArea) {\n",
              "\n",
              "    function append_mime(data, metadata, element) {\n",
              "      // create a DOM node to render to\n",
              "      var toinsert = this.create_output_subarea(\n",
              "        metadata,\n",
              "        CLASS_NAME,\n",
              "        EXEC_MIME_TYPE\n",
              "      );\n",
              "      this.keyboard_manager.register_events(toinsert);\n",
              "      // Render to node\n",
              "      var props = {data: data, metadata: metadata[EXEC_MIME_TYPE]};\n",
              "      render(props, toinsert[toinsert.length - 1]);\n",
              "      element.append(toinsert);\n",
              "      return toinsert\n",
              "    }\n",
              "\n",
              "    /* Handle when an output is cleared or removed */\n",
              "    events.on('clear_output.CodeCell', handleClearOutput);\n",
              "    events.on('delete.Cell', handleClearOutput);\n",
              "\n",
              "    /* Handle when a new output is added */\n",
              "    events.on('output_added.OutputArea', handleAddOutput);\n",
              "\n",
              "    /**\n",
              "     * Register the mime type and append_mime function with output_area\n",
              "     */\n",
              "    OutputArea.prototype.register_mime_type(EXEC_MIME_TYPE, append_mime, {\n",
              "      /* Is output safe? */\n",
              "      safe: true,\n",
              "      /* Index of renderer in `output_area.display_order` */\n",
              "      index: 0\n",
              "    });\n",
              "  }\n",
              "\n",
              "  // register the mime type if in Jupyter Notebook environment and previously unregistered\n",
              "  if (root.Jupyter !== undefined) {\n",
              "    var events = require('base/js/events');\n",
              "    var OutputArea = require('notebook/js/outputarea').OutputArea;\n",
              "\n",
              "    if (OutputArea.prototype.mime_types().indexOf(EXEC_MIME_TYPE) == -1) {\n",
              "      register_renderer(events, OutputArea);\n",
              "    }\n",
              "  }\n",
              "\n",
              "  \n",
              "  if (typeof (root._bokeh_timeout) === \"undefined\" || force === true) {\n",
              "    root._bokeh_timeout = Date.now() + 5000;\n",
              "    root._bokeh_failed_load = false;\n",
              "  }\n",
              "\n",
              "  var NB_LOAD_WARNING = {'data': {'text/html':\n",
              "     \"<div style='background-color: #fdd'>\\n\"+\n",
              "     \"<p>\\n\"+\n",
              "     \"BokehJS does not appear to have successfully loaded. If loading BokehJS from CDN, this \\n\"+\n",
              "     \"may be due to a slow or bad network connection. Possible fixes:\\n\"+\n",
              "     \"</p>\\n\"+\n",
              "     \"<ul>\\n\"+\n",
              "     \"<li>re-rerun `output_notebook()` to attempt to load from CDN again, or</li>\\n\"+\n",
              "     \"<li>use INLINE resources instead, as so:</li>\\n\"+\n",
              "     \"</ul>\\n\"+\n",
              "     \"<code>\\n\"+\n",
              "     \"from bokeh.resources import INLINE\\n\"+\n",
              "     \"output_notebook(resources=INLINE)\\n\"+\n",
              "     \"</code>\\n\"+\n",
              "     \"</div>\"}};\n",
              "\n",
              "  function display_loaded() {\n",
              "    var el = document.getElementById(null);\n",
              "    if (el != null) {\n",
              "      el.textContent = \"BokehJS is loading...\";\n",
              "    }\n",
              "    if (root.Bokeh !== undefined) {\n",
              "      if (el != null) {\n",
              "        el.textContent = \"BokehJS \" + root.Bokeh.version + \" successfully loaded.\";\n",
              "      }\n",
              "    } else if (Date.now() < root._bokeh_timeout) {\n",
              "      setTimeout(display_loaded, 100)\n",
              "    }\n",
              "  }\n",
              "\n",
              "\n",
              "  function run_callbacks() {\n",
              "    try {\n",
              "      root._bokeh_onload_callbacks.forEach(function(callback) {\n",
              "        if (callback != null)\n",
              "          callback();\n",
              "      });\n",
              "    } finally {\n",
              "      delete root._bokeh_onload_callbacks\n",
              "    }\n",
              "    console.debug(\"Bokeh: all callbacks have finished\");\n",
              "  }\n",
              "\n",
              "  function load_libs(css_urls, js_urls, callback) {\n",
              "    if (css_urls == null) css_urls = [];\n",
              "    if (js_urls == null) js_urls = [];\n",
              "\n",
              "    root._bokeh_onload_callbacks.push(callback);\n",
              "    if (root._bokeh_is_loading > 0) {\n",
              "      console.debug(\"Bokeh: BokehJS is being loaded, scheduling callback at\", now());\n",
              "      return null;\n",
              "    }\n",
              "    if (js_urls == null || js_urls.length === 0) {\n",
              "      run_callbacks();\n",
              "      return null;\n",
              "    }\n",
              "    console.debug(\"Bokeh: BokehJS not loaded, scheduling load and callback at\", now());\n",
              "    root._bokeh_is_loading = css_urls.length + js_urls.length;\n",
              "\n",
              "    function on_load() {\n",
              "      root._bokeh_is_loading--;\n",
              "      if (root._bokeh_is_loading === 0) {\n",
              "        console.debug(\"Bokeh: all BokehJS libraries/stylesheets loaded\");\n",
              "        run_callbacks()\n",
              "      }\n",
              "    }\n",
              "\n",
              "    function on_error(url) {\n",
              "      console.error(\"failed to load \" + url);\n",
              "    }\n",
              "\n",
              "    for (let i = 0; i < css_urls.length; i++) {\n",
              "      const url = css_urls[i];\n",
              "      const element = document.createElement(\"link\");\n",
              "      element.onload = on_load;\n",
              "      element.onerror = on_error.bind(null, url);\n",
              "      element.rel = \"stylesheet\";\n",
              "      element.type = \"text/css\";\n",
              "      element.href = url;\n",
              "      console.debug(\"Bokeh: injecting link tag for BokehJS stylesheet: \", url);\n",
              "      document.body.appendChild(element);\n",
              "    }\n",
              "\n",
              "    const hashes = {\"https://cdn.bokeh.org/bokeh/release/bokeh-2.3.1.min.js\": \"YF85VygJKMVnHE+lLv2AM93Vbstr0yo2TbIu5v8se5Rq3UQAUmcuh4aaJwNlpKwa\", \"https://cdn.bokeh.org/bokeh/release/bokeh-widgets-2.3.1.min.js\": \"KKuas3gevv3PvrlkyCMzffFeaMq5we/a2QsP5AUoS3mJ0jmaCL7jirFJN3GoE/lM\", \"https://cdn.bokeh.org/bokeh/release/bokeh-tables-2.3.1.min.js\": \"MK/uFc3YT18pkvvXRl66tTHjP0/dxoSH2e/eiNMFIguKlun2+WVqaPTWmUy/zvh4\"};\n",
              "\n",
              "    for (let i = 0; i < js_urls.length; i++) {\n",
              "      const url = js_urls[i];\n",
              "      const element = document.createElement('script');\n",
              "      element.onload = on_load;\n",
              "      element.onerror = on_error.bind(null, url);\n",
              "      element.async = false;\n",
              "      element.src = url;\n",
              "      if (url in hashes) {\n",
              "        element.crossOrigin = \"anonymous\";\n",
              "        element.integrity = \"sha384-\" + hashes[url];\n",
              "      }\n",
              "      console.debug(\"Bokeh: injecting script tag for BokehJS library: \", url);\n",
              "      document.head.appendChild(element);\n",
              "    }\n",
              "  };\n",
              "\n",
              "  function inject_raw_css(css) {\n",
              "    const element = document.createElement(\"style\");\n",
              "    element.appendChild(document.createTextNode(css));\n",
              "    document.body.appendChild(element);\n",
              "  }\n",
              "\n",
              "  \n",
              "  var js_urls = [\"https://cdn.bokeh.org/bokeh/release/bokeh-2.3.1.min.js\", \"https://cdn.bokeh.org/bokeh/release/bokeh-widgets-2.3.1.min.js\", \"https://cdn.bokeh.org/bokeh/release/bokeh-tables-2.3.1.min.js\"];\n",
              "  var css_urls = [];\n",
              "  \n",
              "\n",
              "  var inline_js = [\n",
              "    function(Bokeh) {\n",
              "      Bokeh.set_log_level(\"info\");\n",
              "    },\n",
              "    function(Bokeh) {\n",
              "    \n",
              "    \n",
              "    }\n",
              "  ];\n",
              "\n",
              "  function run_inline_js() {\n",
              "    \n",
              "    if (root.Bokeh !== undefined || force === true) {\n",
              "      \n",
              "    for (var i = 0; i < inline_js.length; i++) {\n",
              "      inline_js[i].call(root, root.Bokeh);\n",
              "    }\n",
              "    } else if (Date.now() < root._bokeh_timeout) {\n",
              "      setTimeout(run_inline_js, 100);\n",
              "    } else if (!root._bokeh_failed_load) {\n",
              "      console.log(\"Bokeh: BokehJS failed to load within specified timeout.\");\n",
              "      root._bokeh_failed_load = true;\n",
              "    } else if (force !== true) {\n",
              "      var cell = $(document.getElementById(null)).parents('.cell').data().cell;\n",
              "      cell.output_area.append_execute_result(NB_LOAD_WARNING)\n",
              "    }\n",
              "\n",
              "  }\n",
              "\n",
              "  if (root._bokeh_is_loading === 0) {\n",
              "    console.debug(\"Bokeh: BokehJS loaded, going straight to plotting\");\n",
              "    run_inline_js();\n",
              "  } else {\n",
              "    load_libs(css_urls, js_urls, function() {\n",
              "      console.debug(\"Bokeh: BokehJS plotting callback run at\", now());\n",
              "      run_inline_js();\n",
              "    });\n",
              "  }\n",
              "}(window));"
            ],
            "application/vnd.bokehjs_load.v0+json": "\n(function(root) {\n  function now() {\n    return new Date();\n  }\n\n  var force = true;\n\n  if (typeof root._bokeh_onload_callbacks === \"undefined\" || force === true) {\n    root._bokeh_onload_callbacks = [];\n    root._bokeh_is_loading = undefined;\n  }\n\n  \n\n  \n  if (typeof (root._bokeh_timeout) === \"undefined\" || force === true) {\n    root._bokeh_timeout = Date.now() + 5000;\n    root._bokeh_failed_load = false;\n  }\n\n  var NB_LOAD_WARNING = {'data': {'text/html':\n     \"<div style='background-color: #fdd'>\\n\"+\n     \"<p>\\n\"+\n     \"BokehJS does not appear to have successfully loaded. If loading BokehJS from CDN, this \\n\"+\n     \"may be due to a slow or bad network connection. Possible fixes:\\n\"+\n     \"</p>\\n\"+\n     \"<ul>\\n\"+\n     \"<li>re-rerun `output_notebook()` to attempt to load from CDN again, or</li>\\n\"+\n     \"<li>use INLINE resources instead, as so:</li>\\n\"+\n     \"</ul>\\n\"+\n     \"<code>\\n\"+\n     \"from bokeh.resources import INLINE\\n\"+\n     \"output_notebook(resources=INLINE)\\n\"+\n     \"</code>\\n\"+\n     \"</div>\"}};\n\n  function display_loaded() {\n    var el = document.getElementById(null);\n    if (el != null) {\n      el.textContent = \"BokehJS is loading...\";\n    }\n    if (root.Bokeh !== undefined) {\n      if (el != null) {\n        el.textContent = \"BokehJS \" + root.Bokeh.version + \" successfully loaded.\";\n      }\n    } else if (Date.now() < root._bokeh_timeout) {\n      setTimeout(display_loaded, 100)\n    }\n  }\n\n\n  function run_callbacks() {\n    try {\n      root._bokeh_onload_callbacks.forEach(function(callback) {\n        if (callback != null)\n          callback();\n      });\n    } finally {\n      delete root._bokeh_onload_callbacks\n    }\n    console.debug(\"Bokeh: all callbacks have finished\");\n  }\n\n  function load_libs(css_urls, js_urls, callback) {\n    if (css_urls == null) css_urls = [];\n    if (js_urls == null) js_urls = [];\n\n    root._bokeh_onload_callbacks.push(callback);\n    if (root._bokeh_is_loading > 0) {\n      console.debug(\"Bokeh: BokehJS is being loaded, scheduling callback at\", now());\n      return null;\n    }\n    if (js_urls == null || js_urls.length === 0) {\n      run_callbacks();\n      return null;\n    }\n    console.debug(\"Bokeh: BokehJS not loaded, scheduling load and callback at\", now());\n    root._bokeh_is_loading = css_urls.length + js_urls.length;\n\n    function on_load() {\n      root._bokeh_is_loading--;\n      if (root._bokeh_is_loading === 0) {\n        console.debug(\"Bokeh: all BokehJS libraries/stylesheets loaded\");\n        run_callbacks()\n      }\n    }\n\n    function on_error(url) {\n      console.error(\"failed to load \" + url);\n    }\n\n    for (let i = 0; i < css_urls.length; i++) {\n      const url = css_urls[i];\n      const element = document.createElement(\"link\");\n      element.onload = on_load;\n      element.onerror = on_error.bind(null, url);\n      element.rel = \"stylesheet\";\n      element.type = \"text/css\";\n      element.href = url;\n      console.debug(\"Bokeh: injecting link tag for BokehJS stylesheet: \", url);\n      document.body.appendChild(element);\n    }\n\n    const hashes = {\"https://cdn.bokeh.org/bokeh/release/bokeh-2.3.1.min.js\": \"YF85VygJKMVnHE+lLv2AM93Vbstr0yo2TbIu5v8se5Rq3UQAUmcuh4aaJwNlpKwa\", \"https://cdn.bokeh.org/bokeh/release/bokeh-widgets-2.3.1.min.js\": \"KKuas3gevv3PvrlkyCMzffFeaMq5we/a2QsP5AUoS3mJ0jmaCL7jirFJN3GoE/lM\", \"https://cdn.bokeh.org/bokeh/release/bokeh-tables-2.3.1.min.js\": \"MK/uFc3YT18pkvvXRl66tTHjP0/dxoSH2e/eiNMFIguKlun2+WVqaPTWmUy/zvh4\"};\n\n    for (let i = 0; i < js_urls.length; i++) {\n      const url = js_urls[i];\n      const element = document.createElement('script');\n      element.onload = on_load;\n      element.onerror = on_error.bind(null, url);\n      element.async = false;\n      element.src = url;\n      if (url in hashes) {\n        element.crossOrigin = \"anonymous\";\n        element.integrity = \"sha384-\" + hashes[url];\n      }\n      console.debug(\"Bokeh: injecting script tag for BokehJS library: \", url);\n      document.head.appendChild(element);\n    }\n  };\n\n  function inject_raw_css(css) {\n    const element = document.createElement(\"style\");\n    element.appendChild(document.createTextNode(css));\n    document.body.appendChild(element);\n  }\n\n  \n  var js_urls = [\"https://cdn.bokeh.org/bokeh/release/bokeh-2.3.1.min.js\", \"https://cdn.bokeh.org/bokeh/release/bokeh-widgets-2.3.1.min.js\", \"https://cdn.bokeh.org/bokeh/release/bokeh-tables-2.3.1.min.js\"];\n  var css_urls = [];\n  \n\n  var inline_js = [\n    function(Bokeh) {\n      Bokeh.set_log_level(\"info\");\n    },\n    function(Bokeh) {\n    \n    \n    }\n  ];\n\n  function run_inline_js() {\n    \n    if (root.Bokeh !== undefined || force === true) {\n      \n    for (var i = 0; i < inline_js.length; i++) {\n      inline_js[i].call(root, root.Bokeh);\n    }\n    } else if (Date.now() < root._bokeh_timeout) {\n      setTimeout(run_inline_js, 100);\n    } else if (!root._bokeh_failed_load) {\n      console.log(\"Bokeh: BokehJS failed to load within specified timeout.\");\n      root._bokeh_failed_load = true;\n    } else if (force !== true) {\n      var cell = $(document.getElementById(null)).parents('.cell').data().cell;\n      cell.output_area.append_execute_result(NB_LOAD_WARNING)\n    }\n\n  }\n\n  if (root._bokeh_is_loading === 0) {\n    console.debug(\"Bokeh: BokehJS loaded, going straight to plotting\");\n    run_inline_js();\n  } else {\n    load_libs(css_urls, js_urls, function() {\n      console.debug(\"Bokeh: BokehJS plotting callback run at\", now());\n      run_inline_js();\n    });\n  }\n}(window));"
          },
          "metadata": {
            "tags": []
          }
        },
        {
          "output_type": "display_data",
          "data": {
            "text/html": [
              "\n",
              "\n",
              "\n",
              "\n",
              "\n",
              "\n",
              "  <div class=\"bk-root\" id=\"4bd4c9ec-bcdc-4972-b657-33eb75a33bcb\" data-root-id=\"1217\"></div>\n"
            ]
          },
          "metadata": {
            "tags": []
          }
        },
        {
          "output_type": "display_data",
          "data": {
            "application/javascript": [
              "(function(root) {\n",
              "  function embed_document(root) {\n",
              "    \n",
              "  var docs_json = {\"f9849edc-515e-4b2a-871b-e94a32748ed2\":{\"defs\":[],\"roots\":{\"references\":[{\"attributes\":{\"children\":[{\"id\":\"1002\"},{\"id\":\"1189\"},{\"id\":\"1216\"}]},\"id\":\"1217\",\"type\":\"Column\"},{\"attributes\":{\"overlay\":{\"id\":\"1146\"}},\"id\":\"1143\",\"type\":\"BoxZoomTool\"},{\"attributes\":{},\"id\":\"1144\",\"type\":\"UndoTool\"},{\"attributes\":{},\"id\":\"1145\",\"type\":\"CrosshairTool\"},{\"attributes\":{\"data_source\":{\"id\":\"1152\"},\"glyph\":{\"id\":\"1153\"},\"hover_glyph\":null,\"muted_glyph\":null,\"nonselection_glyph\":{\"id\":\"1154\"},\"view\":{\"id\":\"1156\"}},\"id\":\"1155\",\"type\":\"GlyphRenderer\"},{\"attributes\":{\"children\":[[{\"id\":\"1083\"},0,0],[{\"id\":\"1123\"},0,1]]},\"id\":\"1216\",\"type\":\"GridBox\"},{\"attributes\":{},\"id\":\"1205\",\"type\":\"BasicTickFormatter\"},{\"attributes\":{\"callback\":null},\"id\":\"1142\",\"type\":\"HoverTool\"},{\"attributes\":{},\"id\":\"1192\",\"type\":\"BasicTickFormatter\"},{\"attributes\":{},\"id\":\"1186\",\"type\":\"Selection\"},{\"attributes\":{},\"id\":\"1184\",\"type\":\"Selection\"},{\"attributes\":{},\"id\":\"1185\",\"type\":\"UnionRenderers\"},{\"attributes\":{},\"id\":\"1195\",\"type\":\"BasicTickFormatter\"},{\"attributes\":{},\"id\":\"1183\",\"type\":\"UnionRenderers\"},{\"attributes\":{},\"id\":\"1182\",\"type\":\"AllLabels\"},{\"attributes\":{\"bottom\":{\"value\":0},\"fill_alpha\":{\"value\":0.5},\"fill_color\":{\"value\":\"navy\"},\"left\":{\"field\":\"left\"},\"line_alpha\":{\"value\":0.5},\"line_color\":{\"value\":\"white\"},\"right\":{\"field\":\"right\"},\"top\":{\"field\":\"top\"}},\"id\":\"1033\",\"type\":\"Quad\"},{\"attributes\":{\"bottom_units\":\"screen\",\"fill_alpha\":0.5,\"fill_color\":\"lightgrey\",\"left_units\":\"screen\",\"level\":\"overlay\",\"line_alpha\":1.0,\"line_color\":\"black\",\"line_dash\":[4,4],\"line_width\":2,\"right_units\":\"screen\",\"syncable\":false,\"top_units\":\"screen\"},\"id\":\"1146\",\"type\":\"BoxAnnotation\"},{\"attributes\":{\"active_multi\":null,\"logo\":null,\"tools\":[{\"id\":\"1142\"},{\"id\":\"1143\"},{\"id\":\"1144\"},{\"id\":\"1145\"}]},\"id\":\"1147\",\"type\":\"Toolbar\"},{\"attributes\":{\"line_alpha\":0.7,\"line_color\":\"#ff8888\",\"line_width\":4,\"x\":{\"field\":\"x\"}},\"id\":\"1038\",\"type\":\"Line\"},{\"attributes\":{\"data\":{\"x\":{\"__ndarray__\":\"AAAAAAAAHECdgpdT8HIiQDoFL6fg5SZA1ofG+tBYK0BzCl5OwcsvQIjG+tBYHzJA1ofG+tBYNEAkSZIkSZI2QHMKXk7ByzhAwcspeDkFO0AQjfWhsT49QF5OwcspeD9A1ofG+tDYQEB+aKwPjfVBQCRJkiRJEkNAzCl4OQUvREBzCl5OwUtFQBrrQ2N9aEZAwcspeDmFR0BprA+N9aFIQBCN9aGxvklAt23btm3bSkBeTsHLKfhLQAUvp+DlFE1ArA+N9aExTkBU8HIKXk5PQH5orA+NNVBA0VgfGuvDUEAkSZIkSVJRQHg5BS+n4FFAzCl4OQVvUkAfGutDY/1SQHMKXk7Bi1NAx/rQWB8aVEAa60NjfahUQG7btm3bNlVAwcspeDnFVUAVvJyCl1NWQGmsD4314VZAvJyCl1NwV0AQjfWhsf5XQGN9aKwPjVhAt23btm0bWUALXk7By6lZQF5OwcspOFpAsj401ofGWkAFL6fg5VRbQFkfGutD41tArA+N9aFxXEAAAAAAAABdQA==\",\"dtype\":\"float64\",\"order\":\"little\",\"shape\":[50]}},\"selected\":{\"id\":\"1213\"},\"selection_policy\":{\"id\":\"1212\"}},\"id\":\"1157\",\"type\":\"ColumnDataSource\"},{\"attributes\":{\"source\":{\"id\":\"1152\"}},\"id\":\"1156\",\"type\":\"CDSView\"},{\"attributes\":{\"line_alpha\":0.7,\"line_color\":\"#ff8888\",\"line_width\":4,\"x\":{\"field\":\"x\"}},\"id\":\"1158\",\"type\":\"Line\"},{\"attributes\":{},\"id\":\"1012\",\"type\":\"LinearScale\"},{\"attributes\":{},\"id\":\"1179\",\"type\":\"AllLabels\"},{\"attributes\":{\"source\":{\"id\":\"1157\"}},\"id\":\"1161\",\"type\":\"CDSView\"},{\"attributes\":{\"data_source\":{\"id\":\"1157\"},\"glyph\":{\"id\":\"1158\"},\"hover_glyph\":null,\"muted_glyph\":null,\"nonselection_glyph\":{\"id\":\"1159\"},\"view\":{\"id\":\"1161\"}},\"id\":\"1160\",\"type\":\"GlyphRenderer\"},{\"attributes\":{\"axis_label\":\"Number of Sentences\",\"axis_label_text_font_size\":\"12pt\",\"formatter\":{\"id\":\"1168\"},\"major_label_policy\":{\"id\":\"1169\"},\"ticker\":{\"id\":\"1015\"}},\"id\":\"1014\",\"type\":\"LinearAxis\"},{\"attributes\":{},\"id\":\"1178\",\"type\":\"BasicTickFormatter\"},{\"attributes\":{\"axis\":{\"id\":\"1014\"},\"grid_line_color\":\"white\",\"ticker\":null},\"id\":\"1017\",\"type\":\"Grid\"},{\"attributes\":{\"axis\":{\"id\":\"1018\"},\"dimension\":1,\"grid_line_color\":\"white\",\"ticker\":null},\"id\":\"1021\",\"type\":\"Grid\"},{\"attributes\":{\"line_alpha\":0.1,\"line_color\":\"#ff8888\",\"line_width\":4,\"x\":{\"field\":\"x\"}},\"id\":\"1159\",\"type\":\"Line\"},{\"attributes\":{\"axis_label\":\"Count\",\"axis_label_text_font_size\":\"12pt\",\"formatter\":{\"id\":\"1165\"},\"major_label_policy\":{\"id\":\"1166\"},\"ticker\":{\"id\":\"1019\"}},\"id\":\"1018\",\"type\":\"LinearAxis\"},{\"attributes\":{},\"id\":\"1181\",\"type\":\"BasicTickFormatter\"},{\"attributes\":{},\"id\":\"1165\",\"type\":\"BasicTickFormatter\"},{\"attributes\":{},\"id\":\"1015\",\"type\":\"BasicTicker\"},{\"attributes\":{},\"id\":\"1019\",\"type\":\"BasicTicker\"},{\"attributes\":{},\"id\":\"1193\",\"type\":\"AllLabels\"},{\"attributes\":{\"data\":{\"left\":{\"__ndarray__\":\"AAAAAAAACEB3xB1xR9wPQHfEHXFH3BNAsqasKWvKF0DuiDvijrgbQCprypqyph9AsqasKWvKIUDQF/QFfcEjQO6IO+KOuCVADPqCvqCvJ0Aqa8qasqYpQEfcEXfEnStAZU1ZU9aULUCDvqAv6IsvQNAX9AV9wTBAX9AX9AW9MUDuiDvijrgyQH1BX9AXtDNADPqCvqCvNECbsqasKas1QCprypqypjZAuCPuiDuiN0BH3BF3xJ04QNaUNWVNmTlAZU1ZU9aUOkD0BX1BX5A7QIO+oC/oizxAEnfEHXGHPUCgL+gL+oI+QC/oC/qCfj9AX9AX9AU9QECmrClryrpAQO6IO+KOOEFANWVNWVO2QUB9QV/QFzRCQMQdcUfcsUJADPqCvqAvQ0BT1pQ1Za1DQJuypqwpK0RA4o64I+6oREAqa8qasiZFQHFH3BF3pEVAuCPuiDsiRkAAAAAAAKBGQEfcEXfEHUdAj7gj7oibR0DWlDVlTRlIQB5xR9wRl0hAZU1ZU9YUSUCsKWvKmpJJQPQFfUFfEEpAO+KOuCOOSkCDvqAv6AtLQMqasqasiUtAEnfEHXEHTEBZU9aUNYVMQKAv6Av6Ak1A6Av6gr6ATUAv6Av6gv5NQHfEHXFHfE5AvqAv6Av6TkAGfUFf0HdPQE1ZU9aU9U9Aypqypqw5UEDuiDvijnhQQBJ3xB1xt1BANWVNWVP2UEBZU9aUNTVRQH1BX9AXdFFAoS/oC/qyUUDEHXFH3PFRQOgL+oK+MFJADPqCvqBvUkAv6Av6gq5SQFPWlDVl7VJAd8QdcUcsU0CbsqasKWtTQL6gL+gLqlNA4o64I+7oU0AGfUFf0CdUQCprypqyZlRATVlT1pSlVEBxR9wRd+RUQJU1ZU1ZI1VAuCPuiDtiVUDcEXfEHaFVQAAAAAAA4FVAJO6IO+IeVkBH3BF3xF1WQGvKmrKmnFZAj7gj7ojbVkCypqwpaxpXQNaUNWVNWVdA+oK+oC+YV0AecUfcEddXQEFf0Bf0FVhAZU1ZU9ZUWECJO+KOuJNYQKwpa8qa0lhA0Bf0BX0RWUD0BX1BX1BZQBj0BX1Bj1lAO+KOuCPOWUBf0Bf0BQ1aQIO+oC/oS1pApqwpa8qKWkDKmrKmrMlaQO6IO+KOCFtAEnfEHXFHW0A1ZU1ZU4ZbQFlT1pQ1xVtAfUFf0BcEXECgL+gL+kJcQMQdcUfcgVxA6Av6gr7AXEAM+oK+oP9cQC/oC/qCPl1AU9aUNWV9XUB3xB1xR7xdQJuypqwp+11AvqAv6As6XkDijrgj7nheQAZ9QV/Qt15AKWvKmrL2XkBNWVPWlDVfQHFH3BF3dF9AlTVlTVmzX0C4I+6IO/JfQO6IO+KOGGBAAAAAAAA4YEASd8QdcVdgQCTuiDvidmBANWVNWVOWYEBH3BF3xLVgQFlT1pQ11WBAa8qasqb0YEB9QV/QFxRhQI+4I+6IM2FAoS/oC/pSYUCypqwpa3JhQMQdcUfckWFA1pQ1ZU2xYUDoC/qCvtBhQPqCvqAv8GFADPqCvqAPYkAecUfcES9iQC/oC/qCTmJAQV/QF/RtYkBT1pQ1ZY1iQGVNWVPWrGJAd8QdcUfMYkCJO+KOuOtiQJuypqwpC2NArClrypoqY0C+oC/oC0pjQNAX9AV9aWNA4o64I+6IY0D0BX1BX6hjQAZ9QV/Qx2NAGPQFfUHnY0Aqa8qasgZkQDvijrgjJmRATVlT1pRFZEBf0Bf0BWVkQHFH3BF3hGRAg76gL+ijZECVNWVNWcNkQKesKWvK4mRAuCPuiDsCZUDKmrKmrCFlQNwRd8QdQWVA7og74o5gZUA=\",\"dtype\":\"float64\",\"order\":\"little\",\"shape\":[172]},\"right\":{\"__ndarray__\":\"d8QdcUfcD0B3xB1xR9wTQLKmrClryhdA7og74o64G0Aqa8qasqYfQLKmrClryiFA0Bf0BX3BI0DuiDvijrglQAz6gr6grydAKmvKmrKmKUBH3BF3xJ0rQGVNWVPWlC1Ag76gL+iLL0DQF/QFfcEwQF/QF/QFvTFA7og74o64MkB9QV/QF7QzQAz6gr6grzRAm7KmrCmrNUAqa8qasqY2QLgj7og7ojdAR9wRd8SdOEDWlDVlTZk5QGVNWVPWlDpA9AV9QV+QO0CDvqAv6Is8QBJ3xB1xhz1AoC/oC/qCPkAv6Av6gn4/QF/QF/QFPUBApqwpa8q6QEDuiDvijjhBQDVlTVlTtkFAfUFf0Bc0QkDEHXFH3LFCQAz6gr6gL0NAU9aUNWWtQ0CbsqasKStEQOKOuCPuqERAKmvKmrImRUBxR9wRd6RFQLgj7og7IkZAAAAAAACgRkBH3BF3xB1HQI+4I+6Im0dA1pQ1ZU0ZSEAecUfcEZdIQGVNWVPWFElArClrypqSSUD0BX1BXxBKQDvijrgjjkpAg76gL+gLS0DKmrKmrIlLQBJ3xB1xB0xAWVPWlDWFTECgL+gL+gJNQOgL+oK+gE1AL+gL+oL+TUB3xB1xR3xOQL6gL+gL+k5ABn1BX9B3T0BNWVPWlPVPQMqasqasOVBA7og74o54UEASd8QdcbdQQDVlTVlT9lBAWVPWlDU1UUB9QV/QF3RRQKEv6Av6slFAxB1xR9zxUUDoC/qCvjBSQAz6gr6gb1JAL+gL+oKuUkBT1pQ1Ze1SQHfEHXFHLFNAm7KmrClrU0C+oC/oC6pTQOKOuCPu6FNABn1BX9AnVEAqa8qasmZUQE1ZU9aUpVRAcUfcEXfkVECVNWVNWSNVQLgj7og7YlVA3BF3xB2hVUAAAAAAAOBVQCTuiDviHlZAR9wRd8RdVkBrypqyppxWQI+4I+6I21ZAsqasKWsaV0DWlDVlTVlXQPqCvqAvmFdAHnFH3BHXV0BBX9AX9BVYQGVNWVPWVFhAiTvijriTWECsKWvKmtJYQNAX9AV9EVlA9AV9QV9QWUAY9AV9QY9ZQDvijrgjzllAX9AX9AUNWkCDvqAv6EtaQKasKWvKilpAypqypqzJWkDuiDvijghbQBJ3xB1xR1tANWVNWVOGW0BZU9aUNcVbQH1BX9AXBFxAoC/oC/pCXEDEHXFH3IFcQOgL+oK+wFxADPqCvqD/XEAv6Av6gj5dQFPWlDVlfV1Ad8QdcUe8XUCbsqasKftdQL6gL+gLOl5A4o64I+54XkAGfUFf0LdeQClrypqy9l5ATVlT1pQ1X0BxR9wRd3RfQJU1ZU1Zs19AuCPuiDvyX0DuiDvijhhgQAAAAAAAOGBAEnfEHXFXYEAk7og74nZgQDVlTVlTlmBAR9wRd8S1YEBZU9aUNdVgQGvKmrKm9GBAfUFf0BcUYUCPuCPuiDNhQKEv6Av6UmFAsqasKWtyYUDEHXFH3JFhQNaUNWVNsWFA6Av6gr7QYUD6gr6gL/BhQAz6gr6gD2JAHnFH3BEvYkAv6Av6gk5iQEFf0Bf0bWJAU9aUNWWNYkBlTVlT1qxiQHfEHXFHzGJAiTvijrjrYkCbsqasKQtjQKwpa8qaKmNAvqAv6AtKY0DQF/QFfWljQOKOuCPuiGNA9AV9QV+oY0AGfUFf0MdjQBj0BX1B52NAKmvKmrIGZEA74o64IyZkQE1ZU9aURWRAX9AX9AVlZEBxR9wRd4RkQIO+oC/oo2RAlTVlTVnDZECnrClryuJkQLgj7og7AmVAypqypqwhZUDcEXfEHUFlQO6IO+KOYGVAAAAAAACAZUA=\",\"dtype\":\"float64\",\"order\":\"little\",\"shape\":[172]},\"top\":[32,115,282,485,785,1071,1350,1752,1912,2083,2227,2316,2449,2409,2447,2372,2269,2295,2272,2216,2132,2187,2034,1892,1951,1901,1834,1968,1788,1719,1655,1650,1683,1625,1606,1589,1527,1437,1420,1336,1320,1279,1164,1250,1128,1014,1030,973,895,844,824,776,726,762,641,628,573,0,572,530,485,484,478,428,368,357,330,286,268,242,274,251,199,213,219,200,165,155,131,119,122,112,115,92,83,75,78,82,56,66,48,56,49,40,39,30,40,33,29,26,22,21,18,20,21,18,14,14,17,9,13,13,14,16,0,20,12,9,15,12,6,8,10,6,10,7,5,5,1,6,5,1,5,6,3,1,2,2,1,1,1,0,0,1,0,0,0,0,0,1,1,0,0,0,0,0,0,0,0,0,0,1,0,0,1,1,0,0,0,0,0,1]},\"selected\":{\"id\":\"1171\"},\"selection_policy\":{\"id\":\"1170\"}},\"id\":\"1032\",\"type\":\"ColumnDataSource\"},{\"attributes\":{},\"id\":\"1196\",\"type\":\"AllLabels\"},{\"attributes\":{\"bottom\":{\"value\":0},\"fill_alpha\":{\"value\":0.1},\"fill_color\":{\"value\":\"navy\"},\"left\":{\"field\":\"left\"},\"line_alpha\":{\"value\":0.1},\"line_color\":{\"value\":\"white\"},\"right\":{\"field\":\"right\"},\"top\":{\"field\":\"top\"}},\"id\":\"1074\",\"type\":\"Quad\"},{\"attributes\":{\"callback\":null},\"id\":\"1022\",\"type\":\"HoverTool\"},{\"attributes\":{},\"id\":\"1197\",\"type\":\"UnionRenderers\"},{\"attributes\":{},\"id\":\"1025\",\"type\":\"CrosshairTool\"},{\"attributes\":{},\"id\":\"1198\",\"type\":\"Selection\"},{\"attributes\":{},\"id\":\"1199\",\"type\":\"UnionRenderers\"},{\"attributes\":{},\"id\":\"1200\",\"type\":\"Selection\"},{\"attributes\":{\"active_multi\":null,\"logo\":null,\"tools\":[{\"id\":\"1022\"},{\"id\":\"1023\"},{\"id\":\"1024\"},{\"id\":\"1025\"}]},\"id\":\"1027\",\"type\":\"Toolbar\"},{\"attributes\":{},\"id\":\"1208\",\"type\":\"BasicTickFormatter\"},{\"attributes\":{\"callback\":null},\"id\":\"1062\",\"type\":\"HoverTool\"},{\"attributes\":{},\"id\":\"1064\",\"type\":\"UndoTool\"},{\"attributes\":{\"axis\":{\"id\":\"1054\"},\"grid_line_color\":\"white\",\"ticker\":null},\"id\":\"1057\",\"type\":\"Grid\"},{\"attributes\":{},\"id\":\"1024\",\"type\":\"UndoTool\"},{\"attributes\":{},\"id\":\"1065\",\"type\":\"CrosshairTool\"},{\"attributes\":{},\"id\":\"1095\",\"type\":\"BasicTicker\"},{\"attributes\":{},\"id\":\"1209\",\"type\":\"AllLabels\"},{\"attributes\":{\"data\":{\"x\":{\"__ndarray__\":\"AAAAAAAACEBzCl5OwcsZQHMKXk7ByyNArA+N9aGxKkBzCl5OwcswQBCN9aGxPjRArA+N9aGxN0BJkiRJkiQ7QOYUvJyClz5AwsspeDkFQUAQjfWhsb5CQF5OwcspeERArA+N9aExRkD70FgfGutHQEmSJEmSpElAmFPwcgpeS0DmFLycghdNQDTWh8b60E5AwsspeDlFUEBprA+N9SFRQBCN9aGx/lFAt23btm3bUkBeTsHLKbhTQAUvp+DllFRArA+N9aFxVUBU8HIKXk5WQPvQWB8aK1dAorE+NNYHWEBJkiRJkuRYQPByCl5OwVlAmFPwcgqeWkA/NNaHxnpbQOYUvJyCV1xAjfWhsT40XUA01ofG+hBeQNy2bdu27V5Ag5dT8HLKX0AVvJyCl1NgQGmsD431wWBAvJyCl1MwYUAQjfWhsZ5hQGN9aKwPDWJAt23btm17YkALXk7By+liQF5OwcspWGNAsj401ofGY0AFL6fg5TRkQFkfGutDo2RArA+N9aERZUAAAAAAAIBlQA==\",\"dtype\":\"float64\",\"order\":\"little\",\"shape\":[50]}},\"selected\":{\"id\":\"1173\"},\"selection_policy\":{\"id\":\"1172\"}},\"id\":\"1037\",\"type\":\"ColumnDataSource\"},{\"attributes\":{\"axis_label\":\"Count\",\"axis_label_text_font_size\":\"12pt\",\"formatter\":{\"id\":\"1178\"},\"major_label_policy\":{\"id\":\"1179\"},\"ticker\":{\"id\":\"1059\"}},\"id\":\"1058\",\"type\":\"LinearAxis\"},{\"attributes\":{},\"id\":\"1210\",\"type\":\"UnionRenderers\"},{\"attributes\":{\"source\":{\"id\":\"1037\"}},\"id\":\"1041\",\"type\":\"CDSView\"},{\"attributes\":{\"data\":{\"left\":{\"__ndarray__\":\"AAAAAAAA8D9mZmZmZmb+P2ZmZmZmZgZAmpmZmZmZDUBmZmZmZmYSQAAAAAAAABZAmpmZmZmZGUAzMzMzMzMdQGZmZmZmZiBAMzMzMzMzIkA=\",\"dtype\":\"float64\",\"order\":\"little\",\"shape\":[10]},\"right\":{\"__ndarray__\":\"ZmZmZmZm/j9mZmZmZmYGQJqZmZmZmQ1AZmZmZmZmEkAAAAAAAAAWQJqZmZmZmRlAMzMzMzMzHUBmZmZmZmYgQDMzMzMzMyJAAAAAAAAAJEA=\",\"dtype\":\"float64\",\"order\":\"little\",\"shape\":[10]},\"top\":[56,2904,33220,52511,3113,440,69,6,2,1]},\"selected\":{\"id\":\"1198\"},\"selection_policy\":{\"id\":\"1197\"}},\"id\":\"1112\",\"type\":\"ColumnDataSource\"},{\"attributes\":{},\"id\":\"1172\",\"type\":\"UnionRenderers\"},{\"attributes\":{},\"id\":\"1211\",\"type\":\"Selection\"},{\"attributes\":{\"axis\":{\"id\":\"1098\"},\"dimension\":1,\"grid_line_color\":\"white\",\"ticker\":null},\"id\":\"1101\",\"type\":\"Grid\"},{\"attributes\":{},\"id\":\"1055\",\"type\":\"BasicTicker\"},{\"attributes\":{\"background_fill_color\":\"#fafafa\",\"below\":[{\"id\":\"1094\"}],\"center\":[{\"id\":\"1097\"},{\"id\":\"1101\"}],\"height\":400,\"left\":[{\"id\":\"1098\"}],\"renderers\":[{\"id\":\"1115\"},{\"id\":\"1120\"}],\"title\":{\"id\":\"1084\"},\"toolbar\":{\"id\":\"1107\"},\"toolbar_location\":null,\"width\":400,\"x_range\":{\"id\":\"1086\"},\"x_scale\":{\"id\":\"1090\"},\"y_range\":{\"id\":\"1088\"},\"y_scale\":{\"id\":\"1092\"}},\"id\":\"1083\",\"subtype\":\"Figure\",\"type\":\"Plot\"},{\"attributes\":{},\"id\":\"1099\",\"type\":\"BasicTicker\"},{\"attributes\":{},\"id\":\"1173\",\"type\":\"Selection\"},{\"attributes\":{},\"id\":\"1212\",\"type\":\"UnionRenderers\"},{\"attributes\":{\"start\":0},\"id\":\"1008\",\"type\":\"DataRange1d\"},{\"attributes\":{},\"id\":\"1213\",\"type\":\"Selection\"},{\"attributes\":{},\"id\":\"1169\",\"type\":\"AllLabels\"},{\"attributes\":{},\"id\":\"1006\",\"type\":\"DataRange1d\"},{\"attributes\":{\"data_source\":{\"id\":\"1072\"},\"glyph\":{\"id\":\"1073\"},\"hover_glyph\":null,\"muted_glyph\":null,\"nonselection_glyph\":{\"id\":\"1074\"},\"view\":{\"id\":\"1076\"}},\"id\":\"1075\",\"type\":\"GlyphRenderer\"},{\"attributes\":{\"axis_label\":\"Number of Words\",\"axis_label_text_font_size\":\"12pt\",\"formatter\":{\"id\":\"1181\"},\"major_label_policy\":{\"id\":\"1182\"},\"ticker\":{\"id\":\"1055\"}},\"id\":\"1054\",\"type\":\"LinearAxis\"},{\"attributes\":{\"axis_label\":\"Number of Sentences\",\"axis_label_text_font_size\":\"12pt\",\"formatter\":{\"id\":\"1195\"},\"major_label_policy\":{\"id\":\"1196\"},\"ticker\":{\"id\":\"1095\"}},\"id\":\"1094\",\"type\":\"LinearAxis\"},{\"attributes\":{},\"id\":\"1168\",\"type\":\"BasicTickFormatter\"},{\"attributes\":{},\"id\":\"1170\",\"type\":\"UnionRenderers\"},{\"attributes\":{},\"id\":\"1052\",\"type\":\"LinearScale\"},{\"attributes\":{\"overlay\":{\"id\":\"1066\"}},\"id\":\"1063\",\"type\":\"BoxZoomTool\"},{\"attributes\":{},\"id\":\"1050\",\"type\":\"LinearScale\"},{\"attributes\":{\"source\":{\"id\":\"1032\"}},\"id\":\"1036\",\"type\":\"CDSView\"},{\"attributes\":{},\"id\":\"1166\",\"type\":\"AllLabels\"},{\"attributes\":{\"bottom_units\":\"screen\",\"fill_alpha\":0.5,\"fill_color\":\"lightgrey\",\"left_units\":\"screen\",\"level\":\"overlay\",\"line_alpha\":1.0,\"line_color\":\"black\",\"line_dash\":[4,4],\"line_width\":2,\"right_units\":\"screen\",\"syncable\":false,\"top_units\":\"screen\"},\"id\":\"1026\",\"type\":\"BoxAnnotation\"},{\"attributes\":{\"axis\":{\"id\":\"1094\"},\"grid_line_color\":\"white\",\"ticker\":null},\"id\":\"1097\",\"type\":\"Grid\"},{\"attributes\":{\"background_fill_color\":\"#fafafa\",\"below\":[{\"id\":\"1134\"}],\"center\":[{\"id\":\"1137\"},{\"id\":\"1141\"}],\"height\":400,\"left\":[{\"id\":\"1138\"}],\"renderers\":[{\"id\":\"1155\"},{\"id\":\"1160\"}],\"title\":{\"id\":\"1124\"},\"toolbar\":{\"id\":\"1147\"},\"toolbar_location\":null,\"width\":400,\"x_range\":{\"id\":\"1126\"},\"x_scale\":{\"id\":\"1130\"},\"y_range\":{\"id\":\"1128\"},\"y_scale\":{\"id\":\"1132\"}},\"id\":\"1123\",\"subtype\":\"Figure\",\"type\":\"Plot\"},{\"attributes\":{},\"id\":\"1092\",\"type\":\"LinearScale\"},{\"attributes\":{\"bottom_units\":\"screen\",\"fill_alpha\":0.5,\"fill_color\":\"lightgrey\",\"left_units\":\"screen\",\"level\":\"overlay\",\"line_alpha\":1.0,\"line_color\":\"black\",\"line_dash\":[4,4],\"line_width\":2,\"right_units\":\"screen\",\"syncable\":false,\"top_units\":\"screen\"},\"id\":\"1106\",\"type\":\"BoxAnnotation\"},{\"attributes\":{\"data_source\":{\"id\":\"1112\"},\"glyph\":{\"id\":\"1113\"},\"hover_glyph\":null,\"muted_glyph\":null,\"nonselection_glyph\":{\"id\":\"1114\"},\"view\":{\"id\":\"1116\"}},\"id\":\"1115\",\"type\":\"GlyphRenderer\"},{\"attributes\":{\"axis_label\":\"Count\",\"axis_label_text_font_size\":\"12pt\",\"formatter\":{\"id\":\"1192\"},\"major_label_policy\":{\"id\":\"1193\"},\"ticker\":{\"id\":\"1099\"}},\"id\":\"1098\",\"type\":\"LinearAxis\"},{\"attributes\":{\"data\":{\"x\":{\"__ndarray__\":\"AAAAAAAA8D+8nIKXU/DyP3g5BS+n4PU/NNaHxvrQ+D/wcgpeTsH7P6wPjfWhsf4/NNaHxvrQAECSJEmSJEkCQPByCl5OwQNATsHLKXg5BUCsD431obEGQAteTsHLKQhAaawPjfWhCUDH+tBYHxoLQCVJkiRJkgxAg5dT8HIKDkDh5RS8nIIPQCAa60NjfRBATsHLKXg5EUB+aKwPjfURQKwPjfWhsRJA3LZt27ZtE0ALXk7ByykUQDoFL6fg5RRAaawPjfWhFUCYU/ByCl4WQMf60FgfGhdA9qGxPjTWF0AlSZIkSZIYQFTwcgpeThlAg5dT8HIKGkCyPjTWh8YaQOHlFLycghtAEI31obE+HEA/NNaHxvocQG7btm3bth1AnYKXU/ByHkDMKXg5BS8fQPvQWB8a6x9AFbycgpdTIECsD431obEgQERjfWisDyFA3LZt27ZtIUBzCl5OwcshQAteTsHLKSJAorE+NNaHIkA6BS+n4OUiQNFYHxrrQyNAaawPjfWhI0AAAAAAAAAkQA==\",\"dtype\":\"float64\",\"order\":\"little\",\"shape\":[50]}},\"selected\":{\"id\":\"1200\"},\"selection_policy\":{\"id\":\"1199\"}},\"id\":\"1117\",\"type\":\"ColumnDataSource\"},{\"attributes\":{\"start\":0},\"id\":\"1048\",\"type\":\"DataRange1d\"},{\"attributes\":{\"overlay\":{\"id\":\"1026\"}},\"id\":\"1023\",\"type\":\"BoxZoomTool\"},{\"attributes\":{\"source\":{\"id\":\"1112\"}},\"id\":\"1116\",\"type\":\"CDSView\"},{\"attributes\":{\"line_alpha\":0.7,\"line_color\":\"#ff8888\",\"line_width\":4,\"x\":{\"field\":\"x\"}},\"id\":\"1118\",\"type\":\"Line\"},{\"attributes\":{},\"id\":\"1046\",\"type\":\"DataRange1d\"},{\"attributes\":{\"bottom_units\":\"screen\",\"fill_alpha\":0.5,\"fill_color\":\"lightgrey\",\"left_units\":\"screen\",\"level\":\"overlay\",\"line_alpha\":1.0,\"line_color\":\"black\",\"line_dash\":[4,4],\"line_width\":2,\"right_units\":\"screen\",\"syncable\":false,\"top_units\":\"screen\"},\"id\":\"1066\",\"type\":\"BoxAnnotation\"},{\"attributes\":{\"active_multi\":null,\"logo\":null,\"tools\":[{\"id\":\"1062\"},{\"id\":\"1063\"},{\"id\":\"1064\"},{\"id\":\"1065\"}]},\"id\":\"1067\",\"type\":\"Toolbar\"},{\"attributes\":{},\"id\":\"1010\",\"type\":\"LinearScale\"},{\"attributes\":{\"data\":{\"x\":{\"__ndarray__\":\"AAAAAACAQ0D70FgfGmtTQPahsT40Fl1AeDkFL6dgY0D2obE+NDZoQHQKXk7BC21AeDkFL6fwcEC3bdu2bVtzQPahsT40xnVANdaHxvoweEB0Cl5OwZt6QLI+NNaHBn1A8XIKXk5xf0CYU/ByCu6AQLdt27ZtI4JA14fG+tBYg0D2obE+NI6EQBW8nIKXw4VANdaHxvr4hkBU8HIKXi6IQHQKXk7BY4lAkyRJkiSZikCyPjTWh86LQNJYHxrrA41A8XIKXk45jkAQjfWhsW6PQJhT8HIKUpBAqODlFLzskEC3bdu2bYeRQMf60FgfIpJA14fG+tC8kkDmFLycgleTQPahsT408pNABi+n4OWMlEAVvJyClyeVQCVJkiRJwpVANdaHxvpclkBEY31orPeWQFTwcgpekpdAZH1orA8tmEB0Cl5OwceYQIOXU/ByYplAkyRJkiT9mUCjsT401peaQLI+NNaHMptAwsspeDnNm0DSWB8a62ecQOHlFLycAp1A8XIKXk6dnUAAAAAAADieQA==\",\"dtype\":\"float64\",\"order\":\"little\",\"shape\":[50]}},\"selected\":{\"id\":\"1186\"},\"selection_policy\":{\"id\":\"1185\"}},\"id\":\"1077\",\"type\":\"ColumnDataSource\"},{\"attributes\":{\"source\":{\"id\":\"1072\"}},\"id\":\"1076\",\"type\":\"CDSView\"},{\"attributes\":{\"source\":{\"id\":\"1117\"}},\"id\":\"1121\",\"type\":\"CDSView\"},{\"attributes\":{\"text_font_size\":\"14pt\"},\"id\":\"1124\",\"type\":\"Title\"},{\"attributes\":{\"line_alpha\":0.7,\"line_color\":\"#ff8888\",\"line_width\":4,\"x\":{\"field\":\"x\"}},\"id\":\"1078\",\"type\":\"Line\"},{\"attributes\":{\"data_source\":{\"id\":\"1117\"},\"glyph\":{\"id\":\"1118\"},\"hover_glyph\":null,\"muted_glyph\":null,\"nonselection_glyph\":{\"id\":\"1119\"},\"view\":{\"id\":\"1121\"}},\"id\":\"1120\",\"type\":\"GlyphRenderer\"},{\"attributes\":{\"data_source\":{\"id\":\"1037\"},\"glyph\":{\"id\":\"1038\"},\"hover_glyph\":null,\"muted_glyph\":null,\"nonselection_glyph\":{\"id\":\"1039\"},\"view\":{\"id\":\"1041\"}},\"id\":\"1040\",\"type\":\"GlyphRenderer\"},{\"attributes\":{\"line_alpha\":0.1,\"line_color\":\"#ff8888\",\"line_width\":4,\"x\":{\"field\":\"x\"}},\"id\":\"1039\",\"type\":\"Line\"},{\"attributes\":{\"source\":{\"id\":\"1077\"}},\"id\":\"1081\",\"type\":\"CDSView\"},{\"attributes\":{\"background_fill_color\":\"#fafafa\",\"below\":[{\"id\":\"1054\"}],\"center\":[{\"id\":\"1057\"},{\"id\":\"1061\"}],\"height\":400,\"left\":[{\"id\":\"1058\"}],\"renderers\":[{\"id\":\"1075\"},{\"id\":\"1080\"}],\"title\":{\"id\":\"1044\"},\"toolbar\":{\"id\":\"1067\"},\"toolbar_location\":null,\"width\":400,\"x_range\":{\"id\":\"1046\"},\"x_scale\":{\"id\":\"1050\"},\"y_range\":{\"id\":\"1048\"},\"y_scale\":{\"id\":\"1052\"}},\"id\":\"1043\",\"subtype\":\"Figure\",\"type\":\"Plot\"},{\"attributes\":{\"text\":\"Summary\",\"text_font_size\":\"14pt\"},\"id\":\"1084\",\"type\":\"Title\"},{\"attributes\":{\"data_source\":{\"id\":\"1077\"},\"glyph\":{\"id\":\"1078\"},\"hover_glyph\":null,\"muted_glyph\":null,\"nonselection_glyph\":{\"id\":\"1079\"},\"view\":{\"id\":\"1081\"}},\"id\":\"1080\",\"type\":\"GlyphRenderer\"},{\"attributes\":{\"line_alpha\":0.1,\"line_color\":\"#ff8888\",\"line_width\":4,\"x\":{\"field\":\"x\"}},\"id\":\"1119\",\"type\":\"Line\"},{\"attributes\":{\"children\":[[{\"id\":\"1003\"},0,0],[{\"id\":\"1043\"},0,1]]},\"id\":\"1189\",\"type\":\"GridBox\"},{\"attributes\":{},\"id\":\"1126\",\"type\":\"DataRange1d\"},{\"attributes\":{\"text_font_size\":\"14pt\"},\"id\":\"1044\",\"type\":\"Title\"},{\"attributes\":{\"axis\":{\"id\":\"1058\"},\"dimension\":1,\"grid_line_color\":\"white\",\"ticker\":null},\"id\":\"1061\",\"type\":\"Grid\"},{\"attributes\":{\"text\":\"\\n<html>\\n<head>\\n<style>\\nh2\\n</style>\\n</head>\\n<body>\\n<h2>Length Distributions</h1>\\n</body>\\n</html>\\n\"},\"id\":\"1002\",\"type\":\"Div\"},{\"attributes\":{},\"id\":\"1130\",\"type\":\"LinearScale\"},{\"attributes\":{\"line_alpha\":0.1,\"line_color\":\"#ff8888\",\"line_width\":4,\"x\":{\"field\":\"x\"}},\"id\":\"1079\",\"type\":\"Line\"},{\"attributes\":{\"start\":0},\"id\":\"1128\",\"type\":\"DataRange1d\"},{\"attributes\":{\"start\":0},\"id\":\"1088\",\"type\":\"DataRange1d\"},{\"attributes\":{},\"id\":\"1086\",\"type\":\"DataRange1d\"},{\"attributes\":{},\"id\":\"1059\",\"type\":\"BasicTicker\"},{\"attributes\":{},\"id\":\"1206\",\"type\":\"AllLabels\"},{\"attributes\":{},\"id\":\"1090\",\"type\":\"LinearScale\"},{\"attributes\":{},\"id\":\"1132\",\"type\":\"LinearScale\"},{\"attributes\":{\"bottom\":{\"value\":0},\"fill_alpha\":{\"value\":0.5},\"fill_color\":{\"value\":\"navy\"},\"left\":{\"field\":\"left\"},\"line_alpha\":{\"value\":0.5},\"line_color\":{\"value\":\"white\"},\"right\":{\"field\":\"right\"},\"top\":{\"field\":\"top\"}},\"id\":\"1073\",\"type\":\"Quad\"},{\"attributes\":{\"data_source\":{\"id\":\"1032\"},\"glyph\":{\"id\":\"1033\"},\"hover_glyph\":null,\"muted_glyph\":null,\"nonselection_glyph\":{\"id\":\"1034\"},\"view\":{\"id\":\"1036\"}},\"id\":\"1035\",\"type\":\"GlyphRenderer\"},{\"attributes\":{\"axis_label\":\"Number of Words\",\"axis_label_text_font_size\":\"12pt\",\"formatter\":{\"id\":\"1208\"},\"major_label_policy\":{\"id\":\"1209\"},\"ticker\":{\"id\":\"1135\"}},\"id\":\"1134\",\"type\":\"LinearAxis\"},{\"attributes\":{},\"id\":\"1139\",\"type\":\"BasicTicker\"},{\"attributes\":{\"data\":{\"left\":{\"__ndarray__\":\"AAAAAACAQ0C8QCbFC2ROQLxAJsULpFRAG2G5pxEWWkB5gUyKF4hfQOzQb7YOfWJAG2G5pxE2ZUBK8QKZFO9nQHmBTIoXqGpAqBGWexphbUDs0G+2Dg1wQAOZFC+QaXFAG2G5pxHGckAyKV4gkyJ0QErxApkUf3VAYbmnEZbbdkB5gUyKFzh4QJFJ8QKZlHlAqBGWexrxekDA2Tr0m018QNeh32wdqn1A72mE5Z4Gf0ADmRQvkDGAQA/9ZuvQ34BAG2G5pxGOgUAnxQtkUjyCQDIpXiCT6oJAPo2w3NOYg0BK8QKZFEeEQFZVVVVV9YRAYbmnEZajhUBtHfrN1lGGQHmBTIoXAIdAheWeRliuh0CRSfECmVyIQJytQ7/ZColAqBGWexq5iUC0deg3W2eKQMDZOvSbFYtAyz2NsNzDi0DXod9sHXKMQOMFMileII1A72mE5Z7OjUD7zdah33yOQAYyKV4gK49AEpZ7GmHZj0AP/Wbr0EOQQBUvkEnxmpBAG2G5pxHykEAhk+IFMkmRQCfFC2RSoJFALPc0wnL3kUAyKV4gk06SQDhbh36zpZJAPo2w3NP8kkBEv9k69FOTQErxApkUq5NAUCMs9zQClEBWVVVVVVmUQFyHfrN1sJRAYbmnEZYHlUBn69Bvtl6VQG0d+s3WtZVAc08jLPcMlkB5gUyKF2SWQH+zdeg3u5ZAheWeRlgSl0CLF8ikeGmXQJFJ8QKZwJdAlnsaYbkXmECcrUO/2W6YQKLfbB36xZhAqBGWexodmUCuQ7/ZOnSZQLR16Ddby5lAuqcRlnsimkDA2Tr0m3maQMYLZFK80JpAyz2NsNwnm0DRb7YO/X6bQNeh32wd1ptA3dMIyz0tnEDjBTIpXoScQOk3W4d+25xA72mE5Z4ynUD1m61Dv4mdQPvN1qHf4J1A\",\"dtype\":\"float64\",\"order\":\"little\",\"shape\":[87]},\"right\":{\"__ndarray__\":\"vEAmxQtkTkC8QCbFC6RUQBthuacRFlpAeYFMiheIX0Ds0G+2Dn1iQBthuacRNmVASvECmRTvZ0B5gUyKF6hqQKgRlnsaYW1A7NBvtg4NcEADmRQvkGlxQBthuacRxnJAMileIJMidEBK8QKZFH91QGG5pxGW23ZAeYFMihc4eECRSfECmZR5QKgRlnsa8XpAwNk69JtNfEDXod9sHap9QO9phOWeBn9AA5kUL5AxgEAP/Wbr0N+AQBthuacRjoFAJ8ULZFI8gkAyKV4gk+qCQD6NsNzTmINASvECmRRHhEBWVVVVVfWEQGG5pxGWo4VAbR36zdZRhkB5gUyKFwCHQIXlnkZYrodAkUnxAplciECcrUO/2QqJQKgRlnsauYlAtHXoN1tnikDA2Tr0mxWLQMs9jbDcw4tA16HfbB1yjEDjBTIpXiCNQO9phOWezo1A+83Wod98jkAGMileICuPQBKWexph2Y9AD/1m69BDkEAVL5BJ8ZqQQBthuacR8pBAIZPiBTJJkUAnxQtkUqCRQCz3NMJy95FAMileIJNOkkA4W4d+s6WSQD6NsNzT/JJARL/ZOvRTk0BK8QKZFKuTQFAjLPc0ApRAVlVVVVVZlEBch36zdbCUQGG5pxGWB5VAZ+vQb7ZelUBtHfrN1rWVQHNPIyz3DJZAeYFMihdklkB/s3XoN7uWQIXlnkZYEpdAixfIpHhpl0CRSfECmcCXQJZ7GmG5F5hAnK1Dv9lumECi32wd+sWYQKgRlnsaHZlArkO/2Tp0mUC0deg3W8uZQLqnEZZ7IppAwNk69Jt5mkDGC2RSvNCaQMs9jbDcJ5tA0W+2Dv1+m0DXod9sHdabQN3TCMs9LZxA4wUyKV6EnEDpN1uHftucQO9phOWeMp1A9ZutQ7+JnUD7zdah3+CdQAAAAAAAOJ5A\",\"dtype\":\"float64\",\"order\":\"little\",\"shape\":[87]},\"top\":[17,71,172,368,596,954,1086,1365,1628,1839,2117,2152,2270,2331,2388,2428,2483,2396,2292,2374,2276,2170,2129,2178,2091,2118,1954,1848,2072,2019,1906,1932,1803,1835,1820,1830,1745,1692,1697,1630,1516,1363,1311,1315,1210,1103,1148,970,847,858,760,770,689,648,599,609,529,512,456,421,430,374,361,311,300,261,253,247,222,209,198,184,166,163,145,154,140,125,126,81,74,43,26,7,12,2,2]},\"selected\":{\"id\":\"1184\"},\"selection_policy\":{\"id\":\"1183\"}},\"id\":\"1072\",\"type\":\"ColumnDataSource\"},{\"attributes\":{\"bottom\":{\"value\":0},\"fill_alpha\":{\"value\":0.5},\"fill_color\":{\"value\":\"navy\"},\"left\":{\"field\":\"left\"},\"line_alpha\":{\"value\":0.5},\"line_color\":{\"value\":\"white\"},\"right\":{\"field\":\"right\"},\"top\":{\"field\":\"top\"}},\"id\":\"1113\",\"type\":\"Quad\"},{\"attributes\":{},\"id\":\"1135\",\"type\":\"BasicTicker\"},{\"attributes\":{\"bottom\":{\"value\":0},\"fill_alpha\":{\"value\":0.1},\"fill_color\":{\"value\":\"navy\"},\"left\":{\"field\":\"left\"},\"line_alpha\":{\"value\":0.1},\"line_color\":{\"value\":\"white\"},\"right\":{\"field\":\"right\"},\"top\":{\"field\":\"top\"}},\"id\":\"1114\",\"type\":\"Quad\"},{\"attributes\":{\"axis\":{\"id\":\"1134\"},\"grid_line_color\":\"white\",\"ticker\":null},\"id\":\"1137\",\"type\":\"Grid\"},{\"attributes\":{\"callback\":null},\"id\":\"1102\",\"type\":\"HoverTool\"},{\"attributes\":{\"axis\":{\"id\":\"1138\"},\"dimension\":1,\"grid_line_color\":\"white\",\"ticker\":null},\"id\":\"1141\",\"type\":\"Grid\"},{\"attributes\":{\"axis_label\":\"Count\",\"axis_label_text_font_size\":\"12pt\",\"formatter\":{\"id\":\"1205\"},\"major_label_policy\":{\"id\":\"1206\"},\"ticker\":{\"id\":\"1139\"}},\"id\":\"1138\",\"type\":\"LinearAxis\"},{\"attributes\":{\"overlay\":{\"id\":\"1106\"}},\"id\":\"1103\",\"type\":\"BoxZoomTool\"},{\"attributes\":{},\"id\":\"1171\",\"type\":\"Selection\"},{\"attributes\":{},\"id\":\"1104\",\"type\":\"UndoTool\"},{\"attributes\":{\"data\":{\"left\":{\"__ndarray__\":\"AAAAAAAAHEATfJu/wqweQBN8m7/CrCBAHDppHyQDIkAm+DZ/hVkjQC+2BN/mryRAOHTSPkgGJkBCMqCeqVwnQEzwbf4KsyhAVa47XmwJKkBebAm+zV8rQGgq1x0vtixAceikfZAMLkB7pnLd8WIvQEIyoJ6pXDBARxGHTtoHMUBM8G3+CrMxQFDPVK47XjJAVa47XmwJM0BajSIOnbQzQF5sCb7NXzRAY0vwbf4KNUBoKtcdL7Y1QGwJvs1fYTZAceikfZAMN0B2x4stwbc3QHumct3xYjhAf4VZjSIOOUCEZEA9U7k5QIlDJ+2DZDpAjiIOnbQPO0CSAfVM5bo7QJfg2/wVZjxAnL/CrEYRPUCgnqlcd7w9QKV9kAyoZz5Aqlx3vNgSP0CvO15sCb4/QFqNIg6dNEBA3PwVZjWKQEBebAm+zd9AQODb/BVmNUFAY0vwbf6KQUDmuuPFluBBQGgq1x0vNkJA6pnKdceLQkBsCb7NX+FCQO94sSX4NkNAceikfZCMQ0D0V5jVKOJDQHbHiy3BN0RA+DZ/hVmNREB7pnLd8eJEQP0VZjWKOEVAf4VZjSKORUAC9UzluuNFQIRkQD1TOUZABtQzleuORkCJQyftg+RGQAuzGkUcOkdAjiIOnbSPR0AQkgH1TOVHQJIB9UzlOkhAFXHopH2QSECX4Nv8FeZIQBlQz1SuO0lAnL/CrEaRSUAeL7YE3+ZJQKCeqVx3PEpAIw6dtA+SSkClfZAMqOdKQCjtg2RAPUtAqlx3vNiSS0AszGoUcehLQK87XmwJPkxAMatRxKGTTECzGkUcOulMQDaKOHTSPk1AuPkrzGqUTUA6aR8kA+pNQL3YEnybP05AP0gG1DOVTkDBt/krzOpOQEQn7YNkQE9Axpbg2/yVT0BJBtQzletPQOa648WWIFBApnLd8WJLUEBoKtcdL3ZQQCni0En7oFBA6pnKdcfLUECsUcShk/ZQQGwJvs1fIVFALsG3+StMUUDveLEl+HZRQLAwq1HEoVFAceikfZDMUUAyoJ6pXPdRQPRXmNUoIlJAtQ+SAfVMUkB2x4stwXdSQDd/hVmNolJA+DZ/hVnNUkC67nixJfhSQHumct3xIlNAPF5sCb5NU0D9FWY1inhTQL7NX2FWo1NAf4VZjSLOU0BBPVO57vhTQAL1TOW6I1RAw6xGEYdOVECEZEA9U3lUQEUcOmkfpFRABtQzlevOVEDIiy3Bt/lUQIlDJ+2DJFVASvsgGVBPVUALsxpFHHpVQMxqFHHopFVAjiIOnbTPVUBP2gfJgPpVQBCSAfVMJVZA0Un7IBlQVkCSAfVM5XpWQFO57nixpVZAFXHopH3QVkDWKOLQSftWQJfg2/wVJldAWJjVKOJQV0AZUM9UrntXQNsHyYB6pldAnL/CrEbRV0Bdd7zYEvxXQB4vtgTfJlhA3+avMKtRWECgnqlcd3xYQGJWo4hDp1hAIw6dtA/SWEDkxZbg2/xYQKV9kAyoJ1lAZjWKOHRSWUAo7YNkQH1ZQOmkfZAMqFlAqlx3vNjSWUBrFHHopP1ZQCzMahRxKFpA7YNkQD1TWkCvO15sCX5aQHDzV5jVqFpAMatRxKHTWkDyYkvwbf5aQLMaRRw6KVtAdNI+SAZUW0A2ijh00n5bQPdBMqCeqVtAuPkrzGrUW0B5sSX4Nv9bQDppHyQDKlxA/CAZUM9UXEC92BJ8m39cQH6QDKhnqlxAP0gG1DPVXEA=\",\"dtype\":\"float64\",\"order\":\"little\",\"shape\":[163]},\"right\":{\"__ndarray__\":\"E3ybv8KsHkATfJu/wqwgQBw6aR8kAyJAJvg2f4VZI0AvtgTf5q8kQDh00j5IBiZAQjKgnqlcJ0BM8G3+CrMoQFWuO15sCSpAXmwJvs1fK0BoKtcdL7YsQHHopH2QDC5Ae6Zy3fFiL0BCMqCeqVwwQEcRh07aBzFATPBt/gqzMUBQz1SuO14yQFWuO15sCTNAWo0iDp20M0BebAm+zV80QGNL8G3+CjVAaCrXHS+2NUBsCb7NX2E2QHHopH2QDDdAdseLLcG3N0B7pnLd8WI4QH+FWY0iDjlAhGRAPVO5OUCJQyftg2Q6QI4iDp20DztAkgH1TOW6O0CX4Nv8FWY8QJy/wqxGET1AoJ6pXHe8PUClfZAMqGc+QKpcd7zYEj9ArztebAm+P0BajSIOnTRAQNz8FWY1ikBAXmwJvs3fQEDg2/wVZjVBQGNL8G3+ikFA5rrjxZbgQUBoKtcdLzZCQOqZynXHi0JAbAm+zV/hQkDveLEl+DZDQHHopH2QjENA9FeY1SjiQ0B2x4stwTdEQPg2f4VZjURAe6Zy3fHiRED9FWY1ijhFQH+FWY0ijkVAAvVM5brjRUCEZEA9UzlGQAbUM5XrjkZAiUMn7YPkRkALsxpFHDpHQI4iDp20j0dAEJIB9UzlR0CSAfVM5TpIQBVx6KR9kEhAl+Db/BXmSEAZUM9UrjtJQJy/wqxGkUlAHi+2BN/mSUCgnqlcdzxKQCMOnbQPkkpApX2QDKjnSkAo7YNkQD1LQKpcd7zYkktALMxqFHHoS0CvO15sCT5MQDGrUcShk0xAsxpFHDrpTEA2ijh00j5NQLj5K8xqlE1AOmkfJAPqTUC92BJ8mz9OQD9IBtQzlU5Awbf5K8zqTkBEJ+2DZEBPQMaW4Nv8lU9ASQbUM5XrT0DmuuPFliBQQKZy3fFiS1BAaCrXHS92UEAp4tBJ+6BQQOqZynXHy1BArFHEoZP2UEBsCb7NXyFRQC7Bt/krTFFA73ixJfh2UUCwMKtRxKFRQHHopH2QzFFAMqCeqVz3UUD0V5jVKCJSQLUPkgH1TFJAdseLLcF3UkA3f4VZjaJSQPg2f4VZzVJAuu54sSX4UkB7pnLd8SJTQDxebAm+TVNA/RVmNYp4U0C+zV9hVqNTQH+FWY0izlNAQT1Tue74U0AC9UzluiNUQMOsRhGHTlRAhGRAPVN5VEBFHDppH6RUQAbUM5XrzlRAyIstwbf5VECJQyftgyRVQEr7IBlQT1VAC7MaRRx6VUDMahRx6KRVQI4iDp20z1VAT9oHyYD6VUAQkgH1TCVWQNFJ+yAZUFZAkgH1TOV6VkBTue54saVWQBVx6KR90FZA1iji0En7VkCX4Nv8FSZXQFiY1SjiUFdAGVDPVK57V0DbB8mAeqZXQJy/wqxG0VdAXXe82BL8V0AeL7YE3yZYQN/mrzCrUVhAoJ6pXHd8WEBiVqOIQ6dYQCMOnbQP0lhA5MWW4Nv8WEClfZAMqCdZQGY1ijh0UllAKO2DZEB9WUDppH2QDKhZQKpcd7zY0llAaxRx6KT9WUAszGoUcShaQO2DZEA9U1pArztebAl+WkBw81eY1ahaQDGrUcSh01pA8mJL8G3+WkCzGkUcOilbQHTSPkgGVFtANoo4dNJ+W0D3QTKgnqlbQLj5K8xq1FtAebEl+Db/W0A6aR8kAypcQPwgGVDPVFxAvdgSfJt/XEB+kAyoZ6pcQD9IBtQz1VxAAAAAAAAAXUA=\",\"dtype\":\"float64\",\"order\":\"little\",\"shape\":[163]},\"top\":[1,1,6,0,7,9,0,8,11,0,8,13,0,20,34,0,50,76,0,97,152,0,163,195,0,260,317,0,348,428,0,465,526,0,622,766,0,903,1112,0,1265,1528,0,1767,1997,0,2208,2435,0,2570,2664,0,2771,2697,0,2701,2692,0,2613,2510,0,2494,2542,0,2683,2635,0,2801,2908,0,3039,3172,0,3212,3224,0,3100,3019,0,2750,2650,0,2203,2215,0,1929,1515,0,1260,1062,0,753,593,0,458,291,0,209,172,0,94,75,0,53,56,0,36,21,0,18,12,0,9,6,0,10,4,0,4,5,0,4,1,0,2,3,0,0,0,0,0,1,0,0,0,0,2,0,0,0,0,0,0,0,0,0,0,0,0,0,0,0,0,0,0,0,0,0,0,0,0,0,1]},\"selected\":{\"id\":\"1211\"},\"selection_policy\":{\"id\":\"1210\"}},\"id\":\"1152\",\"type\":\"ColumnDataSource\"},{\"attributes\":{\"background_fill_color\":\"#fafafa\",\"below\":[{\"id\":\"1014\"}],\"center\":[{\"id\":\"1017\"},{\"id\":\"1021\"}],\"height\":400,\"left\":[{\"id\":\"1018\"}],\"renderers\":[{\"id\":\"1035\"},{\"id\":\"1040\"}],\"title\":{\"id\":\"1004\"},\"toolbar\":{\"id\":\"1027\"},\"toolbar_location\":null,\"width\":400,\"x_range\":{\"id\":\"1006\"},\"x_scale\":{\"id\":\"1010\"},\"y_range\":{\"id\":\"1008\"},\"y_scale\":{\"id\":\"1012\"}},\"id\":\"1003\",\"subtype\":\"Figure\",\"type\":\"Plot\"},{\"attributes\":{\"text\":\"Article\",\"text_font_size\":\"14pt\"},\"id\":\"1004\",\"type\":\"Title\"},{\"attributes\":{\"bottom\":{\"value\":0},\"fill_alpha\":{\"value\":0.1},\"fill_color\":{\"value\":\"navy\"},\"left\":{\"field\":\"left\"},\"line_alpha\":{\"value\":0.1},\"line_color\":{\"value\":\"white\"},\"right\":{\"field\":\"right\"},\"top\":{\"field\":\"top\"}},\"id\":\"1034\",\"type\":\"Quad\"},{\"attributes\":{},\"id\":\"1105\",\"type\":\"CrosshairTool\"},{\"attributes\":{\"bottom\":{\"value\":0},\"fill_alpha\":{\"value\":0.5},\"fill_color\":{\"value\":\"navy\"},\"left\":{\"field\":\"left\"},\"line_alpha\":{\"value\":0.5},\"line_color\":{\"value\":\"white\"},\"right\":{\"field\":\"right\"},\"top\":{\"field\":\"top\"}},\"id\":\"1153\",\"type\":\"Quad\"},{\"attributes\":{\"bottom\":{\"value\":0},\"fill_alpha\":{\"value\":0.1},\"fill_color\":{\"value\":\"navy\"},\"left\":{\"field\":\"left\"},\"line_alpha\":{\"value\":0.1},\"line_color\":{\"value\":\"white\"},\"right\":{\"field\":\"right\"},\"top\":{\"field\":\"top\"}},\"id\":\"1154\",\"type\":\"Quad\"},{\"attributes\":{\"active_multi\":null,\"logo\":null,\"tools\":[{\"id\":\"1102\"},{\"id\":\"1103\"},{\"id\":\"1104\"},{\"id\":\"1105\"}]},\"id\":\"1107\",\"type\":\"Toolbar\"}],\"root_ids\":[\"1217\"]},\"title\":\"Bokeh Application\",\"version\":\"2.3.1\"}};\n",
              "  var render_items = [{\"docid\":\"f9849edc-515e-4b2a-871b-e94a32748ed2\",\"root_ids\":[\"1217\"],\"roots\":{\"1217\":\"4bd4c9ec-bcdc-4972-b657-33eb75a33bcb\"}}];\n",
              "  root.Bokeh.embed.embed_items_notebook(docs_json, render_items);\n",
              "\n",
              "  }\n",
              "  if (root.Bokeh !== undefined) {\n",
              "    embed_document(root);\n",
              "  } else {\n",
              "    var attempts = 0;\n",
              "    var timer = setInterval(function(root) {\n",
              "      if (root.Bokeh !== undefined) {\n",
              "        clearInterval(timer);\n",
              "        embed_document(root);\n",
              "      } else {\n",
              "        attempts++;\n",
              "        if (attempts > 100) {\n",
              "          clearInterval(timer);\n",
              "          console.log(\"Bokeh: ERROR: Unable to run BokehJS code because BokehJS library is missing\");\n",
              "        }\n",
              "      }\n",
              "    }, 10, root)\n",
              "  }\n",
              "})(window);"
            ],
            "application/vnd.bokehjs_exec.v0+json": ""
          },
          "metadata": {
            "tags": [],
            "application/vnd.bokehjs_exec.v0+json": {
              "id": "1217"
            }
          }
        }
      ]
    },
    {
      "cell_type": "markdown",
      "metadata": {
        "id": "79oK84Ow3QSt"
      },
      "source": [
        "### Do the summaries contain new words (not in article?) \n",
        "- Evidence for need for abstractive summarization - example summaries include words that are not in the main text\n",
        "- Evidence that extractive summarization may be sufficient - most articles have 80% of their words appear in the article text"
      ]
    },
    {
      "cell_type": "markdown",
      "metadata": {
        "id": "VY9-KD-97cOh"
      },
      "source": [
        "__Number of Words in Summary that don't appear in original text__"
      ]
    },
    {
      "cell_type": "code",
      "metadata": {
        "scrolled": true,
        "id": "w0QGJ2cB3QSt"
      },
      "source": [
        "# set difference between words in summary and article\n",
        "def set_diff_words(row):\n",
        "    return set(row.words_summary).difference(set(row.words))\n",
        "\n",
        "df['new_summary_words'] = df.apply(lambda row: set_diff_words(row), axis = 1)\n",
        "df['num_new_summary_words'] = df.new_summary_words.apply(lambda row: len(row))"
      ],
      "execution_count": 18,
      "outputs": []
    },
    {
      "cell_type": "code",
      "metadata": {
        "id": "_rpT1J-z3bkk"
      },
      "source": [
        "p1 = histogram(df, 'num_new_summary_words', 'Number of New Words', 'Number of Words', True)"
      ],
      "execution_count": 19,
      "outputs": []
    },
    {
      "cell_type": "markdown",
      "metadata": {
        "id": "uOmaec-u3QSt"
      },
      "source": [
        "__Percent of words that are new in summary__ \n",
        "(out of number of unique words)"
      ]
    },
    {
      "cell_type": "code",
      "metadata": {
        "id": "M738YHFQ3QSu"
      },
      "source": [
        "df['num_unique_words'] = df.apply(lambda row: len(set(row.words_summary)), axis = 1)\n",
        "df['perc_new_words'] = (df.num_new_summary_words / df.num_unique_words) * 100"
      ],
      "execution_count": 20,
      "outputs": []
    },
    {
      "cell_type": "code",
      "metadata": {
        "id": "-cEgQUoT3thG"
      },
      "source": [
        "p2 = histogram(df, 'perc_new_words', 'Percent of New Words', 'Percent of Words', True)"
      ],
      "execution_count": 21,
      "outputs": []
    },
    {
      "cell_type": "code",
      "metadata": {
        "colab": {
          "base_uri": "https://localhost:8080/",
          "height": 475
        },
        "id": "4aBMTN0mAA_r",
        "outputId": "16e5a0c0-520e-40c8-8f51-dcac1c90085f"
      },
      "source": [
        "suptitle = Div(text = \"\"\"\n",
        "<html>\n",
        "<head>\n",
        "<style>\n",
        "h2\n",
        "</style>\n",
        "</head>\n",
        "<body>\n",
        "<h2>Words in Summary not in Article</h1>\n",
        "</body>\n",
        "</html>\n",
        "\"\"\")\n",
        "output_file(\"new_words.html\")\n",
        "show(column(suptitle, gridplot([[p1, p2]], plot_height = 400, plot_width = 400, toolbar_location=None)))"
      ],
      "execution_count": 22,
      "outputs": [
        {
          "output_type": "display_data",
          "data": {
            "application/javascript": [
              "\n",
              "(function(root) {\n",
              "  function now() {\n",
              "    return new Date();\n",
              "  }\n",
              "\n",
              "  var force = true;\n",
              "\n",
              "  if (typeof root._bokeh_onload_callbacks === \"undefined\" || force === true) {\n",
              "    root._bokeh_onload_callbacks = [];\n",
              "    root._bokeh_is_loading = undefined;\n",
              "  }\n",
              "\n",
              "  var JS_MIME_TYPE = 'application/javascript';\n",
              "  var HTML_MIME_TYPE = 'text/html';\n",
              "  var EXEC_MIME_TYPE = 'application/vnd.bokehjs_exec.v0+json';\n",
              "  var CLASS_NAME = 'output_bokeh rendered_html';\n",
              "\n",
              "  /**\n",
              "   * Render data to the DOM node\n",
              "   */\n",
              "  function render(props, node) {\n",
              "    var script = document.createElement(\"script\");\n",
              "    node.appendChild(script);\n",
              "  }\n",
              "\n",
              "  /**\n",
              "   * Handle when an output is cleared or removed\n",
              "   */\n",
              "  function handleClearOutput(event, handle) {\n",
              "    var cell = handle.cell;\n",
              "\n",
              "    var id = cell.output_area._bokeh_element_id;\n",
              "    var server_id = cell.output_area._bokeh_server_id;\n",
              "    // Clean up Bokeh references\n",
              "    if (id != null && id in Bokeh.index) {\n",
              "      Bokeh.index[id].model.document.clear();\n",
              "      delete Bokeh.index[id];\n",
              "    }\n",
              "\n",
              "    if (server_id !== undefined) {\n",
              "      // Clean up Bokeh references\n",
              "      var cmd = \"from bokeh.io.state import curstate; print(curstate().uuid_to_server['\" + server_id + \"'].get_sessions()[0].document.roots[0]._id)\";\n",
              "      cell.notebook.kernel.execute(cmd, {\n",
              "        iopub: {\n",
              "          output: function(msg) {\n",
              "            var id = msg.content.text.trim();\n",
              "            if (id in Bokeh.index) {\n",
              "              Bokeh.index[id].model.document.clear();\n",
              "              delete Bokeh.index[id];\n",
              "            }\n",
              "          }\n",
              "        }\n",
              "      });\n",
              "      // Destroy server and session\n",
              "      var cmd = \"import bokeh.io.notebook as ion; ion.destroy_server('\" + server_id + \"')\";\n",
              "      cell.notebook.kernel.execute(cmd);\n",
              "    }\n",
              "  }\n",
              "\n",
              "  /**\n",
              "   * Handle when a new output is added\n",
              "   */\n",
              "  function handleAddOutput(event, handle) {\n",
              "    var output_area = handle.output_area;\n",
              "    var output = handle.output;\n",
              "\n",
              "    // limit handleAddOutput to display_data with EXEC_MIME_TYPE content only\n",
              "    if ((output.output_type != \"display_data\") || (!Object.prototype.hasOwnProperty.call(output.data, EXEC_MIME_TYPE))) {\n",
              "      return\n",
              "    }\n",
              "\n",
              "    var toinsert = output_area.element.find(\".\" + CLASS_NAME.split(' ')[0]);\n",
              "\n",
              "    if (output.metadata[EXEC_MIME_TYPE][\"id\"] !== undefined) {\n",
              "      toinsert[toinsert.length - 1].firstChild.textContent = output.data[JS_MIME_TYPE];\n",
              "      // store reference to embed id on output_area\n",
              "      output_area._bokeh_element_id = output.metadata[EXEC_MIME_TYPE][\"id\"];\n",
              "    }\n",
              "    if (output.metadata[EXEC_MIME_TYPE][\"server_id\"] !== undefined) {\n",
              "      var bk_div = document.createElement(\"div\");\n",
              "      bk_div.innerHTML = output.data[HTML_MIME_TYPE];\n",
              "      var script_attrs = bk_div.children[0].attributes;\n",
              "      for (var i = 0; i < script_attrs.length; i++) {\n",
              "        toinsert[toinsert.length - 1].firstChild.setAttribute(script_attrs[i].name, script_attrs[i].value);\n",
              "        toinsert[toinsert.length - 1].firstChild.textContent = bk_div.children[0].textContent\n",
              "      }\n",
              "      // store reference to server id on output_area\n",
              "      output_area._bokeh_server_id = output.metadata[EXEC_MIME_TYPE][\"server_id\"];\n",
              "    }\n",
              "  }\n",
              "\n",
              "  function register_renderer(events, OutputArea) {\n",
              "\n",
              "    function append_mime(data, metadata, element) {\n",
              "      // create a DOM node to render to\n",
              "      var toinsert = this.create_output_subarea(\n",
              "        metadata,\n",
              "        CLASS_NAME,\n",
              "        EXEC_MIME_TYPE\n",
              "      );\n",
              "      this.keyboard_manager.register_events(toinsert);\n",
              "      // Render to node\n",
              "      var props = {data: data, metadata: metadata[EXEC_MIME_TYPE]};\n",
              "      render(props, toinsert[toinsert.length - 1]);\n",
              "      element.append(toinsert);\n",
              "      return toinsert\n",
              "    }\n",
              "\n",
              "    /* Handle when an output is cleared or removed */\n",
              "    events.on('clear_output.CodeCell', handleClearOutput);\n",
              "    events.on('delete.Cell', handleClearOutput);\n",
              "\n",
              "    /* Handle when a new output is added */\n",
              "    events.on('output_added.OutputArea', handleAddOutput);\n",
              "\n",
              "    /**\n",
              "     * Register the mime type and append_mime function with output_area\n",
              "     */\n",
              "    OutputArea.prototype.register_mime_type(EXEC_MIME_TYPE, append_mime, {\n",
              "      /* Is output safe? */\n",
              "      safe: true,\n",
              "      /* Index of renderer in `output_area.display_order` */\n",
              "      index: 0\n",
              "    });\n",
              "  }\n",
              "\n",
              "  // register the mime type if in Jupyter Notebook environment and previously unregistered\n",
              "  if (root.Jupyter !== undefined) {\n",
              "    var events = require('base/js/events');\n",
              "    var OutputArea = require('notebook/js/outputarea').OutputArea;\n",
              "\n",
              "    if (OutputArea.prototype.mime_types().indexOf(EXEC_MIME_TYPE) == -1) {\n",
              "      register_renderer(events, OutputArea);\n",
              "    }\n",
              "  }\n",
              "\n",
              "  \n",
              "  if (typeof (root._bokeh_timeout) === \"undefined\" || force === true) {\n",
              "    root._bokeh_timeout = Date.now() + 5000;\n",
              "    root._bokeh_failed_load = false;\n",
              "  }\n",
              "\n",
              "  var NB_LOAD_WARNING = {'data': {'text/html':\n",
              "     \"<div style='background-color: #fdd'>\\n\"+\n",
              "     \"<p>\\n\"+\n",
              "     \"BokehJS does not appear to have successfully loaded. If loading BokehJS from CDN, this \\n\"+\n",
              "     \"may be due to a slow or bad network connection. Possible fixes:\\n\"+\n",
              "     \"</p>\\n\"+\n",
              "     \"<ul>\\n\"+\n",
              "     \"<li>re-rerun `output_notebook()` to attempt to load from CDN again, or</li>\\n\"+\n",
              "     \"<li>use INLINE resources instead, as so:</li>\\n\"+\n",
              "     \"</ul>\\n\"+\n",
              "     \"<code>\\n\"+\n",
              "     \"from bokeh.resources import INLINE\\n\"+\n",
              "     \"output_notebook(resources=INLINE)\\n\"+\n",
              "     \"</code>\\n\"+\n",
              "     \"</div>\"}};\n",
              "\n",
              "  function display_loaded() {\n",
              "    var el = document.getElementById(null);\n",
              "    if (el != null) {\n",
              "      el.textContent = \"BokehJS is loading...\";\n",
              "    }\n",
              "    if (root.Bokeh !== undefined) {\n",
              "      if (el != null) {\n",
              "        el.textContent = \"BokehJS \" + root.Bokeh.version + \" successfully loaded.\";\n",
              "      }\n",
              "    } else if (Date.now() < root._bokeh_timeout) {\n",
              "      setTimeout(display_loaded, 100)\n",
              "    }\n",
              "  }\n",
              "\n",
              "\n",
              "  function run_callbacks() {\n",
              "    try {\n",
              "      root._bokeh_onload_callbacks.forEach(function(callback) {\n",
              "        if (callback != null)\n",
              "          callback();\n",
              "      });\n",
              "    } finally {\n",
              "      delete root._bokeh_onload_callbacks\n",
              "    }\n",
              "    console.debug(\"Bokeh: all callbacks have finished\");\n",
              "  }\n",
              "\n",
              "  function load_libs(css_urls, js_urls, callback) {\n",
              "    if (css_urls == null) css_urls = [];\n",
              "    if (js_urls == null) js_urls = [];\n",
              "\n",
              "    root._bokeh_onload_callbacks.push(callback);\n",
              "    if (root._bokeh_is_loading > 0) {\n",
              "      console.debug(\"Bokeh: BokehJS is being loaded, scheduling callback at\", now());\n",
              "      return null;\n",
              "    }\n",
              "    if (js_urls == null || js_urls.length === 0) {\n",
              "      run_callbacks();\n",
              "      return null;\n",
              "    }\n",
              "    console.debug(\"Bokeh: BokehJS not loaded, scheduling load and callback at\", now());\n",
              "    root._bokeh_is_loading = css_urls.length + js_urls.length;\n",
              "\n",
              "    function on_load() {\n",
              "      root._bokeh_is_loading--;\n",
              "      if (root._bokeh_is_loading === 0) {\n",
              "        console.debug(\"Bokeh: all BokehJS libraries/stylesheets loaded\");\n",
              "        run_callbacks()\n",
              "      }\n",
              "    }\n",
              "\n",
              "    function on_error(url) {\n",
              "      console.error(\"failed to load \" + url);\n",
              "    }\n",
              "\n",
              "    for (let i = 0; i < css_urls.length; i++) {\n",
              "      const url = css_urls[i];\n",
              "      const element = document.createElement(\"link\");\n",
              "      element.onload = on_load;\n",
              "      element.onerror = on_error.bind(null, url);\n",
              "      element.rel = \"stylesheet\";\n",
              "      element.type = \"text/css\";\n",
              "      element.href = url;\n",
              "      console.debug(\"Bokeh: injecting link tag for BokehJS stylesheet: \", url);\n",
              "      document.body.appendChild(element);\n",
              "    }\n",
              "\n",
              "    const hashes = {\"https://cdn.bokeh.org/bokeh/release/bokeh-2.3.1.min.js\": \"YF85VygJKMVnHE+lLv2AM93Vbstr0yo2TbIu5v8se5Rq3UQAUmcuh4aaJwNlpKwa\", \"https://cdn.bokeh.org/bokeh/release/bokeh-widgets-2.3.1.min.js\": \"KKuas3gevv3PvrlkyCMzffFeaMq5we/a2QsP5AUoS3mJ0jmaCL7jirFJN3GoE/lM\", \"https://cdn.bokeh.org/bokeh/release/bokeh-tables-2.3.1.min.js\": \"MK/uFc3YT18pkvvXRl66tTHjP0/dxoSH2e/eiNMFIguKlun2+WVqaPTWmUy/zvh4\"};\n",
              "\n",
              "    for (let i = 0; i < js_urls.length; i++) {\n",
              "      const url = js_urls[i];\n",
              "      const element = document.createElement('script');\n",
              "      element.onload = on_load;\n",
              "      element.onerror = on_error.bind(null, url);\n",
              "      element.async = false;\n",
              "      element.src = url;\n",
              "      if (url in hashes) {\n",
              "        element.crossOrigin = \"anonymous\";\n",
              "        element.integrity = \"sha384-\" + hashes[url];\n",
              "      }\n",
              "      console.debug(\"Bokeh: injecting script tag for BokehJS library: \", url);\n",
              "      document.head.appendChild(element);\n",
              "    }\n",
              "  };\n",
              "\n",
              "  function inject_raw_css(css) {\n",
              "    const element = document.createElement(\"style\");\n",
              "    element.appendChild(document.createTextNode(css));\n",
              "    document.body.appendChild(element);\n",
              "  }\n",
              "\n",
              "  \n",
              "  var js_urls = [\"https://cdn.bokeh.org/bokeh/release/bokeh-2.3.1.min.js\", \"https://cdn.bokeh.org/bokeh/release/bokeh-widgets-2.3.1.min.js\", \"https://cdn.bokeh.org/bokeh/release/bokeh-tables-2.3.1.min.js\"];\n",
              "  var css_urls = [];\n",
              "  \n",
              "\n",
              "  var inline_js = [\n",
              "    function(Bokeh) {\n",
              "      Bokeh.set_log_level(\"info\");\n",
              "    },\n",
              "    function(Bokeh) {\n",
              "    \n",
              "    \n",
              "    }\n",
              "  ];\n",
              "\n",
              "  function run_inline_js() {\n",
              "    \n",
              "    if (root.Bokeh !== undefined || force === true) {\n",
              "      \n",
              "    for (var i = 0; i < inline_js.length; i++) {\n",
              "      inline_js[i].call(root, root.Bokeh);\n",
              "    }\n",
              "    } else if (Date.now() < root._bokeh_timeout) {\n",
              "      setTimeout(run_inline_js, 100);\n",
              "    } else if (!root._bokeh_failed_load) {\n",
              "      console.log(\"Bokeh: BokehJS failed to load within specified timeout.\");\n",
              "      root._bokeh_failed_load = true;\n",
              "    } else if (force !== true) {\n",
              "      var cell = $(document.getElementById(null)).parents('.cell').data().cell;\n",
              "      cell.output_area.append_execute_result(NB_LOAD_WARNING)\n",
              "    }\n",
              "\n",
              "  }\n",
              "\n",
              "  if (root._bokeh_is_loading === 0) {\n",
              "    console.debug(\"Bokeh: BokehJS loaded, going straight to plotting\");\n",
              "    run_inline_js();\n",
              "  } else {\n",
              "    load_libs(css_urls, js_urls, function() {\n",
              "      console.debug(\"Bokeh: BokehJS plotting callback run at\", now());\n",
              "      run_inline_js();\n",
              "    });\n",
              "  }\n",
              "}(window));"
            ],
            "application/vnd.bokehjs_load.v0+json": "\n(function(root) {\n  function now() {\n    return new Date();\n  }\n\n  var force = true;\n\n  if (typeof root._bokeh_onload_callbacks === \"undefined\" || force === true) {\n    root._bokeh_onload_callbacks = [];\n    root._bokeh_is_loading = undefined;\n  }\n\n  \n\n  \n  if (typeof (root._bokeh_timeout) === \"undefined\" || force === true) {\n    root._bokeh_timeout = Date.now() + 5000;\n    root._bokeh_failed_load = false;\n  }\n\n  var NB_LOAD_WARNING = {'data': {'text/html':\n     \"<div style='background-color: #fdd'>\\n\"+\n     \"<p>\\n\"+\n     \"BokehJS does not appear to have successfully loaded. If loading BokehJS from CDN, this \\n\"+\n     \"may be due to a slow or bad network connection. Possible fixes:\\n\"+\n     \"</p>\\n\"+\n     \"<ul>\\n\"+\n     \"<li>re-rerun `output_notebook()` to attempt to load from CDN again, or</li>\\n\"+\n     \"<li>use INLINE resources instead, as so:</li>\\n\"+\n     \"</ul>\\n\"+\n     \"<code>\\n\"+\n     \"from bokeh.resources import INLINE\\n\"+\n     \"output_notebook(resources=INLINE)\\n\"+\n     \"</code>\\n\"+\n     \"</div>\"}};\n\n  function display_loaded() {\n    var el = document.getElementById(null);\n    if (el != null) {\n      el.textContent = \"BokehJS is loading...\";\n    }\n    if (root.Bokeh !== undefined) {\n      if (el != null) {\n        el.textContent = \"BokehJS \" + root.Bokeh.version + \" successfully loaded.\";\n      }\n    } else if (Date.now() < root._bokeh_timeout) {\n      setTimeout(display_loaded, 100)\n    }\n  }\n\n\n  function run_callbacks() {\n    try {\n      root._bokeh_onload_callbacks.forEach(function(callback) {\n        if (callback != null)\n          callback();\n      });\n    } finally {\n      delete root._bokeh_onload_callbacks\n    }\n    console.debug(\"Bokeh: all callbacks have finished\");\n  }\n\n  function load_libs(css_urls, js_urls, callback) {\n    if (css_urls == null) css_urls = [];\n    if (js_urls == null) js_urls = [];\n\n    root._bokeh_onload_callbacks.push(callback);\n    if (root._bokeh_is_loading > 0) {\n      console.debug(\"Bokeh: BokehJS is being loaded, scheduling callback at\", now());\n      return null;\n    }\n    if (js_urls == null || js_urls.length === 0) {\n      run_callbacks();\n      return null;\n    }\n    console.debug(\"Bokeh: BokehJS not loaded, scheduling load and callback at\", now());\n    root._bokeh_is_loading = css_urls.length + js_urls.length;\n\n    function on_load() {\n      root._bokeh_is_loading--;\n      if (root._bokeh_is_loading === 0) {\n        console.debug(\"Bokeh: all BokehJS libraries/stylesheets loaded\");\n        run_callbacks()\n      }\n    }\n\n    function on_error(url) {\n      console.error(\"failed to load \" + url);\n    }\n\n    for (let i = 0; i < css_urls.length; i++) {\n      const url = css_urls[i];\n      const element = document.createElement(\"link\");\n      element.onload = on_load;\n      element.onerror = on_error.bind(null, url);\n      element.rel = \"stylesheet\";\n      element.type = \"text/css\";\n      element.href = url;\n      console.debug(\"Bokeh: injecting link tag for BokehJS stylesheet: \", url);\n      document.body.appendChild(element);\n    }\n\n    const hashes = {\"https://cdn.bokeh.org/bokeh/release/bokeh-2.3.1.min.js\": \"YF85VygJKMVnHE+lLv2AM93Vbstr0yo2TbIu5v8se5Rq3UQAUmcuh4aaJwNlpKwa\", \"https://cdn.bokeh.org/bokeh/release/bokeh-widgets-2.3.1.min.js\": \"KKuas3gevv3PvrlkyCMzffFeaMq5we/a2QsP5AUoS3mJ0jmaCL7jirFJN3GoE/lM\", \"https://cdn.bokeh.org/bokeh/release/bokeh-tables-2.3.1.min.js\": \"MK/uFc3YT18pkvvXRl66tTHjP0/dxoSH2e/eiNMFIguKlun2+WVqaPTWmUy/zvh4\"};\n\n    for (let i = 0; i < js_urls.length; i++) {\n      const url = js_urls[i];\n      const element = document.createElement('script');\n      element.onload = on_load;\n      element.onerror = on_error.bind(null, url);\n      element.async = false;\n      element.src = url;\n      if (url in hashes) {\n        element.crossOrigin = \"anonymous\";\n        element.integrity = \"sha384-\" + hashes[url];\n      }\n      console.debug(\"Bokeh: injecting script tag for BokehJS library: \", url);\n      document.head.appendChild(element);\n    }\n  };\n\n  function inject_raw_css(css) {\n    const element = document.createElement(\"style\");\n    element.appendChild(document.createTextNode(css));\n    document.body.appendChild(element);\n  }\n\n  \n  var js_urls = [\"https://cdn.bokeh.org/bokeh/release/bokeh-2.3.1.min.js\", \"https://cdn.bokeh.org/bokeh/release/bokeh-widgets-2.3.1.min.js\", \"https://cdn.bokeh.org/bokeh/release/bokeh-tables-2.3.1.min.js\"];\n  var css_urls = [];\n  \n\n  var inline_js = [\n    function(Bokeh) {\n      Bokeh.set_log_level(\"info\");\n    },\n    function(Bokeh) {\n    \n    \n    }\n  ];\n\n  function run_inline_js() {\n    \n    if (root.Bokeh !== undefined || force === true) {\n      \n    for (var i = 0; i < inline_js.length; i++) {\n      inline_js[i].call(root, root.Bokeh);\n    }\n    } else if (Date.now() < root._bokeh_timeout) {\n      setTimeout(run_inline_js, 100);\n    } else if (!root._bokeh_failed_load) {\n      console.log(\"Bokeh: BokehJS failed to load within specified timeout.\");\n      root._bokeh_failed_load = true;\n    } else if (force !== true) {\n      var cell = $(document.getElementById(null)).parents('.cell').data().cell;\n      cell.output_area.append_execute_result(NB_LOAD_WARNING)\n    }\n\n  }\n\n  if (root._bokeh_is_loading === 0) {\n    console.debug(\"Bokeh: BokehJS loaded, going straight to plotting\");\n    run_inline_js();\n  } else {\n    load_libs(css_urls, js_urls, function() {\n      console.debug(\"Bokeh: BokehJS plotting callback run at\", now());\n      run_inline_js();\n    });\n  }\n}(window));"
          },
          "metadata": {
            "tags": []
          }
        },
        {
          "output_type": "display_data",
          "data": {
            "text/html": [
              "\n",
              "\n",
              "\n",
              "\n",
              "\n",
              "\n",
              "  <div class=\"bk-root\" id=\"d07d8f10-af2a-4342-b121-e5ee64422937\" data-root-id=\"1999\"></div>\n"
            ]
          },
          "metadata": {
            "tags": []
          }
        },
        {
          "output_type": "display_data",
          "data": {
            "application/javascript": [
              "(function(root) {\n",
              "  function embed_document(root) {\n",
              "    \n",
              "  var docs_json = {\"4e7651e2-5308-45ea-953c-42cd34cfadf4\":{\"defs\":[],\"roots\":{\"references\":[{\"attributes\":{\"children\":[{\"id\":\"1971\"},{\"id\":\"1998\"}]},\"id\":\"1999\",\"type\":\"Column\"},{\"attributes\":{},\"id\":\"1947\",\"type\":\"BasicTicker\"},{\"attributes\":{\"axis\":{\"id\":\"1906\"},\"dimension\":1,\"grid_line_color\":\"white\",\"ticker\":null},\"id\":\"1909\",\"type\":\"Grid\"},{\"attributes\":{},\"id\":\"1934\",\"type\":\"DataRange1d\"},{\"attributes\":{\"start\":0},\"id\":\"1936\",\"type\":\"DataRange1d\"},{\"attributes\":{\"overlay\":{\"id\":\"1914\"}},\"id\":\"1911\",\"type\":\"BoxZoomTool\"},{\"attributes\":{},\"id\":\"1938\",\"type\":\"LinearScale\"},{\"attributes\":{\"data\":{\"x\":{\"__ndarray__\":\"AAAAAAAAAACfTShGLg77P59NKEYuDgtANzqetKJKFECfTShGLg4bQIMw2evc6CBANzqetKJKJEDrQ2N9aKwnQJ9NKEYuDitAU1ftDvRvLkCDMNnr3OgwQF21O9C/mTJANzqetKJKNEARvwCZhfs1QOtDY31orDdAxcjFYUtdOUCfTShGLg47QHnSiioRvzxAU1ftDvRvPkAW7qd5axBAQIMw2evc6EBA8HIKXk7BQUBdtTvQv5lCQMr3bEIxckNANzqetKJKRECkfM8mFCNFQBG/AJmF+0VAfgEyC/fTRkDrQ2N9aKxHQFiGlO/ZhEhAxcjFYUtdSUAyC/fTvDVKQJ9NKEYuDktADJBZuJ/mS0B50ooqEb9MQOYUvJyCl01AU1ftDvRvTkDAmR6BZUhPQBbup3lrEFBATY/AMqR8UECDMNnr3OhQQLrR8aQVVVFA8HIKXk7BUUAnFCMXhy1SQF21O9C/mVJAlFZUifgFU0DK92xCMXJTQAGZhftp3lNANzqetKJKVEBu27Zt27ZUQA==\",\"dtype\":\"float64\",\"order\":\"little\",\"shape\":[50]}},\"selected\":{\"id\":\"1995\"},\"selection_policy\":{\"id\":\"1994\"}},\"id\":\"1965\",\"type\":\"ColumnDataSource\"},{\"attributes\":{},\"id\":\"1953\",\"type\":\"CrosshairTool\"},{\"attributes\":{\"axis_label\":\"Count\",\"axis_label_text_font_size\":\"12pt\",\"formatter\":{\"id\":\"1987\"},\"major_label_policy\":{\"id\":\"1988\"},\"ticker\":{\"id\":\"1947\"}},\"id\":\"1946\",\"type\":\"LinearAxis\"},{\"attributes\":{},\"id\":\"1903\",\"type\":\"BasicTicker\"},{\"attributes\":{},\"id\":\"1994\",\"type\":\"UnionRenderers\"},{\"attributes\":{\"axis_label\":\"Number of Words\",\"axis_label_text_font_size\":\"12pt\",\"formatter\":{\"id\":\"1977\"},\"major_label_policy\":{\"id\":\"1978\"},\"ticker\":{\"id\":\"1903\"}},\"id\":\"1902\",\"type\":\"LinearAxis\"},{\"attributes\":{\"bottom_units\":\"screen\",\"fill_alpha\":0.5,\"fill_color\":\"lightgrey\",\"left_units\":\"screen\",\"level\":\"overlay\",\"line_alpha\":1.0,\"line_color\":\"black\",\"line_dash\":[4,4],\"line_width\":2,\"right_units\":\"screen\",\"syncable\":false,\"top_units\":\"screen\"},\"id\":\"1954\",\"type\":\"BoxAnnotation\"},{\"attributes\":{},\"id\":\"1907\",\"type\":\"BasicTicker\"},{\"attributes\":{\"source\":{\"id\":\"1960\"}},\"id\":\"1964\",\"type\":\"CDSView\"},{\"attributes\":{\"line_alpha\":0.7,\"line_color\":\"#ff8888\",\"line_width\":4,\"x\":{\"field\":\"x\"}},\"id\":\"1966\",\"type\":\"Line\"},{\"attributes\":{\"text\":\"Number of New Words\",\"text_font_size\":\"14pt\"},\"id\":\"1892\",\"type\":\"Title\"},{\"attributes\":{\"line_alpha\":0.7,\"line_color\":\"#ff8888\",\"line_width\":4,\"x\":{\"field\":\"x\"}},\"id\":\"1926\",\"type\":\"Line\"},{\"attributes\":{\"active_multi\":null,\"logo\":null,\"tools\":[{\"id\":\"1950\"},{\"id\":\"1951\"},{\"id\":\"1952\"},{\"id\":\"1953\"}]},\"id\":\"1955\",\"type\":\"Toolbar\"},{\"attributes\":{\"bottom\":{\"value\":0},\"fill_alpha\":{\"value\":0.5},\"fill_color\":{\"value\":\"navy\"},\"left\":{\"field\":\"left\"},\"line_alpha\":{\"value\":0.5},\"line_color\":{\"value\":\"white\"},\"right\":{\"field\":\"right\"},\"top\":{\"field\":\"top\"}},\"id\":\"1921\",\"type\":\"Quad\"},{\"attributes\":{\"bottom\":{\"value\":0},\"fill_alpha\":{\"value\":0.1},\"fill_color\":{\"value\":\"navy\"},\"left\":{\"field\":\"left\"},\"line_alpha\":{\"value\":0.1},\"line_color\":{\"value\":\"white\"},\"right\":{\"field\":\"right\"},\"top\":{\"field\":\"top\"}},\"id\":\"1922\",\"type\":\"Quad\"},{\"attributes\":{\"overlay\":{\"id\":\"1954\"}},\"id\":\"1951\",\"type\":\"BoxZoomTool\"},{\"attributes\":{\"children\":[[{\"id\":\"1891\"},0,0],[{\"id\":\"1931\"},0,1]]},\"id\":\"1998\",\"type\":\"GridBox\"},{\"attributes\":{\"text\":\"\\n<html>\\n<head>\\n<style>\\nh2\\n</style>\\n</head>\\n<body>\\n<h2>Words in Summary not in Article</h1>\\n</body>\\n</html>\\n\"},\"id\":\"1971\",\"type\":\"Div\"},{\"attributes\":{\"data_source\":{\"id\":\"1925\"},\"glyph\":{\"id\":\"1926\"},\"hover_glyph\":null,\"muted_glyph\":null,\"nonselection_glyph\":{\"id\":\"1927\"},\"view\":{\"id\":\"1929\"}},\"id\":\"1928\",\"type\":\"GlyphRenderer\"},{\"attributes\":{},\"id\":\"1940\",\"type\":\"LinearScale\"},{\"attributes\":{\"source\":{\"id\":\"1925\"}},\"id\":\"1929\",\"type\":\"CDSView\"},{\"attributes\":{},\"id\":\"1992\",\"type\":\"UnionRenderers\"},{\"attributes\":{\"axis\":{\"id\":\"1946\"},\"dimension\":1,\"grid_line_color\":\"white\",\"ticker\":null},\"id\":\"1949\",\"type\":\"Grid\"},{\"attributes\":{\"source\":{\"id\":\"1965\"}},\"id\":\"1969\",\"type\":\"CDSView\"},{\"attributes\":{\"bottom_units\":\"screen\",\"fill_alpha\":0.5,\"fill_color\":\"lightgrey\",\"left_units\":\"screen\",\"level\":\"overlay\",\"line_alpha\":1.0,\"line_color\":\"black\",\"line_dash\":[4,4],\"line_width\":2,\"right_units\":\"screen\",\"syncable\":false,\"top_units\":\"screen\"},\"id\":\"1914\",\"type\":\"BoxAnnotation\"},{\"attributes\":{},\"id\":\"1995\",\"type\":\"Selection\"},{\"attributes\":{},\"id\":\"1987\",\"type\":\"BasicTickFormatter\"},{\"attributes\":{\"data_source\":{\"id\":\"1965\"},\"glyph\":{\"id\":\"1966\"},\"hover_glyph\":null,\"muted_glyph\":null,\"nonselection_glyph\":{\"id\":\"1967\"},\"view\":{\"id\":\"1969\"}},\"id\":\"1968\",\"type\":\"GlyphRenderer\"},{\"attributes\":{\"background_fill_color\":\"#fafafa\",\"below\":[{\"id\":\"1942\"}],\"center\":[{\"id\":\"1945\"},{\"id\":\"1949\"}],\"height\":400,\"left\":[{\"id\":\"1946\"}],\"renderers\":[{\"id\":\"1963\"},{\"id\":\"1968\"}],\"title\":{\"id\":\"1932\"},\"toolbar\":{\"id\":\"1955\"},\"toolbar_location\":null,\"width\":400,\"x_range\":{\"id\":\"1934\"},\"x_scale\":{\"id\":\"1938\"},\"y_range\":{\"id\":\"1936\"},\"y_scale\":{\"id\":\"1940\"}},\"id\":\"1931\",\"subtype\":\"Figure\",\"type\":\"Plot\"},{\"attributes\":{\"line_alpha\":0.1,\"line_color\":\"#ff8888\",\"line_width\":4,\"x\":{\"field\":\"x\"}},\"id\":\"1927\",\"type\":\"Line\"},{\"attributes\":{},\"id\":\"1943\",\"type\":\"BasicTicker\"},{\"attributes\":{\"axis\":{\"id\":\"1902\"},\"grid_line_color\":\"white\",\"ticker\":null},\"id\":\"1905\",\"type\":\"Grid\"},{\"attributes\":{\"background_fill_color\":\"#fafafa\",\"below\":[{\"id\":\"1902\"}],\"center\":[{\"id\":\"1905\"},{\"id\":\"1909\"}],\"height\":400,\"left\":[{\"id\":\"1906\"}],\"renderers\":[{\"id\":\"1923\"},{\"id\":\"1928\"}],\"title\":{\"id\":\"1892\"},\"toolbar\":{\"id\":\"1915\"},\"toolbar_location\":null,\"width\":400,\"x_range\":{\"id\":\"1894\"},\"x_scale\":{\"id\":\"1898\"},\"y_range\":{\"id\":\"1896\"},\"y_scale\":{\"id\":\"1900\"}},\"id\":\"1891\",\"subtype\":\"Figure\",\"type\":\"Plot\"},{\"attributes\":{},\"id\":\"1974\",\"type\":\"BasicTickFormatter\"},{\"attributes\":{\"axis_label\":\"Count\",\"axis_label_text_font_size\":\"12pt\",\"formatter\":{\"id\":\"1974\"},\"major_label_policy\":{\"id\":\"1975\"},\"ticker\":{\"id\":\"1907\"}},\"id\":\"1906\",\"type\":\"LinearAxis\"},{\"attributes\":{\"start\":0},\"id\":\"1896\",\"type\":\"DataRange1d\"},{\"attributes\":{},\"id\":\"1977\",\"type\":\"BasicTickFormatter\"},{\"attributes\":{\"bottom\":{\"value\":0},\"fill_alpha\":{\"value\":0.5},\"fill_color\":{\"value\":\"navy\"},\"left\":{\"field\":\"left\"},\"line_alpha\":{\"value\":0.5},\"line_color\":{\"value\":\"white\"},\"right\":{\"field\":\"right\"},\"top\":{\"field\":\"top\"}},\"id\":\"1961\",\"type\":\"Quad\"},{\"attributes\":{\"bottom\":{\"value\":0},\"fill_alpha\":{\"value\":0.1},\"fill_color\":{\"value\":\"navy\"},\"left\":{\"field\":\"left\"},\"line_alpha\":{\"value\":0.1},\"line_color\":{\"value\":\"white\"},\"right\":{\"field\":\"right\"},\"top\":{\"field\":\"top\"}},\"id\":\"1962\",\"type\":\"Quad\"},{\"attributes\":{\"data\":{\"x\":{\"__ndarray__\":\"AAAAAAAAAAC3bdu2bdvmP7dt27Zt2/Y/SZIkSZIkAUC3bdu2bdsGQCVJkiRJkgxASZIkSZIkEUAAAAAAAAAUQLdt27Zt2xZAbtu2bdu2GUAlSZIkSZIcQNy2bdu2bR9ASZIkSZIkIUAlSZIkSZIiQAAAAAAAACRA3LZt27ZtJUC3bdu2bdsmQJIkSZIkSShAbtu2bdu2KUBJkiRJkiQrQCVJkiRJkixAAAAAAAAALkDctm3btm0vQNy2bdu2bTBASZIkSZIkMUC3bdu2bdsxQCVJkiRJkjJAkiRJkiRJM0AAAAAAAAA0QG7btm3btjRA3LZt27ZtNUBJkiRJkiQ2QLdt27Zt2zZAJUmSJEmSN0CSJEmSJEk4QAAAAAAAADlAbtu2bdu2OUDctm3btm06QEmSJEmSJDtAt23btm3bO0AlSZIkSZI8QJIkSZIkST1AAAAAAAAAPkBu27Zt27Y+QNy2bdu2bT9AJUmSJEkSQEDctm3btm1AQJIkSZIkyUBASZIkSZIkQUAAAAAAAIBBQA==\",\"dtype\":\"float64\",\"order\":\"little\",\"shape\":[50]}},\"selected\":{\"id\":\"1982\"},\"selection_policy\":{\"id\":\"1981\"}},\"id\":\"1925\",\"type\":\"ColumnDataSource\"},{\"attributes\":{},\"id\":\"1975\",\"type\":\"AllLabels\"},{\"attributes\":{},\"id\":\"1898\",\"type\":\"LinearScale\"},{\"attributes\":{},\"id\":\"1913\",\"type\":\"CrosshairTool\"},{\"attributes\":{},\"id\":\"1993\",\"type\":\"Selection\"},{\"attributes\":{},\"id\":\"1978\",\"type\":\"AllLabels\"},{\"attributes\":{\"line_alpha\":0.1,\"line_color\":\"#ff8888\",\"line_width\":4,\"x\":{\"field\":\"x\"}},\"id\":\"1967\",\"type\":\"Line\"},{\"attributes\":{\"callback\":null},\"id\":\"1950\",\"type\":\"HoverTool\"},{\"attributes\":{\"data_source\":{\"id\":\"1920\"},\"glyph\":{\"id\":\"1921\"},\"hover_glyph\":null,\"muted_glyph\":null,\"nonselection_glyph\":{\"id\":\"1922\"},\"view\":{\"id\":\"1924\"}},\"id\":\"1923\",\"type\":\"GlyphRenderer\"},{\"attributes\":{\"data\":{\"left\":{\"__ndarray__\":\"AAAAAAAAAABQeYi50CrwP1B5iLnQKgBA+LVMFjlACEBQeYi50CoQQKSX6ueENRRA+LVMFjlAGEBM1K5E7UocQFB5iLnQKiBAeoi50CowIkCkl+rnhDUkQM6mG//eOiZA+LVMFjlAKEAixX0tk0UqQEzUrkTtSixAduPfW0dQLkBQeYi50CowQOUAIcV9LTFAeoi50CowMkAPEFLc1zIzQKSX6ueENTRAOR+D8zE4NUDOphv/3jo2QGMutAqMPTdA+LVMFjlAOECNPeUh5kI5QCLFfS2TRTpAt0wWOUBIO0BM1K5E7Uo8QOFbR1CaTT1AduPfW0dQPkALa3hn9FI/QFB5iLnQKkBAGr1UPyesQEDlACHFfS1BQLBE7UrUrkFAeoi50CowQkBEzIVWgbFCQA8QUtzXMkNA2lMeYi60Q0Ckl+rnhDVEQG7btm3btkRAOR+D8zE4RUAEY095iLlFQM6mG//eOkZAmOrnhDW8RkBjLrQKjD1HQC5ygJDivkdA+LVMFjlASEDC+Ricj8FIQI095SHmQklAWIGxpzzESUAixX0tk0VKQOwISrPpxkpAt0wWOUBIS0CCkOK+lslLQEzUrkTtSkxAFhh7ykPMTEDhW0dQmk1NQKyfE9bwzk1AduPfW0dQTkBAJ6zhndFOQAtreGf0Uk9A1q5E7UrUT0BQeYi50CpQQDWbbvx7a1BAGr1UPyesUEAA3zqC0uxQQOUAIcV9LVFAyiIHCCluUUCwRO1K1K5RQJVm041/71FAeoi50CowUkBfqp8T1nBSQETMhVaBsVJAKu5rmSzyUkAPEFLc1zJTQPQxOB+Dc1NA2lMeYi60U0C/dQSl2fRTQKSX6ueENVRAibnQKjB2VEA=\",\"dtype\":\"float64\",\"order\":\"little\",\"shape\":[82]},\"right\":{\"__ndarray__\":\"UHmIudAq8D9QeYi50CoAQPi1TBY5QAhAUHmIudAqEECkl+rnhDUUQPi1TBY5QBhATNSuRO1KHEBQeYi50CogQHqIudAqMCJApJfq54Q1JEDOphv/3jomQPi1TBY5QChAIsV9LZNFKkBM1K5E7UosQHbj31tHUC5AUHmIudAqMEDlACHFfS0xQHqIudAqMDJADxBS3NcyM0Ckl+rnhDU0QDkfg/MxODVAzqYb/946NkBjLrQKjD03QPi1TBY5QDhAjT3lIeZCOUAixX0tk0U6QLdMFjlASDtATNSuRO1KPEDhW0dQmk09QHbj31tHUD5AC2t4Z/RSP0BQeYi50CpAQBq9VD8nrEBA5QAhxX0tQUCwRO1K1K5BQHqIudAqMEJARMyFVoGxQkAPEFLc1zJDQNpTHmIutENApJfq54Q1REBu27Zt27ZEQDkfg/MxOEVABGNPeYi5RUDOphv/3jpGQJjq54Q1vEZAYy60Cow9R0AucoCQ4r5HQPi1TBY5QEhAwvkYnI/BSECNPeUh5kJJQFiBsac8xElAIsV9LZNFSkDsCEqz6cZKQLdMFjlASEtAgpDivpbJS0BM1K5E7UpMQBYYe8pDzExA4VtHUJpNTUCsnxPW8M5NQHbj31tHUE5AQCes4Z3RTkALa3hn9FJPQNauRO1K1E9AUHmIudAqUEA1m278e2tQQBq9VD8nrFBAAN86gtLsUEDlACHFfS1RQMoiBwgpblFAsETtStSuUUCVZtONf+9RQHqIudAqMFJAX6qfE9ZwUkBEzIVWgbFSQCrua5ks8lJADxBS3NcyU0D0MTgfg3NTQNpTHmIutFNAv3UEpdn0U0Ckl+rnhDVUQIm50CowdlRAbtu2bdu2VEA=\",\"dtype\":\"float64\",\"order\":\"little\",\"shape\":[82]},\"top\":[2260,50,1874,1522,1673,2214,2368,2791,3597,3333,4030,3478,3778,4060,4640,3911,4319,4205,3177,4040,3403,3452,2233,3006,2615,1892,2262,1620,1480,1343,1129,948,1283,393,643,625,368,423,352,231,246,183,144,141,86,77,64,60,21,68,25,29,29,21,17,11,11,8,4,4,6,8,9,2,0,4,0,1,3,0,4,6,2,0,3,0,1,0,0,1,1,1]},\"selected\":{\"id\":\"1993\"},\"selection_policy\":{\"id\":\"1992\"}},\"id\":\"1960\",\"type\":\"ColumnDataSource\"},{\"attributes\":{\"data\":{\"left\":{\"__ndarray__\":\"AAAAAAAAAAAAAAAAAADwPwAAAAAAAABAAAAAAAAACEAAAAAAAAAQQAAAAAAAABRAAAAAAAAAGEAAAAAAAAAcQAAAAAAAACBAAAAAAAAAIkAAAAAAAAAkQAAAAAAAACZAAAAAAAAAKEAAAAAAAAAqQAAAAAAAACxAAAAAAAAALkAAAAAAAAAwQAAAAAAAADFAAAAAAAAAMkAAAAAAAAAzQAAAAAAAADRAAAAAAAAANUAAAAAAAAA2QAAAAAAAADdAAAAAAAAAOEAAAAAAAAA5QAAAAAAAADpAAAAAAAAAO0AAAAAAAAA8QAAAAAAAAD1AAAAAAAAAPkAAAAAAAAA/QAAAAAAAAEBAAAAAAACAQEAAAAAAAABBQA==\",\"dtype\":\"float64\",\"order\":\"little\",\"shape\":[35]},\"right\":{\"__ndarray__\":\"AAAAAAAA8D8AAAAAAAAAQAAAAAAAAAhAAAAAAAAAEEAAAAAAAAAUQAAAAAAAABhAAAAAAAAAHEAAAAAAAAAgQAAAAAAAACJAAAAAAAAAJEAAAAAAAAAmQAAAAAAAAChAAAAAAAAAKkAAAAAAAAAsQAAAAAAAAC5AAAAAAAAAMEAAAAAAAAAxQAAAAAAAADJAAAAAAAAAM0AAAAAAAAA0QAAAAAAAADVAAAAAAAAANkAAAAAAAAA3QAAAAAAAADhAAAAAAAAAOUAAAAAAAAA6QAAAAAAAADtAAAAAAAAAPEAAAAAAAAA9QAAAAAAAAD5AAAAAAAAAP0AAAAAAAABAQAAAAAAAgEBAAAAAAAAAQUAAAAAAAIBBQA==\",\"dtype\":\"float64\",\"order\":\"little\",\"shape\":[35]},\"top\":[2260,3835,6318,8541,10231,10951,10367,9320,7868,6321,4695,3614,2546,1787,1218,842,573,367,233,168,77,65,47,28,18,13,5,7,3,2,1,0,0,0,1]},\"selected\":{\"id\":\"1980\"},\"selection_policy\":{\"id\":\"1979\"}},\"id\":\"1920\",\"type\":\"ColumnDataSource\"},{\"attributes\":{\"callback\":null},\"id\":\"1910\",\"type\":\"HoverTool\"},{\"attributes\":{},\"id\":\"1980\",\"type\":\"Selection\"},{\"attributes\":{},\"id\":\"1952\",\"type\":\"UndoTool\"},{\"attributes\":{\"active_multi\":null,\"logo\":null,\"tools\":[{\"id\":\"1910\"},{\"id\":\"1911\"},{\"id\":\"1912\"},{\"id\":\"1913\"}]},\"id\":\"1915\",\"type\":\"Toolbar\"},{\"attributes\":{\"data_source\":{\"id\":\"1960\"},\"glyph\":{\"id\":\"1961\"},\"hover_glyph\":null,\"muted_glyph\":null,\"nonselection_glyph\":{\"id\":\"1962\"},\"view\":{\"id\":\"1964\"}},\"id\":\"1963\",\"type\":\"GlyphRenderer\"},{\"attributes\":{},\"id\":\"1912\",\"type\":\"UndoTool\"},{\"attributes\":{},\"id\":\"1990\",\"type\":\"BasicTickFormatter\"},{\"attributes\":{},\"id\":\"1894\",\"type\":\"DataRange1d\"},{\"attributes\":{\"axis\":{\"id\":\"1942\"},\"grid_line_color\":\"white\",\"ticker\":null},\"id\":\"1945\",\"type\":\"Grid\"},{\"attributes\":{\"source\":{\"id\":\"1920\"}},\"id\":\"1924\",\"type\":\"CDSView\"},{\"attributes\":{},\"id\":\"1981\",\"type\":\"UnionRenderers\"},{\"attributes\":{\"text\":\"Percent of New Words\",\"text_font_size\":\"14pt\"},\"id\":\"1932\",\"type\":\"Title\"},{\"attributes\":{\"axis_label\":\"Percent of Words\",\"axis_label_text_font_size\":\"12pt\",\"formatter\":{\"id\":\"1990\"},\"major_label_policy\":{\"id\":\"1991\"},\"ticker\":{\"id\":\"1943\"}},\"id\":\"1942\",\"type\":\"LinearAxis\"},{\"attributes\":{},\"id\":\"1979\",\"type\":\"UnionRenderers\"},{\"attributes\":{},\"id\":\"1900\",\"type\":\"LinearScale\"},{\"attributes\":{},\"id\":\"1988\",\"type\":\"AllLabels\"},{\"attributes\":{},\"id\":\"1982\",\"type\":\"Selection\"},{\"attributes\":{},\"id\":\"1991\",\"type\":\"AllLabels\"}],\"root_ids\":[\"1999\"]},\"title\":\"Bokeh Application\",\"version\":\"2.3.1\"}};\n",
              "  var render_items = [{\"docid\":\"4e7651e2-5308-45ea-953c-42cd34cfadf4\",\"root_ids\":[\"1999\"],\"roots\":{\"1999\":\"d07d8f10-af2a-4342-b121-e5ee64422937\"}}];\n",
              "  root.Bokeh.embed.embed_items_notebook(docs_json, render_items);\n",
              "\n",
              "  }\n",
              "  if (root.Bokeh !== undefined) {\n",
              "    embed_document(root);\n",
              "  } else {\n",
              "    var attempts = 0;\n",
              "    var timer = setInterval(function(root) {\n",
              "      if (root.Bokeh !== undefined) {\n",
              "        clearInterval(timer);\n",
              "        embed_document(root);\n",
              "      } else {\n",
              "        attempts++;\n",
              "        if (attempts > 100) {\n",
              "          clearInterval(timer);\n",
              "          console.log(\"Bokeh: ERROR: Unable to run BokehJS code because BokehJS library is missing\");\n",
              "        }\n",
              "      }\n",
              "    }, 10, root)\n",
              "  }\n",
              "})(window);"
            ],
            "application/vnd.bokehjs_exec.v0+json": ""
          },
          "metadata": {
            "tags": [],
            "application/vnd.bokehjs_exec.v0+json": {
              "id": "1999"
            }
          }
        }
      ]
    },
    {
      "cell_type": "markdown",
      "metadata": {
        "id": "c1GbxgOh3QSu"
      },
      "source": [
        "## How long should the summary be? \n",
        "- Heuristics: \n",
        "  - 8 article sentences per summary sentence\n",
        "  - 12 article words per summary word\n",
        "- Hypothesis that sentences heuristic will result in longer predicted summaries: article sentences are about 2 times longer than summary sentences"
      ]
    },
    {
      "cell_type": "markdown",
      "metadata": {
        "id": "_HorbLYL3QSu"
      },
      "source": [
        "__Correlation between text and summary length__ \n",
        "- Positive correlation but not very strong"
      ]
    },
    {
      "cell_type": "code",
      "metadata": {
        "id": "JBYegj053QSv",
        "colab": {
          "base_uri": "https://localhost:8080/",
          "height": 111
        },
        "outputId": "da8ad3ff-29d5-4784-b90c-31fa5c7de88b"
      },
      "source": [
        "df[['num_sentences', 'num_sentences_summary']].corr()"
      ],
      "execution_count": 23,
      "outputs": [
        {
          "output_type": "execute_result",
          "data": {
            "text/html": [
              "<div>\n",
              "<style scoped>\n",
              "    .dataframe tbody tr th:only-of-type {\n",
              "        vertical-align: middle;\n",
              "    }\n",
              "\n",
              "    .dataframe tbody tr th {\n",
              "        vertical-align: top;\n",
              "    }\n",
              "\n",
              "    .dataframe thead th {\n",
              "        text-align: right;\n",
              "    }\n",
              "</style>\n",
              "<table border=\"1\" class=\"dataframe\">\n",
              "  <thead>\n",
              "    <tr style=\"text-align: right;\">\n",
              "      <th></th>\n",
              "      <th>num_sentences</th>\n",
              "      <th>num_sentences_summary</th>\n",
              "    </tr>\n",
              "  </thead>\n",
              "  <tbody>\n",
              "    <tr>\n",
              "      <th>num_sentences</th>\n",
              "      <td>1.000000</td>\n",
              "      <td>0.202396</td>\n",
              "    </tr>\n",
              "    <tr>\n",
              "      <th>num_sentences_summary</th>\n",
              "      <td>0.202396</td>\n",
              "      <td>1.000000</td>\n",
              "    </tr>\n",
              "  </tbody>\n",
              "</table>\n",
              "</div>"
            ],
            "text/plain": [
              "                       num_sentences  num_sentences_summary\n",
              "num_sentences               1.000000               0.202396\n",
              "num_sentences_summary       0.202396               1.000000"
            ]
          },
          "metadata": {
            "tags": []
          },
          "execution_count": 23
        }
      ]
    },
    {
      "cell_type": "code",
      "metadata": {
        "id": "-3ptFyZ-3QSv",
        "colab": {
          "base_uri": "https://localhost:8080/",
          "height": 111
        },
        "outputId": "0f5a01e5-2aab-4b59-aecd-ee9f506995d2"
      },
      "source": [
        "df[['num_words', 'num_words_summary']].corr()"
      ],
      "execution_count": 24,
      "outputs": [
        {
          "output_type": "execute_result",
          "data": {
            "text/html": [
              "<div>\n",
              "<style scoped>\n",
              "    .dataframe tbody tr th:only-of-type {\n",
              "        vertical-align: middle;\n",
              "    }\n",
              "\n",
              "    .dataframe tbody tr th {\n",
              "        vertical-align: top;\n",
              "    }\n",
              "\n",
              "    .dataframe thead th {\n",
              "        text-align: right;\n",
              "    }\n",
              "</style>\n",
              "<table border=\"1\" class=\"dataframe\">\n",
              "  <thead>\n",
              "    <tr style=\"text-align: right;\">\n",
              "      <th></th>\n",
              "      <th>num_words</th>\n",
              "      <th>num_words_summary</th>\n",
              "    </tr>\n",
              "  </thead>\n",
              "  <tbody>\n",
              "    <tr>\n",
              "      <th>num_words</th>\n",
              "      <td>1.000000</td>\n",
              "      <td>0.268845</td>\n",
              "    </tr>\n",
              "    <tr>\n",
              "      <th>num_words_summary</th>\n",
              "      <td>0.268845</td>\n",
              "      <td>1.000000</td>\n",
              "    </tr>\n",
              "  </tbody>\n",
              "</table>\n",
              "</div>"
            ],
            "text/plain": [
              "                   num_words  num_words_summary\n",
              "num_words           1.000000           0.268845\n",
              "num_words_summary   0.268845           1.000000"
            ]
          },
          "metadata": {
            "tags": []
          },
          "execution_count": 24
        }
      ]
    },
    {
      "cell_type": "markdown",
      "metadata": {
        "id": "trc-RNJ93QSv"
      },
      "source": [
        "__Number of Article Sentences per Summary Sentences__\n",
        "- About 8 article sentences per summary sentence"
      ]
    },
    {
      "cell_type": "code",
      "metadata": {
        "colab": {
          "base_uri": "https://localhost:8080/"
        },
        "id": "UIqgBsnk8DF-",
        "outputId": "602d3c4d-8725-475e-a427-0506e24fd1b0"
      },
      "source": [
        "# number article sentences per article sentences \n",
        "df['sentence_ratio'] = df.num_sentences / df.num_sentences_summary\n",
        "df.sentence_ratio.describe()"
      ],
      "execution_count": 25,
      "outputs": [
        {
          "output_type": "execute_result",
          "data": {
            "text/plain": [
              "count    92322.000000\n",
              "mean         9.133393\n",
              "std          5.412633\n",
              "min          1.200000\n",
              "25%          5.000000\n",
              "50%          8.000000\n",
              "75%         11.750000\n",
              "max         74.000000\n",
              "Name: sentence_ratio, dtype: float64"
            ]
          },
          "metadata": {
            "tags": []
          },
          "execution_count": 25
        }
      ]
    },
    {
      "cell_type": "code",
      "metadata": {
        "id": "en-BgO5g8lwu"
      },
      "source": [
        "p1 = histogram(df, 'sentence_ratio', 'Sentences', '# Article / # Summary Sentences', True)\n",
        "vline = Span(location=8, dimension='height', line_color='black', line_width=2)\n",
        "p1.renderers.extend([vline])"
      ],
      "execution_count": 26,
      "outputs": []
    },
    {
      "cell_type": "markdown",
      "metadata": {
        "id": "9FcWYs4ylT-E"
      },
      "source": [
        "__Number of Article Words per Summary Words__\n",
        "- About 12 text words per summary word\n"
      ]
    },
    {
      "cell_type": "code",
      "metadata": {
        "colab": {
          "base_uri": "https://localhost:8080/"
        },
        "id": "HQ41ysCF8IeM",
        "outputId": "85a4d63c-e368-4931-d793-b3fb36def036"
      },
      "source": [
        "df['words_ratio'] = df.num_words / df.num_words_summary\n",
        "df.words_ratio.describe()"
      ],
      "execution_count": 27,
      "outputs": [
        {
          "output_type": "execute_result",
          "data": {
            "text/plain": [
              "count    92322.000000\n",
              "mean        13.957446\n",
              "std          7.551687\n",
              "min          1.183673\n",
              "25%          8.363997\n",
              "50%         12.446291\n",
              "75%         17.836642\n",
              "max        121.555556\n",
              "Name: words_ratio, dtype: float64"
            ]
          },
          "metadata": {
            "tags": []
          },
          "execution_count": 27
        }
      ]
    },
    {
      "cell_type": "code",
      "metadata": {
        "id": "rusjVURf9X49"
      },
      "source": [
        "p2 = histogram(df, 'words_ratio', 'Words', '# Article / # Summary Words', True)\n",
        "vline = Span(location=12, dimension='height', line_color='black', line_width=2)\n",
        "p2.renderers.extend([vline])"
      ],
      "execution_count": 28,
      "outputs": []
    },
    {
      "cell_type": "code",
      "metadata": {
        "colab": {
          "base_uri": "https://localhost:8080/",
          "height": 475
        },
        "id": "mDaHx6rvAqvt",
        "outputId": "99137614-e7ab-4cd7-d0f8-7dbc77b7f04f"
      },
      "source": [
        "suptitle = Div(text = \"\"\"\n",
        "<html>\n",
        "<head>\n",
        "<style>\n",
        "h2\n",
        "</style>\n",
        "</head>\n",
        "<body>\n",
        "<h2>Relative length of Summary vs Article</h1>\n",
        "</body>\n",
        "</html>\n",
        "\"\"\")\n",
        "output_file(\"relative length.html\")\n",
        "show(column(suptitle, gridplot([[p1, p2]], plot_height = 400, plot_width = 400, toolbar_location=None)))"
      ],
      "execution_count": 29,
      "outputs": [
        {
          "output_type": "display_data",
          "data": {
            "application/javascript": [
              "\n",
              "(function(root) {\n",
              "  function now() {\n",
              "    return new Date();\n",
              "  }\n",
              "\n",
              "  var force = true;\n",
              "\n",
              "  if (typeof root._bokeh_onload_callbacks === \"undefined\" || force === true) {\n",
              "    root._bokeh_onload_callbacks = [];\n",
              "    root._bokeh_is_loading = undefined;\n",
              "  }\n",
              "\n",
              "  var JS_MIME_TYPE = 'application/javascript';\n",
              "  var HTML_MIME_TYPE = 'text/html';\n",
              "  var EXEC_MIME_TYPE = 'application/vnd.bokehjs_exec.v0+json';\n",
              "  var CLASS_NAME = 'output_bokeh rendered_html';\n",
              "\n",
              "  /**\n",
              "   * Render data to the DOM node\n",
              "   */\n",
              "  function render(props, node) {\n",
              "    var script = document.createElement(\"script\");\n",
              "    node.appendChild(script);\n",
              "  }\n",
              "\n",
              "  /**\n",
              "   * Handle when an output is cleared or removed\n",
              "   */\n",
              "  function handleClearOutput(event, handle) {\n",
              "    var cell = handle.cell;\n",
              "\n",
              "    var id = cell.output_area._bokeh_element_id;\n",
              "    var server_id = cell.output_area._bokeh_server_id;\n",
              "    // Clean up Bokeh references\n",
              "    if (id != null && id in Bokeh.index) {\n",
              "      Bokeh.index[id].model.document.clear();\n",
              "      delete Bokeh.index[id];\n",
              "    }\n",
              "\n",
              "    if (server_id !== undefined) {\n",
              "      // Clean up Bokeh references\n",
              "      var cmd = \"from bokeh.io.state import curstate; print(curstate().uuid_to_server['\" + server_id + \"'].get_sessions()[0].document.roots[0]._id)\";\n",
              "      cell.notebook.kernel.execute(cmd, {\n",
              "        iopub: {\n",
              "          output: function(msg) {\n",
              "            var id = msg.content.text.trim();\n",
              "            if (id in Bokeh.index) {\n",
              "              Bokeh.index[id].model.document.clear();\n",
              "              delete Bokeh.index[id];\n",
              "            }\n",
              "          }\n",
              "        }\n",
              "      });\n",
              "      // Destroy server and session\n",
              "      var cmd = \"import bokeh.io.notebook as ion; ion.destroy_server('\" + server_id + \"')\";\n",
              "      cell.notebook.kernel.execute(cmd);\n",
              "    }\n",
              "  }\n",
              "\n",
              "  /**\n",
              "   * Handle when a new output is added\n",
              "   */\n",
              "  function handleAddOutput(event, handle) {\n",
              "    var output_area = handle.output_area;\n",
              "    var output = handle.output;\n",
              "\n",
              "    // limit handleAddOutput to display_data with EXEC_MIME_TYPE content only\n",
              "    if ((output.output_type != \"display_data\") || (!Object.prototype.hasOwnProperty.call(output.data, EXEC_MIME_TYPE))) {\n",
              "      return\n",
              "    }\n",
              "\n",
              "    var toinsert = output_area.element.find(\".\" + CLASS_NAME.split(' ')[0]);\n",
              "\n",
              "    if (output.metadata[EXEC_MIME_TYPE][\"id\"] !== undefined) {\n",
              "      toinsert[toinsert.length - 1].firstChild.textContent = output.data[JS_MIME_TYPE];\n",
              "      // store reference to embed id on output_area\n",
              "      output_area._bokeh_element_id = output.metadata[EXEC_MIME_TYPE][\"id\"];\n",
              "    }\n",
              "    if (output.metadata[EXEC_MIME_TYPE][\"server_id\"] !== undefined) {\n",
              "      var bk_div = document.createElement(\"div\");\n",
              "      bk_div.innerHTML = output.data[HTML_MIME_TYPE];\n",
              "      var script_attrs = bk_div.children[0].attributes;\n",
              "      for (var i = 0; i < script_attrs.length; i++) {\n",
              "        toinsert[toinsert.length - 1].firstChild.setAttribute(script_attrs[i].name, script_attrs[i].value);\n",
              "        toinsert[toinsert.length - 1].firstChild.textContent = bk_div.children[0].textContent\n",
              "      }\n",
              "      // store reference to server id on output_area\n",
              "      output_area._bokeh_server_id = output.metadata[EXEC_MIME_TYPE][\"server_id\"];\n",
              "    }\n",
              "  }\n",
              "\n",
              "  function register_renderer(events, OutputArea) {\n",
              "\n",
              "    function append_mime(data, metadata, element) {\n",
              "      // create a DOM node to render to\n",
              "      var toinsert = this.create_output_subarea(\n",
              "        metadata,\n",
              "        CLASS_NAME,\n",
              "        EXEC_MIME_TYPE\n",
              "      );\n",
              "      this.keyboard_manager.register_events(toinsert);\n",
              "      // Render to node\n",
              "      var props = {data: data, metadata: metadata[EXEC_MIME_TYPE]};\n",
              "      render(props, toinsert[toinsert.length - 1]);\n",
              "      element.append(toinsert);\n",
              "      return toinsert\n",
              "    }\n",
              "\n",
              "    /* Handle when an output is cleared or removed */\n",
              "    events.on('clear_output.CodeCell', handleClearOutput);\n",
              "    events.on('delete.Cell', handleClearOutput);\n",
              "\n",
              "    /* Handle when a new output is added */\n",
              "    events.on('output_added.OutputArea', handleAddOutput);\n",
              "\n",
              "    /**\n",
              "     * Register the mime type and append_mime function with output_area\n",
              "     */\n",
              "    OutputArea.prototype.register_mime_type(EXEC_MIME_TYPE, append_mime, {\n",
              "      /* Is output safe? */\n",
              "      safe: true,\n",
              "      /* Index of renderer in `output_area.display_order` */\n",
              "      index: 0\n",
              "    });\n",
              "  }\n",
              "\n",
              "  // register the mime type if in Jupyter Notebook environment and previously unregistered\n",
              "  if (root.Jupyter !== undefined) {\n",
              "    var events = require('base/js/events');\n",
              "    var OutputArea = require('notebook/js/outputarea').OutputArea;\n",
              "\n",
              "    if (OutputArea.prototype.mime_types().indexOf(EXEC_MIME_TYPE) == -1) {\n",
              "      register_renderer(events, OutputArea);\n",
              "    }\n",
              "  }\n",
              "\n",
              "  \n",
              "  if (typeof (root._bokeh_timeout) === \"undefined\" || force === true) {\n",
              "    root._bokeh_timeout = Date.now() + 5000;\n",
              "    root._bokeh_failed_load = false;\n",
              "  }\n",
              "\n",
              "  var NB_LOAD_WARNING = {'data': {'text/html':\n",
              "     \"<div style='background-color: #fdd'>\\n\"+\n",
              "     \"<p>\\n\"+\n",
              "     \"BokehJS does not appear to have successfully loaded. If loading BokehJS from CDN, this \\n\"+\n",
              "     \"may be due to a slow or bad network connection. Possible fixes:\\n\"+\n",
              "     \"</p>\\n\"+\n",
              "     \"<ul>\\n\"+\n",
              "     \"<li>re-rerun `output_notebook()` to attempt to load from CDN again, or</li>\\n\"+\n",
              "     \"<li>use INLINE resources instead, as so:</li>\\n\"+\n",
              "     \"</ul>\\n\"+\n",
              "     \"<code>\\n\"+\n",
              "     \"from bokeh.resources import INLINE\\n\"+\n",
              "     \"output_notebook(resources=INLINE)\\n\"+\n",
              "     \"</code>\\n\"+\n",
              "     \"</div>\"}};\n",
              "\n",
              "  function display_loaded() {\n",
              "    var el = document.getElementById(null);\n",
              "    if (el != null) {\n",
              "      el.textContent = \"BokehJS is loading...\";\n",
              "    }\n",
              "    if (root.Bokeh !== undefined) {\n",
              "      if (el != null) {\n",
              "        el.textContent = \"BokehJS \" + root.Bokeh.version + \" successfully loaded.\";\n",
              "      }\n",
              "    } else if (Date.now() < root._bokeh_timeout) {\n",
              "      setTimeout(display_loaded, 100)\n",
              "    }\n",
              "  }\n",
              "\n",
              "\n",
              "  function run_callbacks() {\n",
              "    try {\n",
              "      root._bokeh_onload_callbacks.forEach(function(callback) {\n",
              "        if (callback != null)\n",
              "          callback();\n",
              "      });\n",
              "    } finally {\n",
              "      delete root._bokeh_onload_callbacks\n",
              "    }\n",
              "    console.debug(\"Bokeh: all callbacks have finished\");\n",
              "  }\n",
              "\n",
              "  function load_libs(css_urls, js_urls, callback) {\n",
              "    if (css_urls == null) css_urls = [];\n",
              "    if (js_urls == null) js_urls = [];\n",
              "\n",
              "    root._bokeh_onload_callbacks.push(callback);\n",
              "    if (root._bokeh_is_loading > 0) {\n",
              "      console.debug(\"Bokeh: BokehJS is being loaded, scheduling callback at\", now());\n",
              "      return null;\n",
              "    }\n",
              "    if (js_urls == null || js_urls.length === 0) {\n",
              "      run_callbacks();\n",
              "      return null;\n",
              "    }\n",
              "    console.debug(\"Bokeh: BokehJS not loaded, scheduling load and callback at\", now());\n",
              "    root._bokeh_is_loading = css_urls.length + js_urls.length;\n",
              "\n",
              "    function on_load() {\n",
              "      root._bokeh_is_loading--;\n",
              "      if (root._bokeh_is_loading === 0) {\n",
              "        console.debug(\"Bokeh: all BokehJS libraries/stylesheets loaded\");\n",
              "        run_callbacks()\n",
              "      }\n",
              "    }\n",
              "\n",
              "    function on_error(url) {\n",
              "      console.error(\"failed to load \" + url);\n",
              "    }\n",
              "\n",
              "    for (let i = 0; i < css_urls.length; i++) {\n",
              "      const url = css_urls[i];\n",
              "      const element = document.createElement(\"link\");\n",
              "      element.onload = on_load;\n",
              "      element.onerror = on_error.bind(null, url);\n",
              "      element.rel = \"stylesheet\";\n",
              "      element.type = \"text/css\";\n",
              "      element.href = url;\n",
              "      console.debug(\"Bokeh: injecting link tag for BokehJS stylesheet: \", url);\n",
              "      document.body.appendChild(element);\n",
              "    }\n",
              "\n",
              "    const hashes = {\"https://cdn.bokeh.org/bokeh/release/bokeh-2.3.1.min.js\": \"YF85VygJKMVnHE+lLv2AM93Vbstr0yo2TbIu5v8se5Rq3UQAUmcuh4aaJwNlpKwa\", \"https://cdn.bokeh.org/bokeh/release/bokeh-widgets-2.3.1.min.js\": \"KKuas3gevv3PvrlkyCMzffFeaMq5we/a2QsP5AUoS3mJ0jmaCL7jirFJN3GoE/lM\", \"https://cdn.bokeh.org/bokeh/release/bokeh-tables-2.3.1.min.js\": \"MK/uFc3YT18pkvvXRl66tTHjP0/dxoSH2e/eiNMFIguKlun2+WVqaPTWmUy/zvh4\"};\n",
              "\n",
              "    for (let i = 0; i < js_urls.length; i++) {\n",
              "      const url = js_urls[i];\n",
              "      const element = document.createElement('script');\n",
              "      element.onload = on_load;\n",
              "      element.onerror = on_error.bind(null, url);\n",
              "      element.async = false;\n",
              "      element.src = url;\n",
              "      if (url in hashes) {\n",
              "        element.crossOrigin = \"anonymous\";\n",
              "        element.integrity = \"sha384-\" + hashes[url];\n",
              "      }\n",
              "      console.debug(\"Bokeh: injecting script tag for BokehJS library: \", url);\n",
              "      document.head.appendChild(element);\n",
              "    }\n",
              "  };\n",
              "\n",
              "  function inject_raw_css(css) {\n",
              "    const element = document.createElement(\"style\");\n",
              "    element.appendChild(document.createTextNode(css));\n",
              "    document.body.appendChild(element);\n",
              "  }\n",
              "\n",
              "  \n",
              "  var js_urls = [\"https://cdn.bokeh.org/bokeh/release/bokeh-2.3.1.min.js\", \"https://cdn.bokeh.org/bokeh/release/bokeh-widgets-2.3.1.min.js\", \"https://cdn.bokeh.org/bokeh/release/bokeh-tables-2.3.1.min.js\"];\n",
              "  var css_urls = [];\n",
              "  \n",
              "\n",
              "  var inline_js = [\n",
              "    function(Bokeh) {\n",
              "      Bokeh.set_log_level(\"info\");\n",
              "    },\n",
              "    function(Bokeh) {\n",
              "    \n",
              "    \n",
              "    }\n",
              "  ];\n",
              "\n",
              "  function run_inline_js() {\n",
              "    \n",
              "    if (root.Bokeh !== undefined || force === true) {\n",
              "      \n",
              "    for (var i = 0; i < inline_js.length; i++) {\n",
              "      inline_js[i].call(root, root.Bokeh);\n",
              "    }\n",
              "    } else if (Date.now() < root._bokeh_timeout) {\n",
              "      setTimeout(run_inline_js, 100);\n",
              "    } else if (!root._bokeh_failed_load) {\n",
              "      console.log(\"Bokeh: BokehJS failed to load within specified timeout.\");\n",
              "      root._bokeh_failed_load = true;\n",
              "    } else if (force !== true) {\n",
              "      var cell = $(document.getElementById(null)).parents('.cell').data().cell;\n",
              "      cell.output_area.append_execute_result(NB_LOAD_WARNING)\n",
              "    }\n",
              "\n",
              "  }\n",
              "\n",
              "  if (root._bokeh_is_loading === 0) {\n",
              "    console.debug(\"Bokeh: BokehJS loaded, going straight to plotting\");\n",
              "    run_inline_js();\n",
              "  } else {\n",
              "    load_libs(css_urls, js_urls, function() {\n",
              "      console.debug(\"Bokeh: BokehJS plotting callback run at\", now());\n",
              "      run_inline_js();\n",
              "    });\n",
              "  }\n",
              "}(window));"
            ],
            "application/vnd.bokehjs_load.v0+json": "\n(function(root) {\n  function now() {\n    return new Date();\n  }\n\n  var force = true;\n\n  if (typeof root._bokeh_onload_callbacks === \"undefined\" || force === true) {\n    root._bokeh_onload_callbacks = [];\n    root._bokeh_is_loading = undefined;\n  }\n\n  \n\n  \n  if (typeof (root._bokeh_timeout) === \"undefined\" || force === true) {\n    root._bokeh_timeout = Date.now() + 5000;\n    root._bokeh_failed_load = false;\n  }\n\n  var NB_LOAD_WARNING = {'data': {'text/html':\n     \"<div style='background-color: #fdd'>\\n\"+\n     \"<p>\\n\"+\n     \"BokehJS does not appear to have successfully loaded. If loading BokehJS from CDN, this \\n\"+\n     \"may be due to a slow or bad network connection. Possible fixes:\\n\"+\n     \"</p>\\n\"+\n     \"<ul>\\n\"+\n     \"<li>re-rerun `output_notebook()` to attempt to load from CDN again, or</li>\\n\"+\n     \"<li>use INLINE resources instead, as so:</li>\\n\"+\n     \"</ul>\\n\"+\n     \"<code>\\n\"+\n     \"from bokeh.resources import INLINE\\n\"+\n     \"output_notebook(resources=INLINE)\\n\"+\n     \"</code>\\n\"+\n     \"</div>\"}};\n\n  function display_loaded() {\n    var el = document.getElementById(null);\n    if (el != null) {\n      el.textContent = \"BokehJS is loading...\";\n    }\n    if (root.Bokeh !== undefined) {\n      if (el != null) {\n        el.textContent = \"BokehJS \" + root.Bokeh.version + \" successfully loaded.\";\n      }\n    } else if (Date.now() < root._bokeh_timeout) {\n      setTimeout(display_loaded, 100)\n    }\n  }\n\n\n  function run_callbacks() {\n    try {\n      root._bokeh_onload_callbacks.forEach(function(callback) {\n        if (callback != null)\n          callback();\n      });\n    } finally {\n      delete root._bokeh_onload_callbacks\n    }\n    console.debug(\"Bokeh: all callbacks have finished\");\n  }\n\n  function load_libs(css_urls, js_urls, callback) {\n    if (css_urls == null) css_urls = [];\n    if (js_urls == null) js_urls = [];\n\n    root._bokeh_onload_callbacks.push(callback);\n    if (root._bokeh_is_loading > 0) {\n      console.debug(\"Bokeh: BokehJS is being loaded, scheduling callback at\", now());\n      return null;\n    }\n    if (js_urls == null || js_urls.length === 0) {\n      run_callbacks();\n      return null;\n    }\n    console.debug(\"Bokeh: BokehJS not loaded, scheduling load and callback at\", now());\n    root._bokeh_is_loading = css_urls.length + js_urls.length;\n\n    function on_load() {\n      root._bokeh_is_loading--;\n      if (root._bokeh_is_loading === 0) {\n        console.debug(\"Bokeh: all BokehJS libraries/stylesheets loaded\");\n        run_callbacks()\n      }\n    }\n\n    function on_error(url) {\n      console.error(\"failed to load \" + url);\n    }\n\n    for (let i = 0; i < css_urls.length; i++) {\n      const url = css_urls[i];\n      const element = document.createElement(\"link\");\n      element.onload = on_load;\n      element.onerror = on_error.bind(null, url);\n      element.rel = \"stylesheet\";\n      element.type = \"text/css\";\n      element.href = url;\n      console.debug(\"Bokeh: injecting link tag for BokehJS stylesheet: \", url);\n      document.body.appendChild(element);\n    }\n\n    const hashes = {\"https://cdn.bokeh.org/bokeh/release/bokeh-2.3.1.min.js\": \"YF85VygJKMVnHE+lLv2AM93Vbstr0yo2TbIu5v8se5Rq3UQAUmcuh4aaJwNlpKwa\", \"https://cdn.bokeh.org/bokeh/release/bokeh-widgets-2.3.1.min.js\": \"KKuas3gevv3PvrlkyCMzffFeaMq5we/a2QsP5AUoS3mJ0jmaCL7jirFJN3GoE/lM\", \"https://cdn.bokeh.org/bokeh/release/bokeh-tables-2.3.1.min.js\": \"MK/uFc3YT18pkvvXRl66tTHjP0/dxoSH2e/eiNMFIguKlun2+WVqaPTWmUy/zvh4\"};\n\n    for (let i = 0; i < js_urls.length; i++) {\n      const url = js_urls[i];\n      const element = document.createElement('script');\n      element.onload = on_load;\n      element.onerror = on_error.bind(null, url);\n      element.async = false;\n      element.src = url;\n      if (url in hashes) {\n        element.crossOrigin = \"anonymous\";\n        element.integrity = \"sha384-\" + hashes[url];\n      }\n      console.debug(\"Bokeh: injecting script tag for BokehJS library: \", url);\n      document.head.appendChild(element);\n    }\n  };\n\n  function inject_raw_css(css) {\n    const element = document.createElement(\"style\");\n    element.appendChild(document.createTextNode(css));\n    document.body.appendChild(element);\n  }\n\n  \n  var js_urls = [\"https://cdn.bokeh.org/bokeh/release/bokeh-2.3.1.min.js\", \"https://cdn.bokeh.org/bokeh/release/bokeh-widgets-2.3.1.min.js\", \"https://cdn.bokeh.org/bokeh/release/bokeh-tables-2.3.1.min.js\"];\n  var css_urls = [];\n  \n\n  var inline_js = [\n    function(Bokeh) {\n      Bokeh.set_log_level(\"info\");\n    },\n    function(Bokeh) {\n    \n    \n    }\n  ];\n\n  function run_inline_js() {\n    \n    if (root.Bokeh !== undefined || force === true) {\n      \n    for (var i = 0; i < inline_js.length; i++) {\n      inline_js[i].call(root, root.Bokeh);\n    }\n    } else if (Date.now() < root._bokeh_timeout) {\n      setTimeout(run_inline_js, 100);\n    } else if (!root._bokeh_failed_load) {\n      console.log(\"Bokeh: BokehJS failed to load within specified timeout.\");\n      root._bokeh_failed_load = true;\n    } else if (force !== true) {\n      var cell = $(document.getElementById(null)).parents('.cell').data().cell;\n      cell.output_area.append_execute_result(NB_LOAD_WARNING)\n    }\n\n  }\n\n  if (root._bokeh_is_loading === 0) {\n    console.debug(\"Bokeh: BokehJS loaded, going straight to plotting\");\n    run_inline_js();\n  } else {\n    load_libs(css_urls, js_urls, function() {\n      console.debug(\"Bokeh: BokehJS plotting callback run at\", now());\n      run_inline_js();\n    });\n  }\n}(window));"
          },
          "metadata": {
            "tags": []
          }
        },
        {
          "output_type": "display_data",
          "data": {
            "text/html": [
              "\n",
              "\n",
              "\n",
              "\n",
              "\n",
              "\n",
              "  <div class=\"bk-root\" id=\"bb8857ea-a24a-4e8b-8e76-bacb60cbd4d9\" data-root-id=\"2543\"></div>\n"
            ]
          },
          "metadata": {
            "tags": []
          }
        },
        {
          "output_type": "display_data",
          "data": {
            "application/javascript": [
              "(function(root) {\n",
              "  function embed_document(root) {\n",
              "    \n",
              "  var docs_json = {\"6e627818-1732-4c1e-9739-93f4451af452\":{\"defs\":[],\"roots\":{\"references\":[{\"attributes\":{\"children\":[{\"id\":\"2515\"},{\"id\":\"2542\"}]},\"id\":\"2543\",\"type\":\"Column\"},{\"attributes\":{\"data_source\":{\"id\":\"2467\"},\"glyph\":{\"id\":\"2468\"},\"hover_glyph\":null,\"muted_glyph\":null,\"nonselection_glyph\":{\"id\":\"2469\"},\"view\":{\"id\":\"2471\"}},\"id\":\"2470\",\"type\":\"GlyphRenderer\"},{\"attributes\":{\"source\":{\"id\":\"2467\"}},\"id\":\"2471\",\"type\":\"CDSView\"},{\"attributes\":{\"callback\":null},\"id\":\"2493\",\"type\":\"HoverTool\"},{\"attributes\":{\"axis_label\":\"Count\",\"axis_label_text_font_size\":\"12pt\",\"formatter\":{\"id\":\"2531\"},\"major_label_policy\":{\"id\":\"2532\"},\"ticker\":{\"id\":\"2490\"}},\"id\":\"2489\",\"type\":\"LinearAxis\"},{\"attributes\":{\"axis\":{\"id\":\"2485\"},\"grid_line_color\":\"white\",\"ticker\":null},\"id\":\"2488\",\"type\":\"Grid\"},{\"attributes\":{\"axis\":{\"id\":\"2489\"},\"dimension\":1,\"grid_line_color\":\"white\",\"ticker\":null},\"id\":\"2492\",\"type\":\"Grid\"},{\"attributes\":{},\"id\":\"2486\",\"type\":\"BasicTicker\"},{\"attributes\":{\"line_alpha\":0.7,\"line_color\":\"#ff8888\",\"line_width\":4,\"x\":{\"field\":\"x\"}},\"id\":\"2509\",\"type\":\"Line\"},{\"attributes\":{\"axis_label\":\"# Article / # Summary Words\",\"axis_label_text_font_size\":\"12pt\",\"formatter\":{\"id\":\"2534\"},\"major_label_policy\":{\"id\":\"2535\"},\"ticker\":{\"id\":\"2486\"}},\"id\":\"2485\",\"type\":\"LinearAxis\"},{\"attributes\":{},\"id\":\"2490\",\"type\":\"BasicTicker\"},{\"attributes\":{\"data\":{\"x\":{\"__ndarray__\":\"vJyCl1Pw8j8e45V0Nx8NQO87tY4iYxhAKMOPsVQbIUBY6MQbGAUmQIgN+oXb7ipAuDIv8J7YL0D0KzItMWEyQIy+TOIS1jRAJFFnl/RKN0C844FM1r85QFR2nAG4NDxA7Ai3tpmpPkDCzei1PY9AQA4XdpCuyUFAWmADax8EQ0CmqZBFkD5EQPLyHSABeUVAPjyr+nGzRkCKhTjV4u1HQNbOxa9TKElAIhhTisRiSkBuYeBkNZ1LQLqqbT+m10xABvT6GRcSTkBSPYj0h0xPQE/Dimd8Q1BA9WfR1LTgUECbDBhC7X1RQEGxXq8lG1JA51WlHF64UkCN+uuJllVTQDOfMvfO8lNA2UN5ZAeQVEB/6L/RPy1VQCWNBj94ylVAyzFNrLBnVkBx1pMZ6QRXQBd72oYholdAvR8h9Fk/WEBjxGdhktxYQAlprs7KeVlArw31OwMXWkBVsjupO7RaQPtWghZ0UVtAofvIg6zuW0BHoA/x5ItcQO1EVl4dKV1Ak+mcy1XGXUA5juM4jmNeQA==\",\"dtype\":\"float64\",\"order\":\"little\",\"shape\":[50]}},\"selected\":{\"id\":\"2539\"},\"selection_policy\":{\"id\":\"2538\"}},\"id\":\"2508\",\"type\":\"ColumnDataSource\"},{\"attributes\":{\"active_multi\":null,\"logo\":null,\"tools\":[{\"id\":\"2493\"},{\"id\":\"2494\"},{\"id\":\"2495\"},{\"id\":\"2496\"}]},\"id\":\"2498\",\"type\":\"Toolbar\"},{\"attributes\":{\"overlay\":{\"id\":\"2497\"}},\"id\":\"2494\",\"type\":\"BoxZoomTool\"},{\"attributes\":{},\"id\":\"2495\",\"type\":\"UndoTool\"},{\"attributes\":{\"background_fill_color\":\"#fafafa\",\"below\":[{\"id\":\"2485\"}],\"center\":[{\"id\":\"2488\"},{\"id\":\"2492\"}],\"height\":400,\"left\":[{\"id\":\"2489\"}],\"renderers\":[{\"id\":\"2506\"},{\"id\":\"2511\"},{\"id\":\"2514\"}],\"title\":{\"id\":\"2475\"},\"toolbar\":{\"id\":\"2498\"},\"toolbar_location\":null,\"width\":400,\"x_range\":{\"id\":\"2477\"},\"x_scale\":{\"id\":\"2481\"},\"y_range\":{\"id\":\"2479\"},\"y_scale\":{\"id\":\"2483\"}},\"id\":\"2474\",\"subtype\":\"Figure\",\"type\":\"Plot\"},{\"attributes\":{\"data\":{\"left\":{\"__ndarray__\":\"vJyCl1Pw8j8rJ9wviG0BQPj/9pPmYglAYuwIfCKsEEDIWBau0aYUQC/FI+CAoRhAlTExEjCcHED+Th+ib0sgQDEFJjvHSCJAZLss1B5GJECYcTNtdkMmQMonOgbOQChA/t1AnyU+KkAwlEc4fTssQGRKTtHUOC5ATIAqNRYbMEBl260BwhkxQH82Mc5tGDJAmZG0mhkXM0Cy7DdnxRU0QMxHuzNxFDVA5aI+AB0TNkD//cHMyBE3QBlZRZl0EDhAMrTIZSAPOUBMD0wyzA06QGVqz/53DDtAf8VSyyMLPECZINaXzwk9QLJ7WWR7CD5AzNbcMCcHP0DyGLB+6QJAQH/G8WQ/gkBADHQzS5UBQUCZIXUx64BBQCbPthdBAEJAs3z4/ZZ/QkA/Kjrk7P5CQMzXe8pCfkNAWYW9sJj9Q0DmMv+W7nxEQHPgQH1E/ERA/42CY5p7RUCMO8RJ8PpFQBnpBTBGekZAppZHFpz5RkAzRIn88XhHQL/xyuJH+EdATJ8MyZ13SEDZTE6v8/ZIQGb6j5VJdklA86fRe5/1SUB/VRNi9XRKQAwDVUhL9EpAmbCWLqFzS0AmXtgU9/JLQLMLGvtMckxAP7lb4aLxTEDMZp3H+HBNQFkU361O8E1A5sEglKRvTkBzb2J6+u5OQP8cpGBQbk9AjMrlRqbtT0AMvJMWfjZQQNOStAkpdlBAmWnV/NO1UEBgQPbvfvVQQCYXF+MpNVFA7O031tR0UUCzxFjJf7RRQHmbebwq9FFAQHKar9UzUkAGSbuigHNSQMwf3JUrs1JAk/b8iNbyUkBZzR18gTJTQCCkPm8sclNA5npfYtexU0CsUYBVgvFTQHMooUgtMVRAOf/BO9hwVEAA1uIug7BUQMasAyIu8FRAjIMkFdkvVUBTWkUIhG9VQBkxZvsur1VA4AeH7tnuVUCm3qfhhC5WQGy1yNQvblZAM4zpx9qtVkD5Ygq7he1WQMA5K64wLVdAhhBModtsV0BM52yUhqxXQBO+jYcx7FdA2ZSuetwrWECga89th2tYQGZC8GAyq1hALBkRVN3qWEDz7zFHiCpZQLnGUjozallAgJ1zLd6pWUBGdJQgielZQAxLtRM0KVpA0yHWBt9oWkCZ+Pb5iahaQGDPF+006FpAJqY44N8nW0DsfFnTimdbQLNTesY1p1tAeSqbueDmW0BAAbysiyZcQAbY3J82ZlxAzK79kuGlXECThR6GjOVcQFlcP3k3JV1AIDNgbOJkXUDmCYFfjaRdQKzgoVI45F1Ac7fCReMjXkA=\",\"dtype\":\"float64\",\"order\":\"little\",\"shape\":[121]},\"right\":{\"__ndarray__\":\"KyfcL4htAUD4//aT5mIJQGLsCHwirBBAyFgWrtGmFEAvxSPggKEYQJUxMRIwnBxA/k4fom9LIEAxBSY7x0giQGS7LNQeRiRAmHEzbXZDJkDKJzoGzkAoQP7dQJ8lPipAMJRHOH07LEBkSk7R1DguQEyAKjUWGzBAZdutAcIZMUB/NjHObRgyQJmRtJoZFzNAsuw3Z8UVNEDMR7szcRQ1QOWiPgAdEzZA//3BzMgRN0AZWUWZdBA4QDK0yGUgDzlATA9MMswNOkBlas/+dww7QH/FUssjCzxAmSDWl88JPUCye1lkewg+QMzW3DAnBz9A8hiwfukCQEB/xvFkP4JAQAx0M0uVAUFAmSF1MeuAQUAmz7YXQQBCQLN8+P2Wf0JAPyo65Oz+QkDM13vKQn5DQFmFvbCY/UNA5jL/lu58REBz4EB9RPxEQP+NgmOae0VAjDvESfD6RUAZ6QUwRnpGQKaWRxac+UZAM0SJ/PF4R0C/8criR/hHQEyfDMmdd0hA2UxOr/P2SEBm+o+VSXZJQPOn0Xuf9UlAf1UTYvV0SkAMA1VIS/RKQJmwli6hc0tAJl7YFPfyS0CzCxr7THJMQD+5W+Gi8UxAzGadx/hwTUBZFN+tTvBNQObBIJSkb05Ac29ievruTkD/HKRgUG5PQIzK5Uam7U9ADLyTFn42UEDTkrQJKXZQQJlp1fzTtVBAYED27371UEAmFxfjKTVRQOztN9bUdFFAs8RYyX+0UUB5m3m8KvRRQEBymq/VM1JABkm7ooBzUkDMH9yVK7NSQJP2/IjW8lJAWc0dfIEyU0AgpD5vLHJTQOZ6X2LXsVNArFGAVYLxU0BzKKFILTFUQDn/wTvYcFRAANbiLoOwVEDGrAMiLvBUQIyDJBXZL1VAU1pFCIRvVUAZMWb7Lq9VQOAHh+7Z7lVApt6n4YQuVkBstcjUL25WQDOM6cfarVZA+WIKu4XtVkDAOSuuMC1XQIYQTKHbbFdATOdslIasV0ATvo2HMexXQNmUrnrcK1hAoGvPbYdrWEBmQvBgMqtYQCwZEVTd6lhA8+8xR4gqWUC5xlI6M2pZQICdcy3eqVlARnSUIInpWUAMS7UTNClaQNMh1gbfaFpAmfj2+YmoWkBgzxftNOhaQCamOODfJ1tA7HxZ04pnW0CzU3rGNadbQHkqm7ng5ltAQAG8rIsmXEAG2NyfNmZcQMyu/ZLhpVxAk4UehozlXEBZXD95NyVdQCAzYGziZF1A5gmBX42kXUCs4KFSOORdQHO3wkXjI15AOY7jOI5jXkA=\",\"dtype\":\"float64\",\"order\":\"little\",\"shape\":[121]},\"top\":[58,580,1943,3197,4618,5514,5855,5840,5678,5636,5528,5127,4813,4515,4221,3625,3324,2929,2706,2233,2004,1660,1591,1299,1130,1005,870,737,653,570,461,351,347,279,199,188,159,150,116,96,64,71,43,53,30,31,38,20,27,23,16,14,14,6,6,7,6,4,3,4,5,0,2,2,2,4,2,2,0,2,1,1,0,1,1,2,0,0,2,0,0,0,0,0,1,0,1,0,1,0,0,1,1,0,0,0,0,0,0,0,0,0,1,0,0,0,0,0,0,0,0,0,0,0,0,0,0,0,0,1,1]},\"selected\":{\"id\":\"2537\"},\"selection_policy\":{\"id\":\"2536\"}},\"id\":\"2503\",\"type\":\"ColumnDataSource\"},{\"attributes\":{},\"id\":\"2525\",\"type\":\"UnionRenderers\"},{\"attributes\":{\"text\":\"Words\",\"text_font_size\":\"14pt\"},\"id\":\"2475\",\"type\":\"Title\"},{\"attributes\":{},\"id\":\"2496\",\"type\":\"CrosshairTool\"},{\"attributes\":{},\"id\":\"2538\",\"type\":\"UnionRenderers\"},{\"attributes\":{\"dimension\":\"height\",\"line_width\":2,\"location\":12},\"id\":\"2514\",\"type\":\"Span\"},{\"attributes\":{},\"id\":\"2535\",\"type\":\"AllLabels\"},{\"attributes\":{},\"id\":\"2534\",\"type\":\"BasicTickFormatter\"},{\"attributes\":{\"text\":\"\\n<html>\\n<head>\\n<style>\\nh2\\n</style>\\n</head>\\n<body>\\n<h2>Relative length of Summary vs Article</h1>\\n</body>\\n</html>\\n\"},\"id\":\"2515\",\"type\":\"Div\"},{\"attributes\":{},\"id\":\"2523\",\"type\":\"UnionRenderers\"},{\"attributes\":{},\"id\":\"2536\",\"type\":\"UnionRenderers\"},{\"attributes\":{},\"id\":\"2519\",\"type\":\"AllLabels\"},{\"attributes\":{},\"id\":\"2531\",\"type\":\"BasicTickFormatter\"},{\"attributes\":{},\"id\":\"2483\",\"type\":\"LinearScale\"},{\"attributes\":{},\"id\":\"2532\",\"type\":\"AllLabels\"},{\"attributes\":{},\"id\":\"2518\",\"type\":\"BasicTickFormatter\"},{\"attributes\":{},\"id\":\"2454\",\"type\":\"UndoTool\"},{\"attributes\":{},\"id\":\"2521\",\"type\":\"BasicTickFormatter\"},{\"attributes\":{},\"id\":\"2526\",\"type\":\"Selection\"},{\"attributes\":{\"bottom\":{\"value\":0},\"fill_alpha\":{\"value\":0.1},\"fill_color\":{\"value\":\"navy\"},\"left\":{\"field\":\"left\"},\"line_alpha\":{\"value\":0.1},\"line_color\":{\"value\":\"white\"},\"right\":{\"field\":\"right\"},\"top\":{\"field\":\"top\"}},\"id\":\"2505\",\"type\":\"Quad\"},{\"attributes\":{},\"id\":\"2481\",\"type\":\"LinearScale\"},{\"attributes\":{},\"id\":\"2524\",\"type\":\"Selection\"},{\"attributes\":{},\"id\":\"2477\",\"type\":\"DataRange1d\"},{\"attributes\":{\"bottom_units\":\"screen\",\"fill_alpha\":0.5,\"fill_color\":\"lightgrey\",\"left_units\":\"screen\",\"level\":\"overlay\",\"line_alpha\":1.0,\"line_color\":\"black\",\"line_dash\":[4,4],\"line_width\":2,\"right_units\":\"screen\",\"syncable\":false,\"top_units\":\"screen\"},\"id\":\"2497\",\"type\":\"BoxAnnotation\"},{\"attributes\":{\"source\":{\"id\":\"2503\"}},\"id\":\"2507\",\"type\":\"CDSView\"},{\"attributes\":{},\"id\":\"2522\",\"type\":\"AllLabels\"},{\"attributes\":{\"data_source\":{\"id\":\"2503\"},\"glyph\":{\"id\":\"2504\"},\"hover_glyph\":null,\"muted_glyph\":null,\"nonselection_glyph\":{\"id\":\"2505\"},\"view\":{\"id\":\"2507\"}},\"id\":\"2506\",\"type\":\"GlyphRenderer\"},{\"attributes\":{\"bottom\":{\"value\":0},\"fill_alpha\":{\"value\":0.5},\"fill_color\":{\"value\":\"navy\"},\"left\":{\"field\":\"left\"},\"line_alpha\":{\"value\":0.5},\"line_color\":{\"value\":\"white\"},\"right\":{\"field\":\"right\"},\"top\":{\"field\":\"top\"}},\"id\":\"2504\",\"type\":\"Quad\"},{\"attributes\":{\"line_alpha\":0.1,\"line_color\":\"#ff8888\",\"line_width\":4,\"x\":{\"field\":\"x\"}},\"id\":\"2510\",\"type\":\"Line\"},{\"attributes\":{\"source\":{\"id\":\"2508\"}},\"id\":\"2512\",\"type\":\"CDSView\"},{\"attributes\":{\"start\":0},\"id\":\"2479\",\"type\":\"DataRange1d\"},{\"attributes\":{\"data_source\":{\"id\":\"2508\"},\"glyph\":{\"id\":\"2509\"},\"hover_glyph\":null,\"muted_glyph\":null,\"nonselection_glyph\":{\"id\":\"2510\"},\"view\":{\"id\":\"2512\"}},\"id\":\"2511\",\"type\":\"GlyphRenderer\"},{\"attributes\":{},\"id\":\"2440\",\"type\":\"LinearScale\"},{\"attributes\":{},\"id\":\"2442\",\"type\":\"LinearScale\"},{\"attributes\":{\"axis_label\":\"# Article / # Summary Sentences\",\"axis_label_text_font_size\":\"12pt\",\"formatter\":{\"id\":\"2521\"},\"major_label_policy\":{\"id\":\"2522\"},\"ticker\":{\"id\":\"2445\"}},\"id\":\"2444\",\"type\":\"LinearAxis\"},{\"attributes\":{},\"id\":\"2449\",\"type\":\"BasicTicker\"},{\"attributes\":{},\"id\":\"2445\",\"type\":\"BasicTicker\"},{\"attributes\":{\"axis\":{\"id\":\"2444\"},\"grid_line_color\":\"white\",\"ticker\":null},\"id\":\"2447\",\"type\":\"Grid\"},{\"attributes\":{\"axis\":{\"id\":\"2448\"},\"dimension\":1,\"grid_line_color\":\"white\",\"ticker\":null},\"id\":\"2451\",\"type\":\"Grid\"},{\"attributes\":{\"axis_label\":\"Count\",\"axis_label_text_font_size\":\"12pt\",\"formatter\":{\"id\":\"2518\"},\"major_label_policy\":{\"id\":\"2519\"},\"ticker\":{\"id\":\"2449\"}},\"id\":\"2448\",\"type\":\"LinearAxis\"},{\"attributes\":{\"data\":{\"left\":{\"__ndarray__\":\"MzMzMzMz8z+GF+ehY3gBQHKVNKotVwlAsAlB2fuaEECmyGfdYIoUQJyHjuHFeRhAk0a15SppHEDEAu70RywgQD9iAXf6IyJAusEU+awbJEA1ISh7XxMmQLCAO/0RCyhALOBOf8QCKkCnP2IBd/orQCKfdYMp8i1Anf6IBdzpL0AML85Dx/AwQMre14Sg7DFAh47hxXnoMkBFPusGU+QzQALu9Ecs4DRAwJ3+iAXcNUB9TQjK3tc2QDv9EQu40zdA+awbTJHPOEC2XCWNass5QHQML85DxzpAMbw4Dx3DO0Dva0JQ9r48QKwbTJHPuj1AastV0qi2PkAne18TgrI/QHOVNKotV0BAUm25ShrVQEAxRT7rBlNBQA8dw4vz0EFA7vRHLOBOQkDNzMzMzMxCQKykUW25SkNAinzWDabIQ0BpVFuukkZEQEgs4E5/xERAJwRl72tCRUAG3OmPWMBFQOSzbjBFPkZAw4vz0DG8RkCiY3hxHjpHQIE7/RELuEdAYBOCsvc1SEA+6wZT5LNIQB3Di/PQMUlA/JoQlL2vSUDbcpU0qi1KQLlKGtWWq0pAmCKfdYMpS0B3+iMWcKdLQFbSqLZcJUxANaotV0mjTEATgrL3NSFNQPJZN5gin01A0TG8OA8dTkCwCUHZ+5pOQI7hxXnoGE9AbblKGtWWT0CmyGfdYApQQJU0qi1XSVBAhaDsfU2IUEB0DC/OQ8dQQGR4cR46BlFAU+SzbjBFUUBCUPa+JoRRQDK8OA8dw1FAISh7XxMCUkARlL2vCUFSQA==\",\"dtype\":\"float64\",\"order\":\"little\",\"shape\":[74]},\"right\":{\"__ndarray__\":\"hhfnoWN4AUBylTSqLVcJQLAJQdn7mhBApshn3WCKFECch47hxXkYQJNGteUqaRxAxALu9EcsIEA/YgF3+iMiQLrBFPmsGyRANSEoe18TJkCwgDv9EQsoQCzgTn/EAipApz9iAXf6K0Ain3WDKfItQJ3+iAXc6S9ADC/OQ8fwMEDK3teEoOwxQIeO4cV56DJART7rBlPkM0AC7vRHLOA0QMCd/ogF3DVAfU0Iyt7XNkA7/RELuNM3QPmsG0yRzzhAtlwljWrLOUB0DC/OQ8c6QDG8OA8dwztA72tCUPa+PECsG0yRz7o9QGrLVdKotj5AJ3tfE4KyP0BzlTSqLVdAQFJtuUoa1UBAMUU+6wZTQUAPHcOL89BBQO70RyzgTkJAzczMzMzMQkCspFFtuUpDQIp81g2myENAaVRbrpJGREBILOBOf8REQCcEZe9rQkVABtzpj1jARUDks24wRT5GQMOL89AxvEZAomN4cR46R0CBO/0RC7hHQGATgrL3NUhAPusGU+SzSEAdw4vz0DFJQPyaEJS9r0lA23KVNKotSkC5ShrVlqtKQJgin3WDKUtAd/ojFnCnS0BW0qi2XCVMQDWqLVdJo0xAE4Ky9zUhTUDyWTeYIp9NQNExvDgPHU5AsAlB2fuaTkCO4cV56BhPQG25ShrVlk9Apshn3WAKUECVNKotV0lQQIWg7H1NiFBAdAwvzkPHUEBkeHEeOgZRQFPks24wRVFAQlD2viaEUUAyvDgPHcNRQCEoe18TAlJAEZS9rwlBUkAAAAAAAIBSQA==\",\"dtype\":\"float64\",\"order\":\"little\",\"shape\":[74]},\"top\":[1122,5016,7996,9168,8837,7996,7419,6730,6217,5440,4707,4014,2424,2964,2443,1910,1466,1273,1014,780,664,521,386,335,283,205,174,153,149,94,93,64,46,36,28,21,25,16,11,16,14,9,6,6,4,7,1,2,2,3,2,0,0,2,1,2,0,1,0,0,1,0,0,1,0,0,0,0,0,1,0,0,0,1]},\"selected\":{\"id\":\"2524\"},\"selection_policy\":{\"id\":\"2523\"}},\"id\":\"2462\",\"type\":\"ColumnDataSource\"},{\"attributes\":{\"line_alpha\":0.7,\"line_color\":\"#ff8888\",\"line_width\":4,\"x\":{\"field\":\"x\"}},\"id\":\"2468\",\"type\":\"Line\"},{\"attributes\":{\"data\":{\"x\":{\"__ndarray__\":\"MzMzMzMz8z/GV3zFV3wFQPmKr/iKrxBAD+qgDuqgFkAlSZIkSZIcQB3UQR3UQSFAqIM6qIM6JEAzMzMzMzMnQL7iK77iKypASZIkSZIkLUDqoA7qoA4wQK/4iq/4ijFAdVAHdVAHM0A7qIM6qIM0QAAAAAAAADZAxVd8xVd8N0CLr/iKr/g4QFEHdVAHdTpAFl/xFV/xO0Dbtm3btm09QKEO6qAO6j5ANDMzMzMzQEAWX/EVX/FAQPmKr/iKr0FA3LZt27ZtQkC/4iu+4itDQKIO6qAO6kNAhDqogzqoREBnZmZmZmZFQEqSJEmSJEZALL7iK77iRkAP6qAO6qBHQPIVX/EVX0hA1UEd1EEdSUC4bdu2bdtJQJqZmZmZmUpAfcVXfMVXS0Bg8RVf8RVMQEId1EEd1ExAJUmSJEmSTUAIdVAHdVBOQOugDuqgDk9AzszMzMzMT0BYfMVXfEVQQEmSJEmSpFBAO6iDOqgDUUAsvuIrvmJRQB7UQR3UwVFAD+qgDuogUkAAAAAAAIBSQA==\",\"dtype\":\"float64\",\"order\":\"little\",\"shape\":[50]}},\"selected\":{\"id\":\"2526\"},\"selection_policy\":{\"id\":\"2525\"}},\"id\":\"2467\",\"type\":\"ColumnDataSource\"},{\"attributes\":{\"callback\":null},\"id\":\"2452\",\"type\":\"HoverTool\"},{\"attributes\":{\"overlay\":{\"id\":\"2456\"}},\"id\":\"2453\",\"type\":\"BoxZoomTool\"},{\"attributes\":{},\"id\":\"2537\",\"type\":\"Selection\"},{\"attributes\":{},\"id\":\"2455\",\"type\":\"CrosshairTool\"},{\"attributes\":{},\"id\":\"2539\",\"type\":\"Selection\"},{\"attributes\":{\"children\":[[{\"id\":\"2433\"},0,0],[{\"id\":\"2474\"},0,1]]},\"id\":\"2542\",\"type\":\"GridBox\"},{\"attributes\":{\"bottom\":{\"value\":0},\"fill_alpha\":{\"value\":0.1},\"fill_color\":{\"value\":\"navy\"},\"left\":{\"field\":\"left\"},\"line_alpha\":{\"value\":0.1},\"line_color\":{\"value\":\"white\"},\"right\":{\"field\":\"right\"},\"top\":{\"field\":\"top\"}},\"id\":\"2464\",\"type\":\"Quad\"},{\"attributes\":{\"bottom_units\":\"screen\",\"fill_alpha\":0.5,\"fill_color\":\"lightgrey\",\"left_units\":\"screen\",\"level\":\"overlay\",\"line_alpha\":1.0,\"line_color\":\"black\",\"line_dash\":[4,4],\"line_width\":2,\"right_units\":\"screen\",\"syncable\":false,\"top_units\":\"screen\"},\"id\":\"2456\",\"type\":\"BoxAnnotation\"},{\"attributes\":{\"active_multi\":null,\"logo\":null,\"tools\":[{\"id\":\"2452\"},{\"id\":\"2453\"},{\"id\":\"2454\"},{\"id\":\"2455\"}]},\"id\":\"2457\",\"type\":\"Toolbar\"},{\"attributes\":{\"background_fill_color\":\"#fafafa\",\"below\":[{\"id\":\"2444\"}],\"center\":[{\"id\":\"2447\"},{\"id\":\"2451\"}],\"height\":400,\"left\":[{\"id\":\"2448\"}],\"renderers\":[{\"id\":\"2465\"},{\"id\":\"2470\"},{\"id\":\"2473\"}],\"title\":{\"id\":\"2434\"},\"toolbar\":{\"id\":\"2457\"},\"toolbar_location\":null,\"width\":400,\"x_range\":{\"id\":\"2436\"},\"x_scale\":{\"id\":\"2440\"},\"y_range\":{\"id\":\"2438\"},\"y_scale\":{\"id\":\"2442\"}},\"id\":\"2433\",\"subtype\":\"Figure\",\"type\":\"Plot\"},{\"attributes\":{\"source\":{\"id\":\"2462\"}},\"id\":\"2466\",\"type\":\"CDSView\"},{\"attributes\":{\"dimension\":\"height\",\"line_width\":2,\"location\":8},\"id\":\"2473\",\"type\":\"Span\"},{\"attributes\":{\"data_source\":{\"id\":\"2462\"},\"glyph\":{\"id\":\"2463\"},\"hover_glyph\":null,\"muted_glyph\":null,\"nonselection_glyph\":{\"id\":\"2464\"},\"view\":{\"id\":\"2466\"}},\"id\":\"2465\",\"type\":\"GlyphRenderer\"},{\"attributes\":{\"bottom\":{\"value\":0},\"fill_alpha\":{\"value\":0.5},\"fill_color\":{\"value\":\"navy\"},\"left\":{\"field\":\"left\"},\"line_alpha\":{\"value\":0.5},\"line_color\":{\"value\":\"white\"},\"right\":{\"field\":\"right\"},\"top\":{\"field\":\"top\"}},\"id\":\"2463\",\"type\":\"Quad\"},{\"attributes\":{\"text\":\"Sentences\",\"text_font_size\":\"14pt\"},\"id\":\"2434\",\"type\":\"Title\"},{\"attributes\":{},\"id\":\"2436\",\"type\":\"DataRange1d\"},{\"attributes\":{\"line_alpha\":0.1,\"line_color\":\"#ff8888\",\"line_width\":4,\"x\":{\"field\":\"x\"}},\"id\":\"2469\",\"type\":\"Line\"},{\"attributes\":{\"start\":0},\"id\":\"2438\",\"type\":\"DataRange1d\"}],\"root_ids\":[\"2543\"]},\"title\":\"Bokeh Application\",\"version\":\"2.3.1\"}};\n",
              "  var render_items = [{\"docid\":\"6e627818-1732-4c1e-9739-93f4451af452\",\"root_ids\":[\"2543\"],\"roots\":{\"2543\":\"bb8857ea-a24a-4e8b-8e76-bacb60cbd4d9\"}}];\n",
              "  root.Bokeh.embed.embed_items_notebook(docs_json, render_items);\n",
              "\n",
              "  }\n",
              "  if (root.Bokeh !== undefined) {\n",
              "    embed_document(root);\n",
              "  } else {\n",
              "    var attempts = 0;\n",
              "    var timer = setInterval(function(root) {\n",
              "      if (root.Bokeh !== undefined) {\n",
              "        clearInterval(timer);\n",
              "        embed_document(root);\n",
              "      } else {\n",
              "        attempts++;\n",
              "        if (attempts > 100) {\n",
              "          clearInterval(timer);\n",
              "          console.log(\"Bokeh: ERROR: Unable to run BokehJS code because BokehJS library is missing\");\n",
              "        }\n",
              "      }\n",
              "    }, 10, root)\n",
              "  }\n",
              "})(window);"
            ],
            "application/vnd.bokehjs_exec.v0+json": ""
          },
          "metadata": {
            "tags": [],
            "application/vnd.bokehjs_exec.v0+json": {
              "id": "2543"
            }
          }
        }
      ]
    },
    {
      "cell_type": "markdown",
      "metadata": {
        "id": "fZw7hd6otYcd"
      },
      "source": [
        "### Number of words per summary sentence vs article sentence\n",
        "- Text sentences about 2x longer than summary sentences\n",
        "- If we select 3 article sentences to use for our summary, the predicted summary will be much longer than the gold standard summary, even if they are the same number of sentences. However, each sentence likely contains one, maybe two, concepts.\n",
        "- Heuristic with number of sentences will likely result in longer predicted summaries than heuristic with number of words. "
      ]
    },
    {
      "cell_type": "code",
      "metadata": {
        "id": "934h8ZpIslZY"
      },
      "source": [
        "df['words_per_sentence_summary'] = df.sentences_summary.apply(lambda row: np.mean([len(sentence.split(' ')) for sentence in row]))\n",
        "df['words_per_sentence'] = df.sentences.apply(lambda row: np.mean([len(sentence.split(' ')) for sentence in row]))\n",
        "df['words_per_sentence_ratio'] = df.words_per_sentence / df.words_per_sentence_summary"
      ],
      "execution_count": 30,
      "outputs": []
    },
    {
      "cell_type": "code",
      "metadata": {
        "colab": {
          "base_uri": "https://localhost:8080/"
        },
        "id": "hr-jbExxBGj0",
        "outputId": "aa061970-fc7a-427a-dd00-4cbcaea7ccde"
      },
      "source": [
        "df.words_per_sentence_ratio.describe()"
      ],
      "execution_count": 31,
      "outputs": [
        {
          "output_type": "execute_result",
          "data": {
            "text/plain": [
              "count    92322.000000\n",
              "mean         1.839935\n",
              "std          0.528256\n",
              "min          0.451852\n",
              "25%          1.527588\n",
              "50%          1.787089\n",
              "75%          2.083916\n",
              "max         28.434066\n",
              "Name: words_per_sentence_ratio, dtype: float64"
            ]
          },
          "metadata": {
            "tags": []
          },
          "execution_count": 31
        }
      ]
    },
    {
      "cell_type": "code",
      "metadata": {
        "colab": {
          "base_uri": "https://localhost:8080/",
          "height": 617
        },
        "id": "j7cSEDiRBNsy",
        "outputId": "37ba27a4-e81f-40af-a578-6e2fa24db114"
      },
      "source": [
        "p = histogram(df[df.words_per_sentence_ratio < 5], 'words_per_sentence_ratio', 'Article sentences 2x longer than Summary sentences', '# Article / # Summary Words Per Sentence', number_of_bins = 50)\n",
        "output_file(\"articles_longer.html\")\n",
        "show(p)\n",
        "# note truncated"
      ],
      "execution_count": 32,
      "outputs": [
        {
          "output_type": "display_data",
          "data": {
            "application/javascript": [
              "\n",
              "(function(root) {\n",
              "  function now() {\n",
              "    return new Date();\n",
              "  }\n",
              "\n",
              "  var force = true;\n",
              "\n",
              "  if (typeof root._bokeh_onload_callbacks === \"undefined\" || force === true) {\n",
              "    root._bokeh_onload_callbacks = [];\n",
              "    root._bokeh_is_loading = undefined;\n",
              "  }\n",
              "\n",
              "  var JS_MIME_TYPE = 'application/javascript';\n",
              "  var HTML_MIME_TYPE = 'text/html';\n",
              "  var EXEC_MIME_TYPE = 'application/vnd.bokehjs_exec.v0+json';\n",
              "  var CLASS_NAME = 'output_bokeh rendered_html';\n",
              "\n",
              "  /**\n",
              "   * Render data to the DOM node\n",
              "   */\n",
              "  function render(props, node) {\n",
              "    var script = document.createElement(\"script\");\n",
              "    node.appendChild(script);\n",
              "  }\n",
              "\n",
              "  /**\n",
              "   * Handle when an output is cleared or removed\n",
              "   */\n",
              "  function handleClearOutput(event, handle) {\n",
              "    var cell = handle.cell;\n",
              "\n",
              "    var id = cell.output_area._bokeh_element_id;\n",
              "    var server_id = cell.output_area._bokeh_server_id;\n",
              "    // Clean up Bokeh references\n",
              "    if (id != null && id in Bokeh.index) {\n",
              "      Bokeh.index[id].model.document.clear();\n",
              "      delete Bokeh.index[id];\n",
              "    }\n",
              "\n",
              "    if (server_id !== undefined) {\n",
              "      // Clean up Bokeh references\n",
              "      var cmd = \"from bokeh.io.state import curstate; print(curstate().uuid_to_server['\" + server_id + \"'].get_sessions()[0].document.roots[0]._id)\";\n",
              "      cell.notebook.kernel.execute(cmd, {\n",
              "        iopub: {\n",
              "          output: function(msg) {\n",
              "            var id = msg.content.text.trim();\n",
              "            if (id in Bokeh.index) {\n",
              "              Bokeh.index[id].model.document.clear();\n",
              "              delete Bokeh.index[id];\n",
              "            }\n",
              "          }\n",
              "        }\n",
              "      });\n",
              "      // Destroy server and session\n",
              "      var cmd = \"import bokeh.io.notebook as ion; ion.destroy_server('\" + server_id + \"')\";\n",
              "      cell.notebook.kernel.execute(cmd);\n",
              "    }\n",
              "  }\n",
              "\n",
              "  /**\n",
              "   * Handle when a new output is added\n",
              "   */\n",
              "  function handleAddOutput(event, handle) {\n",
              "    var output_area = handle.output_area;\n",
              "    var output = handle.output;\n",
              "\n",
              "    // limit handleAddOutput to display_data with EXEC_MIME_TYPE content only\n",
              "    if ((output.output_type != \"display_data\") || (!Object.prototype.hasOwnProperty.call(output.data, EXEC_MIME_TYPE))) {\n",
              "      return\n",
              "    }\n",
              "\n",
              "    var toinsert = output_area.element.find(\".\" + CLASS_NAME.split(' ')[0]);\n",
              "\n",
              "    if (output.metadata[EXEC_MIME_TYPE][\"id\"] !== undefined) {\n",
              "      toinsert[toinsert.length - 1].firstChild.textContent = output.data[JS_MIME_TYPE];\n",
              "      // store reference to embed id on output_area\n",
              "      output_area._bokeh_element_id = output.metadata[EXEC_MIME_TYPE][\"id\"];\n",
              "    }\n",
              "    if (output.metadata[EXEC_MIME_TYPE][\"server_id\"] !== undefined) {\n",
              "      var bk_div = document.createElement(\"div\");\n",
              "      bk_div.innerHTML = output.data[HTML_MIME_TYPE];\n",
              "      var script_attrs = bk_div.children[0].attributes;\n",
              "      for (var i = 0; i < script_attrs.length; i++) {\n",
              "        toinsert[toinsert.length - 1].firstChild.setAttribute(script_attrs[i].name, script_attrs[i].value);\n",
              "        toinsert[toinsert.length - 1].firstChild.textContent = bk_div.children[0].textContent\n",
              "      }\n",
              "      // store reference to server id on output_area\n",
              "      output_area._bokeh_server_id = output.metadata[EXEC_MIME_TYPE][\"server_id\"];\n",
              "    }\n",
              "  }\n",
              "\n",
              "  function register_renderer(events, OutputArea) {\n",
              "\n",
              "    function append_mime(data, metadata, element) {\n",
              "      // create a DOM node to render to\n",
              "      var toinsert = this.create_output_subarea(\n",
              "        metadata,\n",
              "        CLASS_NAME,\n",
              "        EXEC_MIME_TYPE\n",
              "      );\n",
              "      this.keyboard_manager.register_events(toinsert);\n",
              "      // Render to node\n",
              "      var props = {data: data, metadata: metadata[EXEC_MIME_TYPE]};\n",
              "      render(props, toinsert[toinsert.length - 1]);\n",
              "      element.append(toinsert);\n",
              "      return toinsert\n",
              "    }\n",
              "\n",
              "    /* Handle when an output is cleared or removed */\n",
              "    events.on('clear_output.CodeCell', handleClearOutput);\n",
              "    events.on('delete.Cell', handleClearOutput);\n",
              "\n",
              "    /* Handle when a new output is added */\n",
              "    events.on('output_added.OutputArea', handleAddOutput);\n",
              "\n",
              "    /**\n",
              "     * Register the mime type and append_mime function with output_area\n",
              "     */\n",
              "    OutputArea.prototype.register_mime_type(EXEC_MIME_TYPE, append_mime, {\n",
              "      /* Is output safe? */\n",
              "      safe: true,\n",
              "      /* Index of renderer in `output_area.display_order` */\n",
              "      index: 0\n",
              "    });\n",
              "  }\n",
              "\n",
              "  // register the mime type if in Jupyter Notebook environment and previously unregistered\n",
              "  if (root.Jupyter !== undefined) {\n",
              "    var events = require('base/js/events');\n",
              "    var OutputArea = require('notebook/js/outputarea').OutputArea;\n",
              "\n",
              "    if (OutputArea.prototype.mime_types().indexOf(EXEC_MIME_TYPE) == -1) {\n",
              "      register_renderer(events, OutputArea);\n",
              "    }\n",
              "  }\n",
              "\n",
              "  \n",
              "  if (typeof (root._bokeh_timeout) === \"undefined\" || force === true) {\n",
              "    root._bokeh_timeout = Date.now() + 5000;\n",
              "    root._bokeh_failed_load = false;\n",
              "  }\n",
              "\n",
              "  var NB_LOAD_WARNING = {'data': {'text/html':\n",
              "     \"<div style='background-color: #fdd'>\\n\"+\n",
              "     \"<p>\\n\"+\n",
              "     \"BokehJS does not appear to have successfully loaded. If loading BokehJS from CDN, this \\n\"+\n",
              "     \"may be due to a slow or bad network connection. Possible fixes:\\n\"+\n",
              "     \"</p>\\n\"+\n",
              "     \"<ul>\\n\"+\n",
              "     \"<li>re-rerun `output_notebook()` to attempt to load from CDN again, or</li>\\n\"+\n",
              "     \"<li>use INLINE resources instead, as so:</li>\\n\"+\n",
              "     \"</ul>\\n\"+\n",
              "     \"<code>\\n\"+\n",
              "     \"from bokeh.resources import INLINE\\n\"+\n",
              "     \"output_notebook(resources=INLINE)\\n\"+\n",
              "     \"</code>\\n\"+\n",
              "     \"</div>\"}};\n",
              "\n",
              "  function display_loaded() {\n",
              "    var el = document.getElementById(null);\n",
              "    if (el != null) {\n",
              "      el.textContent = \"BokehJS is loading...\";\n",
              "    }\n",
              "    if (root.Bokeh !== undefined) {\n",
              "      if (el != null) {\n",
              "        el.textContent = \"BokehJS \" + root.Bokeh.version + \" successfully loaded.\";\n",
              "      }\n",
              "    } else if (Date.now() < root._bokeh_timeout) {\n",
              "      setTimeout(display_loaded, 100)\n",
              "    }\n",
              "  }\n",
              "\n",
              "\n",
              "  function run_callbacks() {\n",
              "    try {\n",
              "      root._bokeh_onload_callbacks.forEach(function(callback) {\n",
              "        if (callback != null)\n",
              "          callback();\n",
              "      });\n",
              "    } finally {\n",
              "      delete root._bokeh_onload_callbacks\n",
              "    }\n",
              "    console.debug(\"Bokeh: all callbacks have finished\");\n",
              "  }\n",
              "\n",
              "  function load_libs(css_urls, js_urls, callback) {\n",
              "    if (css_urls == null) css_urls = [];\n",
              "    if (js_urls == null) js_urls = [];\n",
              "\n",
              "    root._bokeh_onload_callbacks.push(callback);\n",
              "    if (root._bokeh_is_loading > 0) {\n",
              "      console.debug(\"Bokeh: BokehJS is being loaded, scheduling callback at\", now());\n",
              "      return null;\n",
              "    }\n",
              "    if (js_urls == null || js_urls.length === 0) {\n",
              "      run_callbacks();\n",
              "      return null;\n",
              "    }\n",
              "    console.debug(\"Bokeh: BokehJS not loaded, scheduling load and callback at\", now());\n",
              "    root._bokeh_is_loading = css_urls.length + js_urls.length;\n",
              "\n",
              "    function on_load() {\n",
              "      root._bokeh_is_loading--;\n",
              "      if (root._bokeh_is_loading === 0) {\n",
              "        console.debug(\"Bokeh: all BokehJS libraries/stylesheets loaded\");\n",
              "        run_callbacks()\n",
              "      }\n",
              "    }\n",
              "\n",
              "    function on_error(url) {\n",
              "      console.error(\"failed to load \" + url);\n",
              "    }\n",
              "\n",
              "    for (let i = 0; i < css_urls.length; i++) {\n",
              "      const url = css_urls[i];\n",
              "      const element = document.createElement(\"link\");\n",
              "      element.onload = on_load;\n",
              "      element.onerror = on_error.bind(null, url);\n",
              "      element.rel = \"stylesheet\";\n",
              "      element.type = \"text/css\";\n",
              "      element.href = url;\n",
              "      console.debug(\"Bokeh: injecting link tag for BokehJS stylesheet: \", url);\n",
              "      document.body.appendChild(element);\n",
              "    }\n",
              "\n",
              "    const hashes = {\"https://cdn.bokeh.org/bokeh/release/bokeh-2.3.1.min.js\": \"YF85VygJKMVnHE+lLv2AM93Vbstr0yo2TbIu5v8se5Rq3UQAUmcuh4aaJwNlpKwa\", \"https://cdn.bokeh.org/bokeh/release/bokeh-widgets-2.3.1.min.js\": \"KKuas3gevv3PvrlkyCMzffFeaMq5we/a2QsP5AUoS3mJ0jmaCL7jirFJN3GoE/lM\", \"https://cdn.bokeh.org/bokeh/release/bokeh-tables-2.3.1.min.js\": \"MK/uFc3YT18pkvvXRl66tTHjP0/dxoSH2e/eiNMFIguKlun2+WVqaPTWmUy/zvh4\"};\n",
              "\n",
              "    for (let i = 0; i < js_urls.length; i++) {\n",
              "      const url = js_urls[i];\n",
              "      const element = document.createElement('script');\n",
              "      element.onload = on_load;\n",
              "      element.onerror = on_error.bind(null, url);\n",
              "      element.async = false;\n",
              "      element.src = url;\n",
              "      if (url in hashes) {\n",
              "        element.crossOrigin = \"anonymous\";\n",
              "        element.integrity = \"sha384-\" + hashes[url];\n",
              "      }\n",
              "      console.debug(\"Bokeh: injecting script tag for BokehJS library: \", url);\n",
              "      document.head.appendChild(element);\n",
              "    }\n",
              "  };\n",
              "\n",
              "  function inject_raw_css(css) {\n",
              "    const element = document.createElement(\"style\");\n",
              "    element.appendChild(document.createTextNode(css));\n",
              "    document.body.appendChild(element);\n",
              "  }\n",
              "\n",
              "  \n",
              "  var js_urls = [\"https://cdn.bokeh.org/bokeh/release/bokeh-2.3.1.min.js\", \"https://cdn.bokeh.org/bokeh/release/bokeh-widgets-2.3.1.min.js\", \"https://cdn.bokeh.org/bokeh/release/bokeh-tables-2.3.1.min.js\"];\n",
              "  var css_urls = [];\n",
              "  \n",
              "\n",
              "  var inline_js = [\n",
              "    function(Bokeh) {\n",
              "      Bokeh.set_log_level(\"info\");\n",
              "    },\n",
              "    function(Bokeh) {\n",
              "    \n",
              "    \n",
              "    }\n",
              "  ];\n",
              "\n",
              "  function run_inline_js() {\n",
              "    \n",
              "    if (root.Bokeh !== undefined || force === true) {\n",
              "      \n",
              "    for (var i = 0; i < inline_js.length; i++) {\n",
              "      inline_js[i].call(root, root.Bokeh);\n",
              "    }\n",
              "    } else if (Date.now() < root._bokeh_timeout) {\n",
              "      setTimeout(run_inline_js, 100);\n",
              "    } else if (!root._bokeh_failed_load) {\n",
              "      console.log(\"Bokeh: BokehJS failed to load within specified timeout.\");\n",
              "      root._bokeh_failed_load = true;\n",
              "    } else if (force !== true) {\n",
              "      var cell = $(document.getElementById(null)).parents('.cell').data().cell;\n",
              "      cell.output_area.append_execute_result(NB_LOAD_WARNING)\n",
              "    }\n",
              "\n",
              "  }\n",
              "\n",
              "  if (root._bokeh_is_loading === 0) {\n",
              "    console.debug(\"Bokeh: BokehJS loaded, going straight to plotting\");\n",
              "    run_inline_js();\n",
              "  } else {\n",
              "    load_libs(css_urls, js_urls, function() {\n",
              "      console.debug(\"Bokeh: BokehJS plotting callback run at\", now());\n",
              "      run_inline_js();\n",
              "    });\n",
              "  }\n",
              "}(window));"
            ],
            "application/vnd.bokehjs_load.v0+json": "\n(function(root) {\n  function now() {\n    return new Date();\n  }\n\n  var force = true;\n\n  if (typeof root._bokeh_onload_callbacks === \"undefined\" || force === true) {\n    root._bokeh_onload_callbacks = [];\n    root._bokeh_is_loading = undefined;\n  }\n\n  \n\n  \n  if (typeof (root._bokeh_timeout) === \"undefined\" || force === true) {\n    root._bokeh_timeout = Date.now() + 5000;\n    root._bokeh_failed_load = false;\n  }\n\n  var NB_LOAD_WARNING = {'data': {'text/html':\n     \"<div style='background-color: #fdd'>\\n\"+\n     \"<p>\\n\"+\n     \"BokehJS does not appear to have successfully loaded. If loading BokehJS from CDN, this \\n\"+\n     \"may be due to a slow or bad network connection. Possible fixes:\\n\"+\n     \"</p>\\n\"+\n     \"<ul>\\n\"+\n     \"<li>re-rerun `output_notebook()` to attempt to load from CDN again, or</li>\\n\"+\n     \"<li>use INLINE resources instead, as so:</li>\\n\"+\n     \"</ul>\\n\"+\n     \"<code>\\n\"+\n     \"from bokeh.resources import INLINE\\n\"+\n     \"output_notebook(resources=INLINE)\\n\"+\n     \"</code>\\n\"+\n     \"</div>\"}};\n\n  function display_loaded() {\n    var el = document.getElementById(null);\n    if (el != null) {\n      el.textContent = \"BokehJS is loading...\";\n    }\n    if (root.Bokeh !== undefined) {\n      if (el != null) {\n        el.textContent = \"BokehJS \" + root.Bokeh.version + \" successfully loaded.\";\n      }\n    } else if (Date.now() < root._bokeh_timeout) {\n      setTimeout(display_loaded, 100)\n    }\n  }\n\n\n  function run_callbacks() {\n    try {\n      root._bokeh_onload_callbacks.forEach(function(callback) {\n        if (callback != null)\n          callback();\n      });\n    } finally {\n      delete root._bokeh_onload_callbacks\n    }\n    console.debug(\"Bokeh: all callbacks have finished\");\n  }\n\n  function load_libs(css_urls, js_urls, callback) {\n    if (css_urls == null) css_urls = [];\n    if (js_urls == null) js_urls = [];\n\n    root._bokeh_onload_callbacks.push(callback);\n    if (root._bokeh_is_loading > 0) {\n      console.debug(\"Bokeh: BokehJS is being loaded, scheduling callback at\", now());\n      return null;\n    }\n    if (js_urls == null || js_urls.length === 0) {\n      run_callbacks();\n      return null;\n    }\n    console.debug(\"Bokeh: BokehJS not loaded, scheduling load and callback at\", now());\n    root._bokeh_is_loading = css_urls.length + js_urls.length;\n\n    function on_load() {\n      root._bokeh_is_loading--;\n      if (root._bokeh_is_loading === 0) {\n        console.debug(\"Bokeh: all BokehJS libraries/stylesheets loaded\");\n        run_callbacks()\n      }\n    }\n\n    function on_error(url) {\n      console.error(\"failed to load \" + url);\n    }\n\n    for (let i = 0; i < css_urls.length; i++) {\n      const url = css_urls[i];\n      const element = document.createElement(\"link\");\n      element.onload = on_load;\n      element.onerror = on_error.bind(null, url);\n      element.rel = \"stylesheet\";\n      element.type = \"text/css\";\n      element.href = url;\n      console.debug(\"Bokeh: injecting link tag for BokehJS stylesheet: \", url);\n      document.body.appendChild(element);\n    }\n\n    const hashes = {\"https://cdn.bokeh.org/bokeh/release/bokeh-2.3.1.min.js\": \"YF85VygJKMVnHE+lLv2AM93Vbstr0yo2TbIu5v8se5Rq3UQAUmcuh4aaJwNlpKwa\", \"https://cdn.bokeh.org/bokeh/release/bokeh-widgets-2.3.1.min.js\": \"KKuas3gevv3PvrlkyCMzffFeaMq5we/a2QsP5AUoS3mJ0jmaCL7jirFJN3GoE/lM\", \"https://cdn.bokeh.org/bokeh/release/bokeh-tables-2.3.1.min.js\": \"MK/uFc3YT18pkvvXRl66tTHjP0/dxoSH2e/eiNMFIguKlun2+WVqaPTWmUy/zvh4\"};\n\n    for (let i = 0; i < js_urls.length; i++) {\n      const url = js_urls[i];\n      const element = document.createElement('script');\n      element.onload = on_load;\n      element.onerror = on_error.bind(null, url);\n      element.async = false;\n      element.src = url;\n      if (url in hashes) {\n        element.crossOrigin = \"anonymous\";\n        element.integrity = \"sha384-\" + hashes[url];\n      }\n      console.debug(\"Bokeh: injecting script tag for BokehJS library: \", url);\n      document.head.appendChild(element);\n    }\n  };\n\n  function inject_raw_css(css) {\n    const element = document.createElement(\"style\");\n    element.appendChild(document.createTextNode(css));\n    document.body.appendChild(element);\n  }\n\n  \n  var js_urls = [\"https://cdn.bokeh.org/bokeh/release/bokeh-2.3.1.min.js\", \"https://cdn.bokeh.org/bokeh/release/bokeh-widgets-2.3.1.min.js\", \"https://cdn.bokeh.org/bokeh/release/bokeh-tables-2.3.1.min.js\"];\n  var css_urls = [];\n  \n\n  var inline_js = [\n    function(Bokeh) {\n      Bokeh.set_log_level(\"info\");\n    },\n    function(Bokeh) {\n    \n    \n    }\n  ];\n\n  function run_inline_js() {\n    \n    if (root.Bokeh !== undefined || force === true) {\n      \n    for (var i = 0; i < inline_js.length; i++) {\n      inline_js[i].call(root, root.Bokeh);\n    }\n    } else if (Date.now() < root._bokeh_timeout) {\n      setTimeout(run_inline_js, 100);\n    } else if (!root._bokeh_failed_load) {\n      console.log(\"Bokeh: BokehJS failed to load within specified timeout.\");\n      root._bokeh_failed_load = true;\n    } else if (force !== true) {\n      var cell = $(document.getElementById(null)).parents('.cell').data().cell;\n      cell.output_area.append_execute_result(NB_LOAD_WARNING)\n    }\n\n  }\n\n  if (root._bokeh_is_loading === 0) {\n    console.debug(\"Bokeh: BokehJS loaded, going straight to plotting\");\n    run_inline_js();\n  } else {\n    load_libs(css_urls, js_urls, function() {\n      console.debug(\"Bokeh: BokehJS plotting callback run at\", now());\n      run_inline_js();\n    });\n  }\n}(window));"
          },
          "metadata": {
            "tags": []
          }
        },
        {
          "output_type": "display_data",
          "data": {
            "text/html": [
              "\n",
              "\n",
              "\n",
              "\n",
              "\n",
              "\n",
              "  <div class=\"bk-root\" id=\"f4e486ac-cee8-4d89-993a-870d4223d1db\" data-root-id=\"3001\"></div>\n"
            ]
          },
          "metadata": {
            "tags": []
          }
        },
        {
          "output_type": "display_data",
          "data": {
            "application/javascript": [
              "(function(root) {\n",
              "  function embed_document(root) {\n",
              "    \n",
              "  var docs_json = {\"cac6d93f-e18c-4370-aa5e-ac8312c8ab00\":{\"defs\":[],\"roots\":{\"references\":[{\"attributes\":{\"background_fill_color\":\"#fafafa\",\"below\":[{\"id\":\"3012\"}],\"center\":[{\"id\":\"3015\"},{\"id\":\"3019\"}],\"left\":[{\"id\":\"3016\"}],\"renderers\":[{\"id\":\"3033\"},{\"id\":\"3038\"}],\"title\":{\"id\":\"3002\"},\"toolbar\":{\"id\":\"3025\"},\"toolbar_location\":null,\"x_range\":{\"id\":\"3004\"},\"x_scale\":{\"id\":\"3008\"},\"y_range\":{\"id\":\"3006\"},\"y_scale\":{\"id\":\"3010\"}},\"id\":\"3001\",\"subtype\":\"Figure\",\"type\":\"Plot\"},{\"attributes\":{},\"id\":\"3010\",\"type\":\"LinearScale\"},{\"attributes\":{\"axis_label\":\"# Article / # Summary Words Per Sentence\",\"axis_label_text_font_size\":\"12pt\",\"formatter\":{\"id\":\"3142\"},\"major_label_policy\":{\"id\":\"3143\"},\"ticker\":{\"id\":\"3013\"}},\"id\":\"3012\",\"type\":\"LinearAxis\"},{\"attributes\":{},\"id\":\"3017\",\"type\":\"BasicTicker\"},{\"attributes\":{},\"id\":\"3013\",\"type\":\"BasicTicker\"},{\"attributes\":{},\"id\":\"3144\",\"type\":\"UnionRenderers\"},{\"attributes\":{\"axis\":{\"id\":\"3012\"},\"grid_line_color\":\"white\",\"ticker\":null},\"id\":\"3015\",\"type\":\"Grid\"},{\"attributes\":{},\"id\":\"3139\",\"type\":\"BasicTickFormatter\"},{\"attributes\":{\"axis\":{\"id\":\"3016\"},\"dimension\":1,\"grid_line_color\":\"white\",\"ticker\":null},\"id\":\"3019\",\"type\":\"Grid\"},{\"attributes\":{\"axis_label\":\"Count\",\"axis_label_text_font_size\":\"12pt\",\"formatter\":{\"id\":\"3139\"},\"major_label_policy\":{\"id\":\"3140\"},\"ticker\":{\"id\":\"3017\"}},\"id\":\"3016\",\"type\":\"LinearAxis\"},{\"attributes\":{},\"id\":\"3145\",\"type\":\"Selection\"},{\"attributes\":{\"data\":{\"left\":{\"__ndarray__\":\"ss6VByTr3D88cYczMFHhPx/7Q2POLOQ/AoUAk2wI5z/kDr3CCuTpP8iYefKov+w/qiI2Ikeb7z9GVvmocjvxPzib18BBqfI/KuC12BAX9D8bJZTw34T1Pwxqcgiv8vY//q5QIH5g+D/w8y44Tc75P+A4DVAcPPs/0n3rZ+up/D/Ewsl/uhf+P7QHqJeJhf8/UybDV6x5AEDMSLLjkzABQEVroW975wFAvY2Q+2KeAkA2sH+HSlUDQK/SbhMyDARAJ/VdnxnDBECgF00rAXoFQBk6PLfoMAZAkVwrQ9DnBkAKfxrPt54HQIOhCVufVQhA/MP45oYMCUB05udybsMJQO0I1/5VegpAZivGij0xC0DeTbUWJegLQFdwpKIMnwxA0JKTLvRVDUBJtYK62wwOQMHXcUbDww5AOvpg0qp6D0BaDigvyRgQQJafH/U8dBBA0jAXu7DPEEAPwg6BJCsRQEtTBkeYhhFAh+T9DAziEUDEdfXSfz0SQAAH7ZjzmBJAPJjkXmf0EkB5Kdwk208TQA==\",\"dtype\":\"float64\",\"order\":\"little\",\"shape\":[50]},\"right\":{\"__ndarray__\":\"PHGHMzBR4T8f+0NjzizkPwKFAJNsCOc/5A69wgrk6T/ImHnyqL/sP6oiNiJHm+8/Rlb5qHI78T84m9fAQanyPyrgtdgQF/Q/GyWU8N+E9T8ManIIr/L2P/6uUCB+YPg/8PMuOE3O+T/gOA1QHDz7P9J962frqfw/xMLJf7oX/j+0B6iXiYX/P1Mmw1eseQBAzEiy45MwAUBFa6Fve+cBQL2NkPtingJANrB/h0pVA0Cv0m4TMgwEQCf1XZ8ZwwRAoBdNKwF6BUAZOjy36DAGQJFcK0PQ5wZACn8az7eeB0CDoQlbn1UIQPzD+OaGDAlAdObncm7DCUDtCNf+VXoKQGYrxoo9MQtA3k21FiXoC0BXcKSiDJ8MQNCSky70VQ1ASbWCutsMDkDB13FGw8MOQDr6YNKqeg9AWg4oL8kYEECWnx/1PHQQQNIwF7uwzxBAD8IOgSQrEUBLUwZHmIYRQIfk/QwM4hFAxHX10n89EkAAB+2Y85gSQDyY5F5n9BJAeSncJNtPE0C1utPqTqsTQA==\",\"dtype\":\"float64\",\"order\":\"little\",\"shape\":[50]},\"top\":[3,9,28,118,275,619,1069,1847,2804,4130,5381,6455,7559,8110,8170,7798,7084,6287,5139,4316,3426,2721,2100,1554,1280,899,690,554,405,345,251,179,134,108,88,78,51,43,38,25,16,11,22,5,12,6,7,2,3,2]},\"selected\":{\"id\":\"3145\"},\"selection_policy\":{\"id\":\"3144\"}},\"id\":\"3030\",\"type\":\"ColumnDataSource\"},{\"attributes\":{},\"id\":\"3142\",\"type\":\"BasicTickFormatter\"},{\"attributes\":{},\"id\":\"3143\",\"type\":\"AllLabels\"},{\"attributes\":{\"bottom_units\":\"screen\",\"fill_alpha\":0.5,\"fill_color\":\"lightgrey\",\"left_units\":\"screen\",\"level\":\"overlay\",\"line_alpha\":1.0,\"line_color\":\"black\",\"line_dash\":[4,4],\"line_width\":2,\"right_units\":\"screen\",\"syncable\":false,\"top_units\":\"screen\"},\"id\":\"3024\",\"type\":\"BoxAnnotation\"},{\"attributes\":{\"data_source\":{\"id\":\"3030\"},\"glyph\":{\"id\":\"3031\"},\"hover_glyph\":null,\"muted_glyph\":null,\"nonselection_glyph\":{\"id\":\"3032\"},\"view\":{\"id\":\"3034\"}},\"id\":\"3033\",\"type\":\"GlyphRenderer\"},{\"attributes\":{\"bottom\":{\"value\":0},\"fill_alpha\":{\"value\":0.5},\"fill_color\":{\"value\":\"navy\"},\"left\":{\"field\":\"left\"},\"line_alpha\":{\"value\":0.5},\"line_color\":{\"value\":\"white\"},\"right\":{\"field\":\"right\"},\"top\":{\"field\":\"top\"}},\"id\":\"3031\",\"type\":\"Quad\"},{\"attributes\":{\"data\":{\"x\":{\"__ndarray__\":\"ss6VByTr3D/tWRiIHmDhP4HMZQyrSuQ/FD+zkDc15z+osQAVxB/qPzwkTplQCu0/0JabHd307z+yhPTQtG/xP/w9GxP75PI/RvdBVUFa9D+QsGiXh8/1P9ppj9nNRPc/JCO2GxS6+D9u3NxdWi/6P7iVA6CgpPs/Ak8q4uYZ/T9MCFEkLY/+P8vgO7M5AgBAcD1P1Ny8AEAVmmL1f3cBQLr2dRYjMgJAX1OJN8bsAkADsJxYaacDQKgMsHkMYgRATWnDmq8cBUDyxda7UtcFQJci6tz1kQZAPH/9/ZhMB0Dh2xAfPAcIQIY4JEDfwQhAK5U3YYJ8CUDQ8UqCJTcKQHVOXqPI8QpAGqtxxGusC0C/B4XlDmcMQGRkmAayIQ1ACcGrJ1XcDUCuHb9I+JYOQFN60mmbUQ9AfOtyRR8GEEDPmfzVcGMQQCFIhmbCwBBAdPYP9xMeEUDGpJmHZXsRQBhTIxi32BFAawGtqAg2EkC9rzY5WpMSQBBewMmr8BJAYgxKWv1NE0C1utPqTqsTQA==\",\"dtype\":\"float64\",\"order\":\"little\",\"shape\":[50]}},\"selected\":{\"id\":\"3147\"},\"selection_policy\":{\"id\":\"3146\"}},\"id\":\"3035\",\"type\":\"ColumnDataSource\"},{\"attributes\":{\"source\":{\"id\":\"3030\"}},\"id\":\"3034\",\"type\":\"CDSView\"},{\"attributes\":{\"bottom\":{\"value\":0},\"fill_alpha\":{\"value\":0.1},\"fill_color\":{\"value\":\"navy\"},\"left\":{\"field\":\"left\"},\"line_alpha\":{\"value\":0.1},\"line_color\":{\"value\":\"white\"},\"right\":{\"field\":\"right\"},\"top\":{\"field\":\"top\"}},\"id\":\"3032\",\"type\":\"Quad\"},{\"attributes\":{\"line_alpha\":0.7,\"line_color\":\"#ff8888\",\"line_width\":4,\"x\":{\"field\":\"x\"}},\"id\":\"3036\",\"type\":\"Line\"},{\"attributes\":{\"callback\":null},\"id\":\"3020\",\"type\":\"HoverTool\"},{\"attributes\":{\"overlay\":{\"id\":\"3024\"}},\"id\":\"3021\",\"type\":\"BoxZoomTool\"},{\"attributes\":{},\"id\":\"3147\",\"type\":\"Selection\"},{\"attributes\":{},\"id\":\"3008\",\"type\":\"LinearScale\"},{\"attributes\":{\"text\":\"Article sentences 2x longer than Summary sentences\",\"text_font_size\":\"14pt\"},\"id\":\"3002\",\"type\":\"Title\"},{\"attributes\":{},\"id\":\"3023\",\"type\":\"CrosshairTool\"},{\"attributes\":{},\"id\":\"3022\",\"type\":\"UndoTool\"},{\"attributes\":{\"active_multi\":null,\"logo\":null,\"tools\":[{\"id\":\"3020\"},{\"id\":\"3021\"},{\"id\":\"3022\"},{\"id\":\"3023\"}]},\"id\":\"3025\",\"type\":\"Toolbar\"},{\"attributes\":{},\"id\":\"3146\",\"type\":\"UnionRenderers\"},{\"attributes\":{},\"id\":\"3004\",\"type\":\"DataRange1d\"},{\"attributes\":{\"start\":0},\"id\":\"3006\",\"type\":\"DataRange1d\"},{\"attributes\":{\"source\":{\"id\":\"3035\"}},\"id\":\"3039\",\"type\":\"CDSView\"},{\"attributes\":{},\"id\":\"3140\",\"type\":\"AllLabels\"},{\"attributes\":{\"data_source\":{\"id\":\"3035\"},\"glyph\":{\"id\":\"3036\"},\"hover_glyph\":null,\"muted_glyph\":null,\"nonselection_glyph\":{\"id\":\"3037\"},\"view\":{\"id\":\"3039\"}},\"id\":\"3038\",\"type\":\"GlyphRenderer\"},{\"attributes\":{\"line_alpha\":0.1,\"line_color\":\"#ff8888\",\"line_width\":4,\"x\":{\"field\":\"x\"}},\"id\":\"3037\",\"type\":\"Line\"}],\"root_ids\":[\"3001\"]},\"title\":\"Bokeh Application\",\"version\":\"2.3.1\"}};\n",
              "  var render_items = [{\"docid\":\"cac6d93f-e18c-4370-aa5e-ac8312c8ab00\",\"root_ids\":[\"3001\"],\"roots\":{\"3001\":\"f4e486ac-cee8-4d89-993a-870d4223d1db\"}}];\n",
              "  root.Bokeh.embed.embed_items_notebook(docs_json, render_items);\n",
              "\n",
              "  }\n",
              "  if (root.Bokeh !== undefined) {\n",
              "    embed_document(root);\n",
              "  } else {\n",
              "    var attempts = 0;\n",
              "    var timer = setInterval(function(root) {\n",
              "      if (root.Bokeh !== undefined) {\n",
              "        clearInterval(timer);\n",
              "        embed_document(root);\n",
              "      } else {\n",
              "        attempts++;\n",
              "        if (attempts > 100) {\n",
              "          clearInterval(timer);\n",
              "          console.log(\"Bokeh: ERROR: Unable to run BokehJS code because BokehJS library is missing\");\n",
              "        }\n",
              "      }\n",
              "    }, 10, root)\n",
              "  }\n",
              "})(window);"
            ],
            "application/vnd.bokehjs_exec.v0+json": ""
          },
          "metadata": {
            "tags": [],
            "application/vnd.bokehjs_exec.v0+json": {
              "id": "3001"
            }
          }
        }
      ]
    }
  ]
}