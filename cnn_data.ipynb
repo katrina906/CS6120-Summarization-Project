{
  "nbformat": 4,
  "nbformat_minor": 0,
  "metadata": {
    "kernelspec": {
      "display_name": "Python 3",
      "language": "python",
      "name": "python3"
    },
    "language_info": {
      "codemirror_mode": {
        "name": "ipython",
        "version": 3
      },
      "file_extension": ".py",
      "mimetype": "text/x-python",
      "name": "python",
      "nbconvert_exporter": "python",
      "pygments_lexer": "ipython3",
      "version": "3.7.6"
    },
    "colab": {
      "name": "cnn_data.ipynb",
      "provenance": [],
      "include_colab_link": true
    }
  },
  "cells": [
    {
      "cell_type": "markdown",
      "metadata": {
        "id": "view-in-github",
        "colab_type": "text"
      },
      "source": [
        "<a href=\"https://colab.research.google.com/github/katrina906/CS6120-Summarization-Project/blob/main/cnn_data.ipynb\" target=\"_parent\"><img src=\"https://colab.research.google.com/assets/colab-badge.svg\" alt=\"Open In Colab\"/></a>"
      ]
    },
    {
      "cell_type": "markdown",
      "metadata": {
        "id": "lopuW3AYYf3X"
      },
      "source": [
        "## CNN Data: unzip data, create dictionary\n",
        "Git describing data: https://github.com/abisee/cnn-dailymail    \n",
        "Download (CNN > Stories): https://cs.nyu.edu/~kcho/DMQA/"
      ]
    },
    {
      "cell_type": "code",
      "metadata": {
        "id": "9fpgPa-IYX1u"
      },
      "source": [
        "import os\n",
        "import pandas as pd\n",
        "import pickle\n",
        "from nltk import tokenize"
      ],
      "execution_count": null,
      "outputs": []
    },
    {
      "cell_type": "code",
      "metadata": {
        "id": "F1TTOS1OYX1v"
      },
      "source": [
        "path = 'cnn/stories'\n",
        "stories = {} # dictonary of story id : article text\n",
        "for story in os.listdir(path):\n",
        "    f = open(os.path.join(path, story), encoding = 'utf8')\n",
        "    text = f.read()\n",
        "    text = text.replace('\\n', ' ')\n",
        "    stories[story] = text"
      ],
      "execution_count": null,
      "outputs": []
    },
    {
      "cell_type": "code",
      "metadata": {
        "id": "x_SihO3sYX1v"
      },
      "source": [
        "# save as pickle\n",
        "with open ('stories_concat.pkl', 'wb') as f:\n",
        "    pickle.dump(stories, f)"
      ],
      "execution_count": null,
      "outputs": []
    }
  ]
}