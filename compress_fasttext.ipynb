{
  "nbformat": 4,
  "nbformat_minor": 0,
  "metadata": {
    "colab": {
      "name": "compress_fasttext.ipynb",
      "provenance": [],
      "collapsed_sections": [],
      "authorship_tag": "ABX9TyNUyU97191LnQy0NK/wu0L4",
      "include_colab_link": true
    },
    "kernelspec": {
      "name": "python3",
      "display_name": "Python 3"
    }
  },
  "cells": [
    {
      "cell_type": "markdown",
      "metadata": {
        "id": "view-in-github",
        "colab_type": "text"
      },
      "source": [
        "<a href=\"https://colab.research.google.com/github/katrina906/CS6120-Summarization-Project/blob/main/compress_fasttext.ipynb\" target=\"_parent\"><img src=\"https://colab.research.google.com/assets/colab-badge.svg\" alt=\"Open In Colab\"/></a>"
      ]
    },
    {
      "cell_type": "markdown",
      "metadata": {
        "id": "BSnrQkr-5urS"
      },
      "source": [
        "## Compress FastText Model\n",
        "FastText embeddings used for a possible vector representation in TextRank extractive summarization model. However, full model is too large to hold in RAM. Thus compress at the cost of some accuracy. \n",
        "- FastText download (English): https://fasttext.cc/docs/en/pretrained-vectors.html\n",
        "- Package: https://github.com/avidale/compress-fasttext\n",
        "- Based off of blog: https://medium.com/@vasnetsov93/shrinking-fasttext-embeddings-so-that-it-fits-google-colab-cd59ab75959e\n",
        "  - Basic idea is to use a smaller set of the most popular vocabulary words. Fasttext will still generate embeddings for the out of vocabulary words\n",
        "\n",
        "Achieve ~75% similarity with original model"
      ]
    },
    {
      "cell_type": "code",
      "metadata": {
        "id": "uSp1pO-Jvsz1"
      },
      "source": [
        "%%capture\n",
        "!pip install compress-fasttext\n",
        "!pip install pqkmeans\n",
        "!pip install gensim==3.8.3"
      ],
      "execution_count": null,
      "outputs": []
    },
    {
      "cell_type": "code",
      "metadata": {
        "id": "zaS-lzOPvua8"
      },
      "source": [
        "import os\n",
        "import tqdm\n",
        "import numpy as np\n",
        "import gensim\n",
        "\n",
        "from collections import defaultdict\n",
        "from gensim.models.utils_any2vec import ft_ngram_hashes  \n",
        "import compress_fasttext\n",
        "import sys\n",
        "import pqkmeans"
      ],
      "execution_count": null,
      "outputs": []
    },
    {
      "cell_type": "code",
      "metadata": {
        "id": "PLKcs_1s2fjI"
      },
      "source": [
        "from google.colab import drive\n",
        "drive.mount('/content/drive')"
      ],
      "execution_count": null,
      "outputs": []
    },
    {
      "cell_type": "code",
      "metadata": {
        "id": "boNHqySq7Pvw"
      },
      "source": [
        "# 1. Load full wiki fasttext bin and save only model object: smaller \n",
        "ft = FastText.load_fasttext_format(\"/content/drive/MyDrive/data/wiki.en.bin\")\n",
        "ft.wv.save('/content/drive/MyDrive/data/wiki.en.model')"
      ],
      "execution_count": null,
      "outputs": []
    },
    {
      "cell_type": "code",
      "metadata": {
        "id": "Wbuhj2-B0n-4"
      },
      "source": [
        "# 2. Load full model (model only)\n",
        "ft = gensim.models.KeyedVectors.load(\"/content/drive/MyDrive/data/wiki.en.model\")"
      ],
      "execution_count": null,
      "outputs": []
    },
    {
      "cell_type": "code",
      "metadata": {
        "id": "qhvf6gEb5M5N"
      },
      "source": [
        "# 3. Compress \n",
        "small_model = compress_fasttext.svd_ft(ft)"
      ],
      "execution_count": null,
      "outputs": []
    },
    {
      "cell_type": "code",
      "metadata": {
        "id": "hkTapbDjurG9"
      },
      "source": [
        "# 4. save\n",
        "small_model.save(\"/content/drive/MyDrive/data/shrunk_fasttext_svd.model\")"
      ],
      "execution_count": null,
      "outputs": []
    },
    {
      "cell_type": "markdown",
      "metadata": {
        "id": "r8P1N0vV6IwK"
      },
      "source": [
        "## Evaluate similarity between original and compressed model \n",
        "Test on 1,000,000 most frequent words"
      ]
    },
    {
      "cell_type": "code",
      "metadata": {
        "id": "IHwcgmD-tmXG"
      },
      "source": [
        "sorted_vocab = sorted(ft.vocab.items(), key=lambda x: x[1].count, reverse=True)\n",
        "sims = []\n",
        "for test_word, _ in sorted_vocab[0:1000000]:\n",
        "    sim = ft.cosine_similarities(ft.get_vector(test_word), [small_model.get_vector(test_word)])\n",
        "    if not np.isnan(sim):\n",
        "        sims.append(sim)"
      ],
      "execution_count": null,
      "outputs": []
    },
    {
      "cell_type": "code",
      "metadata": {
        "colab": {
          "base_uri": "https://localhost:8080/"
        },
        "id": "m9LT0HjX5dUN",
        "outputId": "a514c622-dede-4db7-c009-330d840981a1"
      },
      "source": [
        "print(\"Similarity:\", np.mean(sims))"
      ],
      "execution_count": null,
      "outputs": [
        {
          "output_type": "stream",
          "text": [
            "Similarity: 0.71135896\n"
          ],
          "name": "stdout"
        }
      ]
    }
  ]
}