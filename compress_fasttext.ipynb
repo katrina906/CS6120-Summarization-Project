{
  "nbformat": 4,
  "nbformat_minor": 0,
  "metadata": {
    "colab": {
      "name": "compress_fasttext.ipynb",
      "provenance": [],
      "collapsed_sections": [],
      "authorship_tag": "ABX9TyOD6L/lb1unNSwh8exyXLFg",
      "include_colab_link": true
    },
    "kernelspec": {
      "name": "python3",
      "display_name": "Python 3"
    }
  },
  "cells": [
    {
      "cell_type": "markdown",
      "metadata": {
        "id": "view-in-github",
        "colab_type": "text"
      },
      "source": [
        "<a href=\"https://colab.research.google.com/github/katrina906/CS6120-Summarization-Project/blob/main/compress_fasttext.ipynb\" target=\"_parent\"><img src=\"https://colab.research.google.com/assets/colab-badge.svg\" alt=\"Open In Colab\"/></a>"
      ]
    },
    {
      "cell_type": "markdown",
      "metadata": {
        "id": "BSnrQkr-5urS"
      },
      "source": [
        "## Compress FastText Model\r\n",
        "Needs smaller RAM consumption for practical use.  \r\n",
        "- Package: https://github.com/avidale/compress-fasttext\r\n",
        "- Based off of blog: https://medium.com/@vasnetsov93/shrinking-fasttext-embeddings-so-that-it-fits-google-colab-cd59ab75959e\r\n",
        "  - Basic idea is to use a smaller set of the most popular vocabulary words. Fasttext will still generate embeddings for the out of vocabulary words\r\n",
        "\r\n",
        "Achieve ~75% similarity with original model"
      ]
    },
    {
      "cell_type": "code",
      "metadata": {
        "id": "uSp1pO-Jvsz1"
      },
      "source": [
        "%%capture\r\n",
        "!pip install compress-fasttext\r\n",
        "!pip install pqkmeans\r\n",
        "!pip install gensim==3.8.3"
      ],
      "execution_count": 28,
      "outputs": []
    },
    {
      "cell_type": "code",
      "metadata": {
        "id": "zaS-lzOPvua8"
      },
      "source": [
        "import os\r\n",
        "import tqdm\r\n",
        "import numpy as np\r\n",
        "import gensim\r\n",
        "\r\n",
        "from collections import defaultdict\r\n",
        "from gensim.models.utils_any2vec import ft_ngram_hashes  \r\n",
        "import compress_fasttext\r\n",
        "import sys\r\n",
        "import pqkmeans"
      ],
      "execution_count": 4,
      "outputs": []
    },
    {
      "cell_type": "code",
      "metadata": {
        "id": "PLKcs_1s2fjI"
      },
      "source": [
        "from google.colab import drive\r\n",
        "drive.mount('/content/drive')"
      ],
      "execution_count": null,
      "outputs": []
    },
    {
      "cell_type": "code",
      "metadata": {
        "id": "boNHqySq7Pvw"
      },
      "source": [
        "# download - load english wiki word vectors: https://fasttext.cc/docs/en/pretrained-vectors.html\r\n",
        "\r\n",
        "# load wiki fasttext bin and save only model object: smaller \r\n",
        "#ft = FastText.load_fasttext_format(\"/content/drive/MyDrive/data/wiki.en.bin\")\r\n",
        "#ft.wv.save('/content/drive/MyDrive/data/wiki.en.model')"
      ],
      "execution_count": null,
      "outputs": []
    },
    {
      "cell_type": "code",
      "metadata": {
        "id": "Wbuhj2-B0n-4"
      },
      "source": [
        "# load full model\r\n",
        "ft = gensim.models.KeyedVectors.load(\"/content/drive/MyDrive/data/wiki.en.model\")"
      ],
      "execution_count": 5,
      "outputs": []
    },
    {
      "cell_type": "code",
      "metadata": {
        "id": "qhvf6gEb5M5N"
      },
      "source": [
        "# compress \r\n",
        "small_model = compress_fasttext.svd_ft(ft)"
      ],
      "execution_count": null,
      "outputs": []
    },
    {
      "cell_type": "code",
      "metadata": {
        "id": "hkTapbDjurG9"
      },
      "source": [
        "# save\r\n",
        "small_model.save(\"/content/drive/MyDrive/data/shrunk_fasttext_svd.model\")"
      ],
      "execution_count": 28,
      "outputs": []
    },
    {
      "cell_type": "markdown",
      "metadata": {
        "id": "r8P1N0vV6IwK"
      },
      "source": [
        "## Evaluate similarity between original and compressed model \r\n",
        "Test on 1,000,000 most frequent words"
      ]
    },
    {
      "cell_type": "code",
      "metadata": {
        "id": "IHwcgmD-tmXG"
      },
      "source": [
        "sorted_vocab = sorted(ft.vocab.items(), key=lambda x: x[1].count, reverse=True)\r\n",
        "sims = []\r\n",
        "for test_word, _ in sorted_vocab[0:1000000]:\r\n",
        "    sim = ft.cosine_similarities(ft.get_vector(test_word), [small_model.get_vector(test_word)])\r\n",
        "    if not np.isnan(sim):\r\n",
        "        sims.append(sim)"
      ],
      "execution_count": 29,
      "outputs": []
    },
    {
      "cell_type": "code",
      "metadata": {
        "colab": {
          "base_uri": "https://localhost:8080/"
        },
        "id": "m9LT0HjX5dUN",
        "outputId": "a514c622-dede-4db7-c009-330d840981a1"
      },
      "source": [
        "print(\"Similarity:\", np.mean(sims))"
      ],
      "execution_count": 25,
      "outputs": [
        {
          "output_type": "stream",
          "text": [
            "Similarity: 0.71135896\n"
          ],
          "name": "stdout"
        }
      ]
    }
  ]
}